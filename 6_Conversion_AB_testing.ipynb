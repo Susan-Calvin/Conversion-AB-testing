{
  "cells": [
    {
      "cell_type": "markdown",
      "metadata": {
        "id": "m3b0DMpFylMM"
      },
      "source": [
        "In this project we will be analyzing data from a big online store. Together with the marketing department, we've compiled a list of hypotheses that may help boost revenue.\n",
        "We need to prioritize these hypotheses, launch an A/B test, and analyze the results.\n",
        "\n",
        "The main goals of this analysis are:\n",
        "1. To optimize the priorites of hypotheses.\n",
        "2. Analyze and carry out recommendations as to stop or to continue the test."
      ]
    },
    {
      "cell_type": "code",
      "execution_count": 1,
      "metadata": {
        "colab": {
          "base_uri": "https://localhost:8080/"
        },
        "id": "o0BlkWvnEsPR",
        "outputId": "d56d0a9f-b39c-4f40-c22e-f408540be473"
      },
      "outputs": [
        {
          "output_type": "stream",
          "name": "stderr",
          "text": [
            "/usr/local/lib/python3.7/dist-packages/statsmodels/tools/_testing.py:19: FutureWarning: pandas.util.testing is deprecated. Use the functions in the public API at pandas.testing instead.\n",
            "  import pandas.util.testing as tm\n"
          ]
        }
      ],
      "source": [
        "# Import all libraries\n",
        "import pandas as pd\n",
        "import numpy as np\n",
        "import datetime as dt\n",
        "import plotly.express as px\n",
        "from scipy import stats\n",
        "import statsmodels.api as sm\n",
        "# Config\n",
        "import plotly.io as pio\n",
        "pio.renderers.default = \"png\""
      ]
    },
    {
      "cell_type": "code",
      "execution_count": 2,
      "metadata": {
        "id": "OZpyRZCLE7FP"
      },
      "outputs": [],
      "source": [
        "# Load the data\n",
        "try:\n",
        "    df = pd.read_csv('/content/drive/MyDrive/csv_fies/hypotheses_us.csv', sep=';')\n",
        "    visits = pd.read_csv('/content/drive/MyDrive/csv_fies/visits_us.csv')\n",
        "    orders = pd.read_csv('/content/drive/MyDrive/csv_fies/orders_us.csv')\n",
        "except:\n",
        "    df = pd.read_csv('/datasets/hypotheses_us.csv', sep=';')\n",
        "    visits = pd.read_csv('/datasets/visits_us.csv')\n",
        "    orders = pd.read_csv('/datasets/orders_us.csv')    "
      ]
    },
    {
      "cell_type": "markdown",
      "metadata": {
        "id": "59nweA10G4uL"
      },
      "source": [
        "## PART 1. PREPROCESSING"
      ]
    },
    {
      "cell_type": "code",
      "execution_count": 3,
      "metadata": {
        "id": "tb6mwixRGyK6"
      },
      "outputs": [],
      "source": [
        "# Store the datasets in a list\n",
        "datasets = [df, visits, orders]"
      ]
    },
    {
      "cell_type": "code",
      "execution_count": 4,
      "metadata": {
        "id": "F660RCuXIzp8"
      },
      "outputs": [],
      "source": [
        "# Customized function for data exploring\n",
        "def explore(data):\n",
        "  print('*_*' * 20)\n",
        "  print()\n",
        "  print('Dataframe Info:')\n",
        "  data.info()\n",
        "  print()\n",
        "  print('Missing values:')\n",
        "  print(data.isnull().sum())\n",
        "  print()\n",
        "  print('Checking duplicates:')\n",
        "  print(data.duplicated().sum())\n",
        "  print()"
      ]
    },
    {
      "cell_type": "code",
      "execution_count": 5,
      "metadata": {
        "colab": {
          "base_uri": "https://localhost:8080/"
        },
        "id": "bdXbRNOlKJEH",
        "outputId": "02ab1d76-c87c-4110-df4c-97e2e5068d96"
      },
      "outputs": [
        {
          "output_type": "stream",
          "name": "stdout",
          "text": [
            "*_**_**_**_**_**_**_**_**_**_**_**_**_**_**_**_**_**_**_**_*\n",
            "\n",
            "Dataframe Info:\n",
            "<class 'pandas.core.frame.DataFrame'>\n",
            "RangeIndex: 9 entries, 0 to 8\n",
            "Data columns (total 5 columns):\n",
            " #   Column      Non-Null Count  Dtype \n",
            "---  ------      --------------  ----- \n",
            " 0   Hypothesis  9 non-null      object\n",
            " 1   Reach       9 non-null      int64 \n",
            " 2   Impact      9 non-null      int64 \n",
            " 3   Confidence  9 non-null      int64 \n",
            " 4   Effort      9 non-null      int64 \n",
            "dtypes: int64(4), object(1)\n",
            "memory usage: 488.0+ bytes\n",
            "\n",
            "Missing values:\n",
            "Hypothesis    0\n",
            "Reach         0\n",
            "Impact        0\n",
            "Confidence    0\n",
            "Effort        0\n",
            "dtype: int64\n",
            "\n",
            "Checking duplicates:\n",
            "0\n",
            "\n",
            "*_**_**_**_**_**_**_**_**_**_**_**_**_**_**_**_**_**_**_**_*\n",
            "\n",
            "Dataframe Info:\n",
            "<class 'pandas.core.frame.DataFrame'>\n",
            "RangeIndex: 62 entries, 0 to 61\n",
            "Data columns (total 3 columns):\n",
            " #   Column  Non-Null Count  Dtype \n",
            "---  ------  --------------  ----- \n",
            " 0   date    62 non-null     object\n",
            " 1   group   62 non-null     object\n",
            " 2   visits  62 non-null     int64 \n",
            "dtypes: int64(1), object(2)\n",
            "memory usage: 1.6+ KB\n",
            "\n",
            "Missing values:\n",
            "date      0\n",
            "group     0\n",
            "visits    0\n",
            "dtype: int64\n",
            "\n",
            "Checking duplicates:\n",
            "0\n",
            "\n",
            "*_**_**_**_**_**_**_**_**_**_**_**_**_**_**_**_**_**_**_**_*\n",
            "\n",
            "Dataframe Info:\n",
            "<class 'pandas.core.frame.DataFrame'>\n",
            "RangeIndex: 1197 entries, 0 to 1196\n",
            "Data columns (total 5 columns):\n",
            " #   Column         Non-Null Count  Dtype  \n",
            "---  ------         --------------  -----  \n",
            " 0   transactionId  1197 non-null   int64  \n",
            " 1   visitorId      1197 non-null   int64  \n",
            " 2   date           1197 non-null   object \n",
            " 3   revenue        1197 non-null   float64\n",
            " 4   group          1197 non-null   object \n",
            "dtypes: float64(1), int64(2), object(2)\n",
            "memory usage: 46.9+ KB\n",
            "\n",
            "Missing values:\n",
            "transactionId    0\n",
            "visitorId        0\n",
            "date             0\n",
            "revenue          0\n",
            "group            0\n",
            "dtype: int64\n",
            "\n",
            "Checking duplicates:\n",
            "0\n",
            "\n"
          ]
        }
      ],
      "source": [
        "for i in datasets:\n",
        "  explore(i)"
      ]
    },
    {
      "cell_type": "markdown",
      "metadata": {
        "id": "zPo0zJp3Kant"
      },
      "source": [
        "We see our date columns are stored in an incorrect data type - we need to fix them, before we begin working with our data."
      ]
    },
    {
      "cell_type": "code",
      "execution_count": 6,
      "metadata": {
        "id": "MSj3vhm6KaGU"
      },
      "outputs": [],
      "source": [
        "visits['date'] = visits['date'].map(lambda x: dt.datetime.strptime(x, '%Y-%m-%d'))\n",
        "orders['date'] = orders['date'].map(lambda x: dt.datetime.strptime(x, '%Y-%m-%d'))"
      ]
    },
    {
      "cell_type": "markdown",
      "metadata": {
        "id": "XjNJOdeGL4EU"
      },
      "source": [
        "Lets' check the result and if our dates in **orders** and **visits** datasets match."
      ]
    },
    {
      "cell_type": "code",
      "execution_count": 7,
      "metadata": {
        "colab": {
          "base_uri": "https://localhost:8080/"
        },
        "id": "liNryws3L1a1",
        "outputId": "bed87b83-4842-421b-8ae4-fd84fd450c3d"
      },
      "outputs": [
        {
          "output_type": "stream",
          "name": "stdout",
          "text": [
            "Visits table first date: 2019-08-01 00:00:00, last date: 2019-08-31 00:00:00\n",
            "Orders table first date: 2019-08-01 00:00:00, last date: 2019-08-31 00:00:00\n"
          ]
        }
      ],
      "source": [
        "print('Visits table first date: {}, last date: {}'.format(visits['date'].min(), visits['date'].max()))\n",
        "print('Orders table first date: {}, last date: {}'.format(orders['date'].min(), orders['date'].max()))"
      ]
    },
    {
      "cell_type": "markdown",
      "metadata": {
        "id": "YudxO3drx26y"
      },
      "source": [
        "We have our dates range in a month: from August 01, 2019 till August 31, 2019."
      ]
    },
    {
      "cell_type": "markdown",
      "metadata": {
        "id": "RwdGUSO_HF18"
      },
      "source": [
        "The `df` dataframe stores the descriptions of all the hypothesis we have. Lets' have a closer look at them."
      ]
    },
    {
      "cell_type": "code",
      "execution_count": 8,
      "metadata": {
        "colab": {
          "base_uri": "https://localhost:8080/",
          "height": 331
        },
        "id": "3Na4xUatFBub",
        "outputId": "3775496a-cf41-4e65-be75-d28549dc03e0"
      },
      "outputs": [
        {
          "output_type": "execute_result",
          "data": {
            "text/plain": [
              "                                                                                                               Hypothesis  \\\n",
              "0  Add two new channels for attracting traffic. This will bring 30% more users                                              \n",
              "1  Launch your own delivery service. This will shorten delivery time                                                        \n",
              "2  Add product recommendation blocks to the store's site. This will increase conversion and average purchase size           \n",
              "3  Change the category structure. This will increase conversion since users will find the products they want more quickly   \n",
              "4  Change the background color on the main page. This will increase user engagement                                         \n",
              "5  Add a customer review page. This will increase the number of orders                                                      \n",
              "6  Show banners with current offers and sales on the main page. This will boost conversion                                  \n",
              "7  Add a subscription form to all the main pages. This will help you compile a mailing list                                 \n",
              "8  Launch a promotion that gives users discounts on their birthdays                                                         \n",
              "\n",
              "   Reach  Impact  Confidence  Effort  \n",
              "0  3      10      8           6       \n",
              "1  2      5       4           10      \n",
              "2  8      3       7           3       \n",
              "3  8      3       3           8       \n",
              "4  3      1       1           1       \n",
              "5  3      2       2           3       \n",
              "6  5      3       8           3       \n",
              "7  10     7       8           5       \n",
              "8  1      9       9           5       "
            ],
            "text/html": [
              "\n",
              "  <div id=\"df-8603cf18-395e-445e-9f1f-46dad1faf854\">\n",
              "    <div class=\"colab-df-container\">\n",
              "      <div>\n",
              "<style scoped>\n",
              "    .dataframe tbody tr th:only-of-type {\n",
              "        vertical-align: middle;\n",
              "    }\n",
              "\n",
              "    .dataframe tbody tr th {\n",
              "        vertical-align: top;\n",
              "    }\n",
              "\n",
              "    .dataframe thead th {\n",
              "        text-align: right;\n",
              "    }\n",
              "</style>\n",
              "<table border=\"1\" class=\"dataframe\">\n",
              "  <thead>\n",
              "    <tr style=\"text-align: right;\">\n",
              "      <th></th>\n",
              "      <th>Hypothesis</th>\n",
              "      <th>Reach</th>\n",
              "      <th>Impact</th>\n",
              "      <th>Confidence</th>\n",
              "      <th>Effort</th>\n",
              "    </tr>\n",
              "  </thead>\n",
              "  <tbody>\n",
              "    <tr>\n",
              "      <th>0</th>\n",
              "      <td>Add two new channels for attracting traffic. This will bring 30% more users</td>\n",
              "      <td>3</td>\n",
              "      <td>10</td>\n",
              "      <td>8</td>\n",
              "      <td>6</td>\n",
              "    </tr>\n",
              "    <tr>\n",
              "      <th>1</th>\n",
              "      <td>Launch your own delivery service. This will shorten delivery time</td>\n",
              "      <td>2</td>\n",
              "      <td>5</td>\n",
              "      <td>4</td>\n",
              "      <td>10</td>\n",
              "    </tr>\n",
              "    <tr>\n",
              "      <th>2</th>\n",
              "      <td>Add product recommendation blocks to the store's site. This will increase conversion and average purchase size</td>\n",
              "      <td>8</td>\n",
              "      <td>3</td>\n",
              "      <td>7</td>\n",
              "      <td>3</td>\n",
              "    </tr>\n",
              "    <tr>\n",
              "      <th>3</th>\n",
              "      <td>Change the category structure. This will increase conversion since users will find the products they want more quickly</td>\n",
              "      <td>8</td>\n",
              "      <td>3</td>\n",
              "      <td>3</td>\n",
              "      <td>8</td>\n",
              "    </tr>\n",
              "    <tr>\n",
              "      <th>4</th>\n",
              "      <td>Change the background color on the main page. This will increase user engagement</td>\n",
              "      <td>3</td>\n",
              "      <td>1</td>\n",
              "      <td>1</td>\n",
              "      <td>1</td>\n",
              "    </tr>\n",
              "    <tr>\n",
              "      <th>5</th>\n",
              "      <td>Add a customer review page. This will increase the number of orders</td>\n",
              "      <td>3</td>\n",
              "      <td>2</td>\n",
              "      <td>2</td>\n",
              "      <td>3</td>\n",
              "    </tr>\n",
              "    <tr>\n",
              "      <th>6</th>\n",
              "      <td>Show banners with current offers and sales on the main page. This will boost conversion</td>\n",
              "      <td>5</td>\n",
              "      <td>3</td>\n",
              "      <td>8</td>\n",
              "      <td>3</td>\n",
              "    </tr>\n",
              "    <tr>\n",
              "      <th>7</th>\n",
              "      <td>Add a subscription form to all the main pages. This will help you compile a mailing list</td>\n",
              "      <td>10</td>\n",
              "      <td>7</td>\n",
              "      <td>8</td>\n",
              "      <td>5</td>\n",
              "    </tr>\n",
              "    <tr>\n",
              "      <th>8</th>\n",
              "      <td>Launch a promotion that gives users discounts on their birthdays</td>\n",
              "      <td>1</td>\n",
              "      <td>9</td>\n",
              "      <td>9</td>\n",
              "      <td>5</td>\n",
              "    </tr>\n",
              "  </tbody>\n",
              "</table>\n",
              "</div>\n",
              "      <button class=\"colab-df-convert\" onclick=\"convertToInteractive('df-8603cf18-395e-445e-9f1f-46dad1faf854')\"\n",
              "              title=\"Convert this dataframe to an interactive table.\"\n",
              "              style=\"display:none;\">\n",
              "        \n",
              "  <svg xmlns=\"http://www.w3.org/2000/svg\" height=\"24px\"viewBox=\"0 0 24 24\"\n",
              "       width=\"24px\">\n",
              "    <path d=\"M0 0h24v24H0V0z\" fill=\"none\"/>\n",
              "    <path d=\"M18.56 5.44l.94 2.06.94-2.06 2.06-.94-2.06-.94-.94-2.06-.94 2.06-2.06.94zm-11 1L8.5 8.5l.94-2.06 2.06-.94-2.06-.94L8.5 2.5l-.94 2.06-2.06.94zm10 10l.94 2.06.94-2.06 2.06-.94-2.06-.94-.94-2.06-.94 2.06-2.06.94z\"/><path d=\"M17.41 7.96l-1.37-1.37c-.4-.4-.92-.59-1.43-.59-.52 0-1.04.2-1.43.59L10.3 9.45l-7.72 7.72c-.78.78-.78 2.05 0 2.83L4 21.41c.39.39.9.59 1.41.59.51 0 1.02-.2 1.41-.59l7.78-7.78 2.81-2.81c.8-.78.8-2.07 0-2.86zM5.41 20L4 18.59l7.72-7.72 1.47 1.35L5.41 20z\"/>\n",
              "  </svg>\n",
              "      </button>\n",
              "      \n",
              "  <style>\n",
              "    .colab-df-container {\n",
              "      display:flex;\n",
              "      flex-wrap:wrap;\n",
              "      gap: 12px;\n",
              "    }\n",
              "\n",
              "    .colab-df-convert {\n",
              "      background-color: #E8F0FE;\n",
              "      border: none;\n",
              "      border-radius: 50%;\n",
              "      cursor: pointer;\n",
              "      display: none;\n",
              "      fill: #1967D2;\n",
              "      height: 32px;\n",
              "      padding: 0 0 0 0;\n",
              "      width: 32px;\n",
              "    }\n",
              "\n",
              "    .colab-df-convert:hover {\n",
              "      background-color: #E2EBFA;\n",
              "      box-shadow: 0px 1px 2px rgba(60, 64, 67, 0.3), 0px 1px 3px 1px rgba(60, 64, 67, 0.15);\n",
              "      fill: #174EA6;\n",
              "    }\n",
              "\n",
              "    [theme=dark] .colab-df-convert {\n",
              "      background-color: #3B4455;\n",
              "      fill: #D2E3FC;\n",
              "    }\n",
              "\n",
              "    [theme=dark] .colab-df-convert:hover {\n",
              "      background-color: #434B5C;\n",
              "      box-shadow: 0px 1px 3px 1px rgba(0, 0, 0, 0.15);\n",
              "      filter: drop-shadow(0px 1px 2px rgba(0, 0, 0, 0.3));\n",
              "      fill: #FFFFFF;\n",
              "    }\n",
              "  </style>\n",
              "\n",
              "      <script>\n",
              "        const buttonEl =\n",
              "          document.querySelector('#df-8603cf18-395e-445e-9f1f-46dad1faf854 button.colab-df-convert');\n",
              "        buttonEl.style.display =\n",
              "          google.colab.kernel.accessAllowed ? 'block' : 'none';\n",
              "\n",
              "        async function convertToInteractive(key) {\n",
              "          const element = document.querySelector('#df-8603cf18-395e-445e-9f1f-46dad1faf854');\n",
              "          const dataTable =\n",
              "            await google.colab.kernel.invokeFunction('convertToInteractive',\n",
              "                                                     [key], {});\n",
              "          if (!dataTable) return;\n",
              "\n",
              "          const docLinkHtml = 'Like what you see? Visit the ' +\n",
              "            '<a target=\"_blank\" href=https://colab.research.google.com/notebooks/data_table.ipynb>data table notebook</a>'\n",
              "            + ' to learn more about interactive tables.';\n",
              "          element.innerHTML = '';\n",
              "          dataTable['output_type'] = 'display_data';\n",
              "          await google.colab.output.renderOutput(dataTable, element);\n",
              "          const docLink = document.createElement('div');\n",
              "          docLink.innerHTML = docLinkHtml;\n",
              "          element.appendChild(docLink);\n",
              "        }\n",
              "      </script>\n",
              "    </div>\n",
              "  </div>\n",
              "  "
            ]
          },
          "metadata": {},
          "execution_count": 8
        }
      ],
      "source": [
        "pd.set_option('display.max_colwidth', 1)\n",
        "df"
      ]
    },
    {
      "cell_type": "markdown",
      "metadata": {
        "id": "t1mHfUsqyjTF"
      },
      "source": [
        "There might be mistakes in our datasets; for example, some of the visitors might have gotten into both groups -  A and B."
      ]
    },
    {
      "cell_type": "code",
      "execution_count": 9,
      "metadata": {
        "colab": {
          "base_uri": "https://localhost:8080/"
        },
        "id": "1QckG2PhFn02",
        "outputId": "35bd803f-5d60-4385-e448-a6c9fcf41f8d"
      },
      "outputs": [
        {
          "output_type": "execute_result",
          "data": {
            "text/plain": [
              "visitorId\n",
              "2654030115    2\n",
              "3891541246    2\n",
              "3941795274    2\n",
              "1404934699    2\n",
              "351125977     2\n",
              "             ..\n",
              "1476256851    1\n",
              "1476741193    1\n",
              "1484903144    1\n",
              "1485964287    1\n",
              "4283872382    1\n",
              "Name: group, Length: 1031, dtype: int64"
            ]
          },
          "metadata": {},
          "execution_count": 9
        }
      ],
      "source": [
        "# Group tha data by user id and count unique values of groups\n",
        "duplicates = orders.groupby('visitorId')['group'].nunique().sort_values(ascending=False)\n",
        "duplicates"
      ]
    },
    {
      "cell_type": "markdown",
      "metadata": {
        "id": "EL6QBXt2Pas9"
      },
      "source": [
        "Indeed, we see that some users have more than 1 unique group, which contradicts the idea of a valid A/B test, we need to filter out the users, that had more than 1 group out of our samples."
      ]
    },
    {
      "cell_type": "code",
      "execution_count": 10,
      "metadata": {
        "id": "a7njq-oEyvGF"
      },
      "outputs": [],
      "source": [
        "# Store the id's of duplicated gropus users in a separate list\n",
        "duplicates = duplicates[duplicates > 1].index.to_list()"
      ]
    },
    {
      "cell_type": "code",
      "execution_count": 11,
      "metadata": {
        "id": "tr2wccvS4oVB"
      },
      "outputs": [],
      "source": [
        "# Eliminate the duplicated id's out of the orders table\n",
        "orders = orders[np.logical_not(orders['visitorId'].isin(duplicates))]"
      ]
    },
    {
      "cell_type": "code",
      "execution_count": 12,
      "metadata": {
        "colab": {
          "base_uri": "https://localhost:8080/"
        },
        "id": "8i_dWgbm-gvl",
        "outputId": "ac3423f4-5f92-400d-ad3a-cc1327f9c4c4"
      },
      "outputs": [
        {
          "output_type": "execute_result",
          "data": {
            "text/plain": [
              "(1016, 5)"
            ]
          },
          "metadata": {},
          "execution_count": 12
        }
      ],
      "source": [
        "orders.shape"
      ]
    },
    {
      "cell_type": "markdown",
      "metadata": {
        "id": "iNi7Php6ufmo"
      },
      "source": [
        "Previously the orders table contained 1197 rows, we got rid of the duplicates and left with the filtered data."
      ]
    },
    {
      "cell_type": "markdown",
      "metadata": {
        "id": "8fTY6FqqS0g3"
      },
      "source": [
        "### Intermediate conclusion \n",
        "\n",
        "\n",
        "---\n",
        "The datasets and columns we have in our project:\n",
        "1. `Hypothesis` dataset with columns\n",
        " - `Hypotheses` — brief descriptions of the hypotheses\n",
        " - `Reach` — user reach, on a scale of one to ten\n",
        " - `Impact` — impact on users, on a scale of one to ten\n",
        " - `Confidence` — confidence in the hypothesis, on a scale of one to ten\n",
        " - `Effort` — the resources required to test a hypothesis, on a scale of one to ten. The higher the Effort value, the more resource-intensive the test.\n",
        "2. `Orders` dataset with columns\n",
        " - `transactionId` — order identifier\n",
        " - `visitorId` — identifier of the user who placed the order\n",
        " - `date` — date of the order\n",
        " - `revenue` — from the order\n",
        "3. `Visits` dataset with columns \n",
        " - `date` — date\n",
        " - `group` — A/B test group\n",
        " - `visits` — the number of visits on the date specified in the A/B test group specified\n",
        "\n",
        "\n",
        "We explored our datasets, found no missing values. We located user ID's with relation to both A and B test groups, which we omitted. We fixed the data types in the date coulmns. We can start working with our data."
      ]
    },
    {
      "cell_type": "markdown",
      "metadata": {
        "id": "rsAeRQ3eC5x5"
      },
      "source": [
        "## PART 2. PRIORITIZING HYPOTHESIS\n",
        "\n",
        "\n",
        "---\n"
      ]
    },
    {
      "cell_type": "markdown",
      "metadata": {
        "id": "E6yHOuXPeDq6"
      },
      "source": [
        "### **Apply the ICE framework to prioritize hypotheses. Sort them in descending order of priority**. \n",
        "\n",
        "The ICE scoring is one of the most popular frameworks for hypothesis prioriityzing. It takes in cout such parameters as:\n",
        "\n",
        "`IMPACT` - it is the level of how strongly the change affects' the useers and the given metric\n",
        "\n",
        "`CONFIDENCE` - the more exact the amount of usres afected by the change; the more exact we can predict the impact; the more preciesly we ca calculate the effort - the higher the confidence score will be.\n",
        "\n",
        "`EFFORT` - the amount of resources needed to complete the test - manpower and time resources.\n",
        "\n",
        "The ICE score will be calculated thus:\n",
        "\n",
        "\n",
        "> ICE Score = Impact x Confidence x Effort.\n",
        "\n",
        "\n",
        "\n"
      ]
    },
    {
      "cell_type": "code",
      "execution_count": 13,
      "metadata": {
        "colab": {
          "base_uri": "https://localhost:8080/",
          "height": 331
        },
        "id": "8n0q4dGWy3Ys",
        "outputId": "aa28c81d-a124-43ed-b302-fd6aefe7b724"
      },
      "outputs": [
        {
          "output_type": "execute_result",
          "data": {
            "text/plain": [
              "                                                                                                               Hypothesis  \\\n",
              "0  Add two new channels for attracting traffic. This will bring 30% more users                                              \n",
              "8  Launch a promotion that gives users discounts on their birthdays                                                         \n",
              "7  Add a subscription form to all the main pages. This will help you compile a mailing list                                 \n",
              "1  Launch your own delivery service. This will shorten delivery time                                                        \n",
              "3  Change the category structure. This will increase conversion since users will find the products they want more quickly   \n",
              "6  Show banners with current offers and sales on the main page. This will boost conversion                                  \n",
              "2  Add product recommendation blocks to the store's site. This will increase conversion and average purchase size           \n",
              "5  Add a customer review page. This will increase the number of orders                                                      \n",
              "4  Change the background color on the main page. This will increase user engagement                                         \n",
              "\n",
              "   Reach  Impact  Confidence  Effort  ICE  \n",
              "0  3      10      8           6       480  \n",
              "8  1      9       9           5       405  \n",
              "7  10     7       8           5       280  \n",
              "1  2      5       4           10      200  \n",
              "3  8      3       3           8       72   \n",
              "6  5      3       8           3       72   \n",
              "2  8      3       7           3       63   \n",
              "5  3      2       2           3       12   \n",
              "4  3      1       1           1       1    "
            ],
            "text/html": [
              "\n",
              "  <div id=\"df-0d5c8f80-e2b9-4ceb-b93d-a695f28da725\">\n",
              "    <div class=\"colab-df-container\">\n",
              "      <div>\n",
              "<style scoped>\n",
              "    .dataframe tbody tr th:only-of-type {\n",
              "        vertical-align: middle;\n",
              "    }\n",
              "\n",
              "    .dataframe tbody tr th {\n",
              "        vertical-align: top;\n",
              "    }\n",
              "\n",
              "    .dataframe thead th {\n",
              "        text-align: right;\n",
              "    }\n",
              "</style>\n",
              "<table border=\"1\" class=\"dataframe\">\n",
              "  <thead>\n",
              "    <tr style=\"text-align: right;\">\n",
              "      <th></th>\n",
              "      <th>Hypothesis</th>\n",
              "      <th>Reach</th>\n",
              "      <th>Impact</th>\n",
              "      <th>Confidence</th>\n",
              "      <th>Effort</th>\n",
              "      <th>ICE</th>\n",
              "    </tr>\n",
              "  </thead>\n",
              "  <tbody>\n",
              "    <tr>\n",
              "      <th>0</th>\n",
              "      <td>Add two new channels for attracting traffic. This will bring 30% more users</td>\n",
              "      <td>3</td>\n",
              "      <td>10</td>\n",
              "      <td>8</td>\n",
              "      <td>6</td>\n",
              "      <td>480</td>\n",
              "    </tr>\n",
              "    <tr>\n",
              "      <th>8</th>\n",
              "      <td>Launch a promotion that gives users discounts on their birthdays</td>\n",
              "      <td>1</td>\n",
              "      <td>9</td>\n",
              "      <td>9</td>\n",
              "      <td>5</td>\n",
              "      <td>405</td>\n",
              "    </tr>\n",
              "    <tr>\n",
              "      <th>7</th>\n",
              "      <td>Add a subscription form to all the main pages. This will help you compile a mailing list</td>\n",
              "      <td>10</td>\n",
              "      <td>7</td>\n",
              "      <td>8</td>\n",
              "      <td>5</td>\n",
              "      <td>280</td>\n",
              "    </tr>\n",
              "    <tr>\n",
              "      <th>1</th>\n",
              "      <td>Launch your own delivery service. This will shorten delivery time</td>\n",
              "      <td>2</td>\n",
              "      <td>5</td>\n",
              "      <td>4</td>\n",
              "      <td>10</td>\n",
              "      <td>200</td>\n",
              "    </tr>\n",
              "    <tr>\n",
              "      <th>3</th>\n",
              "      <td>Change the category structure. This will increase conversion since users will find the products they want more quickly</td>\n",
              "      <td>8</td>\n",
              "      <td>3</td>\n",
              "      <td>3</td>\n",
              "      <td>8</td>\n",
              "      <td>72</td>\n",
              "    </tr>\n",
              "    <tr>\n",
              "      <th>6</th>\n",
              "      <td>Show banners with current offers and sales on the main page. This will boost conversion</td>\n",
              "      <td>5</td>\n",
              "      <td>3</td>\n",
              "      <td>8</td>\n",
              "      <td>3</td>\n",
              "      <td>72</td>\n",
              "    </tr>\n",
              "    <tr>\n",
              "      <th>2</th>\n",
              "      <td>Add product recommendation blocks to the store's site. This will increase conversion and average purchase size</td>\n",
              "      <td>8</td>\n",
              "      <td>3</td>\n",
              "      <td>7</td>\n",
              "      <td>3</td>\n",
              "      <td>63</td>\n",
              "    </tr>\n",
              "    <tr>\n",
              "      <th>5</th>\n",
              "      <td>Add a customer review page. This will increase the number of orders</td>\n",
              "      <td>3</td>\n",
              "      <td>2</td>\n",
              "      <td>2</td>\n",
              "      <td>3</td>\n",
              "      <td>12</td>\n",
              "    </tr>\n",
              "    <tr>\n",
              "      <th>4</th>\n",
              "      <td>Change the background color on the main page. This will increase user engagement</td>\n",
              "      <td>3</td>\n",
              "      <td>1</td>\n",
              "      <td>1</td>\n",
              "      <td>1</td>\n",
              "      <td>1</td>\n",
              "    </tr>\n",
              "  </tbody>\n",
              "</table>\n",
              "</div>\n",
              "      <button class=\"colab-df-convert\" onclick=\"convertToInteractive('df-0d5c8f80-e2b9-4ceb-b93d-a695f28da725')\"\n",
              "              title=\"Convert this dataframe to an interactive table.\"\n",
              "              style=\"display:none;\">\n",
              "        \n",
              "  <svg xmlns=\"http://www.w3.org/2000/svg\" height=\"24px\"viewBox=\"0 0 24 24\"\n",
              "       width=\"24px\">\n",
              "    <path d=\"M0 0h24v24H0V0z\" fill=\"none\"/>\n",
              "    <path d=\"M18.56 5.44l.94 2.06.94-2.06 2.06-.94-2.06-.94-.94-2.06-.94 2.06-2.06.94zm-11 1L8.5 8.5l.94-2.06 2.06-.94-2.06-.94L8.5 2.5l-.94 2.06-2.06.94zm10 10l.94 2.06.94-2.06 2.06-.94-2.06-.94-.94-2.06-.94 2.06-2.06.94z\"/><path d=\"M17.41 7.96l-1.37-1.37c-.4-.4-.92-.59-1.43-.59-.52 0-1.04.2-1.43.59L10.3 9.45l-7.72 7.72c-.78.78-.78 2.05 0 2.83L4 21.41c.39.39.9.59 1.41.59.51 0 1.02-.2 1.41-.59l7.78-7.78 2.81-2.81c.8-.78.8-2.07 0-2.86zM5.41 20L4 18.59l7.72-7.72 1.47 1.35L5.41 20z\"/>\n",
              "  </svg>\n",
              "      </button>\n",
              "      \n",
              "  <style>\n",
              "    .colab-df-container {\n",
              "      display:flex;\n",
              "      flex-wrap:wrap;\n",
              "      gap: 12px;\n",
              "    }\n",
              "\n",
              "    .colab-df-convert {\n",
              "      background-color: #E8F0FE;\n",
              "      border: none;\n",
              "      border-radius: 50%;\n",
              "      cursor: pointer;\n",
              "      display: none;\n",
              "      fill: #1967D2;\n",
              "      height: 32px;\n",
              "      padding: 0 0 0 0;\n",
              "      width: 32px;\n",
              "    }\n",
              "\n",
              "    .colab-df-convert:hover {\n",
              "      background-color: #E2EBFA;\n",
              "      box-shadow: 0px 1px 2px rgba(60, 64, 67, 0.3), 0px 1px 3px 1px rgba(60, 64, 67, 0.15);\n",
              "      fill: #174EA6;\n",
              "    }\n",
              "\n",
              "    [theme=dark] .colab-df-convert {\n",
              "      background-color: #3B4455;\n",
              "      fill: #D2E3FC;\n",
              "    }\n",
              "\n",
              "    [theme=dark] .colab-df-convert:hover {\n",
              "      background-color: #434B5C;\n",
              "      box-shadow: 0px 1px 3px 1px rgba(0, 0, 0, 0.15);\n",
              "      filter: drop-shadow(0px 1px 2px rgba(0, 0, 0, 0.3));\n",
              "      fill: #FFFFFF;\n",
              "    }\n",
              "  </style>\n",
              "\n",
              "      <script>\n",
              "        const buttonEl =\n",
              "          document.querySelector('#df-0d5c8f80-e2b9-4ceb-b93d-a695f28da725 button.colab-df-convert');\n",
              "        buttonEl.style.display =\n",
              "          google.colab.kernel.accessAllowed ? 'block' : 'none';\n",
              "\n",
              "        async function convertToInteractive(key) {\n",
              "          const element = document.querySelector('#df-0d5c8f80-e2b9-4ceb-b93d-a695f28da725');\n",
              "          const dataTable =\n",
              "            await google.colab.kernel.invokeFunction('convertToInteractive',\n",
              "                                                     [key], {});\n",
              "          if (!dataTable) return;\n",
              "\n",
              "          const docLinkHtml = 'Like what you see? Visit the ' +\n",
              "            '<a target=\"_blank\" href=https://colab.research.google.com/notebooks/data_table.ipynb>data table notebook</a>'\n",
              "            + ' to learn more about interactive tables.';\n",
              "          element.innerHTML = '';\n",
              "          dataTable['output_type'] = 'display_data';\n",
              "          await google.colab.output.renderOutput(dataTable, element);\n",
              "          const docLink = document.createElement('div');\n",
              "          docLink.innerHTML = docLinkHtml;\n",
              "          element.appendChild(docLink);\n",
              "        }\n",
              "      </script>\n",
              "    </div>\n",
              "  </div>\n",
              "  "
            ]
          },
          "metadata": {},
          "execution_count": 13
        }
      ],
      "source": [
        "df['ICE'] = df['Impact'] * df['Confidence'] * df['Effort']\n",
        "df.sort_values(by = 'ICE', ascending=False)"
      ]
    },
    {
      "cell_type": "markdown",
      "metadata": {
        "id": "Hu7snIEzqHDm"
      },
      "source": [
        "### **Apply the RICE framework to prioritize hypotheses. Sort them in descending order of priority.**\n",
        "\n",
        "The RICE framework is a similar but a more precise methodology of priorityzing working hypothesis. The components are the same as with ICE, with an addition of taking in count the `REACH` parameter - it is the number of users that will be exposed to the change.\n",
        "\n",
        "The RICE score formula is:\n",
        "\n",
        "> RICE Score = (Reach x Impact x Confidence) / Effort."
      ]
    },
    {
      "cell_type": "code",
      "execution_count": 14,
      "metadata": {
        "colab": {
          "base_uri": "https://localhost:8080/",
          "height": 331
        },
        "id": "99K0vSjvzJ0p",
        "outputId": "9e2f2ab8-ea71-49e5-ca69-5c04dac05c28"
      },
      "outputs": [
        {
          "output_type": "execute_result",
          "data": {
            "text/plain": [
              "                                                                                                               Hypothesis  \\\n",
              "7  Add a subscription form to all the main pages. This will help you compile a mailing list                                 \n",
              "2  Add product recommendation blocks to the store's site. This will increase conversion and average purchase size           \n",
              "0  Add two new channels for attracting traffic. This will bring 30% more users                                              \n",
              "6  Show banners with current offers and sales on the main page. This will boost conversion                                  \n",
              "8  Launch a promotion that gives users discounts on their birthdays                                                         \n",
              "3  Change the category structure. This will increase conversion since users will find the products they want more quickly   \n",
              "1  Launch your own delivery service. This will shorten delivery time                                                        \n",
              "5  Add a customer review page. This will increase the number of orders                                                      \n",
              "4  Change the background color on the main page. This will increase user engagement                                         \n",
              "\n",
              "   Reach  Impact  Confidence  Effort  ICE   RICE  \n",
              "7  10     7       8           5       280  112.0  \n",
              "2  8      3       7           3       63   56.0   \n",
              "0  3      10      8           6       480  40.0   \n",
              "6  5      3       8           3       72   40.0   \n",
              "8  1      9       9           5       405  16.2   \n",
              "3  8      3       3           8       72   9.0    \n",
              "1  2      5       4           10      200  4.0    \n",
              "5  3      2       2           3       12   4.0    \n",
              "4  3      1       1           1       1    3.0    "
            ],
            "text/html": [
              "\n",
              "  <div id=\"df-667b9bed-9789-4483-8e7f-a8527633221e\">\n",
              "    <div class=\"colab-df-container\">\n",
              "      <div>\n",
              "<style scoped>\n",
              "    .dataframe tbody tr th:only-of-type {\n",
              "        vertical-align: middle;\n",
              "    }\n",
              "\n",
              "    .dataframe tbody tr th {\n",
              "        vertical-align: top;\n",
              "    }\n",
              "\n",
              "    .dataframe thead th {\n",
              "        text-align: right;\n",
              "    }\n",
              "</style>\n",
              "<table border=\"1\" class=\"dataframe\">\n",
              "  <thead>\n",
              "    <tr style=\"text-align: right;\">\n",
              "      <th></th>\n",
              "      <th>Hypothesis</th>\n",
              "      <th>Reach</th>\n",
              "      <th>Impact</th>\n",
              "      <th>Confidence</th>\n",
              "      <th>Effort</th>\n",
              "      <th>ICE</th>\n",
              "      <th>RICE</th>\n",
              "    </tr>\n",
              "  </thead>\n",
              "  <tbody>\n",
              "    <tr>\n",
              "      <th>7</th>\n",
              "      <td>Add a subscription form to all the main pages. This will help you compile a mailing list</td>\n",
              "      <td>10</td>\n",
              "      <td>7</td>\n",
              "      <td>8</td>\n",
              "      <td>5</td>\n",
              "      <td>280</td>\n",
              "      <td>112.0</td>\n",
              "    </tr>\n",
              "    <tr>\n",
              "      <th>2</th>\n",
              "      <td>Add product recommendation blocks to the store's site. This will increase conversion and average purchase size</td>\n",
              "      <td>8</td>\n",
              "      <td>3</td>\n",
              "      <td>7</td>\n",
              "      <td>3</td>\n",
              "      <td>63</td>\n",
              "      <td>56.0</td>\n",
              "    </tr>\n",
              "    <tr>\n",
              "      <th>0</th>\n",
              "      <td>Add two new channels for attracting traffic. This will bring 30% more users</td>\n",
              "      <td>3</td>\n",
              "      <td>10</td>\n",
              "      <td>8</td>\n",
              "      <td>6</td>\n",
              "      <td>480</td>\n",
              "      <td>40.0</td>\n",
              "    </tr>\n",
              "    <tr>\n",
              "      <th>6</th>\n",
              "      <td>Show banners with current offers and sales on the main page. This will boost conversion</td>\n",
              "      <td>5</td>\n",
              "      <td>3</td>\n",
              "      <td>8</td>\n",
              "      <td>3</td>\n",
              "      <td>72</td>\n",
              "      <td>40.0</td>\n",
              "    </tr>\n",
              "    <tr>\n",
              "      <th>8</th>\n",
              "      <td>Launch a promotion that gives users discounts on their birthdays</td>\n",
              "      <td>1</td>\n",
              "      <td>9</td>\n",
              "      <td>9</td>\n",
              "      <td>5</td>\n",
              "      <td>405</td>\n",
              "      <td>16.2</td>\n",
              "    </tr>\n",
              "    <tr>\n",
              "      <th>3</th>\n",
              "      <td>Change the category structure. This will increase conversion since users will find the products they want more quickly</td>\n",
              "      <td>8</td>\n",
              "      <td>3</td>\n",
              "      <td>3</td>\n",
              "      <td>8</td>\n",
              "      <td>72</td>\n",
              "      <td>9.0</td>\n",
              "    </tr>\n",
              "    <tr>\n",
              "      <th>1</th>\n",
              "      <td>Launch your own delivery service. This will shorten delivery time</td>\n",
              "      <td>2</td>\n",
              "      <td>5</td>\n",
              "      <td>4</td>\n",
              "      <td>10</td>\n",
              "      <td>200</td>\n",
              "      <td>4.0</td>\n",
              "    </tr>\n",
              "    <tr>\n",
              "      <th>5</th>\n",
              "      <td>Add a customer review page. This will increase the number of orders</td>\n",
              "      <td>3</td>\n",
              "      <td>2</td>\n",
              "      <td>2</td>\n",
              "      <td>3</td>\n",
              "      <td>12</td>\n",
              "      <td>4.0</td>\n",
              "    </tr>\n",
              "    <tr>\n",
              "      <th>4</th>\n",
              "      <td>Change the background color on the main page. This will increase user engagement</td>\n",
              "      <td>3</td>\n",
              "      <td>1</td>\n",
              "      <td>1</td>\n",
              "      <td>1</td>\n",
              "      <td>1</td>\n",
              "      <td>3.0</td>\n",
              "    </tr>\n",
              "  </tbody>\n",
              "</table>\n",
              "</div>\n",
              "      <button class=\"colab-df-convert\" onclick=\"convertToInteractive('df-667b9bed-9789-4483-8e7f-a8527633221e')\"\n",
              "              title=\"Convert this dataframe to an interactive table.\"\n",
              "              style=\"display:none;\">\n",
              "        \n",
              "  <svg xmlns=\"http://www.w3.org/2000/svg\" height=\"24px\"viewBox=\"0 0 24 24\"\n",
              "       width=\"24px\">\n",
              "    <path d=\"M0 0h24v24H0V0z\" fill=\"none\"/>\n",
              "    <path d=\"M18.56 5.44l.94 2.06.94-2.06 2.06-.94-2.06-.94-.94-2.06-.94 2.06-2.06.94zm-11 1L8.5 8.5l.94-2.06 2.06-.94-2.06-.94L8.5 2.5l-.94 2.06-2.06.94zm10 10l.94 2.06.94-2.06 2.06-.94-2.06-.94-.94-2.06-.94 2.06-2.06.94z\"/><path d=\"M17.41 7.96l-1.37-1.37c-.4-.4-.92-.59-1.43-.59-.52 0-1.04.2-1.43.59L10.3 9.45l-7.72 7.72c-.78.78-.78 2.05 0 2.83L4 21.41c.39.39.9.59 1.41.59.51 0 1.02-.2 1.41-.59l7.78-7.78 2.81-2.81c.8-.78.8-2.07 0-2.86zM5.41 20L4 18.59l7.72-7.72 1.47 1.35L5.41 20z\"/>\n",
              "  </svg>\n",
              "      </button>\n",
              "      \n",
              "  <style>\n",
              "    .colab-df-container {\n",
              "      display:flex;\n",
              "      flex-wrap:wrap;\n",
              "      gap: 12px;\n",
              "    }\n",
              "\n",
              "    .colab-df-convert {\n",
              "      background-color: #E8F0FE;\n",
              "      border: none;\n",
              "      border-radius: 50%;\n",
              "      cursor: pointer;\n",
              "      display: none;\n",
              "      fill: #1967D2;\n",
              "      height: 32px;\n",
              "      padding: 0 0 0 0;\n",
              "      width: 32px;\n",
              "    }\n",
              "\n",
              "    .colab-df-convert:hover {\n",
              "      background-color: #E2EBFA;\n",
              "      box-shadow: 0px 1px 2px rgba(60, 64, 67, 0.3), 0px 1px 3px 1px rgba(60, 64, 67, 0.15);\n",
              "      fill: #174EA6;\n",
              "    }\n",
              "\n",
              "    [theme=dark] .colab-df-convert {\n",
              "      background-color: #3B4455;\n",
              "      fill: #D2E3FC;\n",
              "    }\n",
              "\n",
              "    [theme=dark] .colab-df-convert:hover {\n",
              "      background-color: #434B5C;\n",
              "      box-shadow: 0px 1px 3px 1px rgba(0, 0, 0, 0.15);\n",
              "      filter: drop-shadow(0px 1px 2px rgba(0, 0, 0, 0.3));\n",
              "      fill: #FFFFFF;\n",
              "    }\n",
              "  </style>\n",
              "\n",
              "      <script>\n",
              "        const buttonEl =\n",
              "          document.querySelector('#df-667b9bed-9789-4483-8e7f-a8527633221e button.colab-df-convert');\n",
              "        buttonEl.style.display =\n",
              "          google.colab.kernel.accessAllowed ? 'block' : 'none';\n",
              "\n",
              "        async function convertToInteractive(key) {\n",
              "          const element = document.querySelector('#df-667b9bed-9789-4483-8e7f-a8527633221e');\n",
              "          const dataTable =\n",
              "            await google.colab.kernel.invokeFunction('convertToInteractive',\n",
              "                                                     [key], {});\n",
              "          if (!dataTable) return;\n",
              "\n",
              "          const docLinkHtml = 'Like what you see? Visit the ' +\n",
              "            '<a target=\"_blank\" href=https://colab.research.google.com/notebooks/data_table.ipynb>data table notebook</a>'\n",
              "            + ' to learn more about interactive tables.';\n",
              "          element.innerHTML = '';\n",
              "          dataTable['output_type'] = 'display_data';\n",
              "          await google.colab.output.renderOutput(dataTable, element);\n",
              "          const docLink = document.createElement('div');\n",
              "          docLink.innerHTML = docLinkHtml;\n",
              "          element.appendChild(docLink);\n",
              "        }\n",
              "      </script>\n",
              "    </div>\n",
              "  </div>\n",
              "  "
            ]
          },
          "metadata": {},
          "execution_count": 14
        }
      ],
      "source": [
        "df['RICE'] = (df['Reach'] * df['Impact'] * df['Confidence']) / df['Effort']\n",
        "df.sort_values(by = 'RICE', ascending=False)"
      ]
    },
    {
      "cell_type": "code",
      "execution_count": 15,
      "metadata": {
        "colab": {
          "base_uri": "https://localhost:8080/",
          "height": 542
        },
        "id": "-yGhxuNIZlAj",
        "outputId": "118b4bbb-2a88-46b6-ec9b-50a370963d8b"
      },
      "outputs": [
        {
          "output_type": "display_data",
          "data": {
            "text/html": [
              "<html>\n",
              "<head><meta charset=\"utf-8\" /></head>\n",
              "<body>\n",
              "    <div>            <script src=\"https://cdnjs.cloudflare.com/ajax/libs/mathjax/2.7.5/MathJax.js?config=TeX-AMS-MML_SVG\"></script><script type=\"text/javascript\">if (window.MathJax) {MathJax.Hub.Config({SVG: {font: \"STIX-Web\"}});}</script>                <script type=\"text/javascript\">window.PlotlyConfig = {MathJaxConfig: 'local'};</script>\n",
              "        <script src=\"https://cdn.plot.ly/plotly-2.8.3.min.js\"></script>                <div id=\"a2d677c0-74ae-40cb-af7b-2a92453a84b7\" class=\"plotly-graph-div\" style=\"height:525px; width:100%;\"></div>            <script type=\"text/javascript\">                                    window.PLOTLYENV=window.PLOTLYENV || {};                                    if (document.getElementById(\"a2d677c0-74ae-40cb-af7b-2a92453a84b7\")) {                    Plotly.newPlot(                        \"a2d677c0-74ae-40cb-af7b-2a92453a84b7\",                        [{\"hovertemplate\":\"x=%{x}<br>y=%{y}<extra></extra>\",\"legendgroup\":\"\",\"marker\":{\"color\":\"#636efa\",\"symbol\":\"circle\"},\"mode\":\"markers\",\"name\":\"\",\"orientation\":\"v\",\"showlegend\":false,\"x\":[0,1,2,3,4,5,6,7,8],\"xaxis\":\"x\",\"y\":[40.0,4.0,56.0,9.0,3.0,4.0,40.0,112.0,16.2],\"yaxis\":\"y\",\"type\":\"scatter\"}],                        {\"template\":{\"data\":{\"bar\":[{\"error_x\":{\"color\":\"#2a3f5f\"},\"error_y\":{\"color\":\"#2a3f5f\"},\"marker\":{\"line\":{\"color\":\"#E5ECF6\",\"width\":0.5},\"pattern\":{\"fillmode\":\"overlay\",\"size\":10,\"solidity\":0.2}},\"type\":\"bar\"}],\"barpolar\":[{\"marker\":{\"line\":{\"color\":\"#E5ECF6\",\"width\":0.5},\"pattern\":{\"fillmode\":\"overlay\",\"size\":10,\"solidity\":0.2}},\"type\":\"barpolar\"}],\"carpet\":[{\"aaxis\":{\"endlinecolor\":\"#2a3f5f\",\"gridcolor\":\"white\",\"linecolor\":\"white\",\"minorgridcolor\":\"white\",\"startlinecolor\":\"#2a3f5f\"},\"baxis\":{\"endlinecolor\":\"#2a3f5f\",\"gridcolor\":\"white\",\"linecolor\":\"white\",\"minorgridcolor\":\"white\",\"startlinecolor\":\"#2a3f5f\"},\"type\":\"carpet\"}],\"choropleth\":[{\"colorbar\":{\"outlinewidth\":0,\"ticks\":\"\"},\"type\":\"choropleth\"}],\"contour\":[{\"colorbar\":{\"outlinewidth\":0,\"ticks\":\"\"},\"colorscale\":[[0.0,\"#0d0887\"],[0.1111111111111111,\"#46039f\"],[0.2222222222222222,\"#7201a8\"],[0.3333333333333333,\"#9c179e\"],[0.4444444444444444,\"#bd3786\"],[0.5555555555555556,\"#d8576b\"],[0.6666666666666666,\"#ed7953\"],[0.7777777777777778,\"#fb9f3a\"],[0.8888888888888888,\"#fdca26\"],[1.0,\"#f0f921\"]],\"type\":\"contour\"}],\"contourcarpet\":[{\"colorbar\":{\"outlinewidth\":0,\"ticks\":\"\"},\"type\":\"contourcarpet\"}],\"heatmap\":[{\"colorbar\":{\"outlinewidth\":0,\"ticks\":\"\"},\"colorscale\":[[0.0,\"#0d0887\"],[0.1111111111111111,\"#46039f\"],[0.2222222222222222,\"#7201a8\"],[0.3333333333333333,\"#9c179e\"],[0.4444444444444444,\"#bd3786\"],[0.5555555555555556,\"#d8576b\"],[0.6666666666666666,\"#ed7953\"],[0.7777777777777778,\"#fb9f3a\"],[0.8888888888888888,\"#fdca26\"],[1.0,\"#f0f921\"]],\"type\":\"heatmap\"}],\"heatmapgl\":[{\"colorbar\":{\"outlinewidth\":0,\"ticks\":\"\"},\"colorscale\":[[0.0,\"#0d0887\"],[0.1111111111111111,\"#46039f\"],[0.2222222222222222,\"#7201a8\"],[0.3333333333333333,\"#9c179e\"],[0.4444444444444444,\"#bd3786\"],[0.5555555555555556,\"#d8576b\"],[0.6666666666666666,\"#ed7953\"],[0.7777777777777778,\"#fb9f3a\"],[0.8888888888888888,\"#fdca26\"],[1.0,\"#f0f921\"]],\"type\":\"heatmapgl\"}],\"histogram\":[{\"marker\":{\"pattern\":{\"fillmode\":\"overlay\",\"size\":10,\"solidity\":0.2}},\"type\":\"histogram\"}],\"histogram2d\":[{\"colorbar\":{\"outlinewidth\":0,\"ticks\":\"\"},\"colorscale\":[[0.0,\"#0d0887\"],[0.1111111111111111,\"#46039f\"],[0.2222222222222222,\"#7201a8\"],[0.3333333333333333,\"#9c179e\"],[0.4444444444444444,\"#bd3786\"],[0.5555555555555556,\"#d8576b\"],[0.6666666666666666,\"#ed7953\"],[0.7777777777777778,\"#fb9f3a\"],[0.8888888888888888,\"#fdca26\"],[1.0,\"#f0f921\"]],\"type\":\"histogram2d\"}],\"histogram2dcontour\":[{\"colorbar\":{\"outlinewidth\":0,\"ticks\":\"\"},\"colorscale\":[[0.0,\"#0d0887\"],[0.1111111111111111,\"#46039f\"],[0.2222222222222222,\"#7201a8\"],[0.3333333333333333,\"#9c179e\"],[0.4444444444444444,\"#bd3786\"],[0.5555555555555556,\"#d8576b\"],[0.6666666666666666,\"#ed7953\"],[0.7777777777777778,\"#fb9f3a\"],[0.8888888888888888,\"#fdca26\"],[1.0,\"#f0f921\"]],\"type\":\"histogram2dcontour\"}],\"mesh3d\":[{\"colorbar\":{\"outlinewidth\":0,\"ticks\":\"\"},\"type\":\"mesh3d\"}],\"parcoords\":[{\"line\":{\"colorbar\":{\"outlinewidth\":0,\"ticks\":\"\"}},\"type\":\"parcoords\"}],\"pie\":[{\"automargin\":true,\"type\":\"pie\"}],\"scatter\":[{\"marker\":{\"colorbar\":{\"outlinewidth\":0,\"ticks\":\"\"}},\"type\":\"scatter\"}],\"scatter3d\":[{\"line\":{\"colorbar\":{\"outlinewidth\":0,\"ticks\":\"\"}},\"marker\":{\"colorbar\":{\"outlinewidth\":0,\"ticks\":\"\"}},\"type\":\"scatter3d\"}],\"scattercarpet\":[{\"marker\":{\"colorbar\":{\"outlinewidth\":0,\"ticks\":\"\"}},\"type\":\"scattercarpet\"}],\"scattergeo\":[{\"marker\":{\"colorbar\":{\"outlinewidth\":0,\"ticks\":\"\"}},\"type\":\"scattergeo\"}],\"scattergl\":[{\"marker\":{\"colorbar\":{\"outlinewidth\":0,\"ticks\":\"\"}},\"type\":\"scattergl\"}],\"scattermapbox\":[{\"marker\":{\"colorbar\":{\"outlinewidth\":0,\"ticks\":\"\"}},\"type\":\"scattermapbox\"}],\"scatterpolar\":[{\"marker\":{\"colorbar\":{\"outlinewidth\":0,\"ticks\":\"\"}},\"type\":\"scatterpolar\"}],\"scatterpolargl\":[{\"marker\":{\"colorbar\":{\"outlinewidth\":0,\"ticks\":\"\"}},\"type\":\"scatterpolargl\"}],\"scatterternary\":[{\"marker\":{\"colorbar\":{\"outlinewidth\":0,\"ticks\":\"\"}},\"type\":\"scatterternary\"}],\"surface\":[{\"colorbar\":{\"outlinewidth\":0,\"ticks\":\"\"},\"colorscale\":[[0.0,\"#0d0887\"],[0.1111111111111111,\"#46039f\"],[0.2222222222222222,\"#7201a8\"],[0.3333333333333333,\"#9c179e\"],[0.4444444444444444,\"#bd3786\"],[0.5555555555555556,\"#d8576b\"],[0.6666666666666666,\"#ed7953\"],[0.7777777777777778,\"#fb9f3a\"],[0.8888888888888888,\"#fdca26\"],[1.0,\"#f0f921\"]],\"type\":\"surface\"}],\"table\":[{\"cells\":{\"fill\":{\"color\":\"#EBF0F8\"},\"line\":{\"color\":\"white\"}},\"header\":{\"fill\":{\"color\":\"#C8D4E3\"},\"line\":{\"color\":\"white\"}},\"type\":\"table\"}]},\"layout\":{\"annotationdefaults\":{\"arrowcolor\":\"#2a3f5f\",\"arrowhead\":0,\"arrowwidth\":1},\"autotypenumbers\":\"strict\",\"coloraxis\":{\"colorbar\":{\"outlinewidth\":0,\"ticks\":\"\"}},\"colorscale\":{\"diverging\":[[0,\"#8e0152\"],[0.1,\"#c51b7d\"],[0.2,\"#de77ae\"],[0.3,\"#f1b6da\"],[0.4,\"#fde0ef\"],[0.5,\"#f7f7f7\"],[0.6,\"#e6f5d0\"],[0.7,\"#b8e186\"],[0.8,\"#7fbc41\"],[0.9,\"#4d9221\"],[1,\"#276419\"]],\"sequential\":[[0.0,\"#0d0887\"],[0.1111111111111111,\"#46039f\"],[0.2222222222222222,\"#7201a8\"],[0.3333333333333333,\"#9c179e\"],[0.4444444444444444,\"#bd3786\"],[0.5555555555555556,\"#d8576b\"],[0.6666666666666666,\"#ed7953\"],[0.7777777777777778,\"#fb9f3a\"],[0.8888888888888888,\"#fdca26\"],[1.0,\"#f0f921\"]],\"sequentialminus\":[[0.0,\"#0d0887\"],[0.1111111111111111,\"#46039f\"],[0.2222222222222222,\"#7201a8\"],[0.3333333333333333,\"#9c179e\"],[0.4444444444444444,\"#bd3786\"],[0.5555555555555556,\"#d8576b\"],[0.6666666666666666,\"#ed7953\"],[0.7777777777777778,\"#fb9f3a\"],[0.8888888888888888,\"#fdca26\"],[1.0,\"#f0f921\"]]},\"colorway\":[\"#636efa\",\"#EF553B\",\"#00cc96\",\"#ab63fa\",\"#FFA15A\",\"#19d3f3\",\"#FF6692\",\"#B6E880\",\"#FF97FF\",\"#FECB52\"],\"font\":{\"color\":\"#2a3f5f\"},\"geo\":{\"bgcolor\":\"white\",\"lakecolor\":\"white\",\"landcolor\":\"#E5ECF6\",\"showlakes\":true,\"showland\":true,\"subunitcolor\":\"white\"},\"hoverlabel\":{\"align\":\"left\"},\"hovermode\":\"closest\",\"mapbox\":{\"style\":\"light\"},\"paper_bgcolor\":\"white\",\"plot_bgcolor\":\"#E5ECF6\",\"polar\":{\"angularaxis\":{\"gridcolor\":\"white\",\"linecolor\":\"white\",\"ticks\":\"\"},\"bgcolor\":\"#E5ECF6\",\"radialaxis\":{\"gridcolor\":\"white\",\"linecolor\":\"white\",\"ticks\":\"\"}},\"scene\":{\"xaxis\":{\"backgroundcolor\":\"#E5ECF6\",\"gridcolor\":\"white\",\"gridwidth\":2,\"linecolor\":\"white\",\"showbackground\":true,\"ticks\":\"\",\"zerolinecolor\":\"white\"},\"yaxis\":{\"backgroundcolor\":\"#E5ECF6\",\"gridcolor\":\"white\",\"gridwidth\":2,\"linecolor\":\"white\",\"showbackground\":true,\"ticks\":\"\",\"zerolinecolor\":\"white\"},\"zaxis\":{\"backgroundcolor\":\"#E5ECF6\",\"gridcolor\":\"white\",\"gridwidth\":2,\"linecolor\":\"white\",\"showbackground\":true,\"ticks\":\"\",\"zerolinecolor\":\"white\"}},\"shapedefaults\":{\"line\":{\"color\":\"#2a3f5f\"}},\"ternary\":{\"aaxis\":{\"gridcolor\":\"white\",\"linecolor\":\"white\",\"ticks\":\"\"},\"baxis\":{\"gridcolor\":\"white\",\"linecolor\":\"white\",\"ticks\":\"\"},\"bgcolor\":\"#E5ECF6\",\"caxis\":{\"gridcolor\":\"white\",\"linecolor\":\"white\",\"ticks\":\"\"}},\"title\":{\"x\":0.05},\"xaxis\":{\"automargin\":true,\"gridcolor\":\"white\",\"linecolor\":\"white\",\"ticks\":\"\",\"title\":{\"standoff\":15},\"zerolinecolor\":\"white\",\"zerolinewidth\":2},\"yaxis\":{\"automargin\":true,\"gridcolor\":\"white\",\"linecolor\":\"white\",\"ticks\":\"\",\"title\":{\"standoff\":15},\"zerolinecolor\":\"white\",\"zerolinewidth\":2}}},\"xaxis\":{\"anchor\":\"y\",\"domain\":[0.0,1.0],\"title\":{\"text\":\"Hypotheses number\"}},\"yaxis\":{\"anchor\":\"x\",\"domain\":[0.0,1.0],\"title\":{\"text\":\"RICE score\"}},\"legend\":{\"tracegroupgap\":0},\"margin\":{\"t\":60}},                        {\"responsive\": true}                    ).then(function(){\n",
              "                            \n",
              "var gd = document.getElementById('a2d677c0-74ae-40cb-af7b-2a92453a84b7');\n",
              "var x = new MutationObserver(function (mutations, observer) {{\n",
              "        var display = window.getComputedStyle(gd).display;\n",
              "        if (!display || display === 'none') {{\n",
              "            console.log([gd, 'removed!']);\n",
              "            Plotly.purge(gd);\n",
              "            observer.disconnect();\n",
              "        }}\n",
              "}});\n",
              "\n",
              "// Listen for the removal of the full notebook cells\n",
              "var notebookContainer = gd.closest('#notebook-container');\n",
              "if (notebookContainer) {{\n",
              "    x.observe(notebookContainer, {childList: true});\n",
              "}}\n",
              "\n",
              "// Listen for the clearing of the current output cell\n",
              "var outputEl = gd.closest('.output');\n",
              "if (outputEl) {{\n",
              "    x.observe(outputEl, {childList: true});\n",
              "}}\n",
              "\n",
              "                        })                };                            </script>        </div>\n",
              "</body>\n",
              "</html>"
            ]
          },
          "metadata": {}
        }
      ],
      "source": [
        "fig = px.scatter(x=df.index, y = df['RICE'])\n",
        "fig.update_xaxes(title_text = 'Hypotheses number')\n",
        "fig.update_yaxes(title_text = 'RICE score')\n",
        "fig.show('colab')"
      ]
    },
    {
      "cell_type": "markdown",
      "metadata": {
        "id": "AAJ7nRoVrbQd"
      },
      "source": [
        "### **Show how the prioritization of hypotheses changes when you use RICE instead of ICE. Provide an explanation for the changes.**\n",
        "\n",
        "\n",
        "---\n",
        "\n",
        "As shown in the tables above, when we are guided by two of our given frameworks the priority of the hypothesis changes, for example: \n",
        "\n",
        "According to **ICE** our top 3 priority hypothesis are **№ 0, 8 and 7**, but when in addition to ICE we take in account a very important parameter such as the REACH we get different and a more precise result. \n",
        "\n",
        "Note how the 7-th hypothesis according to **RICE** is the highest in priority because it has the highest `REACH` score, but if we comapre the same hypothesis' position in the **ICE** score column it is lower in priority because all the other parameters - impact, confidence and effort - are not high enough in comparison with other hypothesis. And it makes sence: hypothesis №7 suggests that we apply a change to all the main pages, so really every user will be exposed to the change. \n",
        "\n",
        "Thus, we can conclude, that according to **RICE score** the top 3 priority hypothesis should be tested are **№7, 2 and 0** respectively."
      ]
    },
    {
      "cell_type": "markdown",
      "metadata": {
        "id": "ZeO1mH4g2JPc"
      },
      "source": [
        "##  PART 3. A/B TEST ANALYSIS\n",
        "\n",
        "\n",
        "---\n",
        "\n"
      ]
    },
    {
      "cell_type": "markdown",
      "metadata": {
        "id": "1SKe67dDyGpC"
      },
      "source": [
        "\n",
        "### **Graph cumulative revenue by group. Make conclusions and conjectures.**\n",
        "\n",
        "For each one of the groups we will pair a match of each date of the given period - from August 01 2019 till the August 31-st 2019 in our case."
      ]
    },
    {
      "cell_type": "code",
      "execution_count": 16,
      "metadata": {
        "colab": {
          "base_uri": "https://localhost:8080/",
          "height": 423
        },
        "id": "7brrXY_2vyLA",
        "outputId": "d8237df7-a663-41f5-d162-d87633e658fc"
      },
      "outputs": [
        {
          "output_type": "execute_result",
          "data": {
            "text/plain": [
              "           date group\n",
              "0    2019-08-15  B   \n",
              "7    2019-08-15  A   \n",
              "45   2019-08-16  A   \n",
              "47   2019-08-16  B   \n",
              "55   2019-08-01  A   \n",
              "...         ... ..   \n",
              "1068 2019-08-12  A   \n",
              "1114 2019-08-13  B   \n",
              "1116 2019-08-13  A   \n",
              "1149 2019-08-14  B   \n",
              "1150 2019-08-14  A   \n",
              "\n",
              "[62 rows x 2 columns]"
            ],
            "text/html": [
              "\n",
              "  <div id=\"df-708af85a-4cda-462f-9574-9b0e066ad293\">\n",
              "    <div class=\"colab-df-container\">\n",
              "      <div>\n",
              "<style scoped>\n",
              "    .dataframe tbody tr th:only-of-type {\n",
              "        vertical-align: middle;\n",
              "    }\n",
              "\n",
              "    .dataframe tbody tr th {\n",
              "        vertical-align: top;\n",
              "    }\n",
              "\n",
              "    .dataframe thead th {\n",
              "        text-align: right;\n",
              "    }\n",
              "</style>\n",
              "<table border=\"1\" class=\"dataframe\">\n",
              "  <thead>\n",
              "    <tr style=\"text-align: right;\">\n",
              "      <th></th>\n",
              "      <th>date</th>\n",
              "      <th>group</th>\n",
              "    </tr>\n",
              "  </thead>\n",
              "  <tbody>\n",
              "    <tr>\n",
              "      <th>0</th>\n",
              "      <td>2019-08-15</td>\n",
              "      <td>B</td>\n",
              "    </tr>\n",
              "    <tr>\n",
              "      <th>7</th>\n",
              "      <td>2019-08-15</td>\n",
              "      <td>A</td>\n",
              "    </tr>\n",
              "    <tr>\n",
              "      <th>45</th>\n",
              "      <td>2019-08-16</td>\n",
              "      <td>A</td>\n",
              "    </tr>\n",
              "    <tr>\n",
              "      <th>47</th>\n",
              "      <td>2019-08-16</td>\n",
              "      <td>B</td>\n",
              "    </tr>\n",
              "    <tr>\n",
              "      <th>55</th>\n",
              "      <td>2019-08-01</td>\n",
              "      <td>A</td>\n",
              "    </tr>\n",
              "    <tr>\n",
              "      <th>...</th>\n",
              "      <td>...</td>\n",
              "      <td>...</td>\n",
              "    </tr>\n",
              "    <tr>\n",
              "      <th>1068</th>\n",
              "      <td>2019-08-12</td>\n",
              "      <td>A</td>\n",
              "    </tr>\n",
              "    <tr>\n",
              "      <th>1114</th>\n",
              "      <td>2019-08-13</td>\n",
              "      <td>B</td>\n",
              "    </tr>\n",
              "    <tr>\n",
              "      <th>1116</th>\n",
              "      <td>2019-08-13</td>\n",
              "      <td>A</td>\n",
              "    </tr>\n",
              "    <tr>\n",
              "      <th>1149</th>\n",
              "      <td>2019-08-14</td>\n",
              "      <td>B</td>\n",
              "    </tr>\n",
              "    <tr>\n",
              "      <th>1150</th>\n",
              "      <td>2019-08-14</td>\n",
              "      <td>A</td>\n",
              "    </tr>\n",
              "  </tbody>\n",
              "</table>\n",
              "<p>62 rows × 2 columns</p>\n",
              "</div>\n",
              "      <button class=\"colab-df-convert\" onclick=\"convertToInteractive('df-708af85a-4cda-462f-9574-9b0e066ad293')\"\n",
              "              title=\"Convert this dataframe to an interactive table.\"\n",
              "              style=\"display:none;\">\n",
              "        \n",
              "  <svg xmlns=\"http://www.w3.org/2000/svg\" height=\"24px\"viewBox=\"0 0 24 24\"\n",
              "       width=\"24px\">\n",
              "    <path d=\"M0 0h24v24H0V0z\" fill=\"none\"/>\n",
              "    <path d=\"M18.56 5.44l.94 2.06.94-2.06 2.06-.94-2.06-.94-.94-2.06-.94 2.06-2.06.94zm-11 1L8.5 8.5l.94-2.06 2.06-.94-2.06-.94L8.5 2.5l-.94 2.06-2.06.94zm10 10l.94 2.06.94-2.06 2.06-.94-2.06-.94-.94-2.06-.94 2.06-2.06.94z\"/><path d=\"M17.41 7.96l-1.37-1.37c-.4-.4-.92-.59-1.43-.59-.52 0-1.04.2-1.43.59L10.3 9.45l-7.72 7.72c-.78.78-.78 2.05 0 2.83L4 21.41c.39.39.9.59 1.41.59.51 0 1.02-.2 1.41-.59l7.78-7.78 2.81-2.81c.8-.78.8-2.07 0-2.86zM5.41 20L4 18.59l7.72-7.72 1.47 1.35L5.41 20z\"/>\n",
              "  </svg>\n",
              "      </button>\n",
              "      \n",
              "  <style>\n",
              "    .colab-df-container {\n",
              "      display:flex;\n",
              "      flex-wrap:wrap;\n",
              "      gap: 12px;\n",
              "    }\n",
              "\n",
              "    .colab-df-convert {\n",
              "      background-color: #E8F0FE;\n",
              "      border: none;\n",
              "      border-radius: 50%;\n",
              "      cursor: pointer;\n",
              "      display: none;\n",
              "      fill: #1967D2;\n",
              "      height: 32px;\n",
              "      padding: 0 0 0 0;\n",
              "      width: 32px;\n",
              "    }\n",
              "\n",
              "    .colab-df-convert:hover {\n",
              "      background-color: #E2EBFA;\n",
              "      box-shadow: 0px 1px 2px rgba(60, 64, 67, 0.3), 0px 1px 3px 1px rgba(60, 64, 67, 0.15);\n",
              "      fill: #174EA6;\n",
              "    }\n",
              "\n",
              "    [theme=dark] .colab-df-convert {\n",
              "      background-color: #3B4455;\n",
              "      fill: #D2E3FC;\n",
              "    }\n",
              "\n",
              "    [theme=dark] .colab-df-convert:hover {\n",
              "      background-color: #434B5C;\n",
              "      box-shadow: 0px 1px 3px 1px rgba(0, 0, 0, 0.15);\n",
              "      filter: drop-shadow(0px 1px 2px rgba(0, 0, 0, 0.3));\n",
              "      fill: #FFFFFF;\n",
              "    }\n",
              "  </style>\n",
              "\n",
              "      <script>\n",
              "        const buttonEl =\n",
              "          document.querySelector('#df-708af85a-4cda-462f-9574-9b0e066ad293 button.colab-df-convert');\n",
              "        buttonEl.style.display =\n",
              "          google.colab.kernel.accessAllowed ? 'block' : 'none';\n",
              "\n",
              "        async function convertToInteractive(key) {\n",
              "          const element = document.querySelector('#df-708af85a-4cda-462f-9574-9b0e066ad293');\n",
              "          const dataTable =\n",
              "            await google.colab.kernel.invokeFunction('convertToInteractive',\n",
              "                                                     [key], {});\n",
              "          if (!dataTable) return;\n",
              "\n",
              "          const docLinkHtml = 'Like what you see? Visit the ' +\n",
              "            '<a target=\"_blank\" href=https://colab.research.google.com/notebooks/data_table.ipynb>data table notebook</a>'\n",
              "            + ' to learn more about interactive tables.';\n",
              "          element.innerHTML = '';\n",
              "          dataTable['output_type'] = 'display_data';\n",
              "          await google.colab.output.renderOutput(dataTable, element);\n",
              "          const docLink = document.createElement('div');\n",
              "          docLink.innerHTML = docLinkHtml;\n",
              "          element.appendChild(docLink);\n",
              "        }\n",
              "      </script>\n",
              "    </div>\n",
              "  </div>\n",
              "  "
            ]
          },
          "metadata": {},
          "execution_count": 16
        }
      ],
      "source": [
        "# Choose the unique date and group notations\n",
        "dates_for_groups = orders[['date','group']].drop_duplicates()\n",
        "dates_for_groups"
      ]
    },
    {
      "cell_type": "markdown",
      "metadata": {
        "id": "D8jXdWno28eZ"
      },
      "source": [
        "Having those dates gathered for each group we will aggregate our data in the `orders` and `visits` datasets, selecting each group and date to accumulate all the observations to one row with one date and one group for each metric we need: amount of orders, buyers, visitors, total revenue."
      ]
    },
    {
      "cell_type": "code",
      "execution_count": 17,
      "metadata": {
        "colab": {
          "base_uri": "https://localhost:8080/",
          "height": 423
        },
        "id": "lR7lGQW9y05q",
        "outputId": "9f93bf24-a39b-41ee-be95-51a6374c0800"
      },
      "outputs": [
        {
          "output_type": "execute_result",
          "data": {
            "text/plain": [
              "          date group  transactionId  visitorId  revenue\n",
              "55  2019-08-01  A     23             19         2266.6 \n",
              "66  2019-08-01  B     17             17         967.2  \n",
              "175 2019-08-02  A     42             36         3734.9 \n",
              "173 2019-08-02  B     40             39         3535.3 \n",
              "291 2019-08-03  A     66             60         5550.1 \n",
              "..         ... ..     ..             ..            ... \n",
              "533 2019-08-29  B     510            490        74576.7\n",
              "757 2019-08-30  A     460            437        52363.7\n",
              "690 2019-08-30  B     531            511        77863.5\n",
              "958 2019-08-31  A     468            445        53212.0\n",
              "930 2019-08-31  B     548            528        79651.2\n",
              "\n",
              "[62 rows x 5 columns]"
            ],
            "text/html": [
              "\n",
              "  <div id=\"df-82e57349-dc11-41e1-b9ef-bdb5a7cb148b\">\n",
              "    <div class=\"colab-df-container\">\n",
              "      <div>\n",
              "<style scoped>\n",
              "    .dataframe tbody tr th:only-of-type {\n",
              "        vertical-align: middle;\n",
              "    }\n",
              "\n",
              "    .dataframe tbody tr th {\n",
              "        vertical-align: top;\n",
              "    }\n",
              "\n",
              "    .dataframe thead th {\n",
              "        text-align: right;\n",
              "    }\n",
              "</style>\n",
              "<table border=\"1\" class=\"dataframe\">\n",
              "  <thead>\n",
              "    <tr style=\"text-align: right;\">\n",
              "      <th></th>\n",
              "      <th>date</th>\n",
              "      <th>group</th>\n",
              "      <th>transactionId</th>\n",
              "      <th>visitorId</th>\n",
              "      <th>revenue</th>\n",
              "    </tr>\n",
              "  </thead>\n",
              "  <tbody>\n",
              "    <tr>\n",
              "      <th>55</th>\n",
              "      <td>2019-08-01</td>\n",
              "      <td>A</td>\n",
              "      <td>23</td>\n",
              "      <td>19</td>\n",
              "      <td>2266.6</td>\n",
              "    </tr>\n",
              "    <tr>\n",
              "      <th>66</th>\n",
              "      <td>2019-08-01</td>\n",
              "      <td>B</td>\n",
              "      <td>17</td>\n",
              "      <td>17</td>\n",
              "      <td>967.2</td>\n",
              "    </tr>\n",
              "    <tr>\n",
              "      <th>175</th>\n",
              "      <td>2019-08-02</td>\n",
              "      <td>A</td>\n",
              "      <td>42</td>\n",
              "      <td>36</td>\n",
              "      <td>3734.9</td>\n",
              "    </tr>\n",
              "    <tr>\n",
              "      <th>173</th>\n",
              "      <td>2019-08-02</td>\n",
              "      <td>B</td>\n",
              "      <td>40</td>\n",
              "      <td>39</td>\n",
              "      <td>3535.3</td>\n",
              "    </tr>\n",
              "    <tr>\n",
              "      <th>291</th>\n",
              "      <td>2019-08-03</td>\n",
              "      <td>A</td>\n",
              "      <td>66</td>\n",
              "      <td>60</td>\n",
              "      <td>5550.1</td>\n",
              "    </tr>\n",
              "    <tr>\n",
              "      <th>...</th>\n",
              "      <td>...</td>\n",
              "      <td>...</td>\n",
              "      <td>...</td>\n",
              "      <td>...</td>\n",
              "      <td>...</td>\n",
              "    </tr>\n",
              "    <tr>\n",
              "      <th>533</th>\n",
              "      <td>2019-08-29</td>\n",
              "      <td>B</td>\n",
              "      <td>510</td>\n",
              "      <td>490</td>\n",
              "      <td>74576.7</td>\n",
              "    </tr>\n",
              "    <tr>\n",
              "      <th>757</th>\n",
              "      <td>2019-08-30</td>\n",
              "      <td>A</td>\n",
              "      <td>460</td>\n",
              "      <td>437</td>\n",
              "      <td>52363.7</td>\n",
              "    </tr>\n",
              "    <tr>\n",
              "      <th>690</th>\n",
              "      <td>2019-08-30</td>\n",
              "      <td>B</td>\n",
              "      <td>531</td>\n",
              "      <td>511</td>\n",
              "      <td>77863.5</td>\n",
              "    </tr>\n",
              "    <tr>\n",
              "      <th>958</th>\n",
              "      <td>2019-08-31</td>\n",
              "      <td>A</td>\n",
              "      <td>468</td>\n",
              "      <td>445</td>\n",
              "      <td>53212.0</td>\n",
              "    </tr>\n",
              "    <tr>\n",
              "      <th>930</th>\n",
              "      <td>2019-08-31</td>\n",
              "      <td>B</td>\n",
              "      <td>548</td>\n",
              "      <td>528</td>\n",
              "      <td>79651.2</td>\n",
              "    </tr>\n",
              "  </tbody>\n",
              "</table>\n",
              "<p>62 rows × 5 columns</p>\n",
              "</div>\n",
              "      <button class=\"colab-df-convert\" onclick=\"convertToInteractive('df-82e57349-dc11-41e1-b9ef-bdb5a7cb148b')\"\n",
              "              title=\"Convert this dataframe to an interactive table.\"\n",
              "              style=\"display:none;\">\n",
              "        \n",
              "  <svg xmlns=\"http://www.w3.org/2000/svg\" height=\"24px\"viewBox=\"0 0 24 24\"\n",
              "       width=\"24px\">\n",
              "    <path d=\"M0 0h24v24H0V0z\" fill=\"none\"/>\n",
              "    <path d=\"M18.56 5.44l.94 2.06.94-2.06 2.06-.94-2.06-.94-.94-2.06-.94 2.06-2.06.94zm-11 1L8.5 8.5l.94-2.06 2.06-.94-2.06-.94L8.5 2.5l-.94 2.06-2.06.94zm10 10l.94 2.06.94-2.06 2.06-.94-2.06-.94-.94-2.06-.94 2.06-2.06.94z\"/><path d=\"M17.41 7.96l-1.37-1.37c-.4-.4-.92-.59-1.43-.59-.52 0-1.04.2-1.43.59L10.3 9.45l-7.72 7.72c-.78.78-.78 2.05 0 2.83L4 21.41c.39.39.9.59 1.41.59.51 0 1.02-.2 1.41-.59l7.78-7.78 2.81-2.81c.8-.78.8-2.07 0-2.86zM5.41 20L4 18.59l7.72-7.72 1.47 1.35L5.41 20z\"/>\n",
              "  </svg>\n",
              "      </button>\n",
              "      \n",
              "  <style>\n",
              "    .colab-df-container {\n",
              "      display:flex;\n",
              "      flex-wrap:wrap;\n",
              "      gap: 12px;\n",
              "    }\n",
              "\n",
              "    .colab-df-convert {\n",
              "      background-color: #E8F0FE;\n",
              "      border: none;\n",
              "      border-radius: 50%;\n",
              "      cursor: pointer;\n",
              "      display: none;\n",
              "      fill: #1967D2;\n",
              "      height: 32px;\n",
              "      padding: 0 0 0 0;\n",
              "      width: 32px;\n",
              "    }\n",
              "\n",
              "    .colab-df-convert:hover {\n",
              "      background-color: #E2EBFA;\n",
              "      box-shadow: 0px 1px 2px rgba(60, 64, 67, 0.3), 0px 1px 3px 1px rgba(60, 64, 67, 0.15);\n",
              "      fill: #174EA6;\n",
              "    }\n",
              "\n",
              "    [theme=dark] .colab-df-convert {\n",
              "      background-color: #3B4455;\n",
              "      fill: #D2E3FC;\n",
              "    }\n",
              "\n",
              "    [theme=dark] .colab-df-convert:hover {\n",
              "      background-color: #434B5C;\n",
              "      box-shadow: 0px 1px 3px 1px rgba(0, 0, 0, 0.15);\n",
              "      filter: drop-shadow(0px 1px 2px rgba(0, 0, 0, 0.3));\n",
              "      fill: #FFFFFF;\n",
              "    }\n",
              "  </style>\n",
              "\n",
              "      <script>\n",
              "        const buttonEl =\n",
              "          document.querySelector('#df-82e57349-dc11-41e1-b9ef-bdb5a7cb148b button.colab-df-convert');\n",
              "        buttonEl.style.display =\n",
              "          google.colab.kernel.accessAllowed ? 'block' : 'none';\n",
              "\n",
              "        async function convertToInteractive(key) {\n",
              "          const element = document.querySelector('#df-82e57349-dc11-41e1-b9ef-bdb5a7cb148b');\n",
              "          const dataTable =\n",
              "            await google.colab.kernel.invokeFunction('convertToInteractive',\n",
              "                                                     [key], {});\n",
              "          if (!dataTable) return;\n",
              "\n",
              "          const docLinkHtml = 'Like what you see? Visit the ' +\n",
              "            '<a target=\"_blank\" href=https://colab.research.google.com/notebooks/data_table.ipynb>data table notebook</a>'\n",
              "            + ' to learn more about interactive tables.';\n",
              "          element.innerHTML = '';\n",
              "          dataTable['output_type'] = 'display_data';\n",
              "          await google.colab.output.renderOutput(dataTable, element);\n",
              "          const docLink = document.createElement('div');\n",
              "          docLink.innerHTML = docLinkHtml;\n",
              "          element.appendChild(docLink);\n",
              "        }\n",
              "      </script>\n",
              "    </div>\n",
              "  </div>\n",
              "  "
            ]
          },
          "metadata": {},
          "execution_count": 17
        }
      ],
      "source": [
        "orders_agg = dates_for_groups.apply(\n",
        "    lambda x: orders[np.logical_and(orders['date'] <= x['date'], orders['group'] == x['group'])]\n",
        "    .agg({'date' : 'max', \n",
        "          'group' : 'max', \n",
        "          'transactionId' : pd.Series.nunique, \n",
        "          'visitorId' : pd.Series.nunique, \n",
        "          'revenue' : 'sum'}), axis=1).sort_values(by=['date','group'])\n",
        "orders_agg"
      ]
    },
    {
      "cell_type": "code",
      "execution_count": 18,
      "metadata": {
        "colab": {
          "base_uri": "https://localhost:8080/",
          "height": 423
        },
        "id": "_4SmDA-zz-fC",
        "outputId": "0cfd1ed3-76c6-4856-c85c-ff67ed8ef4f5"
      },
      "outputs": [
        {
          "output_type": "execute_result",
          "data": {
            "text/plain": [
              "          date group  visits\n",
              "55  2019-08-01  A     719   \n",
              "66  2019-08-01  B     713   \n",
              "175 2019-08-02  A     1338  \n",
              "173 2019-08-02  B     1294  \n",
              "291 2019-08-03  A     1845  \n",
              "..         ... ..      ...  \n",
              "533 2019-08-29  B     17708 \n",
              "757 2019-08-30  A     18037 \n",
              "690 2019-08-30  B     18198 \n",
              "958 2019-08-31  A     18736 \n",
              "930 2019-08-31  B     18916 \n",
              "\n",
              "[62 rows x 3 columns]"
            ],
            "text/html": [
              "\n",
              "  <div id=\"df-89bcefae-6319-46ab-a575-00bb08f79f8b\">\n",
              "    <div class=\"colab-df-container\">\n",
              "      <div>\n",
              "<style scoped>\n",
              "    .dataframe tbody tr th:only-of-type {\n",
              "        vertical-align: middle;\n",
              "    }\n",
              "\n",
              "    .dataframe tbody tr th {\n",
              "        vertical-align: top;\n",
              "    }\n",
              "\n",
              "    .dataframe thead th {\n",
              "        text-align: right;\n",
              "    }\n",
              "</style>\n",
              "<table border=\"1\" class=\"dataframe\">\n",
              "  <thead>\n",
              "    <tr style=\"text-align: right;\">\n",
              "      <th></th>\n",
              "      <th>date</th>\n",
              "      <th>group</th>\n",
              "      <th>visits</th>\n",
              "    </tr>\n",
              "  </thead>\n",
              "  <tbody>\n",
              "    <tr>\n",
              "      <th>55</th>\n",
              "      <td>2019-08-01</td>\n",
              "      <td>A</td>\n",
              "      <td>719</td>\n",
              "    </tr>\n",
              "    <tr>\n",
              "      <th>66</th>\n",
              "      <td>2019-08-01</td>\n",
              "      <td>B</td>\n",
              "      <td>713</td>\n",
              "    </tr>\n",
              "    <tr>\n",
              "      <th>175</th>\n",
              "      <td>2019-08-02</td>\n",
              "      <td>A</td>\n",
              "      <td>1338</td>\n",
              "    </tr>\n",
              "    <tr>\n",
              "      <th>173</th>\n",
              "      <td>2019-08-02</td>\n",
              "      <td>B</td>\n",
              "      <td>1294</td>\n",
              "    </tr>\n",
              "    <tr>\n",
              "      <th>291</th>\n",
              "      <td>2019-08-03</td>\n",
              "      <td>A</td>\n",
              "      <td>1845</td>\n",
              "    </tr>\n",
              "    <tr>\n",
              "      <th>...</th>\n",
              "      <td>...</td>\n",
              "      <td>...</td>\n",
              "      <td>...</td>\n",
              "    </tr>\n",
              "    <tr>\n",
              "      <th>533</th>\n",
              "      <td>2019-08-29</td>\n",
              "      <td>B</td>\n",
              "      <td>17708</td>\n",
              "    </tr>\n",
              "    <tr>\n",
              "      <th>757</th>\n",
              "      <td>2019-08-30</td>\n",
              "      <td>A</td>\n",
              "      <td>18037</td>\n",
              "    </tr>\n",
              "    <tr>\n",
              "      <th>690</th>\n",
              "      <td>2019-08-30</td>\n",
              "      <td>B</td>\n",
              "      <td>18198</td>\n",
              "    </tr>\n",
              "    <tr>\n",
              "      <th>958</th>\n",
              "      <td>2019-08-31</td>\n",
              "      <td>A</td>\n",
              "      <td>18736</td>\n",
              "    </tr>\n",
              "    <tr>\n",
              "      <th>930</th>\n",
              "      <td>2019-08-31</td>\n",
              "      <td>B</td>\n",
              "      <td>18916</td>\n",
              "    </tr>\n",
              "  </tbody>\n",
              "</table>\n",
              "<p>62 rows × 3 columns</p>\n",
              "</div>\n",
              "      <button class=\"colab-df-convert\" onclick=\"convertToInteractive('df-89bcefae-6319-46ab-a575-00bb08f79f8b')\"\n",
              "              title=\"Convert this dataframe to an interactive table.\"\n",
              "              style=\"display:none;\">\n",
              "        \n",
              "  <svg xmlns=\"http://www.w3.org/2000/svg\" height=\"24px\"viewBox=\"0 0 24 24\"\n",
              "       width=\"24px\">\n",
              "    <path d=\"M0 0h24v24H0V0z\" fill=\"none\"/>\n",
              "    <path d=\"M18.56 5.44l.94 2.06.94-2.06 2.06-.94-2.06-.94-.94-2.06-.94 2.06-2.06.94zm-11 1L8.5 8.5l.94-2.06 2.06-.94-2.06-.94L8.5 2.5l-.94 2.06-2.06.94zm10 10l.94 2.06.94-2.06 2.06-.94-2.06-.94-.94-2.06-.94 2.06-2.06.94z\"/><path d=\"M17.41 7.96l-1.37-1.37c-.4-.4-.92-.59-1.43-.59-.52 0-1.04.2-1.43.59L10.3 9.45l-7.72 7.72c-.78.78-.78 2.05 0 2.83L4 21.41c.39.39.9.59 1.41.59.51 0 1.02-.2 1.41-.59l7.78-7.78 2.81-2.81c.8-.78.8-2.07 0-2.86zM5.41 20L4 18.59l7.72-7.72 1.47 1.35L5.41 20z\"/>\n",
              "  </svg>\n",
              "      </button>\n",
              "      \n",
              "  <style>\n",
              "    .colab-df-container {\n",
              "      display:flex;\n",
              "      flex-wrap:wrap;\n",
              "      gap: 12px;\n",
              "    }\n",
              "\n",
              "    .colab-df-convert {\n",
              "      background-color: #E8F0FE;\n",
              "      border: none;\n",
              "      border-radius: 50%;\n",
              "      cursor: pointer;\n",
              "      display: none;\n",
              "      fill: #1967D2;\n",
              "      height: 32px;\n",
              "      padding: 0 0 0 0;\n",
              "      width: 32px;\n",
              "    }\n",
              "\n",
              "    .colab-df-convert:hover {\n",
              "      background-color: #E2EBFA;\n",
              "      box-shadow: 0px 1px 2px rgba(60, 64, 67, 0.3), 0px 1px 3px 1px rgba(60, 64, 67, 0.15);\n",
              "      fill: #174EA6;\n",
              "    }\n",
              "\n",
              "    [theme=dark] .colab-df-convert {\n",
              "      background-color: #3B4455;\n",
              "      fill: #D2E3FC;\n",
              "    }\n",
              "\n",
              "    [theme=dark] .colab-df-convert:hover {\n",
              "      background-color: #434B5C;\n",
              "      box-shadow: 0px 1px 3px 1px rgba(0, 0, 0, 0.15);\n",
              "      filter: drop-shadow(0px 1px 2px rgba(0, 0, 0, 0.3));\n",
              "      fill: #FFFFFF;\n",
              "    }\n",
              "  </style>\n",
              "\n",
              "      <script>\n",
              "        const buttonEl =\n",
              "          document.querySelector('#df-89bcefae-6319-46ab-a575-00bb08f79f8b button.colab-df-convert');\n",
              "        buttonEl.style.display =\n",
              "          google.colab.kernel.accessAllowed ? 'block' : 'none';\n",
              "\n",
              "        async function convertToInteractive(key) {\n",
              "          const element = document.querySelector('#df-89bcefae-6319-46ab-a575-00bb08f79f8b');\n",
              "          const dataTable =\n",
              "            await google.colab.kernel.invokeFunction('convertToInteractive',\n",
              "                                                     [key], {});\n",
              "          if (!dataTable) return;\n",
              "\n",
              "          const docLinkHtml = 'Like what you see? Visit the ' +\n",
              "            '<a target=\"_blank\" href=https://colab.research.google.com/notebooks/data_table.ipynb>data table notebook</a>'\n",
              "            + ' to learn more about interactive tables.';\n",
              "          element.innerHTML = '';\n",
              "          dataTable['output_type'] = 'display_data';\n",
              "          await google.colab.output.renderOutput(dataTable, element);\n",
              "          const docLink = document.createElement('div');\n",
              "          docLink.innerHTML = docLinkHtml;\n",
              "          element.appendChild(docLink);\n",
              "        }\n",
              "      </script>\n",
              "    </div>\n",
              "  </div>\n",
              "  "
            ]
          },
          "metadata": {},
          "execution_count": 18
        }
      ],
      "source": [
        "visits_agg = dates_for_groups.apply(\n",
        "    lambda x: visits[np.logical_and(visits['date'] <= x['date'], visits['group'] == x['group'])]\n",
        "    .agg({'date': 'max',\n",
        "          'group': 'max',\n",
        "          'visits': 'sum'}), axis=1).sort_values(by=['date', 'group'])\n",
        "visits_agg"
      ]
    },
    {
      "cell_type": "code",
      "execution_count": 19,
      "metadata": {
        "id": "kBK9i6n632lm"
      },
      "outputs": [],
      "source": [
        "# Merge the aggreagted data to one table\n",
        "data_cumulation = orders_agg.merge(visits_agg, left_on=['date', 'group'], right_on=['date', 'group'])"
      ]
    },
    {
      "cell_type": "code",
      "execution_count": 20,
      "metadata": {
        "id": "GBpXZK-l4VVT"
      },
      "outputs": [],
      "source": [
        "# Rename the columns\n",
        "data_cumulation.columns = ['date', 'group', 'n_transactions', 'n_visitors', 'revenue', 'visits']"
      ]
    },
    {
      "cell_type": "code",
      "execution_count": 21,
      "metadata": {
        "colab": {
          "base_uri": "https://localhost:8080/",
          "height": 206
        },
        "id": "eQ2IAvt0JIFS",
        "outputId": "f0bc6351-eb4b-403b-d65e-5d738d7b839d"
      },
      "outputs": [
        {
          "output_type": "execute_result",
          "data": {
            "text/plain": [
              "        date group  n_transactions  n_visitors  revenue  visits\n",
              "0 2019-08-01  A     23              19          2266.6   719   \n",
              "1 2019-08-01  B     17              17          967.2    713   \n",
              "2 2019-08-02  A     42              36          3734.9   1338  \n",
              "3 2019-08-02  B     40              39          3535.3   1294  \n",
              "4 2019-08-03  A     66              60          5550.1   1845  "
            ],
            "text/html": [
              "\n",
              "  <div id=\"df-b63f11cc-0c28-4ae8-b1fc-91b46026a70e\">\n",
              "    <div class=\"colab-df-container\">\n",
              "      <div>\n",
              "<style scoped>\n",
              "    .dataframe tbody tr th:only-of-type {\n",
              "        vertical-align: middle;\n",
              "    }\n",
              "\n",
              "    .dataframe tbody tr th {\n",
              "        vertical-align: top;\n",
              "    }\n",
              "\n",
              "    .dataframe thead th {\n",
              "        text-align: right;\n",
              "    }\n",
              "</style>\n",
              "<table border=\"1\" class=\"dataframe\">\n",
              "  <thead>\n",
              "    <tr style=\"text-align: right;\">\n",
              "      <th></th>\n",
              "      <th>date</th>\n",
              "      <th>group</th>\n",
              "      <th>n_transactions</th>\n",
              "      <th>n_visitors</th>\n",
              "      <th>revenue</th>\n",
              "      <th>visits</th>\n",
              "    </tr>\n",
              "  </thead>\n",
              "  <tbody>\n",
              "    <tr>\n",
              "      <th>0</th>\n",
              "      <td>2019-08-01</td>\n",
              "      <td>A</td>\n",
              "      <td>23</td>\n",
              "      <td>19</td>\n",
              "      <td>2266.6</td>\n",
              "      <td>719</td>\n",
              "    </tr>\n",
              "    <tr>\n",
              "      <th>1</th>\n",
              "      <td>2019-08-01</td>\n",
              "      <td>B</td>\n",
              "      <td>17</td>\n",
              "      <td>17</td>\n",
              "      <td>967.2</td>\n",
              "      <td>713</td>\n",
              "    </tr>\n",
              "    <tr>\n",
              "      <th>2</th>\n",
              "      <td>2019-08-02</td>\n",
              "      <td>A</td>\n",
              "      <td>42</td>\n",
              "      <td>36</td>\n",
              "      <td>3734.9</td>\n",
              "      <td>1338</td>\n",
              "    </tr>\n",
              "    <tr>\n",
              "      <th>3</th>\n",
              "      <td>2019-08-02</td>\n",
              "      <td>B</td>\n",
              "      <td>40</td>\n",
              "      <td>39</td>\n",
              "      <td>3535.3</td>\n",
              "      <td>1294</td>\n",
              "    </tr>\n",
              "    <tr>\n",
              "      <th>4</th>\n",
              "      <td>2019-08-03</td>\n",
              "      <td>A</td>\n",
              "      <td>66</td>\n",
              "      <td>60</td>\n",
              "      <td>5550.1</td>\n",
              "      <td>1845</td>\n",
              "    </tr>\n",
              "  </tbody>\n",
              "</table>\n",
              "</div>\n",
              "      <button class=\"colab-df-convert\" onclick=\"convertToInteractive('df-b63f11cc-0c28-4ae8-b1fc-91b46026a70e')\"\n",
              "              title=\"Convert this dataframe to an interactive table.\"\n",
              "              style=\"display:none;\">\n",
              "        \n",
              "  <svg xmlns=\"http://www.w3.org/2000/svg\" height=\"24px\"viewBox=\"0 0 24 24\"\n",
              "       width=\"24px\">\n",
              "    <path d=\"M0 0h24v24H0V0z\" fill=\"none\"/>\n",
              "    <path d=\"M18.56 5.44l.94 2.06.94-2.06 2.06-.94-2.06-.94-.94-2.06-.94 2.06-2.06.94zm-11 1L8.5 8.5l.94-2.06 2.06-.94-2.06-.94L8.5 2.5l-.94 2.06-2.06.94zm10 10l.94 2.06.94-2.06 2.06-.94-2.06-.94-.94-2.06-.94 2.06-2.06.94z\"/><path d=\"M17.41 7.96l-1.37-1.37c-.4-.4-.92-.59-1.43-.59-.52 0-1.04.2-1.43.59L10.3 9.45l-7.72 7.72c-.78.78-.78 2.05 0 2.83L4 21.41c.39.39.9.59 1.41.59.51 0 1.02-.2 1.41-.59l7.78-7.78 2.81-2.81c.8-.78.8-2.07 0-2.86zM5.41 20L4 18.59l7.72-7.72 1.47 1.35L5.41 20z\"/>\n",
              "  </svg>\n",
              "      </button>\n",
              "      \n",
              "  <style>\n",
              "    .colab-df-container {\n",
              "      display:flex;\n",
              "      flex-wrap:wrap;\n",
              "      gap: 12px;\n",
              "    }\n",
              "\n",
              "    .colab-df-convert {\n",
              "      background-color: #E8F0FE;\n",
              "      border: none;\n",
              "      border-radius: 50%;\n",
              "      cursor: pointer;\n",
              "      display: none;\n",
              "      fill: #1967D2;\n",
              "      height: 32px;\n",
              "      padding: 0 0 0 0;\n",
              "      width: 32px;\n",
              "    }\n",
              "\n",
              "    .colab-df-convert:hover {\n",
              "      background-color: #E2EBFA;\n",
              "      box-shadow: 0px 1px 2px rgba(60, 64, 67, 0.3), 0px 1px 3px 1px rgba(60, 64, 67, 0.15);\n",
              "      fill: #174EA6;\n",
              "    }\n",
              "\n",
              "    [theme=dark] .colab-df-convert {\n",
              "      background-color: #3B4455;\n",
              "      fill: #D2E3FC;\n",
              "    }\n",
              "\n",
              "    [theme=dark] .colab-df-convert:hover {\n",
              "      background-color: #434B5C;\n",
              "      box-shadow: 0px 1px 3px 1px rgba(0, 0, 0, 0.15);\n",
              "      filter: drop-shadow(0px 1px 2px rgba(0, 0, 0, 0.3));\n",
              "      fill: #FFFFFF;\n",
              "    }\n",
              "  </style>\n",
              "\n",
              "      <script>\n",
              "        const buttonEl =\n",
              "          document.querySelector('#df-b63f11cc-0c28-4ae8-b1fc-91b46026a70e button.colab-df-convert');\n",
              "        buttonEl.style.display =\n",
              "          google.colab.kernel.accessAllowed ? 'block' : 'none';\n",
              "\n",
              "        async function convertToInteractive(key) {\n",
              "          const element = document.querySelector('#df-b63f11cc-0c28-4ae8-b1fc-91b46026a70e');\n",
              "          const dataTable =\n",
              "            await google.colab.kernel.invokeFunction('convertToInteractive',\n",
              "                                                     [key], {});\n",
              "          if (!dataTable) return;\n",
              "\n",
              "          const docLinkHtml = 'Like what you see? Visit the ' +\n",
              "            '<a target=\"_blank\" href=https://colab.research.google.com/notebooks/data_table.ipynb>data table notebook</a>'\n",
              "            + ' to learn more about interactive tables.';\n",
              "          element.innerHTML = '';\n",
              "          dataTable['output_type'] = 'display_data';\n",
              "          await google.colab.output.renderOutput(dataTable, element);\n",
              "          const docLink = document.createElement('div');\n",
              "          docLink.innerHTML = docLinkHtml;\n",
              "          element.appendChild(docLink);\n",
              "        }\n",
              "      </script>\n",
              "    </div>\n",
              "  </div>\n",
              "  "
            ]
          },
          "metadata": {},
          "execution_count": 21
        }
      ],
      "source": [
        "data_cumulation.head()"
      ]
    },
    {
      "cell_type": "markdown",
      "metadata": {
        "id": "A3-mkXwLPEJL"
      },
      "source": [
        "Now that we cumulated the data to one table we can plot our revenue dynamics by group."
      ]
    },
    {
      "cell_type": "code",
      "execution_count": 22,
      "metadata": {
        "colab": {
          "base_uri": "https://localhost:8080/",
          "height": 542
        },
        "id": "5kMrXJSpJ4BS",
        "outputId": "6255541f-ca5b-4813-cb69-7ee88502e89e"
      },
      "outputs": [
        {
          "output_type": "display_data",
          "data": {
            "text/html": [
              "<html>\n",
              "<head><meta charset=\"utf-8\" /></head>\n",
              "<body>\n",
              "    <div>            <script src=\"https://cdnjs.cloudflare.com/ajax/libs/mathjax/2.7.5/MathJax.js?config=TeX-AMS-MML_SVG\"></script><script type=\"text/javascript\">if (window.MathJax) {MathJax.Hub.Config({SVG: {font: \"STIX-Web\"}});}</script>                <script type=\"text/javascript\">window.PlotlyConfig = {MathJaxConfig: 'local'};</script>\n",
              "        <script src=\"https://cdn.plot.ly/plotly-2.8.3.min.js\"></script>                <div id=\"a0b380f1-cf09-4345-acf9-439e68bc70e1\" class=\"plotly-graph-div\" style=\"height:525px; width:100%;\"></div>            <script type=\"text/javascript\">                                    window.PLOTLYENV=window.PLOTLYENV || {};                                    if (document.getElementById(\"a0b380f1-cf09-4345-acf9-439e68bc70e1\")) {                    Plotly.newPlot(                        \"a0b380f1-cf09-4345-acf9-439e68bc70e1\",                        [{\"hovertemplate\":\"group=A<br>Dates=%{x}<br>Revenue=%{y}<extra></extra>\",\"legendgroup\":\"A\",\"line\":{\"color\":\"#636efa\",\"dash\":\"solid\"},\"marker\":{\"symbol\":\"circle\"},\"mode\":\"markers+lines\",\"name\":\"A\",\"orientation\":\"v\",\"showlegend\":true,\"x\":[\"2019-08-01T00:00:00\",\"2019-08-02T00:00:00\",\"2019-08-03T00:00:00\",\"2019-08-04T00:00:00\",\"2019-08-05T00:00:00\",\"2019-08-06T00:00:00\",\"2019-08-07T00:00:00\",\"2019-08-08T00:00:00\",\"2019-08-09T00:00:00\",\"2019-08-10T00:00:00\",\"2019-08-11T00:00:00\",\"2019-08-12T00:00:00\",\"2019-08-13T00:00:00\",\"2019-08-14T00:00:00\",\"2019-08-15T00:00:00\",\"2019-08-16T00:00:00\",\"2019-08-17T00:00:00\",\"2019-08-18T00:00:00\",\"2019-08-19T00:00:00\",\"2019-08-20T00:00:00\",\"2019-08-21T00:00:00\",\"2019-08-22T00:00:00\",\"2019-08-23T00:00:00\",\"2019-08-24T00:00:00\",\"2019-08-25T00:00:00\",\"2019-08-26T00:00:00\",\"2019-08-27T00:00:00\",\"2019-08-28T00:00:00\",\"2019-08-29T00:00:00\",\"2019-08-30T00:00:00\",\"2019-08-31T00:00:00\"],\"xaxis\":\"x\",\"y\":[2266.600000000001,3734.9000000000005,5550.100000000001,6225.6,7623.6,8292.0,10234.0,11638.8,13734.0,16121.5,17084.9,20533.7,24630.600000000006,25347.200000000004,26622.5,28221.6,28770.100000000002,29735.7,32389.3,33325.3,36004.2,37455.1,38409.2,40321.3,41139.5,43604.3,46539.0,48065.9,51134.799999999996,52363.7,53211.99999999999],\"yaxis\":\"y\",\"type\":\"scatter\"},{\"hovertemplate\":\"group=B<br>Dates=%{x}<br>Revenue=%{y}<extra></extra>\",\"legendgroup\":\"B\",\"line\":{\"color\":\"#EF553B\",\"dash\":\"solid\"},\"marker\":{\"symbol\":\"circle\"},\"mode\":\"markers+lines\",\"name\":\"B\",\"orientation\":\"v\",\"showlegend\":true,\"x\":[\"2019-08-01T00:00:00\",\"2019-08-02T00:00:00\",\"2019-08-03T00:00:00\",\"2019-08-04T00:00:00\",\"2019-08-05T00:00:00\",\"2019-08-06T00:00:00\",\"2019-08-07T00:00:00\",\"2019-08-08T00:00:00\",\"2019-08-09T00:00:00\",\"2019-08-10T00:00:00\",\"2019-08-11T00:00:00\",\"2019-08-12T00:00:00\",\"2019-08-13T00:00:00\",\"2019-08-14T00:00:00\",\"2019-08-15T00:00:00\",\"2019-08-16T00:00:00\",\"2019-08-17T00:00:00\",\"2019-08-18T00:00:00\",\"2019-08-19T00:00:00\",\"2019-08-20T00:00:00\",\"2019-08-21T00:00:00\",\"2019-08-22T00:00:00\",\"2019-08-23T00:00:00\",\"2019-08-24T00:00:00\",\"2019-08-25T00:00:00\",\"2019-08-26T00:00:00\",\"2019-08-27T00:00:00\",\"2019-08-28T00:00:00\",\"2019-08-29T00:00:00\",\"2019-08-30T00:00:00\",\"2019-08-31T00:00:00\"],\"xaxis\":\"x\",\"y\":[967.2,3535.3,4606.900000000001,6138.499999999999,7587.8,10957.099999999999,14392.7,16772.600000000002,18428.799999999996,20103.600000000002,20959.0,22616.800000000003,24491.300000000003,26183.699999999997,31033.2,32840.2,34116.2,34684.7,56749.6,59074.200000000004,61274.40000000001,63503.90000000001,64732.8,66138.5,67393.8,70138.1,71885.0,72895.5,74576.7,77863.5,79651.20000000001],\"yaxis\":\"y\",\"type\":\"scatter\"}],                        {\"template\":{\"data\":{\"bar\":[{\"error_x\":{\"color\":\"#2a3f5f\"},\"error_y\":{\"color\":\"#2a3f5f\"},\"marker\":{\"line\":{\"color\":\"#E5ECF6\",\"width\":0.5},\"pattern\":{\"fillmode\":\"overlay\",\"size\":10,\"solidity\":0.2}},\"type\":\"bar\"}],\"barpolar\":[{\"marker\":{\"line\":{\"color\":\"#E5ECF6\",\"width\":0.5},\"pattern\":{\"fillmode\":\"overlay\",\"size\":10,\"solidity\":0.2}},\"type\":\"barpolar\"}],\"carpet\":[{\"aaxis\":{\"endlinecolor\":\"#2a3f5f\",\"gridcolor\":\"white\",\"linecolor\":\"white\",\"minorgridcolor\":\"white\",\"startlinecolor\":\"#2a3f5f\"},\"baxis\":{\"endlinecolor\":\"#2a3f5f\",\"gridcolor\":\"white\",\"linecolor\":\"white\",\"minorgridcolor\":\"white\",\"startlinecolor\":\"#2a3f5f\"},\"type\":\"carpet\"}],\"choropleth\":[{\"colorbar\":{\"outlinewidth\":0,\"ticks\":\"\"},\"type\":\"choropleth\"}],\"contour\":[{\"colorbar\":{\"outlinewidth\":0,\"ticks\":\"\"},\"colorscale\":[[0.0,\"#0d0887\"],[0.1111111111111111,\"#46039f\"],[0.2222222222222222,\"#7201a8\"],[0.3333333333333333,\"#9c179e\"],[0.4444444444444444,\"#bd3786\"],[0.5555555555555556,\"#d8576b\"],[0.6666666666666666,\"#ed7953\"],[0.7777777777777778,\"#fb9f3a\"],[0.8888888888888888,\"#fdca26\"],[1.0,\"#f0f921\"]],\"type\":\"contour\"}],\"contourcarpet\":[{\"colorbar\":{\"outlinewidth\":0,\"ticks\":\"\"},\"type\":\"contourcarpet\"}],\"heatmap\":[{\"colorbar\":{\"outlinewidth\":0,\"ticks\":\"\"},\"colorscale\":[[0.0,\"#0d0887\"],[0.1111111111111111,\"#46039f\"],[0.2222222222222222,\"#7201a8\"],[0.3333333333333333,\"#9c179e\"],[0.4444444444444444,\"#bd3786\"],[0.5555555555555556,\"#d8576b\"],[0.6666666666666666,\"#ed7953\"],[0.7777777777777778,\"#fb9f3a\"],[0.8888888888888888,\"#fdca26\"],[1.0,\"#f0f921\"]],\"type\":\"heatmap\"}],\"heatmapgl\":[{\"colorbar\":{\"outlinewidth\":0,\"ticks\":\"\"},\"colorscale\":[[0.0,\"#0d0887\"],[0.1111111111111111,\"#46039f\"],[0.2222222222222222,\"#7201a8\"],[0.3333333333333333,\"#9c179e\"],[0.4444444444444444,\"#bd3786\"],[0.5555555555555556,\"#d8576b\"],[0.6666666666666666,\"#ed7953\"],[0.7777777777777778,\"#fb9f3a\"],[0.8888888888888888,\"#fdca26\"],[1.0,\"#f0f921\"]],\"type\":\"heatmapgl\"}],\"histogram\":[{\"marker\":{\"pattern\":{\"fillmode\":\"overlay\",\"size\":10,\"solidity\":0.2}},\"type\":\"histogram\"}],\"histogram2d\":[{\"colorbar\":{\"outlinewidth\":0,\"ticks\":\"\"},\"colorscale\":[[0.0,\"#0d0887\"],[0.1111111111111111,\"#46039f\"],[0.2222222222222222,\"#7201a8\"],[0.3333333333333333,\"#9c179e\"],[0.4444444444444444,\"#bd3786\"],[0.5555555555555556,\"#d8576b\"],[0.6666666666666666,\"#ed7953\"],[0.7777777777777778,\"#fb9f3a\"],[0.8888888888888888,\"#fdca26\"],[1.0,\"#f0f921\"]],\"type\":\"histogram2d\"}],\"histogram2dcontour\":[{\"colorbar\":{\"outlinewidth\":0,\"ticks\":\"\"},\"colorscale\":[[0.0,\"#0d0887\"],[0.1111111111111111,\"#46039f\"],[0.2222222222222222,\"#7201a8\"],[0.3333333333333333,\"#9c179e\"],[0.4444444444444444,\"#bd3786\"],[0.5555555555555556,\"#d8576b\"],[0.6666666666666666,\"#ed7953\"],[0.7777777777777778,\"#fb9f3a\"],[0.8888888888888888,\"#fdca26\"],[1.0,\"#f0f921\"]],\"type\":\"histogram2dcontour\"}],\"mesh3d\":[{\"colorbar\":{\"outlinewidth\":0,\"ticks\":\"\"},\"type\":\"mesh3d\"}],\"parcoords\":[{\"line\":{\"colorbar\":{\"outlinewidth\":0,\"ticks\":\"\"}},\"type\":\"parcoords\"}],\"pie\":[{\"automargin\":true,\"type\":\"pie\"}],\"scatter\":[{\"marker\":{\"colorbar\":{\"outlinewidth\":0,\"ticks\":\"\"}},\"type\":\"scatter\"}],\"scatter3d\":[{\"line\":{\"colorbar\":{\"outlinewidth\":0,\"ticks\":\"\"}},\"marker\":{\"colorbar\":{\"outlinewidth\":0,\"ticks\":\"\"}},\"type\":\"scatter3d\"}],\"scattercarpet\":[{\"marker\":{\"colorbar\":{\"outlinewidth\":0,\"ticks\":\"\"}},\"type\":\"scattercarpet\"}],\"scattergeo\":[{\"marker\":{\"colorbar\":{\"outlinewidth\":0,\"ticks\":\"\"}},\"type\":\"scattergeo\"}],\"scattergl\":[{\"marker\":{\"colorbar\":{\"outlinewidth\":0,\"ticks\":\"\"}},\"type\":\"scattergl\"}],\"scattermapbox\":[{\"marker\":{\"colorbar\":{\"outlinewidth\":0,\"ticks\":\"\"}},\"type\":\"scattermapbox\"}],\"scatterpolar\":[{\"marker\":{\"colorbar\":{\"outlinewidth\":0,\"ticks\":\"\"}},\"type\":\"scatterpolar\"}],\"scatterpolargl\":[{\"marker\":{\"colorbar\":{\"outlinewidth\":0,\"ticks\":\"\"}},\"type\":\"scatterpolargl\"}],\"scatterternary\":[{\"marker\":{\"colorbar\":{\"outlinewidth\":0,\"ticks\":\"\"}},\"type\":\"scatterternary\"}],\"surface\":[{\"colorbar\":{\"outlinewidth\":0,\"ticks\":\"\"},\"colorscale\":[[0.0,\"#0d0887\"],[0.1111111111111111,\"#46039f\"],[0.2222222222222222,\"#7201a8\"],[0.3333333333333333,\"#9c179e\"],[0.4444444444444444,\"#bd3786\"],[0.5555555555555556,\"#d8576b\"],[0.6666666666666666,\"#ed7953\"],[0.7777777777777778,\"#fb9f3a\"],[0.8888888888888888,\"#fdca26\"],[1.0,\"#f0f921\"]],\"type\":\"surface\"}],\"table\":[{\"cells\":{\"fill\":{\"color\":\"#EBF0F8\"},\"line\":{\"color\":\"white\"}},\"header\":{\"fill\":{\"color\":\"#C8D4E3\"},\"line\":{\"color\":\"white\"}},\"type\":\"table\"}]},\"layout\":{\"annotationdefaults\":{\"arrowcolor\":\"#2a3f5f\",\"arrowhead\":0,\"arrowwidth\":1},\"autotypenumbers\":\"strict\",\"coloraxis\":{\"colorbar\":{\"outlinewidth\":0,\"ticks\":\"\"}},\"colorscale\":{\"diverging\":[[0,\"#8e0152\"],[0.1,\"#c51b7d\"],[0.2,\"#de77ae\"],[0.3,\"#f1b6da\"],[0.4,\"#fde0ef\"],[0.5,\"#f7f7f7\"],[0.6,\"#e6f5d0\"],[0.7,\"#b8e186\"],[0.8,\"#7fbc41\"],[0.9,\"#4d9221\"],[1,\"#276419\"]],\"sequential\":[[0.0,\"#0d0887\"],[0.1111111111111111,\"#46039f\"],[0.2222222222222222,\"#7201a8\"],[0.3333333333333333,\"#9c179e\"],[0.4444444444444444,\"#bd3786\"],[0.5555555555555556,\"#d8576b\"],[0.6666666666666666,\"#ed7953\"],[0.7777777777777778,\"#fb9f3a\"],[0.8888888888888888,\"#fdca26\"],[1.0,\"#f0f921\"]],\"sequentialminus\":[[0.0,\"#0d0887\"],[0.1111111111111111,\"#46039f\"],[0.2222222222222222,\"#7201a8\"],[0.3333333333333333,\"#9c179e\"],[0.4444444444444444,\"#bd3786\"],[0.5555555555555556,\"#d8576b\"],[0.6666666666666666,\"#ed7953\"],[0.7777777777777778,\"#fb9f3a\"],[0.8888888888888888,\"#fdca26\"],[1.0,\"#f0f921\"]]},\"colorway\":[\"#636efa\",\"#EF553B\",\"#00cc96\",\"#ab63fa\",\"#FFA15A\",\"#19d3f3\",\"#FF6692\",\"#B6E880\",\"#FF97FF\",\"#FECB52\"],\"font\":{\"color\":\"#2a3f5f\"},\"geo\":{\"bgcolor\":\"white\",\"lakecolor\":\"white\",\"landcolor\":\"#E5ECF6\",\"showlakes\":true,\"showland\":true,\"subunitcolor\":\"white\"},\"hoverlabel\":{\"align\":\"left\"},\"hovermode\":\"closest\",\"mapbox\":{\"style\":\"light\"},\"paper_bgcolor\":\"white\",\"plot_bgcolor\":\"#E5ECF6\",\"polar\":{\"angularaxis\":{\"gridcolor\":\"white\",\"linecolor\":\"white\",\"ticks\":\"\"},\"bgcolor\":\"#E5ECF6\",\"radialaxis\":{\"gridcolor\":\"white\",\"linecolor\":\"white\",\"ticks\":\"\"}},\"scene\":{\"xaxis\":{\"backgroundcolor\":\"#E5ECF6\",\"gridcolor\":\"white\",\"gridwidth\":2,\"linecolor\":\"white\",\"showbackground\":true,\"ticks\":\"\",\"zerolinecolor\":\"white\"},\"yaxis\":{\"backgroundcolor\":\"#E5ECF6\",\"gridcolor\":\"white\",\"gridwidth\":2,\"linecolor\":\"white\",\"showbackground\":true,\"ticks\":\"\",\"zerolinecolor\":\"white\"},\"zaxis\":{\"backgroundcolor\":\"#E5ECF6\",\"gridcolor\":\"white\",\"gridwidth\":2,\"linecolor\":\"white\",\"showbackground\":true,\"ticks\":\"\",\"zerolinecolor\":\"white\"}},\"shapedefaults\":{\"line\":{\"color\":\"#2a3f5f\"}},\"ternary\":{\"aaxis\":{\"gridcolor\":\"white\",\"linecolor\":\"white\",\"ticks\":\"\"},\"baxis\":{\"gridcolor\":\"white\",\"linecolor\":\"white\",\"ticks\":\"\"},\"bgcolor\":\"#E5ECF6\",\"caxis\":{\"gridcolor\":\"white\",\"linecolor\":\"white\",\"ticks\":\"\"}},\"title\":{\"x\":0.05},\"xaxis\":{\"automargin\":true,\"gridcolor\":\"white\",\"linecolor\":\"white\",\"ticks\":\"\",\"title\":{\"standoff\":15},\"zerolinecolor\":\"white\",\"zerolinewidth\":2},\"yaxis\":{\"automargin\":true,\"gridcolor\":\"white\",\"linecolor\":\"white\",\"ticks\":\"\",\"title\":{\"standoff\":15},\"zerolinecolor\":\"white\",\"zerolinewidth\":2}}},\"xaxis\":{\"anchor\":\"y\",\"domain\":[0.0,1.0],\"title\":{\"text\":\"Dates\"}},\"yaxis\":{\"anchor\":\"x\",\"domain\":[0.0,1.0],\"title\":{\"text\":\"Revenue\"}},\"legend\":{\"title\":{\"text\":\"group\"},\"tracegroupgap\":0},\"title\":{\"text\":\"Cumulative revenue by group\"}},                        {\"responsive\": true}                    ).then(function(){\n",
              "                            \n",
              "var gd = document.getElementById('a0b380f1-cf09-4345-acf9-439e68bc70e1');\n",
              "var x = new MutationObserver(function (mutations, observer) {{\n",
              "        var display = window.getComputedStyle(gd).display;\n",
              "        if (!display || display === 'none') {{\n",
              "            console.log([gd, 'removed!']);\n",
              "            Plotly.purge(gd);\n",
              "            observer.disconnect();\n",
              "        }}\n",
              "}});\n",
              "\n",
              "// Listen for the removal of the full notebook cells\n",
              "var notebookContainer = gd.closest('#notebook-container');\n",
              "if (notebookContainer) {{\n",
              "    x.observe(notebookContainer, {childList: true});\n",
              "}}\n",
              "\n",
              "// Listen for the clearing of the current output cell\n",
              "var outputEl = gd.closest('.output');\n",
              "if (outputEl) {{\n",
              "    x.observe(outputEl, {childList: true});\n",
              "}}\n",
              "\n",
              "                        })                };                            </script>        </div>\n",
              "</body>\n",
              "</html>"
            ]
          },
          "metadata": {}
        }
      ],
      "source": [
        "fig = px.line(data_cumulation, x='date', y='revenue', color='group', markers=True, \n",
        "              title = 'Cumulative revenue by group',\n",
        "              labels=dict(revenue='Revenue', date='Dates'))\n",
        "fig.show()"
      ]
    },
    {
      "cell_type": "markdown",
      "metadata": {
        "id": "UJs1lIu3KpmB"
      },
      "source": [
        "As the graph shows - both, A and B groups start with a close level of revenue untill a breakpoint that happened on the 18-th of August when B group has a sudden spike up, but both groups' revenues increase evenly (parallel)."
      ]
    },
    {
      "cell_type": "markdown",
      "metadata": {
        "id": "OySg2V2bRnUy"
      },
      "source": [
        "### **Graph cumulative average order size by group. Make conclusions and conjectures.**"
      ]
    },
    {
      "cell_type": "code",
      "execution_count": 23,
      "metadata": {
        "colab": {
          "base_uri": "https://localhost:8080/",
          "height": 423
        },
        "id": "Zey4hOkNRwqP",
        "outputId": "95ae8913-408f-4afe-d750-1acfb10b9f4a"
      },
      "outputs": [
        {
          "output_type": "execute_result",
          "data": {
            "text/plain": [
              "         date group  n_transactions  n_visitors  revenue  visits  \\\n",
              "0  2019-08-01  A     23              19          2266.6   719      \n",
              "1  2019-08-01  B     17              17          967.2    713      \n",
              "2  2019-08-02  A     42              36          3734.9   1338     \n",
              "3  2019-08-02  B     40              39          3535.3   1294     \n",
              "4  2019-08-03  A     66              60          5550.1   1845     \n",
              "..        ... ..     ..              ..             ...    ...     \n",
              "57 2019-08-29  B     510             490         74576.7  17708    \n",
              "58 2019-08-30  A     460             437         52363.7  18037    \n",
              "59 2019-08-30  B     531             511         77863.5  18198    \n",
              "60 2019-08-31  A     468             445         53212.0  18736    \n",
              "61 2019-08-31  B     548             528         79651.2  18916    \n",
              "\n",
              "    avg_order_size  \n",
              "0   98.547826       \n",
              "1   56.894118       \n",
              "2   88.926190       \n",
              "3   88.382500       \n",
              "4   84.092424       \n",
              "..        ...       \n",
              "57  146.228824      \n",
              "58  113.834130      \n",
              "59  146.635593      \n",
              "60  113.700855      \n",
              "61  145.348905      \n",
              "\n",
              "[62 rows x 7 columns]"
            ],
            "text/html": [
              "\n",
              "  <div id=\"df-24398591-0c00-44f3-b3b9-50fba3ad4b88\">\n",
              "    <div class=\"colab-df-container\">\n",
              "      <div>\n",
              "<style scoped>\n",
              "    .dataframe tbody tr th:only-of-type {\n",
              "        vertical-align: middle;\n",
              "    }\n",
              "\n",
              "    .dataframe tbody tr th {\n",
              "        vertical-align: top;\n",
              "    }\n",
              "\n",
              "    .dataframe thead th {\n",
              "        text-align: right;\n",
              "    }\n",
              "</style>\n",
              "<table border=\"1\" class=\"dataframe\">\n",
              "  <thead>\n",
              "    <tr style=\"text-align: right;\">\n",
              "      <th></th>\n",
              "      <th>date</th>\n",
              "      <th>group</th>\n",
              "      <th>n_transactions</th>\n",
              "      <th>n_visitors</th>\n",
              "      <th>revenue</th>\n",
              "      <th>visits</th>\n",
              "      <th>avg_order_size</th>\n",
              "    </tr>\n",
              "  </thead>\n",
              "  <tbody>\n",
              "    <tr>\n",
              "      <th>0</th>\n",
              "      <td>2019-08-01</td>\n",
              "      <td>A</td>\n",
              "      <td>23</td>\n",
              "      <td>19</td>\n",
              "      <td>2266.6</td>\n",
              "      <td>719</td>\n",
              "      <td>98.547826</td>\n",
              "    </tr>\n",
              "    <tr>\n",
              "      <th>1</th>\n",
              "      <td>2019-08-01</td>\n",
              "      <td>B</td>\n",
              "      <td>17</td>\n",
              "      <td>17</td>\n",
              "      <td>967.2</td>\n",
              "      <td>713</td>\n",
              "      <td>56.894118</td>\n",
              "    </tr>\n",
              "    <tr>\n",
              "      <th>2</th>\n",
              "      <td>2019-08-02</td>\n",
              "      <td>A</td>\n",
              "      <td>42</td>\n",
              "      <td>36</td>\n",
              "      <td>3734.9</td>\n",
              "      <td>1338</td>\n",
              "      <td>88.926190</td>\n",
              "    </tr>\n",
              "    <tr>\n",
              "      <th>3</th>\n",
              "      <td>2019-08-02</td>\n",
              "      <td>B</td>\n",
              "      <td>40</td>\n",
              "      <td>39</td>\n",
              "      <td>3535.3</td>\n",
              "      <td>1294</td>\n",
              "      <td>88.382500</td>\n",
              "    </tr>\n",
              "    <tr>\n",
              "      <th>4</th>\n",
              "      <td>2019-08-03</td>\n",
              "      <td>A</td>\n",
              "      <td>66</td>\n",
              "      <td>60</td>\n",
              "      <td>5550.1</td>\n",
              "      <td>1845</td>\n",
              "      <td>84.092424</td>\n",
              "    </tr>\n",
              "    <tr>\n",
              "      <th>...</th>\n",
              "      <td>...</td>\n",
              "      <td>...</td>\n",
              "      <td>...</td>\n",
              "      <td>...</td>\n",
              "      <td>...</td>\n",
              "      <td>...</td>\n",
              "      <td>...</td>\n",
              "    </tr>\n",
              "    <tr>\n",
              "      <th>57</th>\n",
              "      <td>2019-08-29</td>\n",
              "      <td>B</td>\n",
              "      <td>510</td>\n",
              "      <td>490</td>\n",
              "      <td>74576.7</td>\n",
              "      <td>17708</td>\n",
              "      <td>146.228824</td>\n",
              "    </tr>\n",
              "    <tr>\n",
              "      <th>58</th>\n",
              "      <td>2019-08-30</td>\n",
              "      <td>A</td>\n",
              "      <td>460</td>\n",
              "      <td>437</td>\n",
              "      <td>52363.7</td>\n",
              "      <td>18037</td>\n",
              "      <td>113.834130</td>\n",
              "    </tr>\n",
              "    <tr>\n",
              "      <th>59</th>\n",
              "      <td>2019-08-30</td>\n",
              "      <td>B</td>\n",
              "      <td>531</td>\n",
              "      <td>511</td>\n",
              "      <td>77863.5</td>\n",
              "      <td>18198</td>\n",
              "      <td>146.635593</td>\n",
              "    </tr>\n",
              "    <tr>\n",
              "      <th>60</th>\n",
              "      <td>2019-08-31</td>\n",
              "      <td>A</td>\n",
              "      <td>468</td>\n",
              "      <td>445</td>\n",
              "      <td>53212.0</td>\n",
              "      <td>18736</td>\n",
              "      <td>113.700855</td>\n",
              "    </tr>\n",
              "    <tr>\n",
              "      <th>61</th>\n",
              "      <td>2019-08-31</td>\n",
              "      <td>B</td>\n",
              "      <td>548</td>\n",
              "      <td>528</td>\n",
              "      <td>79651.2</td>\n",
              "      <td>18916</td>\n",
              "      <td>145.348905</td>\n",
              "    </tr>\n",
              "  </tbody>\n",
              "</table>\n",
              "<p>62 rows × 7 columns</p>\n",
              "</div>\n",
              "      <button class=\"colab-df-convert\" onclick=\"convertToInteractive('df-24398591-0c00-44f3-b3b9-50fba3ad4b88')\"\n",
              "              title=\"Convert this dataframe to an interactive table.\"\n",
              "              style=\"display:none;\">\n",
              "        \n",
              "  <svg xmlns=\"http://www.w3.org/2000/svg\" height=\"24px\"viewBox=\"0 0 24 24\"\n",
              "       width=\"24px\">\n",
              "    <path d=\"M0 0h24v24H0V0z\" fill=\"none\"/>\n",
              "    <path d=\"M18.56 5.44l.94 2.06.94-2.06 2.06-.94-2.06-.94-.94-2.06-.94 2.06-2.06.94zm-11 1L8.5 8.5l.94-2.06 2.06-.94-2.06-.94L8.5 2.5l-.94 2.06-2.06.94zm10 10l.94 2.06.94-2.06 2.06-.94-2.06-.94-.94-2.06-.94 2.06-2.06.94z\"/><path d=\"M17.41 7.96l-1.37-1.37c-.4-.4-.92-.59-1.43-.59-.52 0-1.04.2-1.43.59L10.3 9.45l-7.72 7.72c-.78.78-.78 2.05 0 2.83L4 21.41c.39.39.9.59 1.41.59.51 0 1.02-.2 1.41-.59l7.78-7.78 2.81-2.81c.8-.78.8-2.07 0-2.86zM5.41 20L4 18.59l7.72-7.72 1.47 1.35L5.41 20z\"/>\n",
              "  </svg>\n",
              "      </button>\n",
              "      \n",
              "  <style>\n",
              "    .colab-df-container {\n",
              "      display:flex;\n",
              "      flex-wrap:wrap;\n",
              "      gap: 12px;\n",
              "    }\n",
              "\n",
              "    .colab-df-convert {\n",
              "      background-color: #E8F0FE;\n",
              "      border: none;\n",
              "      border-radius: 50%;\n",
              "      cursor: pointer;\n",
              "      display: none;\n",
              "      fill: #1967D2;\n",
              "      height: 32px;\n",
              "      padding: 0 0 0 0;\n",
              "      width: 32px;\n",
              "    }\n",
              "\n",
              "    .colab-df-convert:hover {\n",
              "      background-color: #E2EBFA;\n",
              "      box-shadow: 0px 1px 2px rgba(60, 64, 67, 0.3), 0px 1px 3px 1px rgba(60, 64, 67, 0.15);\n",
              "      fill: #174EA6;\n",
              "    }\n",
              "\n",
              "    [theme=dark] .colab-df-convert {\n",
              "      background-color: #3B4455;\n",
              "      fill: #D2E3FC;\n",
              "    }\n",
              "\n",
              "    [theme=dark] .colab-df-convert:hover {\n",
              "      background-color: #434B5C;\n",
              "      box-shadow: 0px 1px 3px 1px rgba(0, 0, 0, 0.15);\n",
              "      filter: drop-shadow(0px 1px 2px rgba(0, 0, 0, 0.3));\n",
              "      fill: #FFFFFF;\n",
              "    }\n",
              "  </style>\n",
              "\n",
              "      <script>\n",
              "        const buttonEl =\n",
              "          document.querySelector('#df-24398591-0c00-44f3-b3b9-50fba3ad4b88 button.colab-df-convert');\n",
              "        buttonEl.style.display =\n",
              "          google.colab.kernel.accessAllowed ? 'block' : 'none';\n",
              "\n",
              "        async function convertToInteractive(key) {\n",
              "          const element = document.querySelector('#df-24398591-0c00-44f3-b3b9-50fba3ad4b88');\n",
              "          const dataTable =\n",
              "            await google.colab.kernel.invokeFunction('convertToInteractive',\n",
              "                                                     [key], {});\n",
              "          if (!dataTable) return;\n",
              "\n",
              "          const docLinkHtml = 'Like what you see? Visit the ' +\n",
              "            '<a target=\"_blank\" href=https://colab.research.google.com/notebooks/data_table.ipynb>data table notebook</a>'\n",
              "            + ' to learn more about interactive tables.';\n",
              "          element.innerHTML = '';\n",
              "          dataTable['output_type'] = 'display_data';\n",
              "          await google.colab.output.renderOutput(dataTable, element);\n",
              "          const docLink = document.createElement('div');\n",
              "          docLink.innerHTML = docLinkHtml;\n",
              "          element.appendChild(docLink);\n",
              "        }\n",
              "      </script>\n",
              "    </div>\n",
              "  </div>\n",
              "  "
            ]
          },
          "metadata": {},
          "execution_count": 23
        }
      ],
      "source": [
        "# Calculate the average order size to a new column\n",
        "data_cumulation['avg_order_size'] = data_cumulation['revenue'] / data_cumulation['n_transactions']\n",
        "data_cumulation"
      ]
    },
    {
      "cell_type": "code",
      "execution_count": 24,
      "metadata": {
        "colab": {
          "base_uri": "https://localhost:8080/",
          "height": 542
        },
        "id": "l1KYdEd_SIwj",
        "outputId": "5c185316-b292-42a7-9620-57e10158465c"
      },
      "outputs": [
        {
          "output_type": "display_data",
          "data": {
            "text/html": [
              "<html>\n",
              "<head><meta charset=\"utf-8\" /></head>\n",
              "<body>\n",
              "    <div>            <script src=\"https://cdnjs.cloudflare.com/ajax/libs/mathjax/2.7.5/MathJax.js?config=TeX-AMS-MML_SVG\"></script><script type=\"text/javascript\">if (window.MathJax) {MathJax.Hub.Config({SVG: {font: \"STIX-Web\"}});}</script>                <script type=\"text/javascript\">window.PlotlyConfig = {MathJaxConfig: 'local'};</script>\n",
              "        <script src=\"https://cdn.plot.ly/plotly-2.8.3.min.js\"></script>                <div id=\"e290241e-d788-4095-b8bf-38aa878523f4\" class=\"plotly-graph-div\" style=\"height:525px; width:100%;\"></div>            <script type=\"text/javascript\">                                    window.PLOTLYENV=window.PLOTLYENV || {};                                    if (document.getElementById(\"e290241e-d788-4095-b8bf-38aa878523f4\")) {                    Plotly.newPlot(                        \"e290241e-d788-4095-b8bf-38aa878523f4\",                        [{\"hovertemplate\":\"group=A<br>Dates=%{x}<br>Average order size=%{y}<extra></extra>\",\"legendgroup\":\"A\",\"line\":{\"color\":\"#636efa\",\"dash\":\"solid\"},\"marker\":{\"symbol\":\"circle\"},\"mode\":\"markers+lines\",\"name\":\"A\",\"orientation\":\"v\",\"showlegend\":true,\"x\":[\"2019-08-01T00:00:00\",\"2019-08-02T00:00:00\",\"2019-08-03T00:00:00\",\"2019-08-04T00:00:00\",\"2019-08-05T00:00:00\",\"2019-08-06T00:00:00\",\"2019-08-07T00:00:00\",\"2019-08-08T00:00:00\",\"2019-08-09T00:00:00\",\"2019-08-10T00:00:00\",\"2019-08-11T00:00:00\",\"2019-08-12T00:00:00\",\"2019-08-13T00:00:00\",\"2019-08-14T00:00:00\",\"2019-08-15T00:00:00\",\"2019-08-16T00:00:00\",\"2019-08-17T00:00:00\",\"2019-08-18T00:00:00\",\"2019-08-19T00:00:00\",\"2019-08-20T00:00:00\",\"2019-08-21T00:00:00\",\"2019-08-22T00:00:00\",\"2019-08-23T00:00:00\",\"2019-08-24T00:00:00\",\"2019-08-25T00:00:00\",\"2019-08-26T00:00:00\",\"2019-08-27T00:00:00\",\"2019-08-28T00:00:00\",\"2019-08-29T00:00:00\",\"2019-08-30T00:00:00\",\"2019-08-31T00:00:00\"],\"xaxis\":\"x\",\"y\":[98.54782608695656,88.92619047619048,84.09242424242426,80.85194805194806,77.00606060606061,72.73684210526316,78.72307692307692,80.82499999999999,88.60645161290323,94.83235294117647,94.39171270718232,102.66850000000001,115.09626168224302,109.72813852813854,110.46680497925311,108.96370656370655,108.56641509433963,106.96294964028777,108.32541806020066,107.84886731391586,109.43525835866261,110.48702064896754,106.98941504178272,108.39059139784948,108.26184210526316,110.11186868686869,111.07159904534606,110.75092165898617,113.38093126385809,113.83413043478261,113.70085470085469],\"yaxis\":\"y\",\"type\":\"scatter\"},{\"hovertemplate\":\"group=B<br>Dates=%{x}<br>Average order size=%{y}<extra></extra>\",\"legendgroup\":\"B\",\"line\":{\"color\":\"#EF553B\",\"dash\":\"solid\"},\"marker\":{\"symbol\":\"circle\"},\"mode\":\"markers+lines\",\"name\":\"B\",\"orientation\":\"v\",\"showlegend\":true,\"x\":[\"2019-08-01T00:00:00\",\"2019-08-02T00:00:00\",\"2019-08-03T00:00:00\",\"2019-08-04T00:00:00\",\"2019-08-05T00:00:00\",\"2019-08-06T00:00:00\",\"2019-08-07T00:00:00\",\"2019-08-08T00:00:00\",\"2019-08-09T00:00:00\",\"2019-08-10T00:00:00\",\"2019-08-11T00:00:00\",\"2019-08-12T00:00:00\",\"2019-08-13T00:00:00\",\"2019-08-14T00:00:00\",\"2019-08-15T00:00:00\",\"2019-08-16T00:00:00\",\"2019-08-17T00:00:00\",\"2019-08-18T00:00:00\",\"2019-08-19T00:00:00\",\"2019-08-20T00:00:00\",\"2019-08-21T00:00:00\",\"2019-08-22T00:00:00\",\"2019-08-23T00:00:00\",\"2019-08-24T00:00:00\",\"2019-08-25T00:00:00\",\"2019-08-26T00:00:00\",\"2019-08-27T00:00:00\",\"2019-08-28T00:00:00\",\"2019-08-29T00:00:00\",\"2019-08-30T00:00:00\",\"2019-08-31T00:00:00\"],\"xaxis\":\"x\",\"y\":[56.89411764705883,88.38250000000001,85.31296296296297,90.27205882352939,85.2561797752809,97.83124999999998,106.61259259259259,106.83184713375798,104.70909090909089,101.53333333333335,99.8047619047619,98.76331877729258,98.35863453815263,99.55779467680607,107.38131487889274,106.97133550488599,106.613125,106.06941896024463,163.0735632183908,160.52771739130435,161.2484210526316,158.36384039900253,156.35942028985508,154.52920560747663,153.1677272727273,151.81406926406927,151.97674418604652,147.26363636363635,146.22882352941176,146.635593220339,145.34890510948907],\"yaxis\":\"y\",\"type\":\"scatter\"}],                        {\"template\":{\"data\":{\"bar\":[{\"error_x\":{\"color\":\"#2a3f5f\"},\"error_y\":{\"color\":\"#2a3f5f\"},\"marker\":{\"line\":{\"color\":\"#E5ECF6\",\"width\":0.5},\"pattern\":{\"fillmode\":\"overlay\",\"size\":10,\"solidity\":0.2}},\"type\":\"bar\"}],\"barpolar\":[{\"marker\":{\"line\":{\"color\":\"#E5ECF6\",\"width\":0.5},\"pattern\":{\"fillmode\":\"overlay\",\"size\":10,\"solidity\":0.2}},\"type\":\"barpolar\"}],\"carpet\":[{\"aaxis\":{\"endlinecolor\":\"#2a3f5f\",\"gridcolor\":\"white\",\"linecolor\":\"white\",\"minorgridcolor\":\"white\",\"startlinecolor\":\"#2a3f5f\"},\"baxis\":{\"endlinecolor\":\"#2a3f5f\",\"gridcolor\":\"white\",\"linecolor\":\"white\",\"minorgridcolor\":\"white\",\"startlinecolor\":\"#2a3f5f\"},\"type\":\"carpet\"}],\"choropleth\":[{\"colorbar\":{\"outlinewidth\":0,\"ticks\":\"\"},\"type\":\"choropleth\"}],\"contour\":[{\"colorbar\":{\"outlinewidth\":0,\"ticks\":\"\"},\"colorscale\":[[0.0,\"#0d0887\"],[0.1111111111111111,\"#46039f\"],[0.2222222222222222,\"#7201a8\"],[0.3333333333333333,\"#9c179e\"],[0.4444444444444444,\"#bd3786\"],[0.5555555555555556,\"#d8576b\"],[0.6666666666666666,\"#ed7953\"],[0.7777777777777778,\"#fb9f3a\"],[0.8888888888888888,\"#fdca26\"],[1.0,\"#f0f921\"]],\"type\":\"contour\"}],\"contourcarpet\":[{\"colorbar\":{\"outlinewidth\":0,\"ticks\":\"\"},\"type\":\"contourcarpet\"}],\"heatmap\":[{\"colorbar\":{\"outlinewidth\":0,\"ticks\":\"\"},\"colorscale\":[[0.0,\"#0d0887\"],[0.1111111111111111,\"#46039f\"],[0.2222222222222222,\"#7201a8\"],[0.3333333333333333,\"#9c179e\"],[0.4444444444444444,\"#bd3786\"],[0.5555555555555556,\"#d8576b\"],[0.6666666666666666,\"#ed7953\"],[0.7777777777777778,\"#fb9f3a\"],[0.8888888888888888,\"#fdca26\"],[1.0,\"#f0f921\"]],\"type\":\"heatmap\"}],\"heatmapgl\":[{\"colorbar\":{\"outlinewidth\":0,\"ticks\":\"\"},\"colorscale\":[[0.0,\"#0d0887\"],[0.1111111111111111,\"#46039f\"],[0.2222222222222222,\"#7201a8\"],[0.3333333333333333,\"#9c179e\"],[0.4444444444444444,\"#bd3786\"],[0.5555555555555556,\"#d8576b\"],[0.6666666666666666,\"#ed7953\"],[0.7777777777777778,\"#fb9f3a\"],[0.8888888888888888,\"#fdca26\"],[1.0,\"#f0f921\"]],\"type\":\"heatmapgl\"}],\"histogram\":[{\"marker\":{\"pattern\":{\"fillmode\":\"overlay\",\"size\":10,\"solidity\":0.2}},\"type\":\"histogram\"}],\"histogram2d\":[{\"colorbar\":{\"outlinewidth\":0,\"ticks\":\"\"},\"colorscale\":[[0.0,\"#0d0887\"],[0.1111111111111111,\"#46039f\"],[0.2222222222222222,\"#7201a8\"],[0.3333333333333333,\"#9c179e\"],[0.4444444444444444,\"#bd3786\"],[0.5555555555555556,\"#d8576b\"],[0.6666666666666666,\"#ed7953\"],[0.7777777777777778,\"#fb9f3a\"],[0.8888888888888888,\"#fdca26\"],[1.0,\"#f0f921\"]],\"type\":\"histogram2d\"}],\"histogram2dcontour\":[{\"colorbar\":{\"outlinewidth\":0,\"ticks\":\"\"},\"colorscale\":[[0.0,\"#0d0887\"],[0.1111111111111111,\"#46039f\"],[0.2222222222222222,\"#7201a8\"],[0.3333333333333333,\"#9c179e\"],[0.4444444444444444,\"#bd3786\"],[0.5555555555555556,\"#d8576b\"],[0.6666666666666666,\"#ed7953\"],[0.7777777777777778,\"#fb9f3a\"],[0.8888888888888888,\"#fdca26\"],[1.0,\"#f0f921\"]],\"type\":\"histogram2dcontour\"}],\"mesh3d\":[{\"colorbar\":{\"outlinewidth\":0,\"ticks\":\"\"},\"type\":\"mesh3d\"}],\"parcoords\":[{\"line\":{\"colorbar\":{\"outlinewidth\":0,\"ticks\":\"\"}},\"type\":\"parcoords\"}],\"pie\":[{\"automargin\":true,\"type\":\"pie\"}],\"scatter\":[{\"marker\":{\"colorbar\":{\"outlinewidth\":0,\"ticks\":\"\"}},\"type\":\"scatter\"}],\"scatter3d\":[{\"line\":{\"colorbar\":{\"outlinewidth\":0,\"ticks\":\"\"}},\"marker\":{\"colorbar\":{\"outlinewidth\":0,\"ticks\":\"\"}},\"type\":\"scatter3d\"}],\"scattercarpet\":[{\"marker\":{\"colorbar\":{\"outlinewidth\":0,\"ticks\":\"\"}},\"type\":\"scattercarpet\"}],\"scattergeo\":[{\"marker\":{\"colorbar\":{\"outlinewidth\":0,\"ticks\":\"\"}},\"type\":\"scattergeo\"}],\"scattergl\":[{\"marker\":{\"colorbar\":{\"outlinewidth\":0,\"ticks\":\"\"}},\"type\":\"scattergl\"}],\"scattermapbox\":[{\"marker\":{\"colorbar\":{\"outlinewidth\":0,\"ticks\":\"\"}},\"type\":\"scattermapbox\"}],\"scatterpolar\":[{\"marker\":{\"colorbar\":{\"outlinewidth\":0,\"ticks\":\"\"}},\"type\":\"scatterpolar\"}],\"scatterpolargl\":[{\"marker\":{\"colorbar\":{\"outlinewidth\":0,\"ticks\":\"\"}},\"type\":\"scatterpolargl\"}],\"scatterternary\":[{\"marker\":{\"colorbar\":{\"outlinewidth\":0,\"ticks\":\"\"}},\"type\":\"scatterternary\"}],\"surface\":[{\"colorbar\":{\"outlinewidth\":0,\"ticks\":\"\"},\"colorscale\":[[0.0,\"#0d0887\"],[0.1111111111111111,\"#46039f\"],[0.2222222222222222,\"#7201a8\"],[0.3333333333333333,\"#9c179e\"],[0.4444444444444444,\"#bd3786\"],[0.5555555555555556,\"#d8576b\"],[0.6666666666666666,\"#ed7953\"],[0.7777777777777778,\"#fb9f3a\"],[0.8888888888888888,\"#fdca26\"],[1.0,\"#f0f921\"]],\"type\":\"surface\"}],\"table\":[{\"cells\":{\"fill\":{\"color\":\"#EBF0F8\"},\"line\":{\"color\":\"white\"}},\"header\":{\"fill\":{\"color\":\"#C8D4E3\"},\"line\":{\"color\":\"white\"}},\"type\":\"table\"}]},\"layout\":{\"annotationdefaults\":{\"arrowcolor\":\"#2a3f5f\",\"arrowhead\":0,\"arrowwidth\":1},\"autotypenumbers\":\"strict\",\"coloraxis\":{\"colorbar\":{\"outlinewidth\":0,\"ticks\":\"\"}},\"colorscale\":{\"diverging\":[[0,\"#8e0152\"],[0.1,\"#c51b7d\"],[0.2,\"#de77ae\"],[0.3,\"#f1b6da\"],[0.4,\"#fde0ef\"],[0.5,\"#f7f7f7\"],[0.6,\"#e6f5d0\"],[0.7,\"#b8e186\"],[0.8,\"#7fbc41\"],[0.9,\"#4d9221\"],[1,\"#276419\"]],\"sequential\":[[0.0,\"#0d0887\"],[0.1111111111111111,\"#46039f\"],[0.2222222222222222,\"#7201a8\"],[0.3333333333333333,\"#9c179e\"],[0.4444444444444444,\"#bd3786\"],[0.5555555555555556,\"#d8576b\"],[0.6666666666666666,\"#ed7953\"],[0.7777777777777778,\"#fb9f3a\"],[0.8888888888888888,\"#fdca26\"],[1.0,\"#f0f921\"]],\"sequentialminus\":[[0.0,\"#0d0887\"],[0.1111111111111111,\"#46039f\"],[0.2222222222222222,\"#7201a8\"],[0.3333333333333333,\"#9c179e\"],[0.4444444444444444,\"#bd3786\"],[0.5555555555555556,\"#d8576b\"],[0.6666666666666666,\"#ed7953\"],[0.7777777777777778,\"#fb9f3a\"],[0.8888888888888888,\"#fdca26\"],[1.0,\"#f0f921\"]]},\"colorway\":[\"#636efa\",\"#EF553B\",\"#00cc96\",\"#ab63fa\",\"#FFA15A\",\"#19d3f3\",\"#FF6692\",\"#B6E880\",\"#FF97FF\",\"#FECB52\"],\"font\":{\"color\":\"#2a3f5f\"},\"geo\":{\"bgcolor\":\"white\",\"lakecolor\":\"white\",\"landcolor\":\"#E5ECF6\",\"showlakes\":true,\"showland\":true,\"subunitcolor\":\"white\"},\"hoverlabel\":{\"align\":\"left\"},\"hovermode\":\"closest\",\"mapbox\":{\"style\":\"light\"},\"paper_bgcolor\":\"white\",\"plot_bgcolor\":\"#E5ECF6\",\"polar\":{\"angularaxis\":{\"gridcolor\":\"white\",\"linecolor\":\"white\",\"ticks\":\"\"},\"bgcolor\":\"#E5ECF6\",\"radialaxis\":{\"gridcolor\":\"white\",\"linecolor\":\"white\",\"ticks\":\"\"}},\"scene\":{\"xaxis\":{\"backgroundcolor\":\"#E5ECF6\",\"gridcolor\":\"white\",\"gridwidth\":2,\"linecolor\":\"white\",\"showbackground\":true,\"ticks\":\"\",\"zerolinecolor\":\"white\"},\"yaxis\":{\"backgroundcolor\":\"#E5ECF6\",\"gridcolor\":\"white\",\"gridwidth\":2,\"linecolor\":\"white\",\"showbackground\":true,\"ticks\":\"\",\"zerolinecolor\":\"white\"},\"zaxis\":{\"backgroundcolor\":\"#E5ECF6\",\"gridcolor\":\"white\",\"gridwidth\":2,\"linecolor\":\"white\",\"showbackground\":true,\"ticks\":\"\",\"zerolinecolor\":\"white\"}},\"shapedefaults\":{\"line\":{\"color\":\"#2a3f5f\"}},\"ternary\":{\"aaxis\":{\"gridcolor\":\"white\",\"linecolor\":\"white\",\"ticks\":\"\"},\"baxis\":{\"gridcolor\":\"white\",\"linecolor\":\"white\",\"ticks\":\"\"},\"bgcolor\":\"#E5ECF6\",\"caxis\":{\"gridcolor\":\"white\",\"linecolor\":\"white\",\"ticks\":\"\"}},\"title\":{\"x\":0.05},\"xaxis\":{\"automargin\":true,\"gridcolor\":\"white\",\"linecolor\":\"white\",\"ticks\":\"\",\"title\":{\"standoff\":15},\"zerolinecolor\":\"white\",\"zerolinewidth\":2},\"yaxis\":{\"automargin\":true,\"gridcolor\":\"white\",\"linecolor\":\"white\",\"ticks\":\"\",\"title\":{\"standoff\":15},\"zerolinecolor\":\"white\",\"zerolinewidth\":2}}},\"xaxis\":{\"anchor\":\"y\",\"domain\":[0.0,1.0],\"title\":{\"text\":\"Dates\"}},\"yaxis\":{\"anchor\":\"x\",\"domain\":[0.0,1.0],\"title\":{\"text\":\"Average order size\"}},\"legend\":{\"title\":{\"text\":\"group\"},\"tracegroupgap\":0},\"title\":{\"text\":\"Cumulative metric of average order size by group\"}},                        {\"responsive\": true}                    ).then(function(){\n",
              "                            \n",
              "var gd = document.getElementById('e290241e-d788-4095-b8bf-38aa878523f4');\n",
              "var x = new MutationObserver(function (mutations, observer) {{\n",
              "        var display = window.getComputedStyle(gd).display;\n",
              "        if (!display || display === 'none') {{\n",
              "            console.log([gd, 'removed!']);\n",
              "            Plotly.purge(gd);\n",
              "            observer.disconnect();\n",
              "        }}\n",
              "}});\n",
              "\n",
              "// Listen for the removal of the full notebook cells\n",
              "var notebookContainer = gd.closest('#notebook-container');\n",
              "if (notebookContainer) {{\n",
              "    x.observe(notebookContainer, {childList: true});\n",
              "}}\n",
              "\n",
              "// Listen for the clearing of the current output cell\n",
              "var outputEl = gd.closest('.output');\n",
              "if (outputEl) {{\n",
              "    x.observe(outputEl, {childList: true});\n",
              "}}\n",
              "\n",
              "                        })                };                            </script>        </div>\n",
              "</body>\n",
              "</html>"
            ]
          },
          "metadata": {}
        }
      ],
      "source": [
        "fig = px.line(data_cumulation, x='date', y='avg_order_size', color='group', markers=True, \n",
        "              title='Cumulative metric of average order size by group',\n",
        "              labels=dict(avg_order_size='Average order size', date='Dates'))\n",
        "fig.show()"
      ]
    },
    {
      "cell_type": "markdown",
      "metadata": {
        "id": "wo1wzOndSO_O"
      },
      "source": [
        "On the graph we see that group A started with a higher average check, than B, there are some fluctuations at the beginning - there are rises and drops for each group, but again as with the previous chart there is a breakpoint on August, 18 2019 when group B increases significantly in comparison to A group and the metrics are stabilizing."
      ]
    },
    {
      "cell_type": "markdown",
      "metadata": {
        "id": "sCwNlNH0SwWs"
      },
      "source": [
        "### **Graph the relative difference in cumulative average order size for group B compared with group A. Make conclusions and conjectures.**"
      ]
    },
    {
      "cell_type": "code",
      "execution_count": 25,
      "metadata": {
        "id": "yGWMLu1K2Lvz"
      },
      "outputs": [],
      "source": [
        "# Filter the data by group attribute\n",
        "groupA = data_cumulation[data_cumulation['group'] == 'A']\n",
        "groupB = data_cumulation[data_cumulation['group'] == 'B']"
      ]
    },
    {
      "cell_type": "code",
      "execution_count": 26,
      "metadata": {
        "colab": {
          "base_uri": "https://localhost:8080/",
          "height": 206
        },
        "id": "7scBOHW4WCbF",
        "outputId": "f2efa2dc-c54b-4e4a-f921-1a5339056c88"
      },
      "outputs": [
        {
          "output_type": "execute_result",
          "data": {
            "text/plain": [
              "        date group  n_transactions  n_visitors  revenue  visits  \\\n",
              "1 2019-08-01  B     17              17          967.2    713      \n",
              "3 2019-08-02  B     40              39          3535.3   1294     \n",
              "5 2019-08-03  B     54              53          4606.9   1803     \n",
              "7 2019-08-04  B     68              66          6138.5   2573     \n",
              "9 2019-08-05  B     89              87          7587.8   3280     \n",
              "\n",
              "   avg_order_size  \n",
              "1  56.894118       \n",
              "3  88.382500       \n",
              "5  85.312963       \n",
              "7  90.272059       \n",
              "9  85.256180       "
            ],
            "text/html": [
              "\n",
              "  <div id=\"df-f7b8d2d4-0255-42e9-9835-ddfd72533bca\">\n",
              "    <div class=\"colab-df-container\">\n",
              "      <div>\n",
              "<style scoped>\n",
              "    .dataframe tbody tr th:only-of-type {\n",
              "        vertical-align: middle;\n",
              "    }\n",
              "\n",
              "    .dataframe tbody tr th {\n",
              "        vertical-align: top;\n",
              "    }\n",
              "\n",
              "    .dataframe thead th {\n",
              "        text-align: right;\n",
              "    }\n",
              "</style>\n",
              "<table border=\"1\" class=\"dataframe\">\n",
              "  <thead>\n",
              "    <tr style=\"text-align: right;\">\n",
              "      <th></th>\n",
              "      <th>date</th>\n",
              "      <th>group</th>\n",
              "      <th>n_transactions</th>\n",
              "      <th>n_visitors</th>\n",
              "      <th>revenue</th>\n",
              "      <th>visits</th>\n",
              "      <th>avg_order_size</th>\n",
              "    </tr>\n",
              "  </thead>\n",
              "  <tbody>\n",
              "    <tr>\n",
              "      <th>1</th>\n",
              "      <td>2019-08-01</td>\n",
              "      <td>B</td>\n",
              "      <td>17</td>\n",
              "      <td>17</td>\n",
              "      <td>967.2</td>\n",
              "      <td>713</td>\n",
              "      <td>56.894118</td>\n",
              "    </tr>\n",
              "    <tr>\n",
              "      <th>3</th>\n",
              "      <td>2019-08-02</td>\n",
              "      <td>B</td>\n",
              "      <td>40</td>\n",
              "      <td>39</td>\n",
              "      <td>3535.3</td>\n",
              "      <td>1294</td>\n",
              "      <td>88.382500</td>\n",
              "    </tr>\n",
              "    <tr>\n",
              "      <th>5</th>\n",
              "      <td>2019-08-03</td>\n",
              "      <td>B</td>\n",
              "      <td>54</td>\n",
              "      <td>53</td>\n",
              "      <td>4606.9</td>\n",
              "      <td>1803</td>\n",
              "      <td>85.312963</td>\n",
              "    </tr>\n",
              "    <tr>\n",
              "      <th>7</th>\n",
              "      <td>2019-08-04</td>\n",
              "      <td>B</td>\n",
              "      <td>68</td>\n",
              "      <td>66</td>\n",
              "      <td>6138.5</td>\n",
              "      <td>2573</td>\n",
              "      <td>90.272059</td>\n",
              "    </tr>\n",
              "    <tr>\n",
              "      <th>9</th>\n",
              "      <td>2019-08-05</td>\n",
              "      <td>B</td>\n",
              "      <td>89</td>\n",
              "      <td>87</td>\n",
              "      <td>7587.8</td>\n",
              "      <td>3280</td>\n",
              "      <td>85.256180</td>\n",
              "    </tr>\n",
              "  </tbody>\n",
              "</table>\n",
              "</div>\n",
              "      <button class=\"colab-df-convert\" onclick=\"convertToInteractive('df-f7b8d2d4-0255-42e9-9835-ddfd72533bca')\"\n",
              "              title=\"Convert this dataframe to an interactive table.\"\n",
              "              style=\"display:none;\">\n",
              "        \n",
              "  <svg xmlns=\"http://www.w3.org/2000/svg\" height=\"24px\"viewBox=\"0 0 24 24\"\n",
              "       width=\"24px\">\n",
              "    <path d=\"M0 0h24v24H0V0z\" fill=\"none\"/>\n",
              "    <path d=\"M18.56 5.44l.94 2.06.94-2.06 2.06-.94-2.06-.94-.94-2.06-.94 2.06-2.06.94zm-11 1L8.5 8.5l.94-2.06 2.06-.94-2.06-.94L8.5 2.5l-.94 2.06-2.06.94zm10 10l.94 2.06.94-2.06 2.06-.94-2.06-.94-.94-2.06-.94 2.06-2.06.94z\"/><path d=\"M17.41 7.96l-1.37-1.37c-.4-.4-.92-.59-1.43-.59-.52 0-1.04.2-1.43.59L10.3 9.45l-7.72 7.72c-.78.78-.78 2.05 0 2.83L4 21.41c.39.39.9.59 1.41.59.51 0 1.02-.2 1.41-.59l7.78-7.78 2.81-2.81c.8-.78.8-2.07 0-2.86zM5.41 20L4 18.59l7.72-7.72 1.47 1.35L5.41 20z\"/>\n",
              "  </svg>\n",
              "      </button>\n",
              "      \n",
              "  <style>\n",
              "    .colab-df-container {\n",
              "      display:flex;\n",
              "      flex-wrap:wrap;\n",
              "      gap: 12px;\n",
              "    }\n",
              "\n",
              "    .colab-df-convert {\n",
              "      background-color: #E8F0FE;\n",
              "      border: none;\n",
              "      border-radius: 50%;\n",
              "      cursor: pointer;\n",
              "      display: none;\n",
              "      fill: #1967D2;\n",
              "      height: 32px;\n",
              "      padding: 0 0 0 0;\n",
              "      width: 32px;\n",
              "    }\n",
              "\n",
              "    .colab-df-convert:hover {\n",
              "      background-color: #E2EBFA;\n",
              "      box-shadow: 0px 1px 2px rgba(60, 64, 67, 0.3), 0px 1px 3px 1px rgba(60, 64, 67, 0.15);\n",
              "      fill: #174EA6;\n",
              "    }\n",
              "\n",
              "    [theme=dark] .colab-df-convert {\n",
              "      background-color: #3B4455;\n",
              "      fill: #D2E3FC;\n",
              "    }\n",
              "\n",
              "    [theme=dark] .colab-df-convert:hover {\n",
              "      background-color: #434B5C;\n",
              "      box-shadow: 0px 1px 3px 1px rgba(0, 0, 0, 0.15);\n",
              "      filter: drop-shadow(0px 1px 2px rgba(0, 0, 0, 0.3));\n",
              "      fill: #FFFFFF;\n",
              "    }\n",
              "  </style>\n",
              "\n",
              "      <script>\n",
              "        const buttonEl =\n",
              "          document.querySelector('#df-f7b8d2d4-0255-42e9-9835-ddfd72533bca button.colab-df-convert');\n",
              "        buttonEl.style.display =\n",
              "          google.colab.kernel.accessAllowed ? 'block' : 'none';\n",
              "\n",
              "        async function convertToInteractive(key) {\n",
              "          const element = document.querySelector('#df-f7b8d2d4-0255-42e9-9835-ddfd72533bca');\n",
              "          const dataTable =\n",
              "            await google.colab.kernel.invokeFunction('convertToInteractive',\n",
              "                                                     [key], {});\n",
              "          if (!dataTable) return;\n",
              "\n",
              "          const docLinkHtml = 'Like what you see? Visit the ' +\n",
              "            '<a target=\"_blank\" href=https://colab.research.google.com/notebooks/data_table.ipynb>data table notebook</a>'\n",
              "            + ' to learn more about interactive tables.';\n",
              "          element.innerHTML = '';\n",
              "          dataTable['output_type'] = 'display_data';\n",
              "          await google.colab.output.renderOutput(dataTable, element);\n",
              "          const docLink = document.createElement('div');\n",
              "          docLink.innerHTML = docLinkHtml;\n",
              "          element.appendChild(docLink);\n",
              "        }\n",
              "      </script>\n",
              "    </div>\n",
              "  </div>\n",
              "  "
            ]
          },
          "metadata": {},
          "execution_count": 26
        }
      ],
      "source": [
        "groupB.head()"
      ]
    },
    {
      "cell_type": "markdown",
      "metadata": {
        "id": "blCS4ZFJRDCr"
      },
      "source": [
        "Now we can merge the data back together with a distinction of columns for metrics for groups A and B separatly."
      ]
    },
    {
      "cell_type": "code",
      "execution_count": 27,
      "metadata": {
        "colab": {
          "base_uri": "https://localhost:8080/"
        },
        "id": "eeaRJKOmCoGw",
        "outputId": "3efd0f52-4495-437e-c5b5-06aa6b98023e"
      },
      "outputs": [
        {
          "output_type": "execute_result",
          "data": {
            "text/plain": [
              "(31, 13)"
            ]
          },
          "metadata": {},
          "execution_count": 27
        }
      ],
      "source": [
        "AB_revenue_table = groupA.merge(groupB, how='left', left_on='date', right_on='date', suffixes=['A', 'B'])\n",
        "AB_revenue_table.shape"
      ]
    },
    {
      "cell_type": "code",
      "execution_count": 28,
      "metadata": {
        "colab": {
          "base_uri": "https://localhost:8080/",
          "height": 542
        },
        "id": "0C6ZLo4bTJ2X",
        "outputId": "4df4cb59-348b-4e33-824a-9d5bfcbee893"
      },
      "outputs": [
        {
          "output_type": "display_data",
          "data": {
            "text/html": [
              "<html>\n",
              "<head><meta charset=\"utf-8\" /></head>\n",
              "<body>\n",
              "    <div>            <script src=\"https://cdnjs.cloudflare.com/ajax/libs/mathjax/2.7.5/MathJax.js?config=TeX-AMS-MML_SVG\"></script><script type=\"text/javascript\">if (window.MathJax) {MathJax.Hub.Config({SVG: {font: \"STIX-Web\"}});}</script>                <script type=\"text/javascript\">window.PlotlyConfig = {MathJaxConfig: 'local'};</script>\n",
              "        <script src=\"https://cdn.plot.ly/plotly-2.8.3.min.js\"></script>                <div id=\"b8ce4f40-171b-4a27-8734-ca3d43247b15\" class=\"plotly-graph-div\" style=\"height:525px; width:100%;\"></div>            <script type=\"text/javascript\">                                    window.PLOTLYENV=window.PLOTLYENV || {};                                    if (document.getElementById(\"b8ce4f40-171b-4a27-8734-ca3d43247b15\")) {                    Plotly.newPlot(                        \"b8ce4f40-171b-4a27-8734-ca3d43247b15\",                        [{\"hovertemplate\":\"date=%{x}<br>y=%{y}<extra></extra>\",\"legendgroup\":\"\",\"line\":{\"color\":\"#636efa\",\"dash\":\"solid\"},\"marker\":{\"symbol\":\"circle\"},\"mode\":\"markers+lines\",\"name\":\"\",\"orientation\":\"v\",\"showlegend\":false,\"x\":[\"2019-08-01T00:00:00\",\"2019-08-02T00:00:00\",\"2019-08-03T00:00:00\",\"2019-08-04T00:00:00\",\"2019-08-05T00:00:00\",\"2019-08-06T00:00:00\",\"2019-08-07T00:00:00\",\"2019-08-08T00:00:00\",\"2019-08-09T00:00:00\",\"2019-08-10T00:00:00\",\"2019-08-11T00:00:00\",\"2019-08-12T00:00:00\",\"2019-08-13T00:00:00\",\"2019-08-14T00:00:00\",\"2019-08-15T00:00:00\",\"2019-08-16T00:00:00\",\"2019-08-17T00:00:00\",\"2019-08-18T00:00:00\",\"2019-08-19T00:00:00\",\"2019-08-20T00:00:00\",\"2019-08-21T00:00:00\",\"2019-08-22T00:00:00\",\"2019-08-23T00:00:00\",\"2019-08-24T00:00:00\",\"2019-08-25T00:00:00\",\"2019-08-26T00:00:00\",\"2019-08-27T00:00:00\",\"2019-08-28T00:00:00\",\"2019-08-29T00:00:00\",\"2019-08-30T00:00:00\",\"2019-08-31T00:00:00\"],\"xaxis\":\"x\",\"y\":[-0.422675061377238,-0.006113952180781257,0.014514252996442378,0.11651062217485264,0.1071359722116596,0.345002713458755,0.3542736991437403,0.32176736323857713,0.18173213127341548,0.07066133217545945,0.05734665726822552,-0.038036800213380184,-0.1454228564807737,-0.09268674368994612,-0.027931378127029727,-0.018284721781703595,-0.017991660612928118,-0.008353646594900899,0.5054044206666664,0.48845065682568634,0.47345949990045066,0.43332528534864045,0.46144756683445576,0.42566991852894875,0.4147895906278971,0.3787257547666498,0.3682772688272953,0.329683167938563,0.2897126694885812,0.28815138886969294,0.27834487693078414],\"yaxis\":\"y\",\"type\":\"scatter\"}],                        {\"template\":{\"data\":{\"bar\":[{\"error_x\":{\"color\":\"#2a3f5f\"},\"error_y\":{\"color\":\"#2a3f5f\"},\"marker\":{\"line\":{\"color\":\"#E5ECF6\",\"width\":0.5},\"pattern\":{\"fillmode\":\"overlay\",\"size\":10,\"solidity\":0.2}},\"type\":\"bar\"}],\"barpolar\":[{\"marker\":{\"line\":{\"color\":\"#E5ECF6\",\"width\":0.5},\"pattern\":{\"fillmode\":\"overlay\",\"size\":10,\"solidity\":0.2}},\"type\":\"barpolar\"}],\"carpet\":[{\"aaxis\":{\"endlinecolor\":\"#2a3f5f\",\"gridcolor\":\"white\",\"linecolor\":\"white\",\"minorgridcolor\":\"white\",\"startlinecolor\":\"#2a3f5f\"},\"baxis\":{\"endlinecolor\":\"#2a3f5f\",\"gridcolor\":\"white\",\"linecolor\":\"white\",\"minorgridcolor\":\"white\",\"startlinecolor\":\"#2a3f5f\"},\"type\":\"carpet\"}],\"choropleth\":[{\"colorbar\":{\"outlinewidth\":0,\"ticks\":\"\"},\"type\":\"choropleth\"}],\"contour\":[{\"colorbar\":{\"outlinewidth\":0,\"ticks\":\"\"},\"colorscale\":[[0.0,\"#0d0887\"],[0.1111111111111111,\"#46039f\"],[0.2222222222222222,\"#7201a8\"],[0.3333333333333333,\"#9c179e\"],[0.4444444444444444,\"#bd3786\"],[0.5555555555555556,\"#d8576b\"],[0.6666666666666666,\"#ed7953\"],[0.7777777777777778,\"#fb9f3a\"],[0.8888888888888888,\"#fdca26\"],[1.0,\"#f0f921\"]],\"type\":\"contour\"}],\"contourcarpet\":[{\"colorbar\":{\"outlinewidth\":0,\"ticks\":\"\"},\"type\":\"contourcarpet\"}],\"heatmap\":[{\"colorbar\":{\"outlinewidth\":0,\"ticks\":\"\"},\"colorscale\":[[0.0,\"#0d0887\"],[0.1111111111111111,\"#46039f\"],[0.2222222222222222,\"#7201a8\"],[0.3333333333333333,\"#9c179e\"],[0.4444444444444444,\"#bd3786\"],[0.5555555555555556,\"#d8576b\"],[0.6666666666666666,\"#ed7953\"],[0.7777777777777778,\"#fb9f3a\"],[0.8888888888888888,\"#fdca26\"],[1.0,\"#f0f921\"]],\"type\":\"heatmap\"}],\"heatmapgl\":[{\"colorbar\":{\"outlinewidth\":0,\"ticks\":\"\"},\"colorscale\":[[0.0,\"#0d0887\"],[0.1111111111111111,\"#46039f\"],[0.2222222222222222,\"#7201a8\"],[0.3333333333333333,\"#9c179e\"],[0.4444444444444444,\"#bd3786\"],[0.5555555555555556,\"#d8576b\"],[0.6666666666666666,\"#ed7953\"],[0.7777777777777778,\"#fb9f3a\"],[0.8888888888888888,\"#fdca26\"],[1.0,\"#f0f921\"]],\"type\":\"heatmapgl\"}],\"histogram\":[{\"marker\":{\"pattern\":{\"fillmode\":\"overlay\",\"size\":10,\"solidity\":0.2}},\"type\":\"histogram\"}],\"histogram2d\":[{\"colorbar\":{\"outlinewidth\":0,\"ticks\":\"\"},\"colorscale\":[[0.0,\"#0d0887\"],[0.1111111111111111,\"#46039f\"],[0.2222222222222222,\"#7201a8\"],[0.3333333333333333,\"#9c179e\"],[0.4444444444444444,\"#bd3786\"],[0.5555555555555556,\"#d8576b\"],[0.6666666666666666,\"#ed7953\"],[0.7777777777777778,\"#fb9f3a\"],[0.8888888888888888,\"#fdca26\"],[1.0,\"#f0f921\"]],\"type\":\"histogram2d\"}],\"histogram2dcontour\":[{\"colorbar\":{\"outlinewidth\":0,\"ticks\":\"\"},\"colorscale\":[[0.0,\"#0d0887\"],[0.1111111111111111,\"#46039f\"],[0.2222222222222222,\"#7201a8\"],[0.3333333333333333,\"#9c179e\"],[0.4444444444444444,\"#bd3786\"],[0.5555555555555556,\"#d8576b\"],[0.6666666666666666,\"#ed7953\"],[0.7777777777777778,\"#fb9f3a\"],[0.8888888888888888,\"#fdca26\"],[1.0,\"#f0f921\"]],\"type\":\"histogram2dcontour\"}],\"mesh3d\":[{\"colorbar\":{\"outlinewidth\":0,\"ticks\":\"\"},\"type\":\"mesh3d\"}],\"parcoords\":[{\"line\":{\"colorbar\":{\"outlinewidth\":0,\"ticks\":\"\"}},\"type\":\"parcoords\"}],\"pie\":[{\"automargin\":true,\"type\":\"pie\"}],\"scatter\":[{\"marker\":{\"colorbar\":{\"outlinewidth\":0,\"ticks\":\"\"}},\"type\":\"scatter\"}],\"scatter3d\":[{\"line\":{\"colorbar\":{\"outlinewidth\":0,\"ticks\":\"\"}},\"marker\":{\"colorbar\":{\"outlinewidth\":0,\"ticks\":\"\"}},\"type\":\"scatter3d\"}],\"scattercarpet\":[{\"marker\":{\"colorbar\":{\"outlinewidth\":0,\"ticks\":\"\"}},\"type\":\"scattercarpet\"}],\"scattergeo\":[{\"marker\":{\"colorbar\":{\"outlinewidth\":0,\"ticks\":\"\"}},\"type\":\"scattergeo\"}],\"scattergl\":[{\"marker\":{\"colorbar\":{\"outlinewidth\":0,\"ticks\":\"\"}},\"type\":\"scattergl\"}],\"scattermapbox\":[{\"marker\":{\"colorbar\":{\"outlinewidth\":0,\"ticks\":\"\"}},\"type\":\"scattermapbox\"}],\"scatterpolar\":[{\"marker\":{\"colorbar\":{\"outlinewidth\":0,\"ticks\":\"\"}},\"type\":\"scatterpolar\"}],\"scatterpolargl\":[{\"marker\":{\"colorbar\":{\"outlinewidth\":0,\"ticks\":\"\"}},\"type\":\"scatterpolargl\"}],\"scatterternary\":[{\"marker\":{\"colorbar\":{\"outlinewidth\":0,\"ticks\":\"\"}},\"type\":\"scatterternary\"}],\"surface\":[{\"colorbar\":{\"outlinewidth\":0,\"ticks\":\"\"},\"colorscale\":[[0.0,\"#0d0887\"],[0.1111111111111111,\"#46039f\"],[0.2222222222222222,\"#7201a8\"],[0.3333333333333333,\"#9c179e\"],[0.4444444444444444,\"#bd3786\"],[0.5555555555555556,\"#d8576b\"],[0.6666666666666666,\"#ed7953\"],[0.7777777777777778,\"#fb9f3a\"],[0.8888888888888888,\"#fdca26\"],[1.0,\"#f0f921\"]],\"type\":\"surface\"}],\"table\":[{\"cells\":{\"fill\":{\"color\":\"#EBF0F8\"},\"line\":{\"color\":\"white\"}},\"header\":{\"fill\":{\"color\":\"#C8D4E3\"},\"line\":{\"color\":\"white\"}},\"type\":\"table\"}]},\"layout\":{\"annotationdefaults\":{\"arrowcolor\":\"#2a3f5f\",\"arrowhead\":0,\"arrowwidth\":1},\"autotypenumbers\":\"strict\",\"coloraxis\":{\"colorbar\":{\"outlinewidth\":0,\"ticks\":\"\"}},\"colorscale\":{\"diverging\":[[0,\"#8e0152\"],[0.1,\"#c51b7d\"],[0.2,\"#de77ae\"],[0.3,\"#f1b6da\"],[0.4,\"#fde0ef\"],[0.5,\"#f7f7f7\"],[0.6,\"#e6f5d0\"],[0.7,\"#b8e186\"],[0.8,\"#7fbc41\"],[0.9,\"#4d9221\"],[1,\"#276419\"]],\"sequential\":[[0.0,\"#0d0887\"],[0.1111111111111111,\"#46039f\"],[0.2222222222222222,\"#7201a8\"],[0.3333333333333333,\"#9c179e\"],[0.4444444444444444,\"#bd3786\"],[0.5555555555555556,\"#d8576b\"],[0.6666666666666666,\"#ed7953\"],[0.7777777777777778,\"#fb9f3a\"],[0.8888888888888888,\"#fdca26\"],[1.0,\"#f0f921\"]],\"sequentialminus\":[[0.0,\"#0d0887\"],[0.1111111111111111,\"#46039f\"],[0.2222222222222222,\"#7201a8\"],[0.3333333333333333,\"#9c179e\"],[0.4444444444444444,\"#bd3786\"],[0.5555555555555556,\"#d8576b\"],[0.6666666666666666,\"#ed7953\"],[0.7777777777777778,\"#fb9f3a\"],[0.8888888888888888,\"#fdca26\"],[1.0,\"#f0f921\"]]},\"colorway\":[\"#636efa\",\"#EF553B\",\"#00cc96\",\"#ab63fa\",\"#FFA15A\",\"#19d3f3\",\"#FF6692\",\"#B6E880\",\"#FF97FF\",\"#FECB52\"],\"font\":{\"color\":\"#2a3f5f\"},\"geo\":{\"bgcolor\":\"white\",\"lakecolor\":\"white\",\"landcolor\":\"#E5ECF6\",\"showlakes\":true,\"showland\":true,\"subunitcolor\":\"white\"},\"hoverlabel\":{\"align\":\"left\"},\"hovermode\":\"closest\",\"mapbox\":{\"style\":\"light\"},\"paper_bgcolor\":\"white\",\"plot_bgcolor\":\"#E5ECF6\",\"polar\":{\"angularaxis\":{\"gridcolor\":\"white\",\"linecolor\":\"white\",\"ticks\":\"\"},\"bgcolor\":\"#E5ECF6\",\"radialaxis\":{\"gridcolor\":\"white\",\"linecolor\":\"white\",\"ticks\":\"\"}},\"scene\":{\"xaxis\":{\"backgroundcolor\":\"#E5ECF6\",\"gridcolor\":\"white\",\"gridwidth\":2,\"linecolor\":\"white\",\"showbackground\":true,\"ticks\":\"\",\"zerolinecolor\":\"white\"},\"yaxis\":{\"backgroundcolor\":\"#E5ECF6\",\"gridcolor\":\"white\",\"gridwidth\":2,\"linecolor\":\"white\",\"showbackground\":true,\"ticks\":\"\",\"zerolinecolor\":\"white\"},\"zaxis\":{\"backgroundcolor\":\"#E5ECF6\",\"gridcolor\":\"white\",\"gridwidth\":2,\"linecolor\":\"white\",\"showbackground\":true,\"ticks\":\"\",\"zerolinecolor\":\"white\"}},\"shapedefaults\":{\"line\":{\"color\":\"#2a3f5f\"}},\"ternary\":{\"aaxis\":{\"gridcolor\":\"white\",\"linecolor\":\"white\",\"ticks\":\"\"},\"baxis\":{\"gridcolor\":\"white\",\"linecolor\":\"white\",\"ticks\":\"\"},\"bgcolor\":\"#E5ECF6\",\"caxis\":{\"gridcolor\":\"white\",\"linecolor\":\"white\",\"ticks\":\"\"}},\"title\":{\"x\":0.05},\"xaxis\":{\"automargin\":true,\"gridcolor\":\"white\",\"linecolor\":\"white\",\"ticks\":\"\",\"title\":{\"standoff\":15},\"zerolinecolor\":\"white\",\"zerolinewidth\":2},\"yaxis\":{\"automargin\":true,\"gridcolor\":\"white\",\"linecolor\":\"white\",\"ticks\":\"\",\"title\":{\"standoff\":15},\"zerolinecolor\":\"white\",\"zerolinewidth\":2}}},\"xaxis\":{\"anchor\":\"y\",\"domain\":[0.0,1.0],\"title\":{\"text\":\"Dates\"}},\"yaxis\":{\"anchor\":\"x\",\"domain\":[0.0,1.0],\"title\":{\"text\":\"Relative difference\"}},\"legend\":{\"tracegroupgap\":0},\"title\":{\"text\":\"Relative difference in cumulative average order size for group B compared with group A\"},\"shapes\":[{\"line\":{\"dash\":\"dash\"},\"type\":\"line\",\"x0\":0,\"x1\":1,\"xref\":\"x domain\",\"y0\":0,\"y1\":0,\"yref\":\"y\"}]},                        {\"responsive\": true}                    ).then(function(){\n",
              "                            \n",
              "var gd = document.getElementById('b8ce4f40-171b-4a27-8734-ca3d43247b15');\n",
              "var x = new MutationObserver(function (mutations, observer) {{\n",
              "        var display = window.getComputedStyle(gd).display;\n",
              "        if (!display || display === 'none') {{\n",
              "            console.log([gd, 'removed!']);\n",
              "            Plotly.purge(gd);\n",
              "            observer.disconnect();\n",
              "        }}\n",
              "}});\n",
              "\n",
              "// Listen for the removal of the full notebook cells\n",
              "var notebookContainer = gd.closest('#notebook-container');\n",
              "if (notebookContainer) {{\n",
              "    x.observe(notebookContainer, {childList: true});\n",
              "}}\n",
              "\n",
              "// Listen for the clearing of the current output cell\n",
              "var outputEl = gd.closest('.output');\n",
              "if (outputEl) {{\n",
              "    x.observe(outputEl, {childList: true});\n",
              "}}\n",
              "\n",
              "                        })                };                            </script>        </div>\n",
              "</body>\n",
              "</html>"
            ]
          },
          "metadata": {}
        }
      ],
      "source": [
        "fig = px.line(AB_revenue_table, x='date', y=AB_revenue_table['avg_order_sizeB'] / AB_revenue_table['avg_order_sizeA'] - 1, markers=True, \n",
        "              title = 'Relative difference in cumulative average order size for group B compared with group A')\n",
        "fig.update_xaxes(title_text='Dates')\n",
        "fig.update_yaxes(title_text='Relative difference')\n",
        "fig.add_hline(y=0, line_dash='dash')\n",
        "fig.show()"
      ]
    },
    {
      "cell_type": "markdown",
      "metadata": {
        "id": "O7N31DUeY2e-"
      },
      "source": [
        "The further the points on the graph are located from the 0 dash line the bigger the relative difference between average order sizes in groups A and B. The spike in the same date as we saw before can mean that there is a certain anomaly. The metric seems stabilizing after the spike on August 18-th."
      ]
    },
    {
      "cell_type": "markdown",
      "metadata": {
        "id": "pUWSkpdoZ3KM"
      },
      "source": [
        "### **Calculate each group's conversion rate as the ratio of orders to the number of visits for each day. Plot the daily conversion rates of the two groups and describe the difference. Draw conclusions and make conjectures.**"
      ]
    },
    {
      "cell_type": "code",
      "execution_count": 29,
      "metadata": {
        "colab": {
          "base_uri": "https://localhost:8080/",
          "height": 206
        },
        "id": "6vBDuKw9WvN5",
        "outputId": "65956b50-8662-4458-af53-b83ef4fa5692"
      },
      "outputs": [
        {
          "output_type": "execute_result",
          "data": {
            "text/plain": [
              "        date group  n_transactions  n_visitors  revenue  visits  \\\n",
              "0 2019-08-01  A     23              19          2266.6   719      \n",
              "1 2019-08-01  B     17              17          967.2    713      \n",
              "2 2019-08-02  A     42              36          3734.9   1338     \n",
              "3 2019-08-02  B     40              39          3535.3   1294     \n",
              "4 2019-08-03  A     66              60          5550.1   1845     \n",
              "\n",
              "   avg_order_size  conversion  \n",
              "0  98.547826       0.031989    \n",
              "1  56.894118       0.023843    \n",
              "2  88.926190       0.031390    \n",
              "3  88.382500       0.030912    \n",
              "4  84.092424       0.035772    "
            ],
            "text/html": [
              "\n",
              "  <div id=\"df-8bad69c6-8b4f-480d-839d-63a141c262d1\">\n",
              "    <div class=\"colab-df-container\">\n",
              "      <div>\n",
              "<style scoped>\n",
              "    .dataframe tbody tr th:only-of-type {\n",
              "        vertical-align: middle;\n",
              "    }\n",
              "\n",
              "    .dataframe tbody tr th {\n",
              "        vertical-align: top;\n",
              "    }\n",
              "\n",
              "    .dataframe thead th {\n",
              "        text-align: right;\n",
              "    }\n",
              "</style>\n",
              "<table border=\"1\" class=\"dataframe\">\n",
              "  <thead>\n",
              "    <tr style=\"text-align: right;\">\n",
              "      <th></th>\n",
              "      <th>date</th>\n",
              "      <th>group</th>\n",
              "      <th>n_transactions</th>\n",
              "      <th>n_visitors</th>\n",
              "      <th>revenue</th>\n",
              "      <th>visits</th>\n",
              "      <th>avg_order_size</th>\n",
              "      <th>conversion</th>\n",
              "    </tr>\n",
              "  </thead>\n",
              "  <tbody>\n",
              "    <tr>\n",
              "      <th>0</th>\n",
              "      <td>2019-08-01</td>\n",
              "      <td>A</td>\n",
              "      <td>23</td>\n",
              "      <td>19</td>\n",
              "      <td>2266.6</td>\n",
              "      <td>719</td>\n",
              "      <td>98.547826</td>\n",
              "      <td>0.031989</td>\n",
              "    </tr>\n",
              "    <tr>\n",
              "      <th>1</th>\n",
              "      <td>2019-08-01</td>\n",
              "      <td>B</td>\n",
              "      <td>17</td>\n",
              "      <td>17</td>\n",
              "      <td>967.2</td>\n",
              "      <td>713</td>\n",
              "      <td>56.894118</td>\n",
              "      <td>0.023843</td>\n",
              "    </tr>\n",
              "    <tr>\n",
              "      <th>2</th>\n",
              "      <td>2019-08-02</td>\n",
              "      <td>A</td>\n",
              "      <td>42</td>\n",
              "      <td>36</td>\n",
              "      <td>3734.9</td>\n",
              "      <td>1338</td>\n",
              "      <td>88.926190</td>\n",
              "      <td>0.031390</td>\n",
              "    </tr>\n",
              "    <tr>\n",
              "      <th>3</th>\n",
              "      <td>2019-08-02</td>\n",
              "      <td>B</td>\n",
              "      <td>40</td>\n",
              "      <td>39</td>\n",
              "      <td>3535.3</td>\n",
              "      <td>1294</td>\n",
              "      <td>88.382500</td>\n",
              "      <td>0.030912</td>\n",
              "    </tr>\n",
              "    <tr>\n",
              "      <th>4</th>\n",
              "      <td>2019-08-03</td>\n",
              "      <td>A</td>\n",
              "      <td>66</td>\n",
              "      <td>60</td>\n",
              "      <td>5550.1</td>\n",
              "      <td>1845</td>\n",
              "      <td>84.092424</td>\n",
              "      <td>0.035772</td>\n",
              "    </tr>\n",
              "  </tbody>\n",
              "</table>\n",
              "</div>\n",
              "      <button class=\"colab-df-convert\" onclick=\"convertToInteractive('df-8bad69c6-8b4f-480d-839d-63a141c262d1')\"\n",
              "              title=\"Convert this dataframe to an interactive table.\"\n",
              "              style=\"display:none;\">\n",
              "        \n",
              "  <svg xmlns=\"http://www.w3.org/2000/svg\" height=\"24px\"viewBox=\"0 0 24 24\"\n",
              "       width=\"24px\">\n",
              "    <path d=\"M0 0h24v24H0V0z\" fill=\"none\"/>\n",
              "    <path d=\"M18.56 5.44l.94 2.06.94-2.06 2.06-.94-2.06-.94-.94-2.06-.94 2.06-2.06.94zm-11 1L8.5 8.5l.94-2.06 2.06-.94-2.06-.94L8.5 2.5l-.94 2.06-2.06.94zm10 10l.94 2.06.94-2.06 2.06-.94-2.06-.94-.94-2.06-.94 2.06-2.06.94z\"/><path d=\"M17.41 7.96l-1.37-1.37c-.4-.4-.92-.59-1.43-.59-.52 0-1.04.2-1.43.59L10.3 9.45l-7.72 7.72c-.78.78-.78 2.05 0 2.83L4 21.41c.39.39.9.59 1.41.59.51 0 1.02-.2 1.41-.59l7.78-7.78 2.81-2.81c.8-.78.8-2.07 0-2.86zM5.41 20L4 18.59l7.72-7.72 1.47 1.35L5.41 20z\"/>\n",
              "  </svg>\n",
              "      </button>\n",
              "      \n",
              "  <style>\n",
              "    .colab-df-container {\n",
              "      display:flex;\n",
              "      flex-wrap:wrap;\n",
              "      gap: 12px;\n",
              "    }\n",
              "\n",
              "    .colab-df-convert {\n",
              "      background-color: #E8F0FE;\n",
              "      border: none;\n",
              "      border-radius: 50%;\n",
              "      cursor: pointer;\n",
              "      display: none;\n",
              "      fill: #1967D2;\n",
              "      height: 32px;\n",
              "      padding: 0 0 0 0;\n",
              "      width: 32px;\n",
              "    }\n",
              "\n",
              "    .colab-df-convert:hover {\n",
              "      background-color: #E2EBFA;\n",
              "      box-shadow: 0px 1px 2px rgba(60, 64, 67, 0.3), 0px 1px 3px 1px rgba(60, 64, 67, 0.15);\n",
              "      fill: #174EA6;\n",
              "    }\n",
              "\n",
              "    [theme=dark] .colab-df-convert {\n",
              "      background-color: #3B4455;\n",
              "      fill: #D2E3FC;\n",
              "    }\n",
              "\n",
              "    [theme=dark] .colab-df-convert:hover {\n",
              "      background-color: #434B5C;\n",
              "      box-shadow: 0px 1px 3px 1px rgba(0, 0, 0, 0.15);\n",
              "      filter: drop-shadow(0px 1px 2px rgba(0, 0, 0, 0.3));\n",
              "      fill: #FFFFFF;\n",
              "    }\n",
              "  </style>\n",
              "\n",
              "      <script>\n",
              "        const buttonEl =\n",
              "          document.querySelector('#df-8bad69c6-8b4f-480d-839d-63a141c262d1 button.colab-df-convert');\n",
              "        buttonEl.style.display =\n",
              "          google.colab.kernel.accessAllowed ? 'block' : 'none';\n",
              "\n",
              "        async function convertToInteractive(key) {\n",
              "          const element = document.querySelector('#df-8bad69c6-8b4f-480d-839d-63a141c262d1');\n",
              "          const dataTable =\n",
              "            await google.colab.kernel.invokeFunction('convertToInteractive',\n",
              "                                                     [key], {});\n",
              "          if (!dataTable) return;\n",
              "\n",
              "          const docLinkHtml = 'Like what you see? Visit the ' +\n",
              "            '<a target=\"_blank\" href=https://colab.research.google.com/notebooks/data_table.ipynb>data table notebook</a>'\n",
              "            + ' to learn more about interactive tables.';\n",
              "          element.innerHTML = '';\n",
              "          dataTable['output_type'] = 'display_data';\n",
              "          await google.colab.output.renderOutput(dataTable, element);\n",
              "          const docLink = document.createElement('div');\n",
              "          docLink.innerHTML = docLinkHtml;\n",
              "          element.appendChild(docLink);\n",
              "        }\n",
              "      </script>\n",
              "    </div>\n",
              "  </div>\n",
              "  "
            ]
          },
          "metadata": {},
          "execution_count": 29
        }
      ],
      "source": [
        "# Calculate the conversion rate to a separate column\n",
        "data_cumulation['conversion'] = data_cumulation['n_transactions'] / data_cumulation['visits']\n",
        "data_cumulation.head()"
      ]
    },
    {
      "cell_type": "code",
      "execution_count": 30,
      "metadata": {
        "colab": {
          "base_uri": "https://localhost:8080/",
          "height": 542
        },
        "id": "HLAo6kZacAtC",
        "outputId": "2093a761-abe5-4770-9311-0741e9997a5f"
      },
      "outputs": [
        {
          "output_type": "display_data",
          "data": {
            "text/html": [
              "<html>\n",
              "<head><meta charset=\"utf-8\" /></head>\n",
              "<body>\n",
              "    <div>            <script src=\"https://cdnjs.cloudflare.com/ajax/libs/mathjax/2.7.5/MathJax.js?config=TeX-AMS-MML_SVG\"></script><script type=\"text/javascript\">if (window.MathJax) {MathJax.Hub.Config({SVG: {font: \"STIX-Web\"}});}</script>                <script type=\"text/javascript\">window.PlotlyConfig = {MathJaxConfig: 'local'};</script>\n",
              "        <script src=\"https://cdn.plot.ly/plotly-2.8.3.min.js\"></script>                <div id=\"4d678b57-6e64-443f-aa92-f7a3cd39cd45\" class=\"plotly-graph-div\" style=\"height:525px; width:100%;\"></div>            <script type=\"text/javascript\">                                    window.PLOTLYENV=window.PLOTLYENV || {};                                    if (document.getElementById(\"4d678b57-6e64-443f-aa92-f7a3cd39cd45\")) {                    Plotly.newPlot(                        \"4d678b57-6e64-443f-aa92-f7a3cd39cd45\",                        [{\"hovertemplate\":\"group=A<br>Dates=%{x}<br>Conversion to purchase=%{y}<extra></extra>\",\"legendgroup\":\"A\",\"line\":{\"color\":\"#636efa\",\"dash\":\"solid\"},\"marker\":{\"symbol\":\"circle\"},\"mode\":\"markers+lines\",\"name\":\"A\",\"orientation\":\"v\",\"showlegend\":true,\"x\":[\"2019-08-01T00:00:00\",\"2019-08-02T00:00:00\",\"2019-08-03T00:00:00\",\"2019-08-04T00:00:00\",\"2019-08-05T00:00:00\",\"2019-08-06T00:00:00\",\"2019-08-07T00:00:00\",\"2019-08-08T00:00:00\",\"2019-08-09T00:00:00\",\"2019-08-10T00:00:00\",\"2019-08-11T00:00:00\",\"2019-08-12T00:00:00\",\"2019-08-13T00:00:00\",\"2019-08-14T00:00:00\",\"2019-08-15T00:00:00\",\"2019-08-16T00:00:00\",\"2019-08-17T00:00:00\",\"2019-08-18T00:00:00\",\"2019-08-19T00:00:00\",\"2019-08-20T00:00:00\",\"2019-08-21T00:00:00\",\"2019-08-22T00:00:00\",\"2019-08-23T00:00:00\",\"2019-08-24T00:00:00\",\"2019-08-25T00:00:00\",\"2019-08-26T00:00:00\",\"2019-08-27T00:00:00\",\"2019-08-28T00:00:00\",\"2019-08-29T00:00:00\",\"2019-08-30T00:00:00\",\"2019-08-31T00:00:00\"],\"xaxis\":\"x\",\"y\":[0.031988873435326845,0.03139013452914798,0.03577235772357724,0.030054644808743168,0.029837251356238697,0.028607277289836888,0.028083819399438322,0.0274861614811987,0.02646857923497268,0.027147876077930375,0.025931232091690546,0.026402640264026403,0.025711882734590893,0.025502318392581144,0.02488127193888086,0.02577883945456355,0.025337030308824934,0.024984272490338817,0.02571158311118755,0.025319567354965586,0.025603112840466926,0.025187606805854818,0.025777267178861203,0.025974025974025976,0.025429967208726496,0.025279285030322375,0.025586223742061553,0.025574543311726577,0.025702399270530574,0.025503132449963963,0.02497865072587532],\"yaxis\":\"y\",\"type\":\"scatter\"},{\"hovertemplate\":\"group=B<br>Dates=%{x}<br>Conversion to purchase=%{y}<extra></extra>\",\"legendgroup\":\"B\",\"line\":{\"color\":\"#EF553B\",\"dash\":\"solid\"},\"marker\":{\"symbol\":\"circle\"},\"mode\":\"markers+lines\",\"name\":\"B\",\"orientation\":\"v\",\"showlegend\":true,\"x\":[\"2019-08-01T00:00:00\",\"2019-08-02T00:00:00\",\"2019-08-03T00:00:00\",\"2019-08-04T00:00:00\",\"2019-08-05T00:00:00\",\"2019-08-06T00:00:00\",\"2019-08-07T00:00:00\",\"2019-08-08T00:00:00\",\"2019-08-09T00:00:00\",\"2019-08-10T00:00:00\",\"2019-08-11T00:00:00\",\"2019-08-12T00:00:00\",\"2019-08-13T00:00:00\",\"2019-08-14T00:00:00\",\"2019-08-15T00:00:00\",\"2019-08-16T00:00:00\",\"2019-08-17T00:00:00\",\"2019-08-18T00:00:00\",\"2019-08-19T00:00:00\",\"2019-08-20T00:00:00\",\"2019-08-21T00:00:00\",\"2019-08-22T00:00:00\",\"2019-08-23T00:00:00\",\"2019-08-24T00:00:00\",\"2019-08-25T00:00:00\",\"2019-08-26T00:00:00\",\"2019-08-27T00:00:00\",\"2019-08-28T00:00:00\",\"2019-08-29T00:00:00\",\"2019-08-30T00:00:00\",\"2019-08-31T00:00:00\"],\"xaxis\":\"x\",\"y\":[0.023842917251051893,0.030911901081916538,0.029950083194675542,0.026428293820443063,0.027134146341463414,0.028462515883100382,0.029069767441860465,0.029633824084560213,0.02979011509817197,0.031543731081726936,0.03000857387825093,0.030367325288423286,0.029963898916967508,0.029041519434628977,0.030104166666666668,0.03066014181563967,0.030668966839179607,0.02927222271954167,0.029850746268656716,0.03011949582583074,0.02951685567811092,0.029650990831115054,0.029424307036247335,0.0296234772978959,0.029087062867719973,0.029234955388217427,0.02862676269442595,0.028817604936834138,0.028800542127851818,0.029179030662710187,0.02897018397124128],\"yaxis\":\"y\",\"type\":\"scatter\"}],                        {\"template\":{\"data\":{\"bar\":[{\"error_x\":{\"color\":\"#2a3f5f\"},\"error_y\":{\"color\":\"#2a3f5f\"},\"marker\":{\"line\":{\"color\":\"#E5ECF6\",\"width\":0.5},\"pattern\":{\"fillmode\":\"overlay\",\"size\":10,\"solidity\":0.2}},\"type\":\"bar\"}],\"barpolar\":[{\"marker\":{\"line\":{\"color\":\"#E5ECF6\",\"width\":0.5},\"pattern\":{\"fillmode\":\"overlay\",\"size\":10,\"solidity\":0.2}},\"type\":\"barpolar\"}],\"carpet\":[{\"aaxis\":{\"endlinecolor\":\"#2a3f5f\",\"gridcolor\":\"white\",\"linecolor\":\"white\",\"minorgridcolor\":\"white\",\"startlinecolor\":\"#2a3f5f\"},\"baxis\":{\"endlinecolor\":\"#2a3f5f\",\"gridcolor\":\"white\",\"linecolor\":\"white\",\"minorgridcolor\":\"white\",\"startlinecolor\":\"#2a3f5f\"},\"type\":\"carpet\"}],\"choropleth\":[{\"colorbar\":{\"outlinewidth\":0,\"ticks\":\"\"},\"type\":\"choropleth\"}],\"contour\":[{\"colorbar\":{\"outlinewidth\":0,\"ticks\":\"\"},\"colorscale\":[[0.0,\"#0d0887\"],[0.1111111111111111,\"#46039f\"],[0.2222222222222222,\"#7201a8\"],[0.3333333333333333,\"#9c179e\"],[0.4444444444444444,\"#bd3786\"],[0.5555555555555556,\"#d8576b\"],[0.6666666666666666,\"#ed7953\"],[0.7777777777777778,\"#fb9f3a\"],[0.8888888888888888,\"#fdca26\"],[1.0,\"#f0f921\"]],\"type\":\"contour\"}],\"contourcarpet\":[{\"colorbar\":{\"outlinewidth\":0,\"ticks\":\"\"},\"type\":\"contourcarpet\"}],\"heatmap\":[{\"colorbar\":{\"outlinewidth\":0,\"ticks\":\"\"},\"colorscale\":[[0.0,\"#0d0887\"],[0.1111111111111111,\"#46039f\"],[0.2222222222222222,\"#7201a8\"],[0.3333333333333333,\"#9c179e\"],[0.4444444444444444,\"#bd3786\"],[0.5555555555555556,\"#d8576b\"],[0.6666666666666666,\"#ed7953\"],[0.7777777777777778,\"#fb9f3a\"],[0.8888888888888888,\"#fdca26\"],[1.0,\"#f0f921\"]],\"type\":\"heatmap\"}],\"heatmapgl\":[{\"colorbar\":{\"outlinewidth\":0,\"ticks\":\"\"},\"colorscale\":[[0.0,\"#0d0887\"],[0.1111111111111111,\"#46039f\"],[0.2222222222222222,\"#7201a8\"],[0.3333333333333333,\"#9c179e\"],[0.4444444444444444,\"#bd3786\"],[0.5555555555555556,\"#d8576b\"],[0.6666666666666666,\"#ed7953\"],[0.7777777777777778,\"#fb9f3a\"],[0.8888888888888888,\"#fdca26\"],[1.0,\"#f0f921\"]],\"type\":\"heatmapgl\"}],\"histogram\":[{\"marker\":{\"pattern\":{\"fillmode\":\"overlay\",\"size\":10,\"solidity\":0.2}},\"type\":\"histogram\"}],\"histogram2d\":[{\"colorbar\":{\"outlinewidth\":0,\"ticks\":\"\"},\"colorscale\":[[0.0,\"#0d0887\"],[0.1111111111111111,\"#46039f\"],[0.2222222222222222,\"#7201a8\"],[0.3333333333333333,\"#9c179e\"],[0.4444444444444444,\"#bd3786\"],[0.5555555555555556,\"#d8576b\"],[0.6666666666666666,\"#ed7953\"],[0.7777777777777778,\"#fb9f3a\"],[0.8888888888888888,\"#fdca26\"],[1.0,\"#f0f921\"]],\"type\":\"histogram2d\"}],\"histogram2dcontour\":[{\"colorbar\":{\"outlinewidth\":0,\"ticks\":\"\"},\"colorscale\":[[0.0,\"#0d0887\"],[0.1111111111111111,\"#46039f\"],[0.2222222222222222,\"#7201a8\"],[0.3333333333333333,\"#9c179e\"],[0.4444444444444444,\"#bd3786\"],[0.5555555555555556,\"#d8576b\"],[0.6666666666666666,\"#ed7953\"],[0.7777777777777778,\"#fb9f3a\"],[0.8888888888888888,\"#fdca26\"],[1.0,\"#f0f921\"]],\"type\":\"histogram2dcontour\"}],\"mesh3d\":[{\"colorbar\":{\"outlinewidth\":0,\"ticks\":\"\"},\"type\":\"mesh3d\"}],\"parcoords\":[{\"line\":{\"colorbar\":{\"outlinewidth\":0,\"ticks\":\"\"}},\"type\":\"parcoords\"}],\"pie\":[{\"automargin\":true,\"type\":\"pie\"}],\"scatter\":[{\"marker\":{\"colorbar\":{\"outlinewidth\":0,\"ticks\":\"\"}},\"type\":\"scatter\"}],\"scatter3d\":[{\"line\":{\"colorbar\":{\"outlinewidth\":0,\"ticks\":\"\"}},\"marker\":{\"colorbar\":{\"outlinewidth\":0,\"ticks\":\"\"}},\"type\":\"scatter3d\"}],\"scattercarpet\":[{\"marker\":{\"colorbar\":{\"outlinewidth\":0,\"ticks\":\"\"}},\"type\":\"scattercarpet\"}],\"scattergeo\":[{\"marker\":{\"colorbar\":{\"outlinewidth\":0,\"ticks\":\"\"}},\"type\":\"scattergeo\"}],\"scattergl\":[{\"marker\":{\"colorbar\":{\"outlinewidth\":0,\"ticks\":\"\"}},\"type\":\"scattergl\"}],\"scattermapbox\":[{\"marker\":{\"colorbar\":{\"outlinewidth\":0,\"ticks\":\"\"}},\"type\":\"scattermapbox\"}],\"scatterpolar\":[{\"marker\":{\"colorbar\":{\"outlinewidth\":0,\"ticks\":\"\"}},\"type\":\"scatterpolar\"}],\"scatterpolargl\":[{\"marker\":{\"colorbar\":{\"outlinewidth\":0,\"ticks\":\"\"}},\"type\":\"scatterpolargl\"}],\"scatterternary\":[{\"marker\":{\"colorbar\":{\"outlinewidth\":0,\"ticks\":\"\"}},\"type\":\"scatterternary\"}],\"surface\":[{\"colorbar\":{\"outlinewidth\":0,\"ticks\":\"\"},\"colorscale\":[[0.0,\"#0d0887\"],[0.1111111111111111,\"#46039f\"],[0.2222222222222222,\"#7201a8\"],[0.3333333333333333,\"#9c179e\"],[0.4444444444444444,\"#bd3786\"],[0.5555555555555556,\"#d8576b\"],[0.6666666666666666,\"#ed7953\"],[0.7777777777777778,\"#fb9f3a\"],[0.8888888888888888,\"#fdca26\"],[1.0,\"#f0f921\"]],\"type\":\"surface\"}],\"table\":[{\"cells\":{\"fill\":{\"color\":\"#EBF0F8\"},\"line\":{\"color\":\"white\"}},\"header\":{\"fill\":{\"color\":\"#C8D4E3\"},\"line\":{\"color\":\"white\"}},\"type\":\"table\"}]},\"layout\":{\"annotationdefaults\":{\"arrowcolor\":\"#2a3f5f\",\"arrowhead\":0,\"arrowwidth\":1},\"autotypenumbers\":\"strict\",\"coloraxis\":{\"colorbar\":{\"outlinewidth\":0,\"ticks\":\"\"}},\"colorscale\":{\"diverging\":[[0,\"#8e0152\"],[0.1,\"#c51b7d\"],[0.2,\"#de77ae\"],[0.3,\"#f1b6da\"],[0.4,\"#fde0ef\"],[0.5,\"#f7f7f7\"],[0.6,\"#e6f5d0\"],[0.7,\"#b8e186\"],[0.8,\"#7fbc41\"],[0.9,\"#4d9221\"],[1,\"#276419\"]],\"sequential\":[[0.0,\"#0d0887\"],[0.1111111111111111,\"#46039f\"],[0.2222222222222222,\"#7201a8\"],[0.3333333333333333,\"#9c179e\"],[0.4444444444444444,\"#bd3786\"],[0.5555555555555556,\"#d8576b\"],[0.6666666666666666,\"#ed7953\"],[0.7777777777777778,\"#fb9f3a\"],[0.8888888888888888,\"#fdca26\"],[1.0,\"#f0f921\"]],\"sequentialminus\":[[0.0,\"#0d0887\"],[0.1111111111111111,\"#46039f\"],[0.2222222222222222,\"#7201a8\"],[0.3333333333333333,\"#9c179e\"],[0.4444444444444444,\"#bd3786\"],[0.5555555555555556,\"#d8576b\"],[0.6666666666666666,\"#ed7953\"],[0.7777777777777778,\"#fb9f3a\"],[0.8888888888888888,\"#fdca26\"],[1.0,\"#f0f921\"]]},\"colorway\":[\"#636efa\",\"#EF553B\",\"#00cc96\",\"#ab63fa\",\"#FFA15A\",\"#19d3f3\",\"#FF6692\",\"#B6E880\",\"#FF97FF\",\"#FECB52\"],\"font\":{\"color\":\"#2a3f5f\"},\"geo\":{\"bgcolor\":\"white\",\"lakecolor\":\"white\",\"landcolor\":\"#E5ECF6\",\"showlakes\":true,\"showland\":true,\"subunitcolor\":\"white\"},\"hoverlabel\":{\"align\":\"left\"},\"hovermode\":\"closest\",\"mapbox\":{\"style\":\"light\"},\"paper_bgcolor\":\"white\",\"plot_bgcolor\":\"#E5ECF6\",\"polar\":{\"angularaxis\":{\"gridcolor\":\"white\",\"linecolor\":\"white\",\"ticks\":\"\"},\"bgcolor\":\"#E5ECF6\",\"radialaxis\":{\"gridcolor\":\"white\",\"linecolor\":\"white\",\"ticks\":\"\"}},\"scene\":{\"xaxis\":{\"backgroundcolor\":\"#E5ECF6\",\"gridcolor\":\"white\",\"gridwidth\":2,\"linecolor\":\"white\",\"showbackground\":true,\"ticks\":\"\",\"zerolinecolor\":\"white\"},\"yaxis\":{\"backgroundcolor\":\"#E5ECF6\",\"gridcolor\":\"white\",\"gridwidth\":2,\"linecolor\":\"white\",\"showbackground\":true,\"ticks\":\"\",\"zerolinecolor\":\"white\"},\"zaxis\":{\"backgroundcolor\":\"#E5ECF6\",\"gridcolor\":\"white\",\"gridwidth\":2,\"linecolor\":\"white\",\"showbackground\":true,\"ticks\":\"\",\"zerolinecolor\":\"white\"}},\"shapedefaults\":{\"line\":{\"color\":\"#2a3f5f\"}},\"ternary\":{\"aaxis\":{\"gridcolor\":\"white\",\"linecolor\":\"white\",\"ticks\":\"\"},\"baxis\":{\"gridcolor\":\"white\",\"linecolor\":\"white\",\"ticks\":\"\"},\"bgcolor\":\"#E5ECF6\",\"caxis\":{\"gridcolor\":\"white\",\"linecolor\":\"white\",\"ticks\":\"\"}},\"title\":{\"x\":0.05},\"xaxis\":{\"automargin\":true,\"gridcolor\":\"white\",\"linecolor\":\"white\",\"ticks\":\"\",\"title\":{\"standoff\":15},\"zerolinecolor\":\"white\",\"zerolinewidth\":2},\"yaxis\":{\"automargin\":true,\"gridcolor\":\"white\",\"linecolor\":\"white\",\"ticks\":\"\",\"title\":{\"standoff\":15},\"zerolinecolor\":\"white\",\"zerolinewidth\":2}}},\"xaxis\":{\"anchor\":\"y\",\"domain\":[0.0,1.0],\"title\":{\"text\":\"Dates\"}},\"yaxis\":{\"anchor\":\"x\",\"domain\":[0.0,1.0],\"title\":{\"text\":\"Conversion to purchase\"}},\"legend\":{\"title\":{\"text\":\"group\"},\"tracegroupgap\":0},\"title\":{\"text\":\"Conversion rate dynamics\"}},                        {\"responsive\": true}                    ).then(function(){\n",
              "                            \n",
              "var gd = document.getElementById('4d678b57-6e64-443f-aa92-f7a3cd39cd45');\n",
              "var x = new MutationObserver(function (mutations, observer) {{\n",
              "        var display = window.getComputedStyle(gd).display;\n",
              "        if (!display || display === 'none') {{\n",
              "            console.log([gd, 'removed!']);\n",
              "            Plotly.purge(gd);\n",
              "            observer.disconnect();\n",
              "        }}\n",
              "}});\n",
              "\n",
              "// Listen for the removal of the full notebook cells\n",
              "var notebookContainer = gd.closest('#notebook-container');\n",
              "if (notebookContainer) {{\n",
              "    x.observe(notebookContainer, {childList: true});\n",
              "}}\n",
              "\n",
              "// Listen for the clearing of the current output cell\n",
              "var outputEl = gd.closest('.output');\n",
              "if (outputEl) {{\n",
              "    x.observe(outputEl, {childList: true});\n",
              "}}\n",
              "\n",
              "                        })                };                            </script>        </div>\n",
              "</body>\n",
              "</html>"
            ]
          },
          "metadata": {}
        }
      ],
      "source": [
        "fig = px.line(data_cumulation, x='date', y='conversion', color='group', markers=True, \n",
        "              title = 'Conversion rate dynamics',\n",
        "              labels=dict(date='Dates', conversion='Conversion to purchase'))\n",
        "fig.show()"
      ]
    },
    {
      "cell_type": "markdown",
      "metadata": {
        "id": "cv4Q7wqLcgrp"
      },
      "source": [
        "Group B started with a comparatively lower conversion rate than group A, but it increased around August 6-th and shows a steadily higher conversion. Both lines look like they are stabilizing. Lets' have a look at their relative difference."
      ]
    },
    {
      "cell_type": "code",
      "execution_count": 31,
      "metadata": {
        "colab": {
          "base_uri": "https://localhost:8080/",
          "height": 542
        },
        "id": "gKXhvnrVYIde",
        "outputId": "5770f948-3467-4aa1-b42d-26a659d2a889"
      },
      "outputs": [
        {
          "output_type": "display_data",
          "data": {
            "text/html": [
              "<html>\n",
              "<head><meta charset=\"utf-8\" /></head>\n",
              "<body>\n",
              "    <div>            <script src=\"https://cdnjs.cloudflare.com/ajax/libs/mathjax/2.7.5/MathJax.js?config=TeX-AMS-MML_SVG\"></script><script type=\"text/javascript\">if (window.MathJax) {MathJax.Hub.Config({SVG: {font: \"STIX-Web\"}});}</script>                <script type=\"text/javascript\">window.PlotlyConfig = {MathJaxConfig: 'local'};</script>\n",
              "        <script src=\"https://cdn.plot.ly/plotly-2.8.3.min.js\"></script>                <div id=\"bd5bf725-e068-49ea-ad47-fb35f3b696c7\" class=\"plotly-graph-div\" style=\"height:525px; width:100%;\"></div>            <script type=\"text/javascript\">                                    window.PLOTLYENV=window.PLOTLYENV || {};                                    if (document.getElementById(\"bd5bf725-e068-49ea-ad47-fb35f3b696c7\")) {                    Plotly.newPlot(                        \"bd5bf725-e068-49ea-ad47-fb35f3b696c7\",                        [{\"hovertemplate\":\"date=%{x}<br>y=%{y}<extra></extra>\",\"legendgroup\":\"\",\"line\":{\"color\":\"#636efa\",\"dash\":\"solid\"},\"marker\":{\"symbol\":\"circle\"},\"mode\":\"lines\",\"name\":\"\",\"orientation\":\"v\",\"showlegend\":false,\"x\":[\"2019-08-01T00:00:00\",\"2019-08-02T00:00:00\",\"2019-08-03T00:00:00\",\"2019-08-04T00:00:00\",\"2019-08-05T00:00:00\",\"2019-08-06T00:00:00\",\"2019-08-07T00:00:00\",\"2019-08-08T00:00:00\",\"2019-08-09T00:00:00\",\"2019-08-10T00:00:00\",\"2019-08-11T00:00:00\",\"2019-08-12T00:00:00\",\"2019-08-13T00:00:00\",\"2019-08-14T00:00:00\",\"2019-08-15T00:00:00\",\"2019-08-16T00:00:00\",\"2019-08-17T00:00:00\",\"2019-08-18T00:00:00\",\"2019-08-19T00:00:00\",\"2019-08-20T00:00:00\",\"2019-08-21T00:00:00\",\"2019-08-22T00:00:00\",\"2019-08-23T00:00:00\",\"2019-08-24T00:00:00\",\"2019-08-25T00:00:00\",\"2019-08-26T00:00:00\",\"2019-08-27T00:00:00\",\"2019-08-28T00:00:00\",\"2019-08-29T00:00:00\",\"2019-08-30T00:00:00\",\"2019-08-31T00:00:00\"],\"xaxis\":\"x\",\"y\":[-0.2546496737605952,-0.015235151247516066,-0.16275903796702462,-0.12065858742889446,-0.09059497413155948,-0.005060300051271671,0.03510733452593917,0.07813614152090942,0.12548976783803245,0.16192261196337676,0.15723671640989778,0.150162445299032,0.16537163871925498,0.13877958025484527,0.20991269017980652,0.1893530688097751,0.21044046856973408,0.17162597913791422,0.16098437577996294,0.1895738739755286,0.15286199229095843,0.17720556223002215,0.14148279691870935,0.14050387596899205,0.1438104748219462,0.1564787276677424,0.11883500210959275,0.12680819303703994,0.12053905258850528,0.1441351653550078,0.1597977924896936],\"yaxis\":\"y\",\"type\":\"scatter\"}],                        {\"template\":{\"data\":{\"bar\":[{\"error_x\":{\"color\":\"#2a3f5f\"},\"error_y\":{\"color\":\"#2a3f5f\"},\"marker\":{\"line\":{\"color\":\"#E5ECF6\",\"width\":0.5},\"pattern\":{\"fillmode\":\"overlay\",\"size\":10,\"solidity\":0.2}},\"type\":\"bar\"}],\"barpolar\":[{\"marker\":{\"line\":{\"color\":\"#E5ECF6\",\"width\":0.5},\"pattern\":{\"fillmode\":\"overlay\",\"size\":10,\"solidity\":0.2}},\"type\":\"barpolar\"}],\"carpet\":[{\"aaxis\":{\"endlinecolor\":\"#2a3f5f\",\"gridcolor\":\"white\",\"linecolor\":\"white\",\"minorgridcolor\":\"white\",\"startlinecolor\":\"#2a3f5f\"},\"baxis\":{\"endlinecolor\":\"#2a3f5f\",\"gridcolor\":\"white\",\"linecolor\":\"white\",\"minorgridcolor\":\"white\",\"startlinecolor\":\"#2a3f5f\"},\"type\":\"carpet\"}],\"choropleth\":[{\"colorbar\":{\"outlinewidth\":0,\"ticks\":\"\"},\"type\":\"choropleth\"}],\"contour\":[{\"colorbar\":{\"outlinewidth\":0,\"ticks\":\"\"},\"colorscale\":[[0.0,\"#0d0887\"],[0.1111111111111111,\"#46039f\"],[0.2222222222222222,\"#7201a8\"],[0.3333333333333333,\"#9c179e\"],[0.4444444444444444,\"#bd3786\"],[0.5555555555555556,\"#d8576b\"],[0.6666666666666666,\"#ed7953\"],[0.7777777777777778,\"#fb9f3a\"],[0.8888888888888888,\"#fdca26\"],[1.0,\"#f0f921\"]],\"type\":\"contour\"}],\"contourcarpet\":[{\"colorbar\":{\"outlinewidth\":0,\"ticks\":\"\"},\"type\":\"contourcarpet\"}],\"heatmap\":[{\"colorbar\":{\"outlinewidth\":0,\"ticks\":\"\"},\"colorscale\":[[0.0,\"#0d0887\"],[0.1111111111111111,\"#46039f\"],[0.2222222222222222,\"#7201a8\"],[0.3333333333333333,\"#9c179e\"],[0.4444444444444444,\"#bd3786\"],[0.5555555555555556,\"#d8576b\"],[0.6666666666666666,\"#ed7953\"],[0.7777777777777778,\"#fb9f3a\"],[0.8888888888888888,\"#fdca26\"],[1.0,\"#f0f921\"]],\"type\":\"heatmap\"}],\"heatmapgl\":[{\"colorbar\":{\"outlinewidth\":0,\"ticks\":\"\"},\"colorscale\":[[0.0,\"#0d0887\"],[0.1111111111111111,\"#46039f\"],[0.2222222222222222,\"#7201a8\"],[0.3333333333333333,\"#9c179e\"],[0.4444444444444444,\"#bd3786\"],[0.5555555555555556,\"#d8576b\"],[0.6666666666666666,\"#ed7953\"],[0.7777777777777778,\"#fb9f3a\"],[0.8888888888888888,\"#fdca26\"],[1.0,\"#f0f921\"]],\"type\":\"heatmapgl\"}],\"histogram\":[{\"marker\":{\"pattern\":{\"fillmode\":\"overlay\",\"size\":10,\"solidity\":0.2}},\"type\":\"histogram\"}],\"histogram2d\":[{\"colorbar\":{\"outlinewidth\":0,\"ticks\":\"\"},\"colorscale\":[[0.0,\"#0d0887\"],[0.1111111111111111,\"#46039f\"],[0.2222222222222222,\"#7201a8\"],[0.3333333333333333,\"#9c179e\"],[0.4444444444444444,\"#bd3786\"],[0.5555555555555556,\"#d8576b\"],[0.6666666666666666,\"#ed7953\"],[0.7777777777777778,\"#fb9f3a\"],[0.8888888888888888,\"#fdca26\"],[1.0,\"#f0f921\"]],\"type\":\"histogram2d\"}],\"histogram2dcontour\":[{\"colorbar\":{\"outlinewidth\":0,\"ticks\":\"\"},\"colorscale\":[[0.0,\"#0d0887\"],[0.1111111111111111,\"#46039f\"],[0.2222222222222222,\"#7201a8\"],[0.3333333333333333,\"#9c179e\"],[0.4444444444444444,\"#bd3786\"],[0.5555555555555556,\"#d8576b\"],[0.6666666666666666,\"#ed7953\"],[0.7777777777777778,\"#fb9f3a\"],[0.8888888888888888,\"#fdca26\"],[1.0,\"#f0f921\"]],\"type\":\"histogram2dcontour\"}],\"mesh3d\":[{\"colorbar\":{\"outlinewidth\":0,\"ticks\":\"\"},\"type\":\"mesh3d\"}],\"parcoords\":[{\"line\":{\"colorbar\":{\"outlinewidth\":0,\"ticks\":\"\"}},\"type\":\"parcoords\"}],\"pie\":[{\"automargin\":true,\"type\":\"pie\"}],\"scatter\":[{\"marker\":{\"colorbar\":{\"outlinewidth\":0,\"ticks\":\"\"}},\"type\":\"scatter\"}],\"scatter3d\":[{\"line\":{\"colorbar\":{\"outlinewidth\":0,\"ticks\":\"\"}},\"marker\":{\"colorbar\":{\"outlinewidth\":0,\"ticks\":\"\"}},\"type\":\"scatter3d\"}],\"scattercarpet\":[{\"marker\":{\"colorbar\":{\"outlinewidth\":0,\"ticks\":\"\"}},\"type\":\"scattercarpet\"}],\"scattergeo\":[{\"marker\":{\"colorbar\":{\"outlinewidth\":0,\"ticks\":\"\"}},\"type\":\"scattergeo\"}],\"scattergl\":[{\"marker\":{\"colorbar\":{\"outlinewidth\":0,\"ticks\":\"\"}},\"type\":\"scattergl\"}],\"scattermapbox\":[{\"marker\":{\"colorbar\":{\"outlinewidth\":0,\"ticks\":\"\"}},\"type\":\"scattermapbox\"}],\"scatterpolar\":[{\"marker\":{\"colorbar\":{\"outlinewidth\":0,\"ticks\":\"\"}},\"type\":\"scatterpolar\"}],\"scatterpolargl\":[{\"marker\":{\"colorbar\":{\"outlinewidth\":0,\"ticks\":\"\"}},\"type\":\"scatterpolargl\"}],\"scatterternary\":[{\"marker\":{\"colorbar\":{\"outlinewidth\":0,\"ticks\":\"\"}},\"type\":\"scatterternary\"}],\"surface\":[{\"colorbar\":{\"outlinewidth\":0,\"ticks\":\"\"},\"colorscale\":[[0.0,\"#0d0887\"],[0.1111111111111111,\"#46039f\"],[0.2222222222222222,\"#7201a8\"],[0.3333333333333333,\"#9c179e\"],[0.4444444444444444,\"#bd3786\"],[0.5555555555555556,\"#d8576b\"],[0.6666666666666666,\"#ed7953\"],[0.7777777777777778,\"#fb9f3a\"],[0.8888888888888888,\"#fdca26\"],[1.0,\"#f0f921\"]],\"type\":\"surface\"}],\"table\":[{\"cells\":{\"fill\":{\"color\":\"#EBF0F8\"},\"line\":{\"color\":\"white\"}},\"header\":{\"fill\":{\"color\":\"#C8D4E3\"},\"line\":{\"color\":\"white\"}},\"type\":\"table\"}]},\"layout\":{\"annotationdefaults\":{\"arrowcolor\":\"#2a3f5f\",\"arrowhead\":0,\"arrowwidth\":1},\"autotypenumbers\":\"strict\",\"coloraxis\":{\"colorbar\":{\"outlinewidth\":0,\"ticks\":\"\"}},\"colorscale\":{\"diverging\":[[0,\"#8e0152\"],[0.1,\"#c51b7d\"],[0.2,\"#de77ae\"],[0.3,\"#f1b6da\"],[0.4,\"#fde0ef\"],[0.5,\"#f7f7f7\"],[0.6,\"#e6f5d0\"],[0.7,\"#b8e186\"],[0.8,\"#7fbc41\"],[0.9,\"#4d9221\"],[1,\"#276419\"]],\"sequential\":[[0.0,\"#0d0887\"],[0.1111111111111111,\"#46039f\"],[0.2222222222222222,\"#7201a8\"],[0.3333333333333333,\"#9c179e\"],[0.4444444444444444,\"#bd3786\"],[0.5555555555555556,\"#d8576b\"],[0.6666666666666666,\"#ed7953\"],[0.7777777777777778,\"#fb9f3a\"],[0.8888888888888888,\"#fdca26\"],[1.0,\"#f0f921\"]],\"sequentialminus\":[[0.0,\"#0d0887\"],[0.1111111111111111,\"#46039f\"],[0.2222222222222222,\"#7201a8\"],[0.3333333333333333,\"#9c179e\"],[0.4444444444444444,\"#bd3786\"],[0.5555555555555556,\"#d8576b\"],[0.6666666666666666,\"#ed7953\"],[0.7777777777777778,\"#fb9f3a\"],[0.8888888888888888,\"#fdca26\"],[1.0,\"#f0f921\"]]},\"colorway\":[\"#636efa\",\"#EF553B\",\"#00cc96\",\"#ab63fa\",\"#FFA15A\",\"#19d3f3\",\"#FF6692\",\"#B6E880\",\"#FF97FF\",\"#FECB52\"],\"font\":{\"color\":\"#2a3f5f\"},\"geo\":{\"bgcolor\":\"white\",\"lakecolor\":\"white\",\"landcolor\":\"#E5ECF6\",\"showlakes\":true,\"showland\":true,\"subunitcolor\":\"white\"},\"hoverlabel\":{\"align\":\"left\"},\"hovermode\":\"closest\",\"mapbox\":{\"style\":\"light\"},\"paper_bgcolor\":\"white\",\"plot_bgcolor\":\"#E5ECF6\",\"polar\":{\"angularaxis\":{\"gridcolor\":\"white\",\"linecolor\":\"white\",\"ticks\":\"\"},\"bgcolor\":\"#E5ECF6\",\"radialaxis\":{\"gridcolor\":\"white\",\"linecolor\":\"white\",\"ticks\":\"\"}},\"scene\":{\"xaxis\":{\"backgroundcolor\":\"#E5ECF6\",\"gridcolor\":\"white\",\"gridwidth\":2,\"linecolor\":\"white\",\"showbackground\":true,\"ticks\":\"\",\"zerolinecolor\":\"white\"},\"yaxis\":{\"backgroundcolor\":\"#E5ECF6\",\"gridcolor\":\"white\",\"gridwidth\":2,\"linecolor\":\"white\",\"showbackground\":true,\"ticks\":\"\",\"zerolinecolor\":\"white\"},\"zaxis\":{\"backgroundcolor\":\"#E5ECF6\",\"gridcolor\":\"white\",\"gridwidth\":2,\"linecolor\":\"white\",\"showbackground\":true,\"ticks\":\"\",\"zerolinecolor\":\"white\"}},\"shapedefaults\":{\"line\":{\"color\":\"#2a3f5f\"}},\"ternary\":{\"aaxis\":{\"gridcolor\":\"white\",\"linecolor\":\"white\",\"ticks\":\"\"},\"baxis\":{\"gridcolor\":\"white\",\"linecolor\":\"white\",\"ticks\":\"\"},\"bgcolor\":\"#E5ECF6\",\"caxis\":{\"gridcolor\":\"white\",\"linecolor\":\"white\",\"ticks\":\"\"}},\"title\":{\"x\":0.05},\"xaxis\":{\"automargin\":true,\"gridcolor\":\"white\",\"linecolor\":\"white\",\"ticks\":\"\",\"title\":{\"standoff\":15},\"zerolinecolor\":\"white\",\"zerolinewidth\":2},\"yaxis\":{\"automargin\":true,\"gridcolor\":\"white\",\"linecolor\":\"white\",\"ticks\":\"\",\"title\":{\"standoff\":15},\"zerolinecolor\":\"white\",\"zerolinewidth\":2}}},\"xaxis\":{\"anchor\":\"y\",\"domain\":[0.0,1.0],\"title\":{\"text\":\"Dates\"}},\"yaxis\":{\"anchor\":\"x\",\"domain\":[0.0,1.0],\"title\":{\"text\":\"Relative difference\"}},\"legend\":{\"tracegroupgap\":0},\"title\":{\"text\":\"Relative difference in the cumulative conversion of group B to group A\"},\"shapes\":[{\"line\":{\"dash\":\"dash\"},\"type\":\"line\",\"x0\":0,\"x1\":1,\"xref\":\"x domain\",\"y0\":0,\"y1\":0,\"yref\":\"y\"},{\"line\":{\"dash\":\"dash\"},\"type\":\"line\",\"x0\":0,\"x1\":1,\"xref\":\"x domain\",\"y0\":-0.1,\"y1\":-0.1,\"yref\":\"y\"}]},                        {\"responsive\": true}                    ).then(function(){\n",
              "                            \n",
              "var gd = document.getElementById('bd5bf725-e068-49ea-ad47-fb35f3b696c7');\n",
              "var x = new MutationObserver(function (mutations, observer) {{\n",
              "        var display = window.getComputedStyle(gd).display;\n",
              "        if (!display || display === 'none') {{\n",
              "            console.log([gd, 'removed!']);\n",
              "            Plotly.purge(gd);\n",
              "            observer.disconnect();\n",
              "        }}\n",
              "}});\n",
              "\n",
              "// Listen for the removal of the full notebook cells\n",
              "var notebookContainer = gd.closest('#notebook-container');\n",
              "if (notebookContainer) {{\n",
              "    x.observe(notebookContainer, {childList: true});\n",
              "}}\n",
              "\n",
              "// Listen for the clearing of the current output cell\n",
              "var outputEl = gd.closest('.output');\n",
              "if (outputEl) {{\n",
              "    x.observe(outputEl, {childList: true});\n",
              "}}\n",
              "\n",
              "                        })                };                            </script>        </div>\n",
              "</body>\n",
              "</html>"
            ]
          },
          "metadata": {}
        }
      ],
      "source": [
        "fig = px.line(AB_revenue_table, y=(\n",
        "    AB_revenue_table['n_transactionsB'] / AB_revenue_table['visitsB']) / (AB_revenue_table['n_transactionsA'] / AB_revenue_table['visitsA']) - 1, \n",
        "    x='date', title='Relative difference in the cumulative conversion of group B to group A')\n",
        "fig.add_hline(y=0, line_dash='dash')\n",
        "fig.add_hline(y=-0.1, line_dash='dash')\n",
        "fig.update_xaxes(title_text='Dates')\n",
        "fig.update_yaxes(title_text='Relative difference')\n",
        "fig.show()"
      ]
    },
    {
      "cell_type": "markdown",
      "metadata": {
        "id": "jJppcHwFZlE9"
      },
      "source": [
        "Group B conversion is consistently better than of group A by aproximatly 15% after August, 10-th from the start of the test."
      ]
    },
    {
      "cell_type": "markdown",
      "metadata": {
        "id": "FtZuwPtodKnf"
      },
      "source": [
        "### **Plot a scatter chart of the number of orders per user. Make conclusions and conjectures.**"
      ]
    },
    {
      "cell_type": "code",
      "execution_count": 32,
      "metadata": {
        "colab": {
          "base_uri": "https://localhost:8080/",
          "height": 206
        },
        "id": "obVfsAM86Hdr",
        "outputId": "ee190049-c749-4d47-f735-de3666c88ac9"
      },
      "outputs": [
        {
          "output_type": "execute_result",
          "data": {
            "text/plain": [
              "      visitorId  orders\n",
              "908  3967698036  3     \n",
              "55   249864742   3     \n",
              "478  2108163459  3     \n",
              "687  2988190573  3     \n",
              "890  3908431265  3     "
            ],
            "text/html": [
              "\n",
              "  <div id=\"df-c467295b-bd51-4af1-983b-634f5760cea4\">\n",
              "    <div class=\"colab-df-container\">\n",
              "      <div>\n",
              "<style scoped>\n",
              "    .dataframe tbody tr th:only-of-type {\n",
              "        vertical-align: middle;\n",
              "    }\n",
              "\n",
              "    .dataframe tbody tr th {\n",
              "        vertical-align: top;\n",
              "    }\n",
              "\n",
              "    .dataframe thead th {\n",
              "        text-align: right;\n",
              "    }\n",
              "</style>\n",
              "<table border=\"1\" class=\"dataframe\">\n",
              "  <thead>\n",
              "    <tr style=\"text-align: right;\">\n",
              "      <th></th>\n",
              "      <th>visitorId</th>\n",
              "      <th>orders</th>\n",
              "    </tr>\n",
              "  </thead>\n",
              "  <tbody>\n",
              "    <tr>\n",
              "      <th>908</th>\n",
              "      <td>3967698036</td>\n",
              "      <td>3</td>\n",
              "    </tr>\n",
              "    <tr>\n",
              "      <th>55</th>\n",
              "      <td>249864742</td>\n",
              "      <td>3</td>\n",
              "    </tr>\n",
              "    <tr>\n",
              "      <th>478</th>\n",
              "      <td>2108163459</td>\n",
              "      <td>3</td>\n",
              "    </tr>\n",
              "    <tr>\n",
              "      <th>687</th>\n",
              "      <td>2988190573</td>\n",
              "      <td>3</td>\n",
              "    </tr>\n",
              "    <tr>\n",
              "      <th>890</th>\n",
              "      <td>3908431265</td>\n",
              "      <td>3</td>\n",
              "    </tr>\n",
              "  </tbody>\n",
              "</table>\n",
              "</div>\n",
              "      <button class=\"colab-df-convert\" onclick=\"convertToInteractive('df-c467295b-bd51-4af1-983b-634f5760cea4')\"\n",
              "              title=\"Convert this dataframe to an interactive table.\"\n",
              "              style=\"display:none;\">\n",
              "        \n",
              "  <svg xmlns=\"http://www.w3.org/2000/svg\" height=\"24px\"viewBox=\"0 0 24 24\"\n",
              "       width=\"24px\">\n",
              "    <path d=\"M0 0h24v24H0V0z\" fill=\"none\"/>\n",
              "    <path d=\"M18.56 5.44l.94 2.06.94-2.06 2.06-.94-2.06-.94-.94-2.06-.94 2.06-2.06.94zm-11 1L8.5 8.5l.94-2.06 2.06-.94-2.06-.94L8.5 2.5l-.94 2.06-2.06.94zm10 10l.94 2.06.94-2.06 2.06-.94-2.06-.94-.94-2.06-.94 2.06-2.06.94z\"/><path d=\"M17.41 7.96l-1.37-1.37c-.4-.4-.92-.59-1.43-.59-.52 0-1.04.2-1.43.59L10.3 9.45l-7.72 7.72c-.78.78-.78 2.05 0 2.83L4 21.41c.39.39.9.59 1.41.59.51 0 1.02-.2 1.41-.59l7.78-7.78 2.81-2.81c.8-.78.8-2.07 0-2.86zM5.41 20L4 18.59l7.72-7.72 1.47 1.35L5.41 20z\"/>\n",
              "  </svg>\n",
              "      </button>\n",
              "      \n",
              "  <style>\n",
              "    .colab-df-container {\n",
              "      display:flex;\n",
              "      flex-wrap:wrap;\n",
              "      gap: 12px;\n",
              "    }\n",
              "\n",
              "    .colab-df-convert {\n",
              "      background-color: #E8F0FE;\n",
              "      border: none;\n",
              "      border-radius: 50%;\n",
              "      cursor: pointer;\n",
              "      display: none;\n",
              "      fill: #1967D2;\n",
              "      height: 32px;\n",
              "      padding: 0 0 0 0;\n",
              "      width: 32px;\n",
              "    }\n",
              "\n",
              "    .colab-df-convert:hover {\n",
              "      background-color: #E2EBFA;\n",
              "      box-shadow: 0px 1px 2px rgba(60, 64, 67, 0.3), 0px 1px 3px 1px rgba(60, 64, 67, 0.15);\n",
              "      fill: #174EA6;\n",
              "    }\n",
              "\n",
              "    [theme=dark] .colab-df-convert {\n",
              "      background-color: #3B4455;\n",
              "      fill: #D2E3FC;\n",
              "    }\n",
              "\n",
              "    [theme=dark] .colab-df-convert:hover {\n",
              "      background-color: #434B5C;\n",
              "      box-shadow: 0px 1px 3px 1px rgba(0, 0, 0, 0.15);\n",
              "      filter: drop-shadow(0px 1px 2px rgba(0, 0, 0, 0.3));\n",
              "      fill: #FFFFFF;\n",
              "    }\n",
              "  </style>\n",
              "\n",
              "      <script>\n",
              "        const buttonEl =\n",
              "          document.querySelector('#df-c467295b-bd51-4af1-983b-634f5760cea4 button.colab-df-convert');\n",
              "        buttonEl.style.display =\n",
              "          google.colab.kernel.accessAllowed ? 'block' : 'none';\n",
              "\n",
              "        async function convertToInteractive(key) {\n",
              "          const element = document.querySelector('#df-c467295b-bd51-4af1-983b-634f5760cea4');\n",
              "          const dataTable =\n",
              "            await google.colab.kernel.invokeFunction('convertToInteractive',\n",
              "                                                     [key], {});\n",
              "          if (!dataTable) return;\n",
              "\n",
              "          const docLinkHtml = 'Like what you see? Visit the ' +\n",
              "            '<a target=\"_blank\" href=https://colab.research.google.com/notebooks/data_table.ipynb>data table notebook</a>'\n",
              "            + ' to learn more about interactive tables.';\n",
              "          element.innerHTML = '';\n",
              "          dataTable['output_type'] = 'display_data';\n",
              "          await google.colab.output.renderOutput(dataTable, element);\n",
              "          const docLink = document.createElement('div');\n",
              "          docLink.innerHTML = docLinkHtml;\n",
              "          element.appendChild(docLink);\n",
              "        }\n",
              "      </script>\n",
              "    </div>\n",
              "  </div>\n",
              "  "
            ]
          },
          "metadata": {},
          "execution_count": 32
        }
      ],
      "source": [
        "orders_by_users = orders.groupby('visitorId', as_index = False).agg({'transactionId':'nunique'}).sort_values(by='transactionId', ascending = False)\n",
        "orders_by_users.columns = ['visitorId', 'orders']\n",
        "orders_by_users.head()"
      ]
    },
    {
      "cell_type": "code",
      "execution_count": 33,
      "metadata": {
        "colab": {
          "base_uri": "https://localhost:8080/",
          "height": 542
        },
        "id": "iMCUitAbB7Pv",
        "outputId": "9291cc5c-8466-47e2-ce10-b5b0b0ac6b3e"
      },
      "outputs": [
        {
          "output_type": "display_data",
          "data": {
            "text/html": [
              "<html>\n",
              "<head><meta charset=\"utf-8\" /></head>\n",
              "<body>\n",
              "    <div>            <script src=\"https://cdnjs.cloudflare.com/ajax/libs/mathjax/2.7.5/MathJax.js?config=TeX-AMS-MML_SVG\"></script><script type=\"text/javascript\">if (window.MathJax) {MathJax.Hub.Config({SVG: {font: \"STIX-Web\"}});}</script>                <script type=\"text/javascript\">window.PlotlyConfig = {MathJaxConfig: 'local'};</script>\n",
              "        <script src=\"https://cdn.plot.ly/plotly-2.8.3.min.js\"></script>                <div id=\"1b38638d-cb0d-418d-bb95-c9c356754800\" class=\"plotly-graph-div\" style=\"height:525px; width:100%;\"></div>            <script type=\"text/javascript\">                                    window.PLOTLYENV=window.PLOTLYENV || {};                                    if (document.getElementById(\"1b38638d-cb0d-418d-bb95-c9c356754800\")) {                    Plotly.newPlot(                        \"1b38638d-cb0d-418d-bb95-c9c356754800\",                        [{\"alignmentgroup\":\"True\",\"bingroup\":\"x\",\"hovertemplate\":\"variable=orders<br>value=%{x}<br>count=%{y}<extra></extra>\",\"legendgroup\":\"orders\",\"marker\":{\"color\":\"#636efa\",\"pattern\":{\"shape\":\"\"}},\"name\":\"orders\",\"offsetgroup\":\"orders\",\"orientation\":\"v\",\"showlegend\":true,\"x\":[3,3,3,3,3,3,3,2,2,2,2,2,2,2,2,2,2,2,2,2,2,2,2,2,2,2,2,2,2,2,2,2,2,2,2,2,1,1,1,1,1,1,1,1,1,1,1,1,1,1,1,1,1,1,1,1,1,1,1,1,1,1,1,1,1,1,1,1,1,1,1,1,1,1,1,1,1,1,1,1,1,1,1,1,1,1,1,1,1,1,1,1,1,1,1,1,1,1,1,1,1,1,1,1,1,1,1,1,1,1,1,1,1,1,1,1,1,1,1,1,1,1,1,1,1,1,1,1,1,1,1,1,1,1,1,1,1,1,1,1,1,1,1,1,1,1,1,1,1,1,1,1,1,1,1,1,1,1,1,1,1,1,1,1,1,1,1,1,1,1,1,1,1,1,1,1,1,1,1,1,1,1,1,1,1,1,1,1,1,1,1,1,1,1,1,1,1,1,1,1,1,1,1,1,1,1,1,1,1,1,1,1,1,1,1,1,1,1,1,1,1,1,1,1,1,1,1,1,1,1,1,1,1,1,1,1,1,1,1,1,1,1,1,1,1,1,1,1,1,1,1,1,1,1,1,1,1,1,1,1,1,1,1,1,1,1,1,1,1,1,1,1,1,1,1,1,1,1,1,1,1,1,1,1,1,1,1,1,1,1,1,1,1,1,1,1,1,1,1,1,1,1,1,1,1,1,1,1,1,1,1,1,1,1,1,1,1,1,1,1,1,1,1,1,1,1,1,1,1,1,1,1,1,1,1,1,1,1,1,1,1,1,1,1,1,1,1,1,1,1,1,1,1,1,1,1,1,1,1,1,1,1,1,1,1,1,1,1,1,1,1,1,1,1,1,1,1,1,1,1,1,1,1,1,1,1,1,1,1,1,1,1,1,1,1,1,1,1,1,1,1,1,1,1,1,1,1,1,1,1,1,1,1,1,1,1,1,1,1,1,1,1,1,1,1,1,1,1,1,1,1,1,1,1,1,1,1,1,1,1,1,1,1,1,1,1,1,1,1,1,1,1,1,1,1,1,1,1,1,1,1,1,1,1,1,1,1,1,1,1,1,1,1,1,1,1,1,1,1,1,1,1,1,1,1,1,1,1,1,1,1,1,1,1,1,1,1,1,1,1,1,1,1,1,1,1,1,1,1,1,1,1,1,1,1,1,1,1,1,1,1,1,1,1,1,1,1,1,1,1,1,1,1,1,1,1,1,1,1,1,1,1,1,1,1,1,1,1,1,1,1,1,1,1,1,1,1,1,1,1,1,1,1,1,1,1,1,1,1,1,1,1,1,1,1,1,1,1,1,1,1,1,1,1,1,1,1,1,1,1,1,1,1,1,1,1,1,1,1,1,1,1,1,1,1,1,1,1,1,1,1,1,1,1,1,1,1,1,1,1,1,1,1,1,1,1,1,1,1,1,1,1,1,1,1,1,1,1,1,1,1,1,1,1,1,1,1,1,1,1,1,1,1,1,1,1,1,1,1,1,1,1,1,1,1,1,1,1,1,1,1,1,1,1,1,1,1,1,1,1,1,1,1,1,1,1,1,1,1,1,1,1,1,1,1,1,1,1,1,1,1,1,1,1,1,1,1,1,1,1,1,1,1,1,1,1,1,1,1,1,1,1,1,1,1,1,1,1,1,1,1,1,1,1,1,1,1,1,1,1,1,1,1,1,1,1,1,1,1,1,1,1,1,1,1,1,1,1,1,1,1,1,1,1,1,1,1,1,1,1,1,1,1,1,1,1,1,1,1,1,1,1,1,1,1,1,1,1,1,1,1,1,1,1,1,1,1,1,1,1,1,1,1,1,1,1,1,1,1,1,1,1,1,1,1,1,1,1,1,1,1,1,1,1,1,1,1,1,1,1,1,1,1,1,1,1,1,1,1,1,1,1,1,1,1,1,1,1,1,1,1,1,1,1,1,1,1,1,1,1,1,1,1,1,1,1,1,1,1,1,1,1,1,1,1,1,1,1,1,1,1,1,1,1,1,1,1,1,1,1,1,1,1,1,1,1,1,1,1,1,1,1,1,1,1,1,1,1,1,1,1,1,1,1,1,1,1,1,1,1,1,1,1,1,1,1,1,1,1,1,1,1,1,1,1,1,1,1,1,1,1,1,1,1,1,1,1,1,1,1,1,1,1,1,1,1,1,1,1,1,1,1,1,1,1,1,1,1,1,1,1,1,1],\"xaxis\":\"x\",\"yaxis\":\"y\",\"type\":\"histogram\"}],                        {\"template\":{\"data\":{\"bar\":[{\"error_x\":{\"color\":\"#2a3f5f\"},\"error_y\":{\"color\":\"#2a3f5f\"},\"marker\":{\"line\":{\"color\":\"#E5ECF6\",\"width\":0.5},\"pattern\":{\"fillmode\":\"overlay\",\"size\":10,\"solidity\":0.2}},\"type\":\"bar\"}],\"barpolar\":[{\"marker\":{\"line\":{\"color\":\"#E5ECF6\",\"width\":0.5},\"pattern\":{\"fillmode\":\"overlay\",\"size\":10,\"solidity\":0.2}},\"type\":\"barpolar\"}],\"carpet\":[{\"aaxis\":{\"endlinecolor\":\"#2a3f5f\",\"gridcolor\":\"white\",\"linecolor\":\"white\",\"minorgridcolor\":\"white\",\"startlinecolor\":\"#2a3f5f\"},\"baxis\":{\"endlinecolor\":\"#2a3f5f\",\"gridcolor\":\"white\",\"linecolor\":\"white\",\"minorgridcolor\":\"white\",\"startlinecolor\":\"#2a3f5f\"},\"type\":\"carpet\"}],\"choropleth\":[{\"colorbar\":{\"outlinewidth\":0,\"ticks\":\"\"},\"type\":\"choropleth\"}],\"contour\":[{\"colorbar\":{\"outlinewidth\":0,\"ticks\":\"\"},\"colorscale\":[[0.0,\"#0d0887\"],[0.1111111111111111,\"#46039f\"],[0.2222222222222222,\"#7201a8\"],[0.3333333333333333,\"#9c179e\"],[0.4444444444444444,\"#bd3786\"],[0.5555555555555556,\"#d8576b\"],[0.6666666666666666,\"#ed7953\"],[0.7777777777777778,\"#fb9f3a\"],[0.8888888888888888,\"#fdca26\"],[1.0,\"#f0f921\"]],\"type\":\"contour\"}],\"contourcarpet\":[{\"colorbar\":{\"outlinewidth\":0,\"ticks\":\"\"},\"type\":\"contourcarpet\"}],\"heatmap\":[{\"colorbar\":{\"outlinewidth\":0,\"ticks\":\"\"},\"colorscale\":[[0.0,\"#0d0887\"],[0.1111111111111111,\"#46039f\"],[0.2222222222222222,\"#7201a8\"],[0.3333333333333333,\"#9c179e\"],[0.4444444444444444,\"#bd3786\"],[0.5555555555555556,\"#d8576b\"],[0.6666666666666666,\"#ed7953\"],[0.7777777777777778,\"#fb9f3a\"],[0.8888888888888888,\"#fdca26\"],[1.0,\"#f0f921\"]],\"type\":\"heatmap\"}],\"heatmapgl\":[{\"colorbar\":{\"outlinewidth\":0,\"ticks\":\"\"},\"colorscale\":[[0.0,\"#0d0887\"],[0.1111111111111111,\"#46039f\"],[0.2222222222222222,\"#7201a8\"],[0.3333333333333333,\"#9c179e\"],[0.4444444444444444,\"#bd3786\"],[0.5555555555555556,\"#d8576b\"],[0.6666666666666666,\"#ed7953\"],[0.7777777777777778,\"#fb9f3a\"],[0.8888888888888888,\"#fdca26\"],[1.0,\"#f0f921\"]],\"type\":\"heatmapgl\"}],\"histogram\":[{\"marker\":{\"pattern\":{\"fillmode\":\"overlay\",\"size\":10,\"solidity\":0.2}},\"type\":\"histogram\"}],\"histogram2d\":[{\"colorbar\":{\"outlinewidth\":0,\"ticks\":\"\"},\"colorscale\":[[0.0,\"#0d0887\"],[0.1111111111111111,\"#46039f\"],[0.2222222222222222,\"#7201a8\"],[0.3333333333333333,\"#9c179e\"],[0.4444444444444444,\"#bd3786\"],[0.5555555555555556,\"#d8576b\"],[0.6666666666666666,\"#ed7953\"],[0.7777777777777778,\"#fb9f3a\"],[0.8888888888888888,\"#fdca26\"],[1.0,\"#f0f921\"]],\"type\":\"histogram2d\"}],\"histogram2dcontour\":[{\"colorbar\":{\"outlinewidth\":0,\"ticks\":\"\"},\"colorscale\":[[0.0,\"#0d0887\"],[0.1111111111111111,\"#46039f\"],[0.2222222222222222,\"#7201a8\"],[0.3333333333333333,\"#9c179e\"],[0.4444444444444444,\"#bd3786\"],[0.5555555555555556,\"#d8576b\"],[0.6666666666666666,\"#ed7953\"],[0.7777777777777778,\"#fb9f3a\"],[0.8888888888888888,\"#fdca26\"],[1.0,\"#f0f921\"]],\"type\":\"histogram2dcontour\"}],\"mesh3d\":[{\"colorbar\":{\"outlinewidth\":0,\"ticks\":\"\"},\"type\":\"mesh3d\"}],\"parcoords\":[{\"line\":{\"colorbar\":{\"outlinewidth\":0,\"ticks\":\"\"}},\"type\":\"parcoords\"}],\"pie\":[{\"automargin\":true,\"type\":\"pie\"}],\"scatter\":[{\"marker\":{\"colorbar\":{\"outlinewidth\":0,\"ticks\":\"\"}},\"type\":\"scatter\"}],\"scatter3d\":[{\"line\":{\"colorbar\":{\"outlinewidth\":0,\"ticks\":\"\"}},\"marker\":{\"colorbar\":{\"outlinewidth\":0,\"ticks\":\"\"}},\"type\":\"scatter3d\"}],\"scattercarpet\":[{\"marker\":{\"colorbar\":{\"outlinewidth\":0,\"ticks\":\"\"}},\"type\":\"scattercarpet\"}],\"scattergeo\":[{\"marker\":{\"colorbar\":{\"outlinewidth\":0,\"ticks\":\"\"}},\"type\":\"scattergeo\"}],\"scattergl\":[{\"marker\":{\"colorbar\":{\"outlinewidth\":0,\"ticks\":\"\"}},\"type\":\"scattergl\"}],\"scattermapbox\":[{\"marker\":{\"colorbar\":{\"outlinewidth\":0,\"ticks\":\"\"}},\"type\":\"scattermapbox\"}],\"scatterpolar\":[{\"marker\":{\"colorbar\":{\"outlinewidth\":0,\"ticks\":\"\"}},\"type\":\"scatterpolar\"}],\"scatterpolargl\":[{\"marker\":{\"colorbar\":{\"outlinewidth\":0,\"ticks\":\"\"}},\"type\":\"scatterpolargl\"}],\"scatterternary\":[{\"marker\":{\"colorbar\":{\"outlinewidth\":0,\"ticks\":\"\"}},\"type\":\"scatterternary\"}],\"surface\":[{\"colorbar\":{\"outlinewidth\":0,\"ticks\":\"\"},\"colorscale\":[[0.0,\"#0d0887\"],[0.1111111111111111,\"#46039f\"],[0.2222222222222222,\"#7201a8\"],[0.3333333333333333,\"#9c179e\"],[0.4444444444444444,\"#bd3786\"],[0.5555555555555556,\"#d8576b\"],[0.6666666666666666,\"#ed7953\"],[0.7777777777777778,\"#fb9f3a\"],[0.8888888888888888,\"#fdca26\"],[1.0,\"#f0f921\"]],\"type\":\"surface\"}],\"table\":[{\"cells\":{\"fill\":{\"color\":\"#EBF0F8\"},\"line\":{\"color\":\"white\"}},\"header\":{\"fill\":{\"color\":\"#C8D4E3\"},\"line\":{\"color\":\"white\"}},\"type\":\"table\"}]},\"layout\":{\"annotationdefaults\":{\"arrowcolor\":\"#2a3f5f\",\"arrowhead\":0,\"arrowwidth\":1},\"autotypenumbers\":\"strict\",\"coloraxis\":{\"colorbar\":{\"outlinewidth\":0,\"ticks\":\"\"}},\"colorscale\":{\"diverging\":[[0,\"#8e0152\"],[0.1,\"#c51b7d\"],[0.2,\"#de77ae\"],[0.3,\"#f1b6da\"],[0.4,\"#fde0ef\"],[0.5,\"#f7f7f7\"],[0.6,\"#e6f5d0\"],[0.7,\"#b8e186\"],[0.8,\"#7fbc41\"],[0.9,\"#4d9221\"],[1,\"#276419\"]],\"sequential\":[[0.0,\"#0d0887\"],[0.1111111111111111,\"#46039f\"],[0.2222222222222222,\"#7201a8\"],[0.3333333333333333,\"#9c179e\"],[0.4444444444444444,\"#bd3786\"],[0.5555555555555556,\"#d8576b\"],[0.6666666666666666,\"#ed7953\"],[0.7777777777777778,\"#fb9f3a\"],[0.8888888888888888,\"#fdca26\"],[1.0,\"#f0f921\"]],\"sequentialminus\":[[0.0,\"#0d0887\"],[0.1111111111111111,\"#46039f\"],[0.2222222222222222,\"#7201a8\"],[0.3333333333333333,\"#9c179e\"],[0.4444444444444444,\"#bd3786\"],[0.5555555555555556,\"#d8576b\"],[0.6666666666666666,\"#ed7953\"],[0.7777777777777778,\"#fb9f3a\"],[0.8888888888888888,\"#fdca26\"],[1.0,\"#f0f921\"]]},\"colorway\":[\"#636efa\",\"#EF553B\",\"#00cc96\",\"#ab63fa\",\"#FFA15A\",\"#19d3f3\",\"#FF6692\",\"#B6E880\",\"#FF97FF\",\"#FECB52\"],\"font\":{\"color\":\"#2a3f5f\"},\"geo\":{\"bgcolor\":\"white\",\"lakecolor\":\"white\",\"landcolor\":\"#E5ECF6\",\"showlakes\":true,\"showland\":true,\"subunitcolor\":\"white\"},\"hoverlabel\":{\"align\":\"left\"},\"hovermode\":\"closest\",\"mapbox\":{\"style\":\"light\"},\"paper_bgcolor\":\"white\",\"plot_bgcolor\":\"#E5ECF6\",\"polar\":{\"angularaxis\":{\"gridcolor\":\"white\",\"linecolor\":\"white\",\"ticks\":\"\"},\"bgcolor\":\"#E5ECF6\",\"radialaxis\":{\"gridcolor\":\"white\",\"linecolor\":\"white\",\"ticks\":\"\"}},\"scene\":{\"xaxis\":{\"backgroundcolor\":\"#E5ECF6\",\"gridcolor\":\"white\",\"gridwidth\":2,\"linecolor\":\"white\",\"showbackground\":true,\"ticks\":\"\",\"zerolinecolor\":\"white\"},\"yaxis\":{\"backgroundcolor\":\"#E5ECF6\",\"gridcolor\":\"white\",\"gridwidth\":2,\"linecolor\":\"white\",\"showbackground\":true,\"ticks\":\"\",\"zerolinecolor\":\"white\"},\"zaxis\":{\"backgroundcolor\":\"#E5ECF6\",\"gridcolor\":\"white\",\"gridwidth\":2,\"linecolor\":\"white\",\"showbackground\":true,\"ticks\":\"\",\"zerolinecolor\":\"white\"}},\"shapedefaults\":{\"line\":{\"color\":\"#2a3f5f\"}},\"ternary\":{\"aaxis\":{\"gridcolor\":\"white\",\"linecolor\":\"white\",\"ticks\":\"\"},\"baxis\":{\"gridcolor\":\"white\",\"linecolor\":\"white\",\"ticks\":\"\"},\"bgcolor\":\"#E5ECF6\",\"caxis\":{\"gridcolor\":\"white\",\"linecolor\":\"white\",\"ticks\":\"\"}},\"title\":{\"x\":0.05},\"xaxis\":{\"automargin\":true,\"gridcolor\":\"white\",\"linecolor\":\"white\",\"ticks\":\"\",\"title\":{\"standoff\":15},\"zerolinecolor\":\"white\",\"zerolinewidth\":2},\"yaxis\":{\"automargin\":true,\"gridcolor\":\"white\",\"linecolor\":\"white\",\"ticks\":\"\",\"title\":{\"standoff\":15},\"zerolinecolor\":\"white\",\"zerolinewidth\":2}}},\"xaxis\":{\"anchor\":\"y\",\"domain\":[0.0,1.0],\"title\":{\"text\":\"Number of orders\"}},\"yaxis\":{\"anchor\":\"x\",\"domain\":[0.0,1.0],\"title\":{\"text\":\"count\"}},\"legend\":{\"title\":{\"text\":\"variable\"},\"tracegroupgap\":0},\"title\":{\"text\":\"Histogram of number of orders per user\"},\"barmode\":\"relative\"},                        {\"responsive\": true}                    ).then(function(){\n",
              "                            \n",
              "var gd = document.getElementById('1b38638d-cb0d-418d-bb95-c9c356754800');\n",
              "var x = new MutationObserver(function (mutations, observer) {{\n",
              "        var display = window.getComputedStyle(gd).display;\n",
              "        if (!display || display === 'none') {{\n",
              "            console.log([gd, 'removed!']);\n",
              "            Plotly.purge(gd);\n",
              "            observer.disconnect();\n",
              "        }}\n",
              "}});\n",
              "\n",
              "// Listen for the removal of the full notebook cells\n",
              "var notebookContainer = gd.closest('#notebook-container');\n",
              "if (notebookContainer) {{\n",
              "    x.observe(notebookContainer, {childList: true});\n",
              "}}\n",
              "\n",
              "// Listen for the clearing of the current output cell\n",
              "var outputEl = gd.closest('.output');\n",
              "if (outputEl) {{\n",
              "    x.observe(outputEl, {childList: true});\n",
              "}}\n",
              "\n",
              "                        })                };                            </script>        </div>\n",
              "</body>\n",
              "</html>"
            ]
          },
          "metadata": {}
        }
      ],
      "source": [
        "fig = px.histogram(orders_by_users['orders'], title='Histogram of number of orders per user')\n",
        "fig.update_xaxes(title_text='Number of orders')\n",
        "fig.show()"
      ]
    },
    {
      "cell_type": "markdown",
      "metadata": {
        "id": "n71jyw3_VMGr"
      },
      "source": [
        "Most of our users make 1 order. Let's plot those values on a scatterplot."
      ]
    },
    {
      "cell_type": "code",
      "execution_count": 34,
      "metadata": {
        "id": "Cy8neOKjUdwj"
      },
      "outputs": [],
      "source": [
        "x_values = pd.Series(range(0,len(orders_by_users)))"
      ]
    },
    {
      "cell_type": "code",
      "execution_count": 35,
      "metadata": {
        "colab": {
          "base_uri": "https://localhost:8080/",
          "height": 542
        },
        "id": "qg9lN9qSUipz",
        "outputId": "16a74474-5e42-42a5-9296-fc624347fa42"
      },
      "outputs": [
        {
          "output_type": "display_data",
          "data": {
            "text/html": [
              "<html>\n",
              "<head><meta charset=\"utf-8\" /></head>\n",
              "<body>\n",
              "    <div>            <script src=\"https://cdnjs.cloudflare.com/ajax/libs/mathjax/2.7.5/MathJax.js?config=TeX-AMS-MML_SVG\"></script><script type=\"text/javascript\">if (window.MathJax) {MathJax.Hub.Config({SVG: {font: \"STIX-Web\"}});}</script>                <script type=\"text/javascript\">window.PlotlyConfig = {MathJaxConfig: 'local'};</script>\n",
              "        <script src=\"https://cdn.plot.ly/plotly-2.8.3.min.js\"></script>                <div id=\"3158fd28-eb30-4e68-8e34-0c91605e45be\" class=\"plotly-graph-div\" style=\"height:525px; width:100%;\"></div>            <script type=\"text/javascript\">                                    window.PLOTLYENV=window.PLOTLYENV || {};                                    if (document.getElementById(\"3158fd28-eb30-4e68-8e34-0c91605e45be\")) {                    Plotly.newPlot(                        \"3158fd28-eb30-4e68-8e34-0c91605e45be\",                        [{\"hovertemplate\":\"x=%{x}<br>orders=%{y}<extra></extra>\",\"legendgroup\":\"\",\"marker\":{\"color\":\"#636efa\",\"symbol\":\"circle\"},\"mode\":\"markers\",\"name\":\"\",\"orientation\":\"v\",\"showlegend\":false,\"x\":[0,1,2,3,4,5,6,7,8,9,10,11,12,13,14,15,16,17,18,19,20,21,22,23,24,25,26,27,28,29,30,31,32,33,34,35,36,37,38,39,40,41,42,43,44,45,46,47,48,49,50,51,52,53,54,55,56,57,58,59,60,61,62,63,64,65,66,67,68,69,70,71,72,73,74,75,76,77,78,79,80,81,82,83,84,85,86,87,88,89,90,91,92,93,94,95,96,97,98,99,100,101,102,103,104,105,106,107,108,109,110,111,112,113,114,115,116,117,118,119,120,121,122,123,124,125,126,127,128,129,130,131,132,133,134,135,136,137,138,139,140,141,142,143,144,145,146,147,148,149,150,151,152,153,154,155,156,157,158,159,160,161,162,163,164,165,166,167,168,169,170,171,172,173,174,175,176,177,178,179,180,181,182,183,184,185,186,187,188,189,190,191,192,193,194,195,196,197,198,199,200,201,202,203,204,205,206,207,208,209,210,211,212,213,214,215,216,217,218,219,220,221,222,223,224,225,226,227,228,229,230,231,232,233,234,235,236,237,238,239,240,241,242,243,244,245,246,247,248,249,250,251,252,253,254,255,256,257,258,259,260,261,262,263,264,265,266,267,268,269,270,271,272,273,274,275,276,277,278,279,280,281,282,283,284,285,286,287,288,289,290,291,292,293,294,295,296,297,298,299,300,301,302,303,304,305,306,307,308,309,310,311,312,313,314,315,316,317,318,319,320,321,322,323,324,325,326,327,328,329,330,331,332,333,334,335,336,337,338,339,340,341,342,343,344,345,346,347,348,349,350,351,352,353,354,355,356,357,358,359,360,361,362,363,364,365,366,367,368,369,370,371,372,373,374,375,376,377,378,379,380,381,382,383,384,385,386,387,388,389,390,391,392,393,394,395,396,397,398,399,400,401,402,403,404,405,406,407,408,409,410,411,412,413,414,415,416,417,418,419,420,421,422,423,424,425,426,427,428,429,430,431,432,433,434,435,436,437,438,439,440,441,442,443,444,445,446,447,448,449,450,451,452,453,454,455,456,457,458,459,460,461,462,463,464,465,466,467,468,469,470,471,472,473,474,475,476,477,478,479,480,481,482,483,484,485,486,487,488,489,490,491,492,493,494,495,496,497,498,499,500,501,502,503,504,505,506,507,508,509,510,511,512,513,514,515,516,517,518,519,520,521,522,523,524,525,526,527,528,529,530,531,532,533,534,535,536,537,538,539,540,541,542,543,544,545,546,547,548,549,550,551,552,553,554,555,556,557,558,559,560,561,562,563,564,565,566,567,568,569,570,571,572,573,574,575,576,577,578,579,580,581,582,583,584,585,586,587,588,589,590,591,592,593,594,595,596,597,598,599,600,601,602,603,604,605,606,607,608,609,610,611,612,613,614,615,616,617,618,619,620,621,622,623,624,625,626,627,628,629,630,631,632,633,634,635,636,637,638,639,640,641,642,643,644,645,646,647,648,649,650,651,652,653,654,655,656,657,658,659,660,661,662,663,664,665,666,667,668,669,670,671,672,673,674,675,676,677,678,679,680,681,682,683,684,685,686,687,688,689,690,691,692,693,694,695,696,697,698,699,700,701,702,703,704,705,706,707,708,709,710,711,712,713,714,715,716,717,718,719,720,721,722,723,724,725,726,727,728,729,730,731,732,733,734,735,736,737,738,739,740,741,742,743,744,745,746,747,748,749,750,751,752,753,754,755,756,757,758,759,760,761,762,763,764,765,766,767,768,769,770,771,772,773,774,775,776,777,778,779,780,781,782,783,784,785,786,787,788,789,790,791,792,793,794,795,796,797,798,799,800,801,802,803,804,805,806,807,808,809,810,811,812,813,814,815,816,817,818,819,820,821,822,823,824,825,826,827,828,829,830,831,832,833,834,835,836,837,838,839,840,841,842,843,844,845,846,847,848,849,850,851,852,853,854,855,856,857,858,859,860,861,862,863,864,865,866,867,868,869,870,871,872,873,874,875,876,877,878,879,880,881,882,883,884,885,886,887,888,889,890,891,892,893,894,895,896,897,898,899,900,901,902,903,904,905,906,907,908,909,910,911,912,913,914,915,916,917,918,919,920,921,922,923,924,925,926,927,928,929,930,931,932,933,934,935,936,937,938,939,940,941,942,943,944,945,946,947,948,949,950,951,952,953,954,955,956,957,958,959,960,961,962,963,964,965,966,967,968,969,970,971,972],\"xaxis\":\"x\",\"y\":[3,3,3,3,3,3,3,2,2,2,2,2,2,2,2,2,2,2,2,2,2,2,2,2,2,2,2,2,2,2,2,2,2,2,2,2,1,1,1,1,1,1,1,1,1,1,1,1,1,1,1,1,1,1,1,1,1,1,1,1,1,1,1,1,1,1,1,1,1,1,1,1,1,1,1,1,1,1,1,1,1,1,1,1,1,1,1,1,1,1,1,1,1,1,1,1,1,1,1,1,1,1,1,1,1,1,1,1,1,1,1,1,1,1,1,1,1,1,1,1,1,1,1,1,1,1,1,1,1,1,1,1,1,1,1,1,1,1,1,1,1,1,1,1,1,1,1,1,1,1,1,1,1,1,1,1,1,1,1,1,1,1,1,1,1,1,1,1,1,1,1,1,1,1,1,1,1,1,1,1,1,1,1,1,1,1,1,1,1,1,1,1,1,1,1,1,1,1,1,1,1,1,1,1,1,1,1,1,1,1,1,1,1,1,1,1,1,1,1,1,1,1,1,1,1,1,1,1,1,1,1,1,1,1,1,1,1,1,1,1,1,1,1,1,1,1,1,1,1,1,1,1,1,1,1,1,1,1,1,1,1,1,1,1,1,1,1,1,1,1,1,1,1,1,1,1,1,1,1,1,1,1,1,1,1,1,1,1,1,1,1,1,1,1,1,1,1,1,1,1,1,1,1,1,1,1,1,1,1,1,1,1,1,1,1,1,1,1,1,1,1,1,1,1,1,1,1,1,1,1,1,1,1,1,1,1,1,1,1,1,1,1,1,1,1,1,1,1,1,1,1,1,1,1,1,1,1,1,1,1,1,1,1,1,1,1,1,1,1,1,1,1,1,1,1,1,1,1,1,1,1,1,1,1,1,1,1,1,1,1,1,1,1,1,1,1,1,1,1,1,1,1,1,1,1,1,1,1,1,1,1,1,1,1,1,1,1,1,1,1,1,1,1,1,1,1,1,1,1,1,1,1,1,1,1,1,1,1,1,1,1,1,1,1,1,1,1,1,1,1,1,1,1,1,1,1,1,1,1,1,1,1,1,1,1,1,1,1,1,1,1,1,1,1,1,1,1,1,1,1,1,1,1,1,1,1,1,1,1,1,1,1,1,1,1,1,1,1,1,1,1,1,1,1,1,1,1,1,1,1,1,1,1,1,1,1,1,1,1,1,1,1,1,1,1,1,1,1,1,1,1,1,1,1,1,1,1,1,1,1,1,1,1,1,1,1,1,1,1,1,1,1,1,1,1,1,1,1,1,1,1,1,1,1,1,1,1,1,1,1,1,1,1,1,1,1,1,1,1,1,1,1,1,1,1,1,1,1,1,1,1,1,1,1,1,1,1,1,1,1,1,1,1,1,1,1,1,1,1,1,1,1,1,1,1,1,1,1,1,1,1,1,1,1,1,1,1,1,1,1,1,1,1,1,1,1,1,1,1,1,1,1,1,1,1,1,1,1,1,1,1,1,1,1,1,1,1,1,1,1,1,1,1,1,1,1,1,1,1,1,1,1,1,1,1,1,1,1,1,1,1,1,1,1,1,1,1,1,1,1,1,1,1,1,1,1,1,1,1,1,1,1,1,1,1,1,1,1,1,1,1,1,1,1,1,1,1,1,1,1,1,1,1,1,1,1,1,1,1,1,1,1,1,1,1,1,1,1,1,1,1,1,1,1,1,1,1,1,1,1,1,1,1,1,1,1,1,1,1,1,1,1,1,1,1,1,1,1,1,1,1,1,1,1,1,1,1,1,1,1,1,1,1,1,1,1,1,1,1,1,1,1,1,1,1,1,1,1,1,1,1,1,1,1,1,1,1,1,1,1,1,1,1,1,1,1,1,1,1,1,1,1,1,1,1,1,1,1,1,1,1,1,1,1,1,1,1,1,1,1,1,1,1,1,1,1,1,1,1,1,1,1,1,1,1,1,1,1,1,1,1,1,1,1,1,1,1,1,1,1,1,1,1,1,1,1,1,1,1,1,1,1,1,1,1,1,1,1,1,1,1,1,1,1,1,1,1,1,1,1,1,1,1,1,1,1,1,1,1,1,1,1,1,1,1,1,1,1,1,1,1,1,1,1,1,1,1,1,1,1,1,1,1,1,1,1,1,1,1,1,1,1,1,1,1,1,1,1,1,1,1,1,1,1,1,1,1,1,1,1,1,1,1,1,1,1,1,1,1,1,1,1,1],\"yaxis\":\"y\",\"type\":\"scatter\"}],                        {\"template\":{\"data\":{\"bar\":[{\"error_x\":{\"color\":\"#2a3f5f\"},\"error_y\":{\"color\":\"#2a3f5f\"},\"marker\":{\"line\":{\"color\":\"#E5ECF6\",\"width\":0.5},\"pattern\":{\"fillmode\":\"overlay\",\"size\":10,\"solidity\":0.2}},\"type\":\"bar\"}],\"barpolar\":[{\"marker\":{\"line\":{\"color\":\"#E5ECF6\",\"width\":0.5},\"pattern\":{\"fillmode\":\"overlay\",\"size\":10,\"solidity\":0.2}},\"type\":\"barpolar\"}],\"carpet\":[{\"aaxis\":{\"endlinecolor\":\"#2a3f5f\",\"gridcolor\":\"white\",\"linecolor\":\"white\",\"minorgridcolor\":\"white\",\"startlinecolor\":\"#2a3f5f\"},\"baxis\":{\"endlinecolor\":\"#2a3f5f\",\"gridcolor\":\"white\",\"linecolor\":\"white\",\"minorgridcolor\":\"white\",\"startlinecolor\":\"#2a3f5f\"},\"type\":\"carpet\"}],\"choropleth\":[{\"colorbar\":{\"outlinewidth\":0,\"ticks\":\"\"},\"type\":\"choropleth\"}],\"contour\":[{\"colorbar\":{\"outlinewidth\":0,\"ticks\":\"\"},\"colorscale\":[[0.0,\"#0d0887\"],[0.1111111111111111,\"#46039f\"],[0.2222222222222222,\"#7201a8\"],[0.3333333333333333,\"#9c179e\"],[0.4444444444444444,\"#bd3786\"],[0.5555555555555556,\"#d8576b\"],[0.6666666666666666,\"#ed7953\"],[0.7777777777777778,\"#fb9f3a\"],[0.8888888888888888,\"#fdca26\"],[1.0,\"#f0f921\"]],\"type\":\"contour\"}],\"contourcarpet\":[{\"colorbar\":{\"outlinewidth\":0,\"ticks\":\"\"},\"type\":\"contourcarpet\"}],\"heatmap\":[{\"colorbar\":{\"outlinewidth\":0,\"ticks\":\"\"},\"colorscale\":[[0.0,\"#0d0887\"],[0.1111111111111111,\"#46039f\"],[0.2222222222222222,\"#7201a8\"],[0.3333333333333333,\"#9c179e\"],[0.4444444444444444,\"#bd3786\"],[0.5555555555555556,\"#d8576b\"],[0.6666666666666666,\"#ed7953\"],[0.7777777777777778,\"#fb9f3a\"],[0.8888888888888888,\"#fdca26\"],[1.0,\"#f0f921\"]],\"type\":\"heatmap\"}],\"heatmapgl\":[{\"colorbar\":{\"outlinewidth\":0,\"ticks\":\"\"},\"colorscale\":[[0.0,\"#0d0887\"],[0.1111111111111111,\"#46039f\"],[0.2222222222222222,\"#7201a8\"],[0.3333333333333333,\"#9c179e\"],[0.4444444444444444,\"#bd3786\"],[0.5555555555555556,\"#d8576b\"],[0.6666666666666666,\"#ed7953\"],[0.7777777777777778,\"#fb9f3a\"],[0.8888888888888888,\"#fdca26\"],[1.0,\"#f0f921\"]],\"type\":\"heatmapgl\"}],\"histogram\":[{\"marker\":{\"pattern\":{\"fillmode\":\"overlay\",\"size\":10,\"solidity\":0.2}},\"type\":\"histogram\"}],\"histogram2d\":[{\"colorbar\":{\"outlinewidth\":0,\"ticks\":\"\"},\"colorscale\":[[0.0,\"#0d0887\"],[0.1111111111111111,\"#46039f\"],[0.2222222222222222,\"#7201a8\"],[0.3333333333333333,\"#9c179e\"],[0.4444444444444444,\"#bd3786\"],[0.5555555555555556,\"#d8576b\"],[0.6666666666666666,\"#ed7953\"],[0.7777777777777778,\"#fb9f3a\"],[0.8888888888888888,\"#fdca26\"],[1.0,\"#f0f921\"]],\"type\":\"histogram2d\"}],\"histogram2dcontour\":[{\"colorbar\":{\"outlinewidth\":0,\"ticks\":\"\"},\"colorscale\":[[0.0,\"#0d0887\"],[0.1111111111111111,\"#46039f\"],[0.2222222222222222,\"#7201a8\"],[0.3333333333333333,\"#9c179e\"],[0.4444444444444444,\"#bd3786\"],[0.5555555555555556,\"#d8576b\"],[0.6666666666666666,\"#ed7953\"],[0.7777777777777778,\"#fb9f3a\"],[0.8888888888888888,\"#fdca26\"],[1.0,\"#f0f921\"]],\"type\":\"histogram2dcontour\"}],\"mesh3d\":[{\"colorbar\":{\"outlinewidth\":0,\"ticks\":\"\"},\"type\":\"mesh3d\"}],\"parcoords\":[{\"line\":{\"colorbar\":{\"outlinewidth\":0,\"ticks\":\"\"}},\"type\":\"parcoords\"}],\"pie\":[{\"automargin\":true,\"type\":\"pie\"}],\"scatter\":[{\"marker\":{\"colorbar\":{\"outlinewidth\":0,\"ticks\":\"\"}},\"type\":\"scatter\"}],\"scatter3d\":[{\"line\":{\"colorbar\":{\"outlinewidth\":0,\"ticks\":\"\"}},\"marker\":{\"colorbar\":{\"outlinewidth\":0,\"ticks\":\"\"}},\"type\":\"scatter3d\"}],\"scattercarpet\":[{\"marker\":{\"colorbar\":{\"outlinewidth\":0,\"ticks\":\"\"}},\"type\":\"scattercarpet\"}],\"scattergeo\":[{\"marker\":{\"colorbar\":{\"outlinewidth\":0,\"ticks\":\"\"}},\"type\":\"scattergeo\"}],\"scattergl\":[{\"marker\":{\"colorbar\":{\"outlinewidth\":0,\"ticks\":\"\"}},\"type\":\"scattergl\"}],\"scattermapbox\":[{\"marker\":{\"colorbar\":{\"outlinewidth\":0,\"ticks\":\"\"}},\"type\":\"scattermapbox\"}],\"scatterpolar\":[{\"marker\":{\"colorbar\":{\"outlinewidth\":0,\"ticks\":\"\"}},\"type\":\"scatterpolar\"}],\"scatterpolargl\":[{\"marker\":{\"colorbar\":{\"outlinewidth\":0,\"ticks\":\"\"}},\"type\":\"scatterpolargl\"}],\"scatterternary\":[{\"marker\":{\"colorbar\":{\"outlinewidth\":0,\"ticks\":\"\"}},\"type\":\"scatterternary\"}],\"surface\":[{\"colorbar\":{\"outlinewidth\":0,\"ticks\":\"\"},\"colorscale\":[[0.0,\"#0d0887\"],[0.1111111111111111,\"#46039f\"],[0.2222222222222222,\"#7201a8\"],[0.3333333333333333,\"#9c179e\"],[0.4444444444444444,\"#bd3786\"],[0.5555555555555556,\"#d8576b\"],[0.6666666666666666,\"#ed7953\"],[0.7777777777777778,\"#fb9f3a\"],[0.8888888888888888,\"#fdca26\"],[1.0,\"#f0f921\"]],\"type\":\"surface\"}],\"table\":[{\"cells\":{\"fill\":{\"color\":\"#EBF0F8\"},\"line\":{\"color\":\"white\"}},\"header\":{\"fill\":{\"color\":\"#C8D4E3\"},\"line\":{\"color\":\"white\"}},\"type\":\"table\"}]},\"layout\":{\"annotationdefaults\":{\"arrowcolor\":\"#2a3f5f\",\"arrowhead\":0,\"arrowwidth\":1},\"autotypenumbers\":\"strict\",\"coloraxis\":{\"colorbar\":{\"outlinewidth\":0,\"ticks\":\"\"}},\"colorscale\":{\"diverging\":[[0,\"#8e0152\"],[0.1,\"#c51b7d\"],[0.2,\"#de77ae\"],[0.3,\"#f1b6da\"],[0.4,\"#fde0ef\"],[0.5,\"#f7f7f7\"],[0.6,\"#e6f5d0\"],[0.7,\"#b8e186\"],[0.8,\"#7fbc41\"],[0.9,\"#4d9221\"],[1,\"#276419\"]],\"sequential\":[[0.0,\"#0d0887\"],[0.1111111111111111,\"#46039f\"],[0.2222222222222222,\"#7201a8\"],[0.3333333333333333,\"#9c179e\"],[0.4444444444444444,\"#bd3786\"],[0.5555555555555556,\"#d8576b\"],[0.6666666666666666,\"#ed7953\"],[0.7777777777777778,\"#fb9f3a\"],[0.8888888888888888,\"#fdca26\"],[1.0,\"#f0f921\"]],\"sequentialminus\":[[0.0,\"#0d0887\"],[0.1111111111111111,\"#46039f\"],[0.2222222222222222,\"#7201a8\"],[0.3333333333333333,\"#9c179e\"],[0.4444444444444444,\"#bd3786\"],[0.5555555555555556,\"#d8576b\"],[0.6666666666666666,\"#ed7953\"],[0.7777777777777778,\"#fb9f3a\"],[0.8888888888888888,\"#fdca26\"],[1.0,\"#f0f921\"]]},\"colorway\":[\"#636efa\",\"#EF553B\",\"#00cc96\",\"#ab63fa\",\"#FFA15A\",\"#19d3f3\",\"#FF6692\",\"#B6E880\",\"#FF97FF\",\"#FECB52\"],\"font\":{\"color\":\"#2a3f5f\"},\"geo\":{\"bgcolor\":\"white\",\"lakecolor\":\"white\",\"landcolor\":\"#E5ECF6\",\"showlakes\":true,\"showland\":true,\"subunitcolor\":\"white\"},\"hoverlabel\":{\"align\":\"left\"},\"hovermode\":\"closest\",\"mapbox\":{\"style\":\"light\"},\"paper_bgcolor\":\"white\",\"plot_bgcolor\":\"#E5ECF6\",\"polar\":{\"angularaxis\":{\"gridcolor\":\"white\",\"linecolor\":\"white\",\"ticks\":\"\"},\"bgcolor\":\"#E5ECF6\",\"radialaxis\":{\"gridcolor\":\"white\",\"linecolor\":\"white\",\"ticks\":\"\"}},\"scene\":{\"xaxis\":{\"backgroundcolor\":\"#E5ECF6\",\"gridcolor\":\"white\",\"gridwidth\":2,\"linecolor\":\"white\",\"showbackground\":true,\"ticks\":\"\",\"zerolinecolor\":\"white\"},\"yaxis\":{\"backgroundcolor\":\"#E5ECF6\",\"gridcolor\":\"white\",\"gridwidth\":2,\"linecolor\":\"white\",\"showbackground\":true,\"ticks\":\"\",\"zerolinecolor\":\"white\"},\"zaxis\":{\"backgroundcolor\":\"#E5ECF6\",\"gridcolor\":\"white\",\"gridwidth\":2,\"linecolor\":\"white\",\"showbackground\":true,\"ticks\":\"\",\"zerolinecolor\":\"white\"}},\"shapedefaults\":{\"line\":{\"color\":\"#2a3f5f\"}},\"ternary\":{\"aaxis\":{\"gridcolor\":\"white\",\"linecolor\":\"white\",\"ticks\":\"\"},\"baxis\":{\"gridcolor\":\"white\",\"linecolor\":\"white\",\"ticks\":\"\"},\"bgcolor\":\"#E5ECF6\",\"caxis\":{\"gridcolor\":\"white\",\"linecolor\":\"white\",\"ticks\":\"\"}},\"title\":{\"x\":0.05},\"xaxis\":{\"automargin\":true,\"gridcolor\":\"white\",\"linecolor\":\"white\",\"ticks\":\"\",\"title\":{\"standoff\":15},\"zerolinecolor\":\"white\",\"zerolinewidth\":2},\"yaxis\":{\"automargin\":true,\"gridcolor\":\"white\",\"linecolor\":\"white\",\"ticks\":\"\",\"title\":{\"standoff\":15},\"zerolinecolor\":\"white\",\"zerolinewidth\":2}}},\"xaxis\":{\"anchor\":\"y\",\"domain\":[0.0,1.0],\"title\":{\"text\":\"Number of orders\"}},\"yaxis\":{\"anchor\":\"x\",\"domain\":[0.0,1.0],\"title\":{\"text\":\"orders\"}},\"legend\":{\"tracegroupgap\":0},\"title\":{\"text\":\"Scatterplot of number of orders per user\"}},                        {\"responsive\": true}                    ).then(function(){\n",
              "                            \n",
              "var gd = document.getElementById('3158fd28-eb30-4e68-8e34-0c91605e45be');\n",
              "var x = new MutationObserver(function (mutations, observer) {{\n",
              "        var display = window.getComputedStyle(gd).display;\n",
              "        if (!display || display === 'none') {{\n",
              "            console.log([gd, 'removed!']);\n",
              "            Plotly.purge(gd);\n",
              "            observer.disconnect();\n",
              "        }}\n",
              "}});\n",
              "\n",
              "// Listen for the removal of the full notebook cells\n",
              "var notebookContainer = gd.closest('#notebook-container');\n",
              "if (notebookContainer) {{\n",
              "    x.observe(notebookContainer, {childList: true});\n",
              "}}\n",
              "\n",
              "// Listen for the clearing of the current output cell\n",
              "var outputEl = gd.closest('.output');\n",
              "if (outputEl) {{\n",
              "    x.observe(outputEl, {childList: true});\n",
              "}}\n",
              "\n",
              "                        })                };                            </script>        </div>\n",
              "</body>\n",
              "</html>"
            ]
          },
          "metadata": {}
        }
      ],
      "source": [
        "fig = px.scatter(orders_by_users, x=x_values, y='orders', \n",
        "                 title='Scatterplot of number of orders per user')\n",
        "fig.update_xaxes(title_text='Number of orders')\n",
        "fig.show()"
      ]
    },
    {
      "cell_type": "markdown",
      "metadata": {
        "id": "-S76Ne3AVez7"
      },
      "source": [
        "Summing up the plots, we can definitely say that the majority of our users make no more than 2 orders."
      ]
    },
    {
      "cell_type": "markdown",
      "metadata": {
        "id": "aTGhhXtM6BLd"
      },
      "source": [
        "### **Calculate the 95th and 99th percentiles for the number of orders per user. Define the point at which a data point becomes an anomaly.**\n"
      ]
    },
    {
      "cell_type": "code",
      "execution_count": 36,
      "metadata": {
        "colab": {
          "base_uri": "https://localhost:8080/"
        },
        "id": "3iTuxxiHeV8l",
        "outputId": "2c6d81b6-29a5-4caa-a8a9-5a75528168bc"
      },
      "outputs": [
        {
          "output_type": "stream",
          "name": "stdout",
          "text": [
            "[1. 1. 2.]\n"
          ]
        }
      ],
      "source": [
        "print(np.percentile(orders_by_users['orders'], [90, 95, 99])) "
      ]
    },
    {
      "cell_type": "markdown",
      "metadata": {
        "id": "PStbxA3gZsx6"
      },
      "source": [
        "Only 1% of our users would make more than 2 orders, 10% of users would make more than 1 order. We will take the 99-th percentile as the higher border of the confidence interval, all orders above 2 may be considered anomalies."
      ]
    },
    {
      "cell_type": "markdown",
      "metadata": {
        "id": "-4C4jlpD8Oux"
      },
      "source": [
        "### **Plot a scatter chart of order prices. Make conclusions and conjectures.**"
      ]
    },
    {
      "cell_type": "code",
      "execution_count": 37,
      "metadata": {
        "colab": {
          "base_uri": "https://localhost:8080/"
        },
        "id": "asTCD3CS4cxN",
        "outputId": "ba536382-b1b6-4b5e-852d-9f35fd1e761c"
      },
      "outputs": [
        {
          "output_type": "execute_result",
          "data": {
            "text/plain": [
              "count    1016.000000 \n",
              "mean     130.770866  \n",
              "std      648.079810  \n",
              "min      5.000000    \n",
              "25%      20.775000   \n",
              "50%      50.100000   \n",
              "75%      126.950000  \n",
              "max      19920.400000\n",
              "Name: revenue, dtype: float64"
            ]
          },
          "metadata": {},
          "execution_count": 37
        }
      ],
      "source": [
        "orders['revenue'].describe()"
      ]
    },
    {
      "cell_type": "markdown",
      "metadata": {
        "id": "HCnP1n_9-GiG"
      },
      "source": [
        "This method shows us a quick lookup at how the revenue distributed in quartiles range: 25% of the orders costed between 5 and 20, half of the revenue lies below 50 and 75% orders revenue lies below 126. We can note that the gap between the 75% quartile and the max value revenue is really big. Lets' see what the histogram can show us."
      ]
    },
    {
      "cell_type": "code",
      "execution_count": 38,
      "metadata": {
        "colab": {
          "base_uri": "https://localhost:8080/",
          "height": 542
        },
        "id": "youoC-7Oegay",
        "outputId": "481e246d-6d84-4bca-b826-dc270d290658"
      },
      "outputs": [
        {
          "output_type": "display_data",
          "data": {
            "text/html": [
              "<html>\n",
              "<head><meta charset=\"utf-8\" /></head>\n",
              "<body>\n",
              "    <div>            <script src=\"https://cdnjs.cloudflare.com/ajax/libs/mathjax/2.7.5/MathJax.js?config=TeX-AMS-MML_SVG\"></script><script type=\"text/javascript\">if (window.MathJax) {MathJax.Hub.Config({SVG: {font: \"STIX-Web\"}});}</script>                <script type=\"text/javascript\">window.PlotlyConfig = {MathJaxConfig: 'local'};</script>\n",
              "        <script src=\"https://cdn.plot.ly/plotly-2.8.3.min.js\"></script>                <div id=\"a934e53d-5846-4fb1-9b2f-79c50d69390f\" class=\"plotly-graph-div\" style=\"height:525px; width:100%;\"></div>            <script type=\"text/javascript\">                                    window.PLOTLYENV=window.PLOTLYENV || {};                                    if (document.getElementById(\"a934e53d-5846-4fb1-9b2f-79c50d69390f\")) {                    Plotly.newPlot(                        \"a934e53d-5846-4fb1-9b2f-79c50d69390f\",                        [{\"alignmentgroup\":\"True\",\"bingroup\":\"x\",\"hovertemplate\":\"variable=revenue<br>value=%{x}<br>count=%{y}<extra></extra>\",\"legendgroup\":\"revenue\",\"marker\":{\"color\":\"#636efa\",\"pattern\":{\"shape\":\"\"}},\"name\":\"revenue\",\"offsetgroup\":\"revenue\",\"orientation\":\"v\",\"showlegend\":true,\"x\":[30.4,15.2,155.1,40.5,35.0,30.6,20.1,215.9,30.5,65.7,70.2,115.4,185.4,170.9,235.0,20.3,20.2,255.7,20.3,20.2,10.7,5.6,85.2,5.9,10.9,355.5,40.2,40.0,100.2,300.3,10.4,50.9,145.9,40.2,50.2,35.9,60.2,110.5,20.2,55.7,50.7,280.5,10.2,10.2,5.5,45.3,10.8,50.8,25.2,125.9,10.2,25.8,40.1,30.3,40.2,40.1,225.8,300.3,140.4,15.8,455.8,15.0,15.7,70.7,500.7,630.8,40.3,35.0,85.1,80.5,65.8,15.6,20.8,10.9,5.9,35.5,25.9,275.9,30.8,410.5,140.8,90.5,110.7,5.6,50.8,40.2,50.1,40.2,275.8,15.1,85.5,130.1,95.3,80.2,110.5,30.1,5.6,100.8,70.9,70.9,20.5,190.8,25.3,70.9,125.9,80.4,145.6,100.1,95.5,830.3,110.5,120.3,10.6,440.3,10.0,20.3,5.6,25.9,100.4,45.3,140.4,50.0,20.2,5.6,150.4,45.9,10.6,155.5,30.5,80.5,60.8,125.5,10.2,185.5,295.8,100.8,35.6,10.0,25.2,110.5,10.7,20.0,30.4,30.8,55.8,55.4,85.3,590.1,45.1,50.8,20.3,45.3,50.4,35.2,55.4,15.0,90.3,75.5,30.3,55.7,280.8,110.8,30.0,15.7,85.6,175.0,5.5,45.7,30.0,35.7,30.7,25.0,155.5,105.1,10.7,45.6,75.6,475.5,90.8,5.5,40.2,45.4,45.3,270.0,220.8,65.4,30.8,35.0,40.2,20.5,25.2,40.3,25.2,145.2,50.5,245.8,240.2,45.7,100.4,40.7,10.2,15.2,95.6,50.2,165.9,5.7,40.2,200.1,155.0,15.2,20.3,240.2,15.6,40.0,50.1,10.7,220.6,30.5,10.8,40.2,130.8,5.3,5.6,225.5,165.8,5.5,40.2,30.2,525.6,20.9,30.8,40.2,75.0,200.1,55.6,20.4,35.6,20.9,20.2,110.0,300.3,830.3,35.6,35.0,10.6,70.1,195.3,10.5,370.4,100.7,10.5,340.1,50.4,30.1,40.0,90.5,120.2,10.0,20.3,35.6,5.2,30.2,45.4,65.5,20.2,10.5,15.8,40.8,40.3,40.9,185.4,25.1,25.5,20.8,5.8,35.6,100.3,15.0,140.2,25.7,5.6,30.0,15.2,20.8,20.2,125.1,10.4,235.9,640.7,35.6,15.7,15.6,95.3,25.5,20.8,25.4,70.2,10.5,45.4,95.3,10.2,40.7,30.6,80.4,105.6,80.9,235.3,140.7,140.2,260.0,35.7,40.5,25.5,10.8,260.0,65.4,310.1,195.8,80.6,10.0,10.5,260.6,75.5,55.1,85.3,255.4,5.8,40.1,25.9,80.6,25.5,325.9,25.3,90.2,65.7,45.6,20.3,195.1,15.5,155.7,15.6,60.8,155.7,90.5,300.0,10.1,5.1,15.4,155.7,220.2,10.8,15.0,385.7,20.2,70.2,5.2,10.2,10.8,15.5,30.0,580.7,490.4,150.0,175.1,10.2,19920.4,45.5,25.5,80.8,20.9,275.5,90.8,25.2,170.0,35.8,35.7,5.6,35.8,50.5,10.5,115.3,285.1,10.0,105.7,45.5,50.7,100.1,10.5,85.1,50.6,20.8,5.8,50.1,410.5,145.0,255.5,30.5,155.8,45.7,10.2,25.9,140.3,140.1,40.3,35.6,20.4,10.4,5.6,300.6,215.8,475.5,30.5,100.3,10.0,20.4,25.9,30.4,175.3,310.2,45.9,140.7,135.1,35.5,160.8,40.3,150.4,20.8,10.5,5.9,20.2,40.8,40.2,130.9,10.9,85.3,50.3,30.4,270.4,75.5,110.6,90.5,30.0,50.3,10.0,15.4,165.6,55.2,80.1,105.4,10.7,515.9,15.5,55.2,680.8,210.0,155.8,15.7,70.2,10.0,80.1,100.2,20.8,40.2,165.3,100.7,185.2,280.8,65.8,390.8,550.9,150.0,425.9,25.2,30.5,15.7,70.2,80.8,60.2,80.8,15.7,25.5,510.5,550.9,20.2,40.2,90.1,25.9,425.6,30.1,485.3,10.5,35.6,25.9,5.6,85.8,105.3,55.8,300.3,90.1,30.0,10.3,5.8,65.7,55.7,20.8,90.3,55.6,5.7,35.4,165.3,75.2,200.3,125.0,50.5,45.7,10.6,15.4,5.1,75.7,220.2,30.5,195.1,45.5,30.8,830.3,185.5,30.5,35.6,110.5,20.3,280.8,20.8,410.5,300.6,45.1,55.2,30.1,10.2,200.8,400.3,295.2,60.9,265.8,280.1,160.7,80.8,265.0,50.8,80.8,240.2,5.7,155.8,215.2,25.5,140.6,75.1,150.0,675.2,300.3,30.4,5.4,65.5,25.5,535.5,170.6,10.0,110.1,280.8,75.3,35.2,45.4,40.8,75.0,170.9,20.2,10.5,45.5,265.4,10.5,15.1,160.3,30.0,35.5,30.8,280.8,10.3,660.5,80.2,10.3,280.8,60.6,145.9,90.9,40.8,15.7,35.8,20.3,40.3,305.3,180.8,60.2,65.3,25.5,710.8,165.3,50.9,40.8,10.2,5.5,275.7,60.2,380.1,15.6,10.0,30.8,110.5,440.2,50.5,25.9,50.1,455.8,40.8,80.8,155.5,55.3,225.9,50.5,20.7,10.9,55.6,225.9,1050.0,1335.6,80.4,765.5,15.7,15.6,300.3,50.8,575.5,10.0,305.5,40.7,705.3,5.8,385.5,30.7,20.0,20.8,20.2,90.5,150.1,20.7,20.2,85.5,40.2,10.1,30.8,25.5,30.2,145.0,40.2,10.0,15.9,195.2,55.5,15.1,125.4,80.8,60.5,50.1,15.8,60.8,35.7,10.4,215.8,20.2,315.2,25.5,40.7,20.3,85.0,90.0,40.5,30.2,15.7,10.0,80.4,65.8,15.7,20.2,25.5,125.6,25.7,15.6,100.0,5.8,125.9,5.3,75.8,5.9,280.8,40.2,310.5,5.7,20.8,110.5,45.4,20.2,5.9,10.1,150.4,240.2,55.5,90.8,25.7,150.4,160.5,20.2,20.2,35.6,20.3,225.9,40.2,45.1,10.1,75.5,35.8,15.7,285.1,15.8,50.7,140.7,110.4,15.2,195.5,80.7,55.6,555.2,70.1,100.2,280.8,20.4,15.7,25.5,60.5,55.8,25.4,5.4,220.2,25.6,50.1,25.8,85.2,385.7,30.6,50.0,10.9,475.5,60.5,180.0,65.4,10.2,210.4,25.9,325.9,270.2,35.5,5.5,35.2,10.5,10.8,40.8,300.2,5.2,100.8,40.2,30.0,65.4,25.4,20.2,400.8,15.6,205.1,90.1,10.4,35.6,75.2,15.2,540.3,55.8,15.4,510.5,10.8,300.8,10.5,15.1,5.9,25.5,115.7,20.8,65.2,905.8,15.3,115.4,285.3,285.0,240.2,55.2,105.5,70.9,930.0,375.6,20.8,35.8,140.2,20.8,40.1,20.3,80.5,55.2,30.5,445.3,175.1,300.3,30.5,30.6,95.8,10.0,40.1,40.2,40.1,10.7,60.6,190.8,45.7,15.9,45.6,235.6,5.9,10.8,130.5,30.0,5.5,85.5,15.6,25.2,25.9,5.9,100.2,5.8,75.1,25.3,25.5,45.2,5.5,220.2,185.4,30.5,65.4,20.2,20.2,5.0,20.5,5.5,815.8,55.6,55.7,270.4,70.5,155.8,10.7,205.1,15.7,45.2,105.7,5.5,55.4,290.5,10.5,20.3,45.9,50.2,25.7,185.5,30.2,435.5,105.2,290.5,30.4,20.2,95.2,30.7,50.1,30.5,50.1,60.5,15.1,225.9,10.1,55.2,10.4,240.7,20.2,265.4,30.7,140.7,10.5,20.3,285.3,30.1,90.5,70.2,60.5,35.7,120.3,30.4,190.9,50.8,135.0,10.1,10.2,145.1,125.5,135.2,95.5,20.0,15.8,75.5,10.9,610.7,105.3,75.7,10.2,5.6,70.2,220.4,1015.9,15.2,1025.8,25.7,105.2,55.1,5.5,20.3,180.8,30.1,120.4,5.5,65.4,120.2,45.6,15.7,180.9,15.5,45.3,25.3,435.7,30.3,105.3,85.9,125.9,55.2,20.2,280.0,385.5,65.2,135.2,85.7,40.6,295.7,1425.8,810.4,25.2,20.3,40.2,5.6,815.8,15.0,25.9,80.4,65.7,30.5,15.7,150.4,25.4,55.2,20.3,50.5,50.9,65.4,10.1,10.7,55.4,55.5,20.9,145.1,30.7,60.2,25.4,20.8,50.5,10.5,20.3,100.1,390.5,15.2,240.6,15.5,5.7,135.3,255.7,100.8,50.1,165.3,3120.1],\"xaxis\":\"x\",\"yaxis\":\"y\",\"type\":\"histogram\"}],                        {\"template\":{\"data\":{\"bar\":[{\"error_x\":{\"color\":\"#2a3f5f\"},\"error_y\":{\"color\":\"#2a3f5f\"},\"marker\":{\"line\":{\"color\":\"#E5ECF6\",\"width\":0.5},\"pattern\":{\"fillmode\":\"overlay\",\"size\":10,\"solidity\":0.2}},\"type\":\"bar\"}],\"barpolar\":[{\"marker\":{\"line\":{\"color\":\"#E5ECF6\",\"width\":0.5},\"pattern\":{\"fillmode\":\"overlay\",\"size\":10,\"solidity\":0.2}},\"type\":\"barpolar\"}],\"carpet\":[{\"aaxis\":{\"endlinecolor\":\"#2a3f5f\",\"gridcolor\":\"white\",\"linecolor\":\"white\",\"minorgridcolor\":\"white\",\"startlinecolor\":\"#2a3f5f\"},\"baxis\":{\"endlinecolor\":\"#2a3f5f\",\"gridcolor\":\"white\",\"linecolor\":\"white\",\"minorgridcolor\":\"white\",\"startlinecolor\":\"#2a3f5f\"},\"type\":\"carpet\"}],\"choropleth\":[{\"colorbar\":{\"outlinewidth\":0,\"ticks\":\"\"},\"type\":\"choropleth\"}],\"contour\":[{\"colorbar\":{\"outlinewidth\":0,\"ticks\":\"\"},\"colorscale\":[[0.0,\"#0d0887\"],[0.1111111111111111,\"#46039f\"],[0.2222222222222222,\"#7201a8\"],[0.3333333333333333,\"#9c179e\"],[0.4444444444444444,\"#bd3786\"],[0.5555555555555556,\"#d8576b\"],[0.6666666666666666,\"#ed7953\"],[0.7777777777777778,\"#fb9f3a\"],[0.8888888888888888,\"#fdca26\"],[1.0,\"#f0f921\"]],\"type\":\"contour\"}],\"contourcarpet\":[{\"colorbar\":{\"outlinewidth\":0,\"ticks\":\"\"},\"type\":\"contourcarpet\"}],\"heatmap\":[{\"colorbar\":{\"outlinewidth\":0,\"ticks\":\"\"},\"colorscale\":[[0.0,\"#0d0887\"],[0.1111111111111111,\"#46039f\"],[0.2222222222222222,\"#7201a8\"],[0.3333333333333333,\"#9c179e\"],[0.4444444444444444,\"#bd3786\"],[0.5555555555555556,\"#d8576b\"],[0.6666666666666666,\"#ed7953\"],[0.7777777777777778,\"#fb9f3a\"],[0.8888888888888888,\"#fdca26\"],[1.0,\"#f0f921\"]],\"type\":\"heatmap\"}],\"heatmapgl\":[{\"colorbar\":{\"outlinewidth\":0,\"ticks\":\"\"},\"colorscale\":[[0.0,\"#0d0887\"],[0.1111111111111111,\"#46039f\"],[0.2222222222222222,\"#7201a8\"],[0.3333333333333333,\"#9c179e\"],[0.4444444444444444,\"#bd3786\"],[0.5555555555555556,\"#d8576b\"],[0.6666666666666666,\"#ed7953\"],[0.7777777777777778,\"#fb9f3a\"],[0.8888888888888888,\"#fdca26\"],[1.0,\"#f0f921\"]],\"type\":\"heatmapgl\"}],\"histogram\":[{\"marker\":{\"pattern\":{\"fillmode\":\"overlay\",\"size\":10,\"solidity\":0.2}},\"type\":\"histogram\"}],\"histogram2d\":[{\"colorbar\":{\"outlinewidth\":0,\"ticks\":\"\"},\"colorscale\":[[0.0,\"#0d0887\"],[0.1111111111111111,\"#46039f\"],[0.2222222222222222,\"#7201a8\"],[0.3333333333333333,\"#9c179e\"],[0.4444444444444444,\"#bd3786\"],[0.5555555555555556,\"#d8576b\"],[0.6666666666666666,\"#ed7953\"],[0.7777777777777778,\"#fb9f3a\"],[0.8888888888888888,\"#fdca26\"],[1.0,\"#f0f921\"]],\"type\":\"histogram2d\"}],\"histogram2dcontour\":[{\"colorbar\":{\"outlinewidth\":0,\"ticks\":\"\"},\"colorscale\":[[0.0,\"#0d0887\"],[0.1111111111111111,\"#46039f\"],[0.2222222222222222,\"#7201a8\"],[0.3333333333333333,\"#9c179e\"],[0.4444444444444444,\"#bd3786\"],[0.5555555555555556,\"#d8576b\"],[0.6666666666666666,\"#ed7953\"],[0.7777777777777778,\"#fb9f3a\"],[0.8888888888888888,\"#fdca26\"],[1.0,\"#f0f921\"]],\"type\":\"histogram2dcontour\"}],\"mesh3d\":[{\"colorbar\":{\"outlinewidth\":0,\"ticks\":\"\"},\"type\":\"mesh3d\"}],\"parcoords\":[{\"line\":{\"colorbar\":{\"outlinewidth\":0,\"ticks\":\"\"}},\"type\":\"parcoords\"}],\"pie\":[{\"automargin\":true,\"type\":\"pie\"}],\"scatter\":[{\"marker\":{\"colorbar\":{\"outlinewidth\":0,\"ticks\":\"\"}},\"type\":\"scatter\"}],\"scatter3d\":[{\"line\":{\"colorbar\":{\"outlinewidth\":0,\"ticks\":\"\"}},\"marker\":{\"colorbar\":{\"outlinewidth\":0,\"ticks\":\"\"}},\"type\":\"scatter3d\"}],\"scattercarpet\":[{\"marker\":{\"colorbar\":{\"outlinewidth\":0,\"ticks\":\"\"}},\"type\":\"scattercarpet\"}],\"scattergeo\":[{\"marker\":{\"colorbar\":{\"outlinewidth\":0,\"ticks\":\"\"}},\"type\":\"scattergeo\"}],\"scattergl\":[{\"marker\":{\"colorbar\":{\"outlinewidth\":0,\"ticks\":\"\"}},\"type\":\"scattergl\"}],\"scattermapbox\":[{\"marker\":{\"colorbar\":{\"outlinewidth\":0,\"ticks\":\"\"}},\"type\":\"scattermapbox\"}],\"scatterpolar\":[{\"marker\":{\"colorbar\":{\"outlinewidth\":0,\"ticks\":\"\"}},\"type\":\"scatterpolar\"}],\"scatterpolargl\":[{\"marker\":{\"colorbar\":{\"outlinewidth\":0,\"ticks\":\"\"}},\"type\":\"scatterpolargl\"}],\"scatterternary\":[{\"marker\":{\"colorbar\":{\"outlinewidth\":0,\"ticks\":\"\"}},\"type\":\"scatterternary\"}],\"surface\":[{\"colorbar\":{\"outlinewidth\":0,\"ticks\":\"\"},\"colorscale\":[[0.0,\"#0d0887\"],[0.1111111111111111,\"#46039f\"],[0.2222222222222222,\"#7201a8\"],[0.3333333333333333,\"#9c179e\"],[0.4444444444444444,\"#bd3786\"],[0.5555555555555556,\"#d8576b\"],[0.6666666666666666,\"#ed7953\"],[0.7777777777777778,\"#fb9f3a\"],[0.8888888888888888,\"#fdca26\"],[1.0,\"#f0f921\"]],\"type\":\"surface\"}],\"table\":[{\"cells\":{\"fill\":{\"color\":\"#EBF0F8\"},\"line\":{\"color\":\"white\"}},\"header\":{\"fill\":{\"color\":\"#C8D4E3\"},\"line\":{\"color\":\"white\"}},\"type\":\"table\"}]},\"layout\":{\"annotationdefaults\":{\"arrowcolor\":\"#2a3f5f\",\"arrowhead\":0,\"arrowwidth\":1},\"autotypenumbers\":\"strict\",\"coloraxis\":{\"colorbar\":{\"outlinewidth\":0,\"ticks\":\"\"}},\"colorscale\":{\"diverging\":[[0,\"#8e0152\"],[0.1,\"#c51b7d\"],[0.2,\"#de77ae\"],[0.3,\"#f1b6da\"],[0.4,\"#fde0ef\"],[0.5,\"#f7f7f7\"],[0.6,\"#e6f5d0\"],[0.7,\"#b8e186\"],[0.8,\"#7fbc41\"],[0.9,\"#4d9221\"],[1,\"#276419\"]],\"sequential\":[[0.0,\"#0d0887\"],[0.1111111111111111,\"#46039f\"],[0.2222222222222222,\"#7201a8\"],[0.3333333333333333,\"#9c179e\"],[0.4444444444444444,\"#bd3786\"],[0.5555555555555556,\"#d8576b\"],[0.6666666666666666,\"#ed7953\"],[0.7777777777777778,\"#fb9f3a\"],[0.8888888888888888,\"#fdca26\"],[1.0,\"#f0f921\"]],\"sequentialminus\":[[0.0,\"#0d0887\"],[0.1111111111111111,\"#46039f\"],[0.2222222222222222,\"#7201a8\"],[0.3333333333333333,\"#9c179e\"],[0.4444444444444444,\"#bd3786\"],[0.5555555555555556,\"#d8576b\"],[0.6666666666666666,\"#ed7953\"],[0.7777777777777778,\"#fb9f3a\"],[0.8888888888888888,\"#fdca26\"],[1.0,\"#f0f921\"]]},\"colorway\":[\"#636efa\",\"#EF553B\",\"#00cc96\",\"#ab63fa\",\"#FFA15A\",\"#19d3f3\",\"#FF6692\",\"#B6E880\",\"#FF97FF\",\"#FECB52\"],\"font\":{\"color\":\"#2a3f5f\"},\"geo\":{\"bgcolor\":\"white\",\"lakecolor\":\"white\",\"landcolor\":\"#E5ECF6\",\"showlakes\":true,\"showland\":true,\"subunitcolor\":\"white\"},\"hoverlabel\":{\"align\":\"left\"},\"hovermode\":\"closest\",\"mapbox\":{\"style\":\"light\"},\"paper_bgcolor\":\"white\",\"plot_bgcolor\":\"#E5ECF6\",\"polar\":{\"angularaxis\":{\"gridcolor\":\"white\",\"linecolor\":\"white\",\"ticks\":\"\"},\"bgcolor\":\"#E5ECF6\",\"radialaxis\":{\"gridcolor\":\"white\",\"linecolor\":\"white\",\"ticks\":\"\"}},\"scene\":{\"xaxis\":{\"backgroundcolor\":\"#E5ECF6\",\"gridcolor\":\"white\",\"gridwidth\":2,\"linecolor\":\"white\",\"showbackground\":true,\"ticks\":\"\",\"zerolinecolor\":\"white\"},\"yaxis\":{\"backgroundcolor\":\"#E5ECF6\",\"gridcolor\":\"white\",\"gridwidth\":2,\"linecolor\":\"white\",\"showbackground\":true,\"ticks\":\"\",\"zerolinecolor\":\"white\"},\"zaxis\":{\"backgroundcolor\":\"#E5ECF6\",\"gridcolor\":\"white\",\"gridwidth\":2,\"linecolor\":\"white\",\"showbackground\":true,\"ticks\":\"\",\"zerolinecolor\":\"white\"}},\"shapedefaults\":{\"line\":{\"color\":\"#2a3f5f\"}},\"ternary\":{\"aaxis\":{\"gridcolor\":\"white\",\"linecolor\":\"white\",\"ticks\":\"\"},\"baxis\":{\"gridcolor\":\"white\",\"linecolor\":\"white\",\"ticks\":\"\"},\"bgcolor\":\"#E5ECF6\",\"caxis\":{\"gridcolor\":\"white\",\"linecolor\":\"white\",\"ticks\":\"\"}},\"title\":{\"x\":0.05},\"xaxis\":{\"automargin\":true,\"gridcolor\":\"white\",\"linecolor\":\"white\",\"ticks\":\"\",\"title\":{\"standoff\":15},\"zerolinecolor\":\"white\",\"zerolinewidth\":2},\"yaxis\":{\"automargin\":true,\"gridcolor\":\"white\",\"linecolor\":\"white\",\"ticks\":\"\",\"title\":{\"standoff\":15},\"zerolinecolor\":\"white\",\"zerolinewidth\":2}}},\"xaxis\":{\"anchor\":\"y\",\"domain\":[0.0,1.0],\"title\":{\"text\":\"Revenue per user\"}},\"yaxis\":{\"anchor\":\"x\",\"domain\":[0.0,1.0],\"title\":{\"text\":\"count\"}},\"legend\":{\"title\":{\"text\":\"variable\"},\"tracegroupgap\":0},\"title\":{\"text\":\"Histogram of revenue distribution per user\"},\"barmode\":\"relative\"},                        {\"responsive\": true}                    ).then(function(){\n",
              "                            \n",
              "var gd = document.getElementById('a934e53d-5846-4fb1-9b2f-79c50d69390f');\n",
              "var x = new MutationObserver(function (mutations, observer) {{\n",
              "        var display = window.getComputedStyle(gd).display;\n",
              "        if (!display || display === 'none') {{\n",
              "            console.log([gd, 'removed!']);\n",
              "            Plotly.purge(gd);\n",
              "            observer.disconnect();\n",
              "        }}\n",
              "}});\n",
              "\n",
              "// Listen for the removal of the full notebook cells\n",
              "var notebookContainer = gd.closest('#notebook-container');\n",
              "if (notebookContainer) {{\n",
              "    x.observe(notebookContainer, {childList: true});\n",
              "}}\n",
              "\n",
              "// Listen for the clearing of the current output cell\n",
              "var outputEl = gd.closest('.output');\n",
              "if (outputEl) {{\n",
              "    x.observe(outputEl, {childList: true});\n",
              "}}\n",
              "\n",
              "                        })                };                            </script>        </div>\n",
              "</body>\n",
              "</html>"
            ]
          },
          "metadata": {}
        }
      ],
      "source": [
        "fig = px.histogram(orders['revenue'], title='Histogram of revenue distribution per user')\n",
        "fig.update_xaxes(title_text='Revenue per user')\n",
        "fig.show()"
      ]
    },
    {
      "cell_type": "markdown",
      "metadata": {
        "id": "RAshzV068Qkf"
      },
      "source": [
        "The histogram decreases at approximately 600 - 700. This means most of our orders cost in this range, but there are a lot of users that made orders for a much higher price. Lets' try to locate them more precisely."
      ]
    },
    {
      "cell_type": "code",
      "execution_count": 39,
      "metadata": {
        "colab": {
          "base_uri": "https://localhost:8080/",
          "height": 423
        },
        "id": "1Q18ckLyZlAx",
        "outputId": "830196ed-a396-4844-aee6-4a0bcc57dc7e"
      },
      "outputs": [
        {
          "output_type": "execute_result",
          "data": {
            "text/plain": [
              "      transactionId   visitorId       date  revenue group\n",
              "0     3667963787     3312258926 2019-08-15  30.4     B   \n",
              "1     2804400009     3642806036 2019-08-15  15.2     B   \n",
              "3     3797467345     1196621759 2019-08-15  155.1    B   \n",
              "4     2282983706     2322279887 2019-08-15  40.5     B   \n",
              "5     182168103      935554773  2019-08-15  35.0     B   \n",
              "...         ...            ...         ...   ...    ..   \n",
              "1191  3592955527     608641596  2019-08-14  255.7    B   \n",
              "1192  2662137336     3733762160 2019-08-14  100.8    B   \n",
              "1193  2203539145     370388673  2019-08-14  50.1     A   \n",
              "1194  1807773912     573423106  2019-08-14  165.3    A   \n",
              "1196  3936777065     2108080724 2019-08-15  3120.1   B   \n",
              "\n",
              "[1016 rows x 5 columns]"
            ],
            "text/html": [
              "\n",
              "  <div id=\"df-364e72f1-a7ac-4c39-b6b0-b2c48810abfc\">\n",
              "    <div class=\"colab-df-container\">\n",
              "      <div>\n",
              "<style scoped>\n",
              "    .dataframe tbody tr th:only-of-type {\n",
              "        vertical-align: middle;\n",
              "    }\n",
              "\n",
              "    .dataframe tbody tr th {\n",
              "        vertical-align: top;\n",
              "    }\n",
              "\n",
              "    .dataframe thead th {\n",
              "        text-align: right;\n",
              "    }\n",
              "</style>\n",
              "<table border=\"1\" class=\"dataframe\">\n",
              "  <thead>\n",
              "    <tr style=\"text-align: right;\">\n",
              "      <th></th>\n",
              "      <th>transactionId</th>\n",
              "      <th>visitorId</th>\n",
              "      <th>date</th>\n",
              "      <th>revenue</th>\n",
              "      <th>group</th>\n",
              "    </tr>\n",
              "  </thead>\n",
              "  <tbody>\n",
              "    <tr>\n",
              "      <th>0</th>\n",
              "      <td>3667963787</td>\n",
              "      <td>3312258926</td>\n",
              "      <td>2019-08-15</td>\n",
              "      <td>30.4</td>\n",
              "      <td>B</td>\n",
              "    </tr>\n",
              "    <tr>\n",
              "      <th>1</th>\n",
              "      <td>2804400009</td>\n",
              "      <td>3642806036</td>\n",
              "      <td>2019-08-15</td>\n",
              "      <td>15.2</td>\n",
              "      <td>B</td>\n",
              "    </tr>\n",
              "    <tr>\n",
              "      <th>3</th>\n",
              "      <td>3797467345</td>\n",
              "      <td>1196621759</td>\n",
              "      <td>2019-08-15</td>\n",
              "      <td>155.1</td>\n",
              "      <td>B</td>\n",
              "    </tr>\n",
              "    <tr>\n",
              "      <th>4</th>\n",
              "      <td>2282983706</td>\n",
              "      <td>2322279887</td>\n",
              "      <td>2019-08-15</td>\n",
              "      <td>40.5</td>\n",
              "      <td>B</td>\n",
              "    </tr>\n",
              "    <tr>\n",
              "      <th>5</th>\n",
              "      <td>182168103</td>\n",
              "      <td>935554773</td>\n",
              "      <td>2019-08-15</td>\n",
              "      <td>35.0</td>\n",
              "      <td>B</td>\n",
              "    </tr>\n",
              "    <tr>\n",
              "      <th>...</th>\n",
              "      <td>...</td>\n",
              "      <td>...</td>\n",
              "      <td>...</td>\n",
              "      <td>...</td>\n",
              "      <td>...</td>\n",
              "    </tr>\n",
              "    <tr>\n",
              "      <th>1191</th>\n",
              "      <td>3592955527</td>\n",
              "      <td>608641596</td>\n",
              "      <td>2019-08-14</td>\n",
              "      <td>255.7</td>\n",
              "      <td>B</td>\n",
              "    </tr>\n",
              "    <tr>\n",
              "      <th>1192</th>\n",
              "      <td>2662137336</td>\n",
              "      <td>3733762160</td>\n",
              "      <td>2019-08-14</td>\n",
              "      <td>100.8</td>\n",
              "      <td>B</td>\n",
              "    </tr>\n",
              "    <tr>\n",
              "      <th>1193</th>\n",
              "      <td>2203539145</td>\n",
              "      <td>370388673</td>\n",
              "      <td>2019-08-14</td>\n",
              "      <td>50.1</td>\n",
              "      <td>A</td>\n",
              "    </tr>\n",
              "    <tr>\n",
              "      <th>1194</th>\n",
              "      <td>1807773912</td>\n",
              "      <td>573423106</td>\n",
              "      <td>2019-08-14</td>\n",
              "      <td>165.3</td>\n",
              "      <td>A</td>\n",
              "    </tr>\n",
              "    <tr>\n",
              "      <th>1196</th>\n",
              "      <td>3936777065</td>\n",
              "      <td>2108080724</td>\n",
              "      <td>2019-08-15</td>\n",
              "      <td>3120.1</td>\n",
              "      <td>B</td>\n",
              "    </tr>\n",
              "  </tbody>\n",
              "</table>\n",
              "<p>1016 rows × 5 columns</p>\n",
              "</div>\n",
              "      <button class=\"colab-df-convert\" onclick=\"convertToInteractive('df-364e72f1-a7ac-4c39-b6b0-b2c48810abfc')\"\n",
              "              title=\"Convert this dataframe to an interactive table.\"\n",
              "              style=\"display:none;\">\n",
              "        \n",
              "  <svg xmlns=\"http://www.w3.org/2000/svg\" height=\"24px\"viewBox=\"0 0 24 24\"\n",
              "       width=\"24px\">\n",
              "    <path d=\"M0 0h24v24H0V0z\" fill=\"none\"/>\n",
              "    <path d=\"M18.56 5.44l.94 2.06.94-2.06 2.06-.94-2.06-.94-.94-2.06-.94 2.06-2.06.94zm-11 1L8.5 8.5l.94-2.06 2.06-.94-2.06-.94L8.5 2.5l-.94 2.06-2.06.94zm10 10l.94 2.06.94-2.06 2.06-.94-2.06-.94-.94-2.06-.94 2.06-2.06.94z\"/><path d=\"M17.41 7.96l-1.37-1.37c-.4-.4-.92-.59-1.43-.59-.52 0-1.04.2-1.43.59L10.3 9.45l-7.72 7.72c-.78.78-.78 2.05 0 2.83L4 21.41c.39.39.9.59 1.41.59.51 0 1.02-.2 1.41-.59l7.78-7.78 2.81-2.81c.8-.78.8-2.07 0-2.86zM5.41 20L4 18.59l7.72-7.72 1.47 1.35L5.41 20z\"/>\n",
              "  </svg>\n",
              "      </button>\n",
              "      \n",
              "  <style>\n",
              "    .colab-df-container {\n",
              "      display:flex;\n",
              "      flex-wrap:wrap;\n",
              "      gap: 12px;\n",
              "    }\n",
              "\n",
              "    .colab-df-convert {\n",
              "      background-color: #E8F0FE;\n",
              "      border: none;\n",
              "      border-radius: 50%;\n",
              "      cursor: pointer;\n",
              "      display: none;\n",
              "      fill: #1967D2;\n",
              "      height: 32px;\n",
              "      padding: 0 0 0 0;\n",
              "      width: 32px;\n",
              "    }\n",
              "\n",
              "    .colab-df-convert:hover {\n",
              "      background-color: #E2EBFA;\n",
              "      box-shadow: 0px 1px 2px rgba(60, 64, 67, 0.3), 0px 1px 3px 1px rgba(60, 64, 67, 0.15);\n",
              "      fill: #174EA6;\n",
              "    }\n",
              "\n",
              "    [theme=dark] .colab-df-convert {\n",
              "      background-color: #3B4455;\n",
              "      fill: #D2E3FC;\n",
              "    }\n",
              "\n",
              "    [theme=dark] .colab-df-convert:hover {\n",
              "      background-color: #434B5C;\n",
              "      box-shadow: 0px 1px 3px 1px rgba(0, 0, 0, 0.15);\n",
              "      filter: drop-shadow(0px 1px 2px rgba(0, 0, 0, 0.3));\n",
              "      fill: #FFFFFF;\n",
              "    }\n",
              "  </style>\n",
              "\n",
              "      <script>\n",
              "        const buttonEl =\n",
              "          document.querySelector('#df-364e72f1-a7ac-4c39-b6b0-b2c48810abfc button.colab-df-convert');\n",
              "        buttonEl.style.display =\n",
              "          google.colab.kernel.accessAllowed ? 'block' : 'none';\n",
              "\n",
              "        async function convertToInteractive(key) {\n",
              "          const element = document.querySelector('#df-364e72f1-a7ac-4c39-b6b0-b2c48810abfc');\n",
              "          const dataTable =\n",
              "            await google.colab.kernel.invokeFunction('convertToInteractive',\n",
              "                                                     [key], {});\n",
              "          if (!dataTable) return;\n",
              "\n",
              "          const docLinkHtml = 'Like what you see? Visit the ' +\n",
              "            '<a target=\"_blank\" href=https://colab.research.google.com/notebooks/data_table.ipynb>data table notebook</a>'\n",
              "            + ' to learn more about interactive tables.';\n",
              "          element.innerHTML = '';\n",
              "          dataTable['output_type'] = 'display_data';\n",
              "          await google.colab.output.renderOutput(dataTable, element);\n",
              "          const docLink = document.createElement('div');\n",
              "          docLink.innerHTML = docLinkHtml;\n",
              "          element.appendChild(docLink);\n",
              "        }\n",
              "      </script>\n",
              "    </div>\n",
              "  </div>\n",
              "  "
            ]
          },
          "metadata": {},
          "execution_count": 39
        }
      ],
      "source": [
        "orders"
      ]
    },
    {
      "cell_type": "code",
      "execution_count": 40,
      "metadata": {
        "colab": {
          "base_uri": "https://localhost:8080/",
          "height": 542
        },
        "id": "r0B5Q8dmdOnU",
        "outputId": "1f4afdbd-bfff-4cb5-d9dc-d4616b315efd"
      },
      "outputs": [
        {
          "output_type": "display_data",
          "data": {
            "text/html": [
              "<html>\n",
              "<head><meta charset=\"utf-8\" /></head>\n",
              "<body>\n",
              "    <div>            <script src=\"https://cdnjs.cloudflare.com/ajax/libs/mathjax/2.7.5/MathJax.js?config=TeX-AMS-MML_SVG\"></script><script type=\"text/javascript\">if (window.MathJax) {MathJax.Hub.Config({SVG: {font: \"STIX-Web\"}});}</script>                <script type=\"text/javascript\">window.PlotlyConfig = {MathJaxConfig: 'local'};</script>\n",
              "        <script src=\"https://cdn.plot.ly/plotly-2.8.3.min.js\"></script>                <div id=\"205dda5d-6a10-4b82-98a7-da18fa2613c6\" class=\"plotly-graph-div\" style=\"height:525px; width:100%;\"></div>            <script type=\"text/javascript\">                                    window.PLOTLYENV=window.PLOTLYENV || {};                                    if (document.getElementById(\"205dda5d-6a10-4b82-98a7-da18fa2613c6\")) {                    Plotly.newPlot(                        \"205dda5d-6a10-4b82-98a7-da18fa2613c6\",                        [{\"hovertemplate\":\"color=B<br>x=%{x}<br>y=%{y}<extra></extra>\",\"legendgroup\":\"B\",\"marker\":{\"color\":\"#636efa\",\"symbol\":\"circle\"},\"mode\":\"markers\",\"name\":\"B\",\"showlegend\":true,\"x\":[0,1,3,4,5,6,9,11,13,15,16,17,21,22,28,30,31,35,36,37,38,39,40,42,43,47,48,50,51,52,56,58,59,62,64,65,66,67,68,70,74,78,81,82,87,88,89,90,91,92,93,97,100,103,105,109,110,115,119,120,125,126,127,128,130,132,135,136,138,140,142,146,148,149,150,151,152,156,158,160,164,165,172,173,174,176,177,181,182,183,186,193,194,201,203,204,205,207,208,210,211,212,213,215,216,217,218,220,224,226,228,231,234,235,236,238,241,242,251,260,266,268,270,272,273,277,278,283,285,288,290,296,298,299,302,305,311,312,315,319,320,322,323,324,329,332,333,334,336,339,340,349,350,355,360,361,363,367,368,369,371,372,373,377,379,381,383,392,393,396,397,399,403,404,405,407,409,410,411,412,413,414,416,419,420,423,424,425,426,427,429,431,434,437,438,439,440,441,442,443,444,447,452,457,458,459,461,463,464,465,466,467,468,469,470,472,474,475,476,477,481,486,489,490,491,492,494,498,501,505,508,509,510,511,513,520,521,522,523,526,527,529,533,538,539,541,544,545,546,547,550,551,556,557,558,560,563,564,565,567,568,570,573,574,576,581,583,585,587,589,591,595,597,600,601,603,607,608,612,613,614,620,622,625,626,628,630,636,637,638,639,640,642,643,647,649,651,652,653,654,655,656,658,659,661,664,670,671,673,678,679,680,681,686,689,690,691,694,695,699,700,706,707,708,710,711,712,713,714,715,723,725,728,731,733,734,735,737,738,741,744,747,748,749,751,753,754,755,756,758,760,762,763,765,766,768,770,771,772,780,784,785,788,789,792,794,795,796,799,801,802,803,804,815,820,825,826,828,830,831,834,837,839,840,841,843,848,849,850,856,860,864,865,866,867,868,871,874,875,876,877,880,882,884,887,889,890,891,898,903,905,907,908,910,911,912,913,915,917,920,922,923,924,927,928,929,930,933,934,937,940,941,942,943,945,950,951,953,954,955,956,957,959,960,962,963,964,967,968,971,974,975,976,977,978,983,984,986,987,988,990,991,992,993,994,995,997,1002,1007,1012,1016,1020,1023,1024,1026,1028,1030,1032,1033,1034,1037,1038,1043,1046,1048,1050,1051,1052,1054,1055,1058,1059,1063,1066,1067,1075,1077,1078,1080,1082,1085,1086,1087,1092,1094,1095,1101,1104,1105,1106,1110,1112,1113,1114,1115,1117,1118,1120,1123,1127,1128,1131,1132,1133,1134,1141,1142,1143,1144,1145,1146,1147,1148,1149,1153,1159,1160,1161,1164,1168,1176,1177,1181,1186,1190,1191,1192,1196],\"xaxis\":\"x\",\"y\":[30.4,15.2,155.1,40.5,35.0,30.6,30.5,70.2,185.4,235.0,20.3,20.2,20.2,10.7,85.2,5.9,10.9,40.2,40.0,100.2,300.3,10.4,50.9,145.9,40.2,110.5,20.2,50.7,280.5,10.2,10.8,25.2,125.9,10.2,40.1,30.3,40.2,40.1,225.8,140.4,15.0,630.8,85.1,80.5,10.9,5.9,35.5,25.9,275.9,30.8,410.5,90.5,50.8,40.2,15.1,80.2,110.5,5.6,70.9,70.9,125.9,80.4,145.6,100.1,95.5,110.5,120.3,10.6,10.0,20.3,25.9,50.0,5.6,150.4,45.9,10.6,155.5,125.5,185.5,295.8,25.2,110.5,85.3,590.1,45.1,20.3,45.3,55.4,15.0,90.3,55.7,85.6,175.0,30.7,155.5,105.1,10.7,75.6,475.5,5.5,40.2,45.4,45.3,220.8,65.4,30.8,35.0,40.2,25.2,145.2,50.5,240.2,40.7,10.2,15.2,50.2,40.2,200.1,50.1,40.2,225.5,165.8,5.5,30.2,525.6,75.0,200.1,20.9,110.0,35.6,10.6,10.5,50.4,30.1,120.2,20.3,65.5,20.2,40.8,25.1,25.5,5.8,35.6,100.3,25.7,30.0,15.2,20.8,125.1,640.7,35.6,45.4,95.3,105.6,140.2,260.0,40.5,65.4,310.1,195.8,80.6,10.0,10.5,55.1,255.4,5.8,25.9,45.6,20.3,155.7,15.6,155.7,10.1,5.1,15.4,155.7,10.8,15.0,385.7,20.2,70.2,5.2,10.2,30.0,580.7,175.1,10.2,19920.4,45.5,25.5,20.9,275.5,25.2,35.8,35.7,5.6,35.8,50.5,10.5,115.3,285.1,45.5,85.1,50.6,20.8,5.8,410.5,255.5,30.5,155.8,45.7,10.2,25.9,140.3,140.1,35.6,20.4,10.4,5.6,300.6,475.5,20.4,175.3,310.2,45.9,140.7,35.5,40.3,10.5,40.2,85.3,50.3,30.4,270.4,110.6,15.4,165.6,55.2,80.1,10.7,515.9,55.2,15.7,80.1,100.2,40.2,185.2,280.8,65.8,390.8,150.0,425.9,80.8,60.2,80.8,25.5,550.9,20.2,40.2,25.9,425.6,485.3,25.9,5.6,105.3,90.1,10.3,65.7,20.8,90.3,55.6,75.2,125.0,10.6,15.4,75.7,30.5,195.1,30.8,830.3,185.5,20.8,300.6,55.2,30.1,10.2,400.3,80.8,265.0,50.8,80.8,240.2,155.8,215.2,150.0,300.3,5.4,65.5,25.5,535.5,170.6,10.0,280.8,75.3,45.4,75.0,10.5,15.1,160.3,30.0,35.5,30.8,280.8,80.2,10.3,280.8,60.6,145.9,90.9,15.7,35.8,60.2,65.3,25.5,165.3,50.9,40.8,10.2,5.5,275.7,440.2,25.9,455.8,40.8,80.8,155.5,55.3,50.5,20.7,55.6,1335.6,15.7,15.6,300.3,575.5,305.5,40.7,705.3,5.8,30.7,20.8,90.5,150.1,20.2,85.5,40.2,30.8,25.5,30.2,15.1,80.8,60.5,60.8,35.7,20.2,25.5,40.7,20.3,40.5,15.7,10.0,80.4,65.8,5.8,5.9,5.7,20.8,45.4,20.2,5.9,150.4,90.8,25.7,150.4,160.5,20.2,225.9,40.2,45.1,15.8,140.7,195.5,80.7,55.6,555.2,70.1,20.4,25.5,60.5,55.8,25.4,220.2,50.1,25.8,30.6,10.9,475.5,60.5,270.2,35.2,10.8,300.2,5.2,40.2,30.0,65.4,25.4,20.2,400.8,90.1,35.6,75.2,15.2,15.4,510.5,10.8,300.8,5.9,25.5,20.8,905.8,15.3,115.4,285.3,240.2,375.6,20.8,140.2,20.8,40.1,20.3,80.5,30.5,445.3,300.3,30.5,30.6,40.1,40.2,10.7,60.6,190.8,45.7,15.9,45.6,30.0,5.5,15.6,25.2,25.9,100.2,5.8,75.1,25.3,25.5,45.2,220.2,20.2,55.6,70.5,10.7,15.7,105.7,5.5,290.5,20.3,45.9,50.2,25.7,185.5,30.2,435.5,20.2,30.7,30.5,60.5,15.1,225.9,55.2,10.4,265.4,30.7,20.3,90.5,70.2,50.8,10.1,10.2,125.5,95.5,75.5,10.9,610.7,5.6,70.2,220.4,15.2,25.7,105.2,55.1,30.1,5.5,65.4,120.2,45.6,180.9,15.5,25.3,30.3,55.2,20.2,65.2,135.2,85.7,40.6,5.6,815.8,15.0,25.9,80.4,65.7,30.5,15.7,150.4,50.5,55.4,55.5,20.9,145.1,30.7,50.5,10.5,390.5,240.6,135.3,255.7,100.8,3120.1],\"yaxis\":\"y\",\"type\":\"scattergl\"},{\"hovertemplate\":\"color=A<br>x=%{x}<br>y=%{y}<extra></extra>\",\"legendgroup\":\"A\",\"marker\":{\"color\":\"#EF553B\",\"symbol\":\"circle\"},\"mode\":\"markers\",\"name\":\"A\",\"showlegend\":true,\"x\":[7,8,10,12,14,18,19,25,34,44,45,46,49,53,54,55,57,63,69,72,73,75,76,77,79,80,83,84,86,96,98,99,101,102,104,106,107,108,113,116,121,122,123,124,131,137,141,143,144,145,147,153,154,155,157,161,162,163,166,167,168,169,170,171,175,178,180,184,185,188,190,191,192,195,196,198,199,202,206,209,214,221,222,223,229,232,233,237,239,240,243,244,245,247,248,250,255,257,258,259,261,262,264,271,274,275,276,280,281,282,284,286,287,289,291,292,293,294,295,297,300,301,303,306,307,308,309,313,314,316,317,318,321,326,328,331,335,337,338,341,342,343,344,345,346,347,348,351,352,353,354,356,357,358,362,364,365,366,374,376,378,382,384,385,386,387,388,389,394,395,398,400,401,408,417,418,421,422,428,433,436,445,446,448,449,451,460,462,471,478,482,484,485,487,488,493,495,499,500,502,503,504,506,507,512,514,515,518,519,524,528,530,531,532,534,537,540,542,543,549,552,553,554,555,559,562,566,569,571,572,575,579,580,582,584,586,592,593,594,596,598,599,602,604,610,615,616,617,618,619,621,623,629,631,632,633,634,635,641,644,645,646,648,650,657,660,663,665,666,667,668,669,683,684,696,701,702,704,705,709,717,718,719,720,721,722,724,726,736,740,742,743,745,746,750,752,757,759,761,764,769,773,774,775,776,777,779,781,786,787,790,791,793,797,798,800,806,807,808,810,811,812,813,816,817,818,821,822,824,827,833,835,836,845,846,847,851,852,853,854,855,859,862,863,869,870,872,878,881,885,886,888,892,893,894,895,896,897,899,902,904,906,909,918,919,921,925,926,931,932,935,939,944,946,947,948,949,952,958,961,965,966,969,979,980,981,982,985,989,996,998,999,1000,1001,1003,1004,1005,1006,1010,1011,1014,1017,1022,1025,1027,1039,1040,1041,1045,1047,1049,1053,1056,1057,1060,1061,1064,1065,1068,1069,1071,1072,1073,1076,1079,1081,1083,1084,1088,1089,1090,1099,1103,1107,1108,1109,1111,1116,1119,1121,1124,1125,1126,1129,1130,1135,1136,1137,1138,1139,1140,1150,1151,1152,1154,1155,1157,1158,1169,1170,1174,1179,1180,1185,1187,1188,1193,1194],\"xaxis\":\"x\",\"y\":[20.1,215.9,65.7,115.4,170.9,255.7,20.3,5.6,355.5,50.2,35.9,60.2,55.7,10.2,5.5,45.3,50.8,25.8,300.3,15.8,455.8,15.7,70.7,500.7,40.3,35.0,65.8,15.6,20.8,140.8,110.7,5.6,40.2,50.1,275.8,85.5,130.1,95.3,30.1,100.8,20.5,190.8,25.3,70.9,830.3,440.3,5.6,100.4,45.3,140.4,20.2,30.5,80.5,60.8,10.2,100.8,35.6,10.0,10.7,20.0,30.4,30.8,55.8,55.4,50.8,50.4,35.2,75.5,30.3,280.8,110.8,30.0,15.7,5.5,45.7,30.0,35.7,25.0,45.6,90.8,270.0,20.5,25.2,40.3,245.8,45.7,100.4,95.6,165.9,5.7,155.0,15.2,20.3,240.2,15.6,40.0,10.7,220.6,30.5,10.8,130.8,5.3,5.6,40.2,20.9,30.8,40.2,55.6,20.4,35.6,20.2,300.3,830.3,35.0,70.1,195.3,10.5,370.4,100.7,340.1,40.0,90.5,10.0,35.6,5.2,30.2,45.4,10.5,15.8,40.3,40.9,185.4,20.8,15.0,140.2,5.6,20.2,10.4,235.9,15.7,15.6,95.3,25.5,20.8,25.4,70.2,10.5,10.2,40.7,30.6,80.4,80.9,235.3,140.7,35.7,25.5,10.8,260.0,260.6,75.5,85.3,40.1,80.6,25.5,325.9,25.3,90.2,65.7,195.1,15.5,60.8,90.5,300.0,220.2,10.8,15.5,490.4,150.0,80.8,90.8,170.0,10.0,105.7,50.7,100.1,10.5,50.1,145.0,40.3,215.8,30.5,100.3,10.0,25.9,30.4,135.1,160.8,150.4,20.8,5.9,20.2,40.8,130.9,10.9,75.5,90.5,30.0,50.3,10.0,105.4,15.5,680.8,210.0,155.8,70.2,10.0,20.8,165.3,100.7,550.9,25.2,30.5,15.7,70.2,15.7,510.5,90.1,30.1,10.5,35.6,85.8,55.8,300.3,30.0,5.8,55.7,5.7,35.4,165.3,200.3,50.5,45.7,5.1,220.2,45.5,30.5,35.6,110.5,20.3,280.8,410.5,45.1,200.8,295.2,60.9,265.8,280.1,160.7,5.7,25.5,140.6,75.1,675.2,30.4,110.1,35.2,40.8,170.9,20.2,10.5,45.5,265.4,10.3,660.5,40.8,20.3,40.3,305.3,180.8,710.8,60.2,380.1,15.6,10.0,30.8,110.5,50.5,50.1,225.9,10.9,225.9,1050.0,80.4,765.5,50.8,10.0,385.5,20.0,20.2,20.7,10.1,145.0,40.2,10.0,15.9,195.2,55.5,125.4,50.1,15.8,10.4,215.8,315.2,85.0,90.0,30.2,15.7,20.2,25.5,125.6,25.7,15.6,100.0,125.9,5.3,75.8,280.8,40.2,310.5,110.5,10.1,240.2,55.5,20.2,35.6,20.3,10.1,75.5,35.8,15.7,285.1,50.7,110.4,15.2,100.2,280.8,15.7,5.4,25.6,85.2,385.7,50.0,180.0,65.4,10.2,210.4,25.9,325.9,35.5,5.5,10.5,40.8,100.8,15.6,205.1,10.4,540.3,55.8,10.5,15.1,115.7,65.2,285.0,55.2,105.5,70.9,930.0,35.8,55.2,175.1,95.8,10.0,40.1,235.6,5.9,10.8,130.5,85.5,5.9,5.5,185.4,30.5,65.4,20.2,5.0,20.5,5.5,815.8,55.7,270.4,155.8,205.1,45.2,55.4,10.5,105.2,290.5,30.4,95.2,50.1,50.1,10.1,240.7,20.2,140.7,10.5,285.3,30.1,60.5,35.7,120.3,30.4,190.9,135.0,145.1,135.2,20.0,15.8,105.3,75.7,10.2,1015.9,1025.8,5.5,20.3,180.8,120.4,15.7,45.3,435.7,105.3,85.9,125.9,280.0,385.5,295.7,1425.8,810.4,25.2,20.3,40.2,25.4,55.2,20.3,50.9,65.4,10.1,10.7,60.2,25.4,20.8,20.3,100.1,15.2,15.5,5.7,50.1,165.3],\"yaxis\":\"y\",\"type\":\"scattergl\"}],                        {\"template\":{\"data\":{\"bar\":[{\"error_x\":{\"color\":\"#2a3f5f\"},\"error_y\":{\"color\":\"#2a3f5f\"},\"marker\":{\"line\":{\"color\":\"#E5ECF6\",\"width\":0.5},\"pattern\":{\"fillmode\":\"overlay\",\"size\":10,\"solidity\":0.2}},\"type\":\"bar\"}],\"barpolar\":[{\"marker\":{\"line\":{\"color\":\"#E5ECF6\",\"width\":0.5},\"pattern\":{\"fillmode\":\"overlay\",\"size\":10,\"solidity\":0.2}},\"type\":\"barpolar\"}],\"carpet\":[{\"aaxis\":{\"endlinecolor\":\"#2a3f5f\",\"gridcolor\":\"white\",\"linecolor\":\"white\",\"minorgridcolor\":\"white\",\"startlinecolor\":\"#2a3f5f\"},\"baxis\":{\"endlinecolor\":\"#2a3f5f\",\"gridcolor\":\"white\",\"linecolor\":\"white\",\"minorgridcolor\":\"white\",\"startlinecolor\":\"#2a3f5f\"},\"type\":\"carpet\"}],\"choropleth\":[{\"colorbar\":{\"outlinewidth\":0,\"ticks\":\"\"},\"type\":\"choropleth\"}],\"contour\":[{\"colorbar\":{\"outlinewidth\":0,\"ticks\":\"\"},\"colorscale\":[[0.0,\"#0d0887\"],[0.1111111111111111,\"#46039f\"],[0.2222222222222222,\"#7201a8\"],[0.3333333333333333,\"#9c179e\"],[0.4444444444444444,\"#bd3786\"],[0.5555555555555556,\"#d8576b\"],[0.6666666666666666,\"#ed7953\"],[0.7777777777777778,\"#fb9f3a\"],[0.8888888888888888,\"#fdca26\"],[1.0,\"#f0f921\"]],\"type\":\"contour\"}],\"contourcarpet\":[{\"colorbar\":{\"outlinewidth\":0,\"ticks\":\"\"},\"type\":\"contourcarpet\"}],\"heatmap\":[{\"colorbar\":{\"outlinewidth\":0,\"ticks\":\"\"},\"colorscale\":[[0.0,\"#0d0887\"],[0.1111111111111111,\"#46039f\"],[0.2222222222222222,\"#7201a8\"],[0.3333333333333333,\"#9c179e\"],[0.4444444444444444,\"#bd3786\"],[0.5555555555555556,\"#d8576b\"],[0.6666666666666666,\"#ed7953\"],[0.7777777777777778,\"#fb9f3a\"],[0.8888888888888888,\"#fdca26\"],[1.0,\"#f0f921\"]],\"type\":\"heatmap\"}],\"heatmapgl\":[{\"colorbar\":{\"outlinewidth\":0,\"ticks\":\"\"},\"colorscale\":[[0.0,\"#0d0887\"],[0.1111111111111111,\"#46039f\"],[0.2222222222222222,\"#7201a8\"],[0.3333333333333333,\"#9c179e\"],[0.4444444444444444,\"#bd3786\"],[0.5555555555555556,\"#d8576b\"],[0.6666666666666666,\"#ed7953\"],[0.7777777777777778,\"#fb9f3a\"],[0.8888888888888888,\"#fdca26\"],[1.0,\"#f0f921\"]],\"type\":\"heatmapgl\"}],\"histogram\":[{\"marker\":{\"pattern\":{\"fillmode\":\"overlay\",\"size\":10,\"solidity\":0.2}},\"type\":\"histogram\"}],\"histogram2d\":[{\"colorbar\":{\"outlinewidth\":0,\"ticks\":\"\"},\"colorscale\":[[0.0,\"#0d0887\"],[0.1111111111111111,\"#46039f\"],[0.2222222222222222,\"#7201a8\"],[0.3333333333333333,\"#9c179e\"],[0.4444444444444444,\"#bd3786\"],[0.5555555555555556,\"#d8576b\"],[0.6666666666666666,\"#ed7953\"],[0.7777777777777778,\"#fb9f3a\"],[0.8888888888888888,\"#fdca26\"],[1.0,\"#f0f921\"]],\"type\":\"histogram2d\"}],\"histogram2dcontour\":[{\"colorbar\":{\"outlinewidth\":0,\"ticks\":\"\"},\"colorscale\":[[0.0,\"#0d0887\"],[0.1111111111111111,\"#46039f\"],[0.2222222222222222,\"#7201a8\"],[0.3333333333333333,\"#9c179e\"],[0.4444444444444444,\"#bd3786\"],[0.5555555555555556,\"#d8576b\"],[0.6666666666666666,\"#ed7953\"],[0.7777777777777778,\"#fb9f3a\"],[0.8888888888888888,\"#fdca26\"],[1.0,\"#f0f921\"]],\"type\":\"histogram2dcontour\"}],\"mesh3d\":[{\"colorbar\":{\"outlinewidth\":0,\"ticks\":\"\"},\"type\":\"mesh3d\"}],\"parcoords\":[{\"line\":{\"colorbar\":{\"outlinewidth\":0,\"ticks\":\"\"}},\"type\":\"parcoords\"}],\"pie\":[{\"automargin\":true,\"type\":\"pie\"}],\"scatter\":[{\"marker\":{\"colorbar\":{\"outlinewidth\":0,\"ticks\":\"\"}},\"type\":\"scatter\"}],\"scatter3d\":[{\"line\":{\"colorbar\":{\"outlinewidth\":0,\"ticks\":\"\"}},\"marker\":{\"colorbar\":{\"outlinewidth\":0,\"ticks\":\"\"}},\"type\":\"scatter3d\"}],\"scattercarpet\":[{\"marker\":{\"colorbar\":{\"outlinewidth\":0,\"ticks\":\"\"}},\"type\":\"scattercarpet\"}],\"scattergeo\":[{\"marker\":{\"colorbar\":{\"outlinewidth\":0,\"ticks\":\"\"}},\"type\":\"scattergeo\"}],\"scattergl\":[{\"marker\":{\"colorbar\":{\"outlinewidth\":0,\"ticks\":\"\"}},\"type\":\"scattergl\"}],\"scattermapbox\":[{\"marker\":{\"colorbar\":{\"outlinewidth\":0,\"ticks\":\"\"}},\"type\":\"scattermapbox\"}],\"scatterpolar\":[{\"marker\":{\"colorbar\":{\"outlinewidth\":0,\"ticks\":\"\"}},\"type\":\"scatterpolar\"}],\"scatterpolargl\":[{\"marker\":{\"colorbar\":{\"outlinewidth\":0,\"ticks\":\"\"}},\"type\":\"scatterpolargl\"}],\"scatterternary\":[{\"marker\":{\"colorbar\":{\"outlinewidth\":0,\"ticks\":\"\"}},\"type\":\"scatterternary\"}],\"surface\":[{\"colorbar\":{\"outlinewidth\":0,\"ticks\":\"\"},\"colorscale\":[[0.0,\"#0d0887\"],[0.1111111111111111,\"#46039f\"],[0.2222222222222222,\"#7201a8\"],[0.3333333333333333,\"#9c179e\"],[0.4444444444444444,\"#bd3786\"],[0.5555555555555556,\"#d8576b\"],[0.6666666666666666,\"#ed7953\"],[0.7777777777777778,\"#fb9f3a\"],[0.8888888888888888,\"#fdca26\"],[1.0,\"#f0f921\"]],\"type\":\"surface\"}],\"table\":[{\"cells\":{\"fill\":{\"color\":\"#EBF0F8\"},\"line\":{\"color\":\"white\"}},\"header\":{\"fill\":{\"color\":\"#C8D4E3\"},\"line\":{\"color\":\"white\"}},\"type\":\"table\"}]},\"layout\":{\"annotationdefaults\":{\"arrowcolor\":\"#2a3f5f\",\"arrowhead\":0,\"arrowwidth\":1},\"autotypenumbers\":\"strict\",\"coloraxis\":{\"colorbar\":{\"outlinewidth\":0,\"ticks\":\"\"}},\"colorscale\":{\"diverging\":[[0,\"#8e0152\"],[0.1,\"#c51b7d\"],[0.2,\"#de77ae\"],[0.3,\"#f1b6da\"],[0.4,\"#fde0ef\"],[0.5,\"#f7f7f7\"],[0.6,\"#e6f5d0\"],[0.7,\"#b8e186\"],[0.8,\"#7fbc41\"],[0.9,\"#4d9221\"],[1,\"#276419\"]],\"sequential\":[[0.0,\"#0d0887\"],[0.1111111111111111,\"#46039f\"],[0.2222222222222222,\"#7201a8\"],[0.3333333333333333,\"#9c179e\"],[0.4444444444444444,\"#bd3786\"],[0.5555555555555556,\"#d8576b\"],[0.6666666666666666,\"#ed7953\"],[0.7777777777777778,\"#fb9f3a\"],[0.8888888888888888,\"#fdca26\"],[1.0,\"#f0f921\"]],\"sequentialminus\":[[0.0,\"#0d0887\"],[0.1111111111111111,\"#46039f\"],[0.2222222222222222,\"#7201a8\"],[0.3333333333333333,\"#9c179e\"],[0.4444444444444444,\"#bd3786\"],[0.5555555555555556,\"#d8576b\"],[0.6666666666666666,\"#ed7953\"],[0.7777777777777778,\"#fb9f3a\"],[0.8888888888888888,\"#fdca26\"],[1.0,\"#f0f921\"]]},\"colorway\":[\"#636efa\",\"#EF553B\",\"#00cc96\",\"#ab63fa\",\"#FFA15A\",\"#19d3f3\",\"#FF6692\",\"#B6E880\",\"#FF97FF\",\"#FECB52\"],\"font\":{\"color\":\"#2a3f5f\"},\"geo\":{\"bgcolor\":\"white\",\"lakecolor\":\"white\",\"landcolor\":\"#E5ECF6\",\"showlakes\":true,\"showland\":true,\"subunitcolor\":\"white\"},\"hoverlabel\":{\"align\":\"left\"},\"hovermode\":\"closest\",\"mapbox\":{\"style\":\"light\"},\"paper_bgcolor\":\"white\",\"plot_bgcolor\":\"#E5ECF6\",\"polar\":{\"angularaxis\":{\"gridcolor\":\"white\",\"linecolor\":\"white\",\"ticks\":\"\"},\"bgcolor\":\"#E5ECF6\",\"radialaxis\":{\"gridcolor\":\"white\",\"linecolor\":\"white\",\"ticks\":\"\"}},\"scene\":{\"xaxis\":{\"backgroundcolor\":\"#E5ECF6\",\"gridcolor\":\"white\",\"gridwidth\":2,\"linecolor\":\"white\",\"showbackground\":true,\"ticks\":\"\",\"zerolinecolor\":\"white\"},\"yaxis\":{\"backgroundcolor\":\"#E5ECF6\",\"gridcolor\":\"white\",\"gridwidth\":2,\"linecolor\":\"white\",\"showbackground\":true,\"ticks\":\"\",\"zerolinecolor\":\"white\"},\"zaxis\":{\"backgroundcolor\":\"#E5ECF6\",\"gridcolor\":\"white\",\"gridwidth\":2,\"linecolor\":\"white\",\"showbackground\":true,\"ticks\":\"\",\"zerolinecolor\":\"white\"}},\"shapedefaults\":{\"line\":{\"color\":\"#2a3f5f\"}},\"ternary\":{\"aaxis\":{\"gridcolor\":\"white\",\"linecolor\":\"white\",\"ticks\":\"\"},\"baxis\":{\"gridcolor\":\"white\",\"linecolor\":\"white\",\"ticks\":\"\"},\"bgcolor\":\"#E5ECF6\",\"caxis\":{\"gridcolor\":\"white\",\"linecolor\":\"white\",\"ticks\":\"\"}},\"title\":{\"x\":0.05},\"xaxis\":{\"automargin\":true,\"gridcolor\":\"white\",\"linecolor\":\"white\",\"ticks\":\"\",\"title\":{\"standoff\":15},\"zerolinecolor\":\"white\",\"zerolinewidth\":2},\"yaxis\":{\"automargin\":true,\"gridcolor\":\"white\",\"linecolor\":\"white\",\"ticks\":\"\",\"title\":{\"standoff\":15},\"zerolinecolor\":\"white\",\"zerolinewidth\":2}}},\"xaxis\":{\"anchor\":\"y\",\"domain\":[0.0,1.0],\"title\":{\"text\":\"count\"}},\"yaxis\":{\"anchor\":\"x\",\"domain\":[0.0,1.0],\"title\":{\"text\":\"Revenue per user\"}},\"legend\":{\"title\":{\"text\":\"color\"},\"tracegroupgap\":0},\"title\":{\"text\":\"Scatterplot of revenue distributon per user\"}},                        {\"responsive\": true}                    ).then(function(){\n",
              "                            \n",
              "var gd = document.getElementById('205dda5d-6a10-4b82-98a7-da18fa2613c6');\n",
              "var x = new MutationObserver(function (mutations, observer) {{\n",
              "        var display = window.getComputedStyle(gd).display;\n",
              "        if (!display || display === 'none') {{\n",
              "            console.log([gd, 'removed!']);\n",
              "            Plotly.purge(gd);\n",
              "            observer.disconnect();\n",
              "        }}\n",
              "}});\n",
              "\n",
              "// Listen for the removal of the full notebook cells\n",
              "var notebookContainer = gd.closest('#notebook-container');\n",
              "if (notebookContainer) {{\n",
              "    x.observe(notebookContainer, {childList: true});\n",
              "}}\n",
              "\n",
              "// Listen for the clearing of the current output cell\n",
              "var outputEl = gd.closest('.output');\n",
              "if (outputEl) {{\n",
              "    x.observe(outputEl, {childList: true});\n",
              "}}\n",
              "\n",
              "                        })                };                            </script>        </div>\n",
              "</body>\n",
              "</html>"
            ]
          },
          "metadata": {}
        }
      ],
      "source": [
        "fig = px.scatter(x = orders.index, y = orders['revenue'], \n",
        "                 color = orders['group'],\n",
        "                 title = 'Scatterplot of revenue distributon per user')\n",
        "fig.update_xaxes(title_text='count')\n",
        "fig.update_yaxes(title_text='Revenue per user')\n",
        "fig.show()"
      ]
    },
    {
      "cell_type": "markdown",
      "metadata": {
        "id": "YGaIRDm_pVVI"
      },
      "source": [
        "Just as we saw before there are some abnormally big orders."
      ]
    },
    {
      "cell_type": "markdown",
      "metadata": {
        "id": "2yfm66E7Zbjb"
      },
      "source": [
        "### **Calculate the 95th and 99th percentiles of order prices. Define the point at which a data point becomes an anomaly.**"
      ]
    },
    {
      "cell_type": "code",
      "execution_count": 41,
      "metadata": {
        "colab": {
          "base_uri": "https://localhost:8080/"
        },
        "id": "rr48BqY1aGeb",
        "outputId": "8a94fa21-c330-4027-aeaa-ed0b4f0eb0ba"
      },
      "outputs": [
        {
          "output_type": "stream",
          "name": "stdout",
          "text": [
            "[280.8   414.275 830.3  ]\n"
          ]
        }
      ],
      "source": [
        "print(np.percentile(orders['revenue'], [90, 95, 99])) "
      ]
    },
    {
      "cell_type": "markdown",
      "metadata": {
        "id": "JIX3iPVs6Zzt"
      },
      "source": [
        "About 5% of our orders cost higher than 414.275 and about 1% cost higher than 830.30. We will use the 95% percentile as the higher border."
      ]
    },
    {
      "cell_type": "markdown",
      "metadata": {
        "id": "crXtPljIahnr"
      },
      "source": [
        "### **Find the statistical significance of the difference in conversion between the groups using the raw data. Make conclusions and conjectures.**"
      ]
    },
    {
      "cell_type": "markdown",
      "metadata": {
        "id": "deDdY5_mmCqU"
      },
      "source": [
        "For this part of our analysis we will need to calculate the number of visits in each group as the number of trials, and the number of orders as the number of successes of those trials. We will have two proportions of successes to trials for each group, which will eventually allow us to perform a **z-proportion test**.  "
      ]
    },
    {
      "cell_type": "code",
      "execution_count": 42,
      "metadata": {
        "id": "nVu8Y9nscKg0"
      },
      "outputs": [],
      "source": [
        "# Calculate the number of orders per each user for both groups\n",
        "orders_by_usersA = orders[orders['group']=='A'].groupby('visitorId', as_index=False).agg({'transactionId' : pd.Series.nunique})\n",
        "orders_by_usersA.columns = ['visitorId', 'orders']"
      ]
    },
    {
      "cell_type": "code",
      "execution_count": 43,
      "metadata": {
        "id": "5Z1y_HmScMCb"
      },
      "outputs": [],
      "source": [
        "orders_by_usersB = orders[orders['group']=='B'].groupby('visitorId', as_index=False).agg({'transactionId' : pd.Series.nunique})\n",
        "orders_by_usersB.columns = ['visitorId', 'orders']"
      ]
    },
    {
      "cell_type": "code",
      "execution_count": 44,
      "metadata": {
        "colab": {
          "base_uri": "https://localhost:8080/"
        },
        "id": "94Ti_HBQeR8l",
        "outputId": "e405de92-3551-43c7-f15a-437522326475"
      },
      "outputs": [
        {
          "output_type": "execute_result",
          "data": {
            "text/plain": [
              "0      1\n",
              "1      1\n",
              "2      1\n",
              "3      1\n",
              "4      1\n",
              "      ..\n",
              "440    1\n",
              "441    1\n",
              "442    1\n",
              "443    1\n",
              "444    1\n",
              "Name: orders, Length: 445, dtype: int64"
            ]
          },
          "metadata": {},
          "execution_count": 44
        }
      ],
      "source": [
        "orders_by_usersA['orders']"
      ]
    },
    {
      "cell_type": "markdown",
      "metadata": {
        "id": "hmQ_rWjErb2U"
      },
      "source": [
        "Now that we have both of our datasets ready we will use the z-proportion statistical test. \n",
        "\n",
        "Lets' formulate the null hypothesis:\n",
        "> The proportions in group A and group B are equal\n",
        "\n",
        "Thus, the alternative hypothesis for our test states:\n",
        "\n",
        "> The proportions in group A and group B are NOT equal to each other"
      ]
    },
    {
      "cell_type": "code",
      "execution_count": 45,
      "metadata": {
        "id": "IMfVli4HvKiv"
      },
      "outputs": [],
      "source": [
        "# Define the level of significance\n",
        "alpha = 0.05"
      ]
    },
    {
      "cell_type": "code",
      "execution_count": 46,
      "metadata": {
        "colab": {
          "base_uri": "https://localhost:8080/"
        },
        "id": "A-HjrUa7tRxA",
        "outputId": "3bdf7b09-1298-41ca-bed5-b91d263ee255"
      },
      "outputs": [
        {
          "output_type": "stream",
          "name": "stdout",
          "text": [
            "Number of orders in group А: 468\n",
            "Number of visits in group A: 18736\n",
            "\n",
            "Number of orders in group B: 548\n",
            "Number of visits in group B: 18916\n"
          ]
        }
      ],
      "source": [
        "print('Number of orders in group А: {}'.format(orders_by_usersA['orders'].sum()))\n",
        "print('Number of visits in group A: {}\\n'.format(visits[visits['group']=='A']['visits'].sum()))\n",
        "print('Number of orders in group B: {}'.format(orders_by_usersB['orders'].sum()))\n",
        "print('Number of visits in group B: {}'.format(visits[visits['group']=='B']['visits'].sum()))"
      ]
    },
    {
      "cell_type": "code",
      "execution_count": 47,
      "metadata": {
        "id": "tfdCcDuyvLhl"
      },
      "outputs": [],
      "source": [
        "# Store the number of successes\n",
        "s1 = orders_by_usersA['orders'].sum()\n",
        "s2 = orders_by_usersB['orders'].sum()\n",
        "# Store the number of trials\n",
        "t1 = visits[visits['group']=='A']['visits'].sum()\n",
        "t2 = visits[visits['group']=='B']['visits'].sum()"
      ]
    },
    {
      "cell_type": "code",
      "execution_count": 48,
      "metadata": {
        "id": "D1pYtjiEtBmE"
      },
      "outputs": [],
      "source": [
        "# Perform the test\n",
        "z_label, p_value = sm.stats.proportions_ztest([s1, s2], [t1, t2])"
      ]
    },
    {
      "cell_type": "code",
      "execution_count": 49,
      "metadata": {
        "colab": {
          "base_uri": "https://localhost:8080/"
        },
        "id": "W9gFrxQOvd9x",
        "outputId": "bff98b54-b066-4b8d-c102-61e53b3beec6"
      },
      "outputs": [
        {
          "output_type": "execute_result",
          "data": {
            "text/plain": [
              "0.01685138043470311"
            ]
          },
          "metadata": {},
          "execution_count": 49
        }
      ],
      "source": [
        "p_value"
      ]
    },
    {
      "cell_type": "code",
      "execution_count": 50,
      "metadata": {
        "colab": {
          "base_uri": "https://localhost:8080/"
        },
        "id": "amgsgerev8TB",
        "outputId": "5d690a1a-aec7-4a60-9b88-e439e565598d"
      },
      "outputs": [
        {
          "output_type": "stream",
          "name": "stdout",
          "text": [
            "Rejecting the null hypothesis: there is a significant difference between the proportions\n"
          ]
        }
      ],
      "source": [
        "if (p_value < alpha):\n",
        "    print(\"Rejecting the null hypothesis: there is a significant difference between the proportions\")\n",
        "else:\n",
        "    print(\"Failed to reject the null hypothesis: there is no reason to consider the proportions different\") "
      ]
    },
    {
      "cell_type": "markdown",
      "metadata": {
        "id": "G7NW5xXfKegK"
      },
      "source": [
        "The conversions in group A and group B are not the same."
      ]
    },
    {
      "cell_type": "markdown",
      "metadata": {
        "id": "KIjdn5fdVcfc"
      },
      "source": [
        "### **Find the statistical significance of the difference in average order size between the groups using the raw data. Make conclusions and conjectures.**"
      ]
    },
    {
      "cell_type": "code",
      "execution_count": 51,
      "metadata": {
        "id": "MPDI4Q0LeI0r"
      },
      "outputs": [],
      "source": [
        "# Create a sample with 1s' and 0s' that represent if user made purchase or not\n",
        "sampleA = pd.concat([orders_by_usersA['orders'], \n",
        "                     pd.Series(0, index=np.arange(visits[visits['group']=='A']['visits'].sum() - len(orders_by_usersA['orders'])), \n",
        "                               name='orders')], axis=0)"
      ]
    },
    {
      "cell_type": "code",
      "execution_count": 52,
      "metadata": {
        "id": "0GRwl8gIfqBb"
      },
      "outputs": [],
      "source": [
        " # Repeat the process for group B\n",
        "sampleB = pd.concat([orders_by_usersB['orders'], \n",
        "                      pd.Series(0, index=np.arange(visits[visits['group']=='B']['visits'].sum() - len(orders_by_usersA['orders'])), \n",
        "                                name='orders')], axis=0) "
      ]
    },
    {
      "cell_type": "code",
      "execution_count": 53,
      "metadata": {
        "colab": {
          "base_uri": "https://localhost:8080/"
        },
        "id": "iyKdlpGwwAO8",
        "outputId": "f7a43a12-afd2-4345-912e-d358184f8aa1"
      },
      "outputs": [
        {
          "output_type": "execute_result",
          "data": {
            "text/plain": [
              "7       20.1 \n",
              "8       215.9\n",
              "10      65.7 \n",
              "12      115.4\n",
              "14      170.9\n",
              "        ...  \n",
              "1185    15.2 \n",
              "1187    15.5 \n",
              "1188    5.7  \n",
              "1193    50.1 \n",
              "1194    165.3\n",
              "Name: revenue, Length: 468, dtype: float64"
            ]
          },
          "metadata": {},
          "execution_count": 53
        }
      ],
      "source": [
        "# Extract all revenues for groups A and B\n",
        "avg_sampleA = orders.query('group == \"A\"')['revenue']\n",
        "avg_sampleA"
      ]
    },
    {
      "cell_type": "code",
      "execution_count": 54,
      "metadata": {
        "colab": {
          "base_uri": "https://localhost:8080/"
        },
        "id": "MUbA5nTPkIsE",
        "outputId": "9764c254-1d3e-48ea-d8eb-c93d1f33d3c4"
      },
      "outputs": [
        {
          "output_type": "execute_result",
          "data": {
            "text/plain": [
              "0       30.4  \n",
              "1       15.2  \n",
              "3       155.1 \n",
              "4       40.5  \n",
              "5       35.0  \n",
              "        ...   \n",
              "1186    240.6 \n",
              "1190    135.3 \n",
              "1191    255.7 \n",
              "1192    100.8 \n",
              "1196    3120.1\n",
              "Name: revenue, Length: 548, dtype: float64"
            ]
          },
          "metadata": {},
          "execution_count": 54
        }
      ],
      "source": [
        "avg_sampleB = orders.query('group == \"B\"')['revenue']\n",
        "avg_sampleB"
      ]
    },
    {
      "cell_type": "markdown",
      "metadata": {
        "id": "UWONxJosvCP0"
      },
      "source": [
        "We are checking the statistical significance of the difference in average order sizes between group A and group B. We need to apply the Mann–Whitney U criterion - it is a non-parametric statistical\n",
        "criterion used to compare the level of difference of certain metrics in two\n",
        "independent samples. As with any other statistical test we have to state the hypotheses first.\n",
        "> The null hypothesis states that there is no difference in average order sizes between group A and group B:\n",
        "\n",
        "$ H_{0}:$ $\\bar{x}_{A} = \\bar{x}_{B} $\n",
        "\n",
        "Previously on one of our plots we saw that the average order sizes of group B consistently outperformed average order sizes in group A, taking that to account, \n",
        ">The alternative hypothesis will be that average order size in group A is lower than in group B:\n",
        "\n",
        "$ H_{0}:$ $\\bar{x}_{A} < \\bar{x}_{B} $\n",
        "\n",
        "If the p-value that we will get as the result of our test will be greater than 0.05 (the significance level) it would mean that there is no difference between the samples and we wouldn't be able to reject the null hypothesis, and vice versa: if the p-value will be lower than 0.05 that would indicate that average order size of group A is indeed lower than in group B."
      ]
    },
    {
      "cell_type": "code",
      "execution_count": 55,
      "metadata": {
        "colab": {
          "base_uri": "https://localhost:8080/"
        },
        "id": "qPw9GynjuxsE",
        "outputId": "116f021d-529f-4f3a-c995-a3613c2b626f"
      },
      "outputs": [
        {
          "output_type": "stream",
          "name": "stdout",
          "text": [
            "The p-level of significance is 0.431\n",
            "The relative loss/gain in group B is 0.278\n"
          ]
        }
      ],
      "source": [
        "print(\"The p-level of significance is {0:.3f}\".format(stats.mannwhitneyu(avg_sampleA, avg_sampleB)[1]))\n",
        "\n",
        "print(\"The relative loss/gain in group B is {0:.3f}\".format(avg_sampleB.mean()/avg_sampleA.mean()-1)) "
      ]
    },
    {
      "cell_type": "code",
      "execution_count": 56,
      "metadata": {
        "colab": {
          "base_uri": "https://localhost:8080/"
        },
        "id": "stVw9TsDNWT4",
        "outputId": "d75f5a8e-adc7-4f86-88c0-4dd2d2292875"
      },
      "outputs": [
        {
          "output_type": "stream",
          "name": "stdout",
          "text": [
            "Failed to reject the null hypothesis: there is no reason to consider the average order sizes are different\n"
          ]
        }
      ],
      "source": [
        "if (stats.mannwhitneyu(avg_sampleA, avg_sampleB)[1] < alpha):\n",
        "    print(\"Rejecting the null hypothesis: there is a significant difference between the average order sizes\")\n",
        "else:\n",
        "    print(\"Failed to reject the null hypothesis: there is no reason to consider the average order sizes are different\") "
      ]
    },
    {
      "cell_type": "markdown",
      "metadata": {
        "id": "8O_GMhoXckJU"
      },
      "source": [
        "We can't reject the null hypothesis, the p-level is higher than 0.05, which means that with 95% confidence we can state that there is no difference between the average sizes of the orders between groups A and B. "
      ]
    },
    {
      "cell_type": "markdown",
      "metadata": {
        "id": "sYVjByUopIOF"
      },
      "source": [
        "### **Find the statistical significance of the difference in conversion between the groups using the filtered data. Make conclusions and conjectures.**"
      ]
    },
    {
      "cell_type": "markdown",
      "metadata": {
        "id": "khbLUqpjpNR_"
      },
      "source": [
        "Earlier we ran statistical tests on raw data and got some results. Previously in our research we stated that there are some anomalies in our data. Lets' filter them out and run the same tests on the outlier-free data in order to see how the anomalies affect the results."
      ]
    },
    {
      "cell_type": "code",
      "execution_count": 57,
      "metadata": {
        "id": "Sa7LPcABD8yu"
      },
      "outputs": [],
      "source": [
        "# Define the outliers\n",
        "order_limit = 2\n",
        "revenue_limit = 415"
      ]
    },
    {
      "cell_type": "code",
      "execution_count": 58,
      "metadata": {
        "colab": {
          "base_uri": "https://localhost:8080/"
        },
        "id": "QxPdrQsnlI9U",
        "outputId": "53738236-e73f-4ddf-d502-532b4d201b68"
      },
      "outputs": [
        {
          "output_type": "execute_result",
          "data": {
            "text/plain": [
              "58     611059232 \n",
              "211    2108163459\n",
              "310    2988190573\n",
              "409    3908431265\n",
              "416    3967698036\n",
              "Name: visitorId, dtype: int64"
            ]
          },
          "metadata": {},
          "execution_count": 58
        }
      ],
      "source": [
        "# Filter out the outliers for both groups\n",
        "orders_by_usersA[orders_by_usersA['orders'] > order_limit]['visitorId']"
      ]
    },
    {
      "cell_type": "code",
      "execution_count": 59,
      "metadata": {
        "colab": {
          "base_uri": "https://localhost:8080/"
        },
        "id": "vdrFG45lq9rl",
        "outputId": "83761db1-7695-424f-90e7-fb5d05ea218e"
      },
      "outputs": [
        {
          "output_type": "execute_result",
          "data": {
            "text/plain": [
              "33     249864742 \n",
              "347    2742574263\n",
              "Name: visitorId, dtype: int64"
            ]
          },
          "metadata": {},
          "execution_count": 59
        }
      ],
      "source": [
        "orders_by_usersB[orders_by_usersB['orders'] > order_limit]['visitorId']"
      ]
    },
    {
      "cell_type": "code",
      "execution_count": 60,
      "metadata": {
        "colab": {
          "base_uri": "https://localhost:8080/"
        },
        "id": "uh2B1L4brQ_J",
        "outputId": "447b69a0-8055-49a4-898d-21286f357241"
      },
      "outputs": [
        {
          "output_type": "execute_result",
          "data": {
            "text/plain": [
              "58     611059232 \n",
              "211    2108163459\n",
              "310    2988190573\n",
              "409    3908431265\n",
              "416    3967698036\n",
              "33     249864742 \n",
              "347    2742574263\n",
              "Name: visitorId, dtype: int64"
            ]
          },
          "metadata": {},
          "execution_count": 60
        }
      ],
      "source": [
        "# Join all users with big amount of orders to one subset\n",
        "anomal_orders = pd.concat([orders_by_usersA[orders_by_usersA['orders'] > order_limit]['visitorId'], orders_by_usersB[orders_by_usersB['orders'] > order_limit]['visitorId']], axis = 0)\n",
        "anomal_orders"
      ]
    },
    {
      "cell_type": "markdown",
      "metadata": {
        "id": "XHljW4lfsVPs"
      },
      "source": [
        "In addition to this list of user's ids' we need to find the user's id's with too expensive orders."
      ]
    },
    {
      "cell_type": "code",
      "execution_count": 61,
      "metadata": {
        "id": "0MH7sAa8sD6y",
        "colab": {
          "base_uri": "https://localhost:8080/"
        },
        "outputId": "fd3ce162-f265-402e-ab82-2f280adcdb34"
      },
      "outputs": [
        {
          "output_type": "execute_result",
          "data": {
            "text/plain": [
              "73      2947100995\n",
              "77      787824685 \n",
              "78      3288820196\n",
              "131     2254586615\n",
              "137     1211585711\n",
              "173     2953427180\n",
              "208     3118156181\n",
              "273     2278620397\n",
              "287     2254456485\n",
              "339     834731816 \n",
              "420     1606766439\n",
              "421     1357170471\n",
              "425     1920142716\n",
              "481     3177790019\n",
              "527     2837914161\n",
              "530     2912540959\n",
              "549     1367935136\n",
              "551     1010866419\n",
              "562     1452540367\n",
              "563     935349363 \n",
              "568     113298937 \n",
              "570     2247666522\n",
              "613     3931967268\n",
              "648     382846391 \n",
              "654     816783716 \n",
              "684     358944393 \n",
              "709     950626008 \n",
              "723     4009017467\n",
              "728     3357398384\n",
              "743     4133034833\n",
              "744     888512513 \n",
              "746     3321013705\n",
              "751     689129267 \n",
              "755     2279926127\n",
              "867     3372131337\n",
              "890     2853587382\n",
              "925     2840985286\n",
              "928     204675465 \n",
              "940     4003628586\n",
              "949     887908475 \n",
              "960     2999642019\n",
              "1006    2261934787\n",
              "1038    1605520752\n",
              "1087    3590655705\n",
              "1099    148427295 \n",
              "1103    1164614297\n",
              "1121    1604853044\n",
              "1136    1307669133\n",
              "1137    759473111 \n",
              "1142    2606908679\n",
              "1196    2108080724\n",
              "Name: visitorId, dtype: int64"
            ]
          },
          "metadata": {},
          "execution_count": 61
        }
      ],
      "source": [
        "expensive_orders = orders[orders['revenue'] > revenue_limit]['visitorId']\n",
        "expensive_orders"
      ]
    },
    {
      "cell_type": "code",
      "execution_count": 62,
      "metadata": {
        "colab": {
          "base_uri": "https://localhost:8080/"
        },
        "id": "I8N0I0mtsq1P",
        "outputId": "1d25f32d-2be5-493f-ad0a-f12e2f0f6f8d"
      },
      "outputs": [
        {
          "output_type": "stream",
          "name": "stdout",
          "text": [
            "We manged to find 58 abnormally behaved users.\n"
          ]
        }
      ],
      "source": [
        "# Join the big and expensive orders to one dataframe\n",
        "abnormal_users = pd.concat([anomal_orders, expensive_orders], axis = 0)\n",
        "print('We manged to find {} abnormally behaved users.'.format(abnormal_users.shape[0]))"
      ]
    },
    {
      "cell_type": "code",
      "execution_count": 63,
      "metadata": {
        "id": "xo5uiwVYtroD"
      },
      "outputs": [],
      "source": [
        "# Filter out the abnormaly behaved user ids'\n",
        "orders_by_usersA_filt = orders_by_usersA[~(orders_by_usersA['visitorId'].isin(abnormal_users))]\n",
        "orders_by_usersB_filt = orders_by_usersB[~(orders_by_usersB['visitorId'].isin(abnormal_users))]"
      ]
    },
    {
      "cell_type": "markdown",
      "metadata": {
        "id": "AQuNSiWqDmy9"
      },
      "source": [
        "As before we will be running the z-proportion statistical test. \n",
        "\n",
        "Lets' formulate the null hypothesis:\n",
        "> The proportions in group A and group B are equal\n",
        "\n",
        "Thus, the alternative hypothesis for our test states:\n",
        "\n",
        "> The proportions in group A and group B are NOT equal to each other\n",
        "\n",
        "Lets' define number of trials as the amount of all visits our users made and number of successes as the number of orders. "
      ]
    },
    {
      "cell_type": "code",
      "execution_count": 64,
      "metadata": {
        "colab": {
          "base_uri": "https://localhost:8080/"
        },
        "id": "NCPWnTMIN04I",
        "outputId": "48faa458-29e3-4112-c636-76bd435c2ff5"
      },
      "outputs": [
        {
          "output_type": "stream",
          "name": "stdout",
          "text": [
            "Number of orders in group А: 430\n",
            "Number of visits in group A: 18736\n",
            "\n",
            "Number of orders in group B: 513\n",
            "Number of visits in group B: 18916\n"
          ]
        }
      ],
      "source": [
        "print('Number of orders in group А: {}'.format(orders_by_usersA_filt['orders'].sum()))\n",
        "print('Number of visits in group A: {}\\n'.format(visits[visits['group']=='A']['visits'].sum()))\n",
        "print('Number of orders in group B: {}'.format(orders_by_usersB_filt['orders'].sum()))\n",
        "print('Number of visits in group B: {}'.format(visits[visits['group']=='B']['visits'].sum()))"
      ]
    },
    {
      "cell_type": "code",
      "execution_count": 65,
      "metadata": {
        "id": "ImUp-bJaD6a-"
      },
      "outputs": [],
      "source": [
        "sA = orders_by_usersA_filt['orders'].sum()\n",
        "sB = orders_by_usersB_filt['orders'].sum()\n",
        "tA = visits[visits['group']=='A']['visits'].sum()\n",
        "tB = visits[visits['group']=='B']['visits'].sum()"
      ]
    },
    {
      "cell_type": "code",
      "execution_count": 66,
      "metadata": {
        "id": "7Q9eNxZzZw1q"
      },
      "outputs": [],
      "source": [
        "z_label_, p_value_ = sm.stats.proportions_ztest([sA, sB], [tA, tB])"
      ]
    },
    {
      "cell_type": "code",
      "execution_count": 67,
      "metadata": {
        "colab": {
          "base_uri": "https://localhost:8080/"
        },
        "id": "s3udofjlacXS",
        "outputId": "ee22101d-60ef-4551-9acc-774a17f7fcc4"
      },
      "outputs": [
        {
          "output_type": "execute_result",
          "data": {
            "text/plain": [
              "0.00963392628173691"
            ]
          },
          "metadata": {},
          "execution_count": 67
        }
      ],
      "source": [
        "p_value_"
      ]
    },
    {
      "cell_type": "code",
      "execution_count": 68,
      "metadata": {
        "colab": {
          "base_uri": "https://localhost:8080/"
        },
        "id": "BI61SGmqaKKq",
        "outputId": "47da81e9-964e-4250-f3fe-2a9e793a2fb2"
      },
      "outputs": [
        {
          "output_type": "stream",
          "name": "stdout",
          "text": [
            "Rejecting the null hypothesis: there is a significant difference between the proportions\n"
          ]
        }
      ],
      "source": [
        "if (p_value_ < alpha):\n",
        "    print(\"Rejecting the null hypothesis: there is a significant difference between the proportions\")\n",
        "else:\n",
        "    print(\"Failed to reject the null hypothesis: there is no reason to consider the proportions different\") "
      ]
    },
    {
      "cell_type": "markdown",
      "metadata": {
        "id": "nsMfwFZYxnAi"
      },
      "source": [
        "### **Find the statistical significance of the difference in average order size between the groups using the filtered data. Make conclusions and conjectures.**"
      ]
    },
    {
      "cell_type": "markdown",
      "metadata": {
        "id": "4suqjiSbYSQK"
      },
      "source": [
        "As with the raw data we will run the Mann-Whitney U test."
      ]
    },
    {
      "cell_type": "code",
      "execution_count": 69,
      "metadata": {
        "id": "N6fOvyVgx-q9"
      },
      "outputs": [],
      "source": [
        "avg_samplA_filt = orders[np.logical_and(orders['group']=='A', np.logical_not(orders['visitorId'].isin(abnormal_users)))]['revenue']"
      ]
    },
    {
      "cell_type": "code",
      "execution_count": 70,
      "metadata": {
        "id": "vlZRs4ODx-n2"
      },
      "outputs": [],
      "source": [
        "avg_samplB_filt = orders[np.logical_and(orders['group']=='B', np.logical_not(orders['visitorId'].isin(abnormal_users)))]['revenue']"
      ]
    },
    {
      "cell_type": "code",
      "execution_count": 71,
      "metadata": {
        "colab": {
          "base_uri": "https://localhost:8080/"
        },
        "id": "j33F7O8oxLX7",
        "outputId": "cc697a34-fbd3-4c00-ac05-f35105d74e24"
      },
      "outputs": [
        {
          "output_type": "stream",
          "name": "stdout",
          "text": [
            "The p-level of significance is 0.340\n",
            "The relative loss/gain in group B is -0.047\n"
          ]
        }
      ],
      "source": [
        "print(\"The p-level of significance is {0:.3f}\".format(stats.mannwhitneyu(avg_samplA_filt, avg_samplB_filt)[1]))\n",
        "\n",
        "print(\"The relative loss/gain in group B is {0:.3f}\".format(avg_samplB_filt.mean()/avg_samplA_filt.mean()-1)) "
      ]
    },
    {
      "cell_type": "code",
      "execution_count": 72,
      "metadata": {
        "colab": {
          "base_uri": "https://localhost:8080/"
        },
        "id": "oBOuaP8DxXSj",
        "outputId": "20a39a72-4971-4fb2-fd07-af5d2ee3d93a"
      },
      "outputs": [
        {
          "output_type": "stream",
          "name": "stdout",
          "text": [
            "Failed to reject the null hypothesis: there is no reason to consider the average order sizes are different\n"
          ]
        }
      ],
      "source": [
        "if (stats.mannwhitneyu(avg_samplA_filt, avg_samplB_filt)[1] < alpha):\n",
        "    print(\"Rejecting the null hypothesis: there is a significant difference between the average order sizes\")\n",
        "else:\n",
        "    print(\"Failed to reject the null hypothesis: there is no reason to consider the average order sizes are different\") "
      ]
    },
    {
      "cell_type": "markdown",
      "metadata": {
        "id": "kxkBgphVxm9Z"
      },
      "source": [
        "### **Make a decision based on the test results. The possible decisions are:** \n",
        "1. Stop the test, consider one of the groups the leader. \n",
        "2. Stop the test, conclude that there is no difference between the groups. \n",
        "3. Continue the test."
      ]
    },
    {
      "cell_type": "markdown",
      "metadata": {
        "id": "VMY4i5DWj0sc"
      },
      "source": [
        "## PART 4. GENERAL CONCLUSION\n",
        "\n",
        "\n",
        "---\n",
        "\n",
        "\n",
        "\n"
      ]
    },
    {
      "cell_type": "markdown",
      "metadata": {
        "id": "h44gEw-aZlA9"
      },
      "source": [
        "Lets' sum up the results of all our tests:\n",
        "\n",
        "We checked 2 hypotheses, both of them were tested on  raw data and filtered data without previously located outliers. And here are the results we received:\n",
        "\n",
        "**1. There is a statistical significance in the difference in conversion rates of group A and group B**\n",
        " - raw data showed - reject of the null hypothesis: there is a significant difference between the proportions, p-value = 0.01685138043470311\n",
        " - filtered data showed - reject the null hypothesis: there is a significant difference between the proportions, p-value = 0.00963392628173691\n",
        "**2. There is a statistical significance in the difference in average order size between the groups**\n",
        " - raw data showed - failed to reject the null hypothesis: there was no reason to consider the average order sizes are different\n",
        "\n",
        "The p-level of significance is 0.862 and the relative gain in group B is 27.8%\n",
        " - filtered data showed - failed to reject the null hypothesis: there is no reason to consider the average order sizes are different\n",
        "\n",
        "The p-level of significance is 0.680 and the relative loss in group B is 4.7%\n",
        "\n",
        "So we see that the results are the same with both data sets - raw and filtered, except one small, but very important detail: according to rhe raw data test average order size in group B did better and shows a gain of 27.8%. That shows 2 points: \n",
        "1. The outliers contribute to the average order size.\n",
        "2. Group B succeeded in the test on average order size. Considering, that this metric is more reliable in terms of revenue, we would recommend to stop the test and consider group B the leader."
      ]
    },
    {
      "cell_type": "markdown",
      "metadata": {
        "id": "gZWZOPC3xw2A"
      },
      "source": [
        "In this project we  researched data from a big online store.\n",
        "Our main goals were :\n",
        "\n",
        "**1. To optimize the priorities of hypotheses.**\n",
        "\n",
        "**2. Analyze and carry out recommendations as to stop or to continue the test.**\n",
        " \n",
        "**- In the PREPROCESSING part of the project**\n",
        "\n",
        "We explored our data for errors, missing values and incorrect data types, we fixed the date types, and located an error in the data - some users belonged to both A and B groups and we omitted them.\n",
        "\n",
        "**- In the PRIORITIZING  HYPOTHESES part**\n",
        "\n",
        "We applied the `ICE` and `RICE` frameworks and saw that the `RICE` scoring approach was the more precise one, and thanks to it we established that the top 3 hypotheses are **№7, 2 and 0** respectively.\n",
        "\n",
        "**- In the A/B TEST ANALYSIS part**\n",
        "\n",
        "We did visualizations, such as:\n",
        " - *Plot of cumulative revenue by group:* the graph showed - both, A and B groups start with a close level of revenue until a breakpoint that happened on the 18-th of August when B group has a sudden spike up, but both groups' revenues increased evenly (parallel).\n",
        " - *Plot of cumulative average order size by group:* on this graph we saw that group A started with a higher average check, than B, there were some fluctuations at the beginning - there were rises and drops for each group, but again as with the previous chart there was a breakpoint on August, 18 2019 when group B increased significantly in comparison to A group and the metrics stabilized.\n",
        " - *Plot of the relative difference in cumulative average order size for group B compared with group A*: the further the points on the graph were located from the 0 dash line the bigger the relative difference between average order sizes in groups A and B. So they diverged to opposite directions almost until August 18-th and then there was the spike in the same date as we saw before, which happened probably due to a certain anomaly. \n",
        " - *We calculated each group's conversion rate and plotted the daily conversion rates of the two groups*: group B started with a comparatively lower conversion rate than group A, but it increased around August 6-th and showed a steadily higher conversion rate. Both lines looked like they were stabilized. In the graph of relative difference of conversion rates we found that group B’s conversion is consistently better than that of group A by aproximatly 15% after August, 10-th from the start of the test.\n",
        "\n",
        "After examining the data, we located outliers and surges that stood in our way, so we determined them as abnormally big orders = 1  and extremely high revenues = 415. \n",
        " We ran several tests on raw and filtered data and found that **group B succeeded the test** in terms of average order size gain 27.8%.\n",
        "\n",
        "\n"
      ]
    }
  ],
  "metadata": {
    "ExecuteTimeLog": [
      {
        "duration": 7764,
        "start_time": "2022-04-07T18:37:02.354Z"
      },
      {
        "duration": 1943,
        "start_time": "2022-04-07T18:37:10.120Z"
      },
      {
        "duration": 142,
        "start_time": "2022-04-07T18:37:12.065Z"
      },
      {
        "duration": 3,
        "start_time": "2022-04-07T18:37:12.208Z"
      },
      {
        "duration": 32,
        "start_time": "2022-04-07T18:37:12.214Z"
      },
      {
        "duration": 50,
        "start_time": "2022-04-07T18:37:12.248Z"
      },
      {
        "duration": 13,
        "start_time": "2022-04-07T18:37:12.300Z"
      },
      {
        "duration": 7,
        "start_time": "2022-04-07T18:37:12.332Z"
      },
      {
        "duration": 28,
        "start_time": "2022-04-07T18:37:12.341Z"
      },
      {
        "duration": 16,
        "start_time": "2022-04-07T18:37:12.371Z"
      },
      {
        "duration": 5,
        "start_time": "2022-04-07T18:37:12.432Z"
      },
      {
        "duration": 22,
        "start_time": "2022-04-07T18:37:12.439Z"
      },
      {
        "duration": 6,
        "start_time": "2022-04-07T18:37:12.463Z"
      },
      {
        "duration": 12,
        "start_time": "2022-04-07T18:37:12.473Z"
      },
      {
        "duration": 21,
        "start_time": "2022-04-07T18:37:12.531Z"
      },
      {
        "duration": 23,
        "start_time": "2022-04-07T18:37:12.554Z"
      },
      {
        "duration": 586,
        "start_time": "2022-04-07T18:37:12.579Z"
      },
      {
        "duration": 367,
        "start_time": "2022-04-07T18:37:13.166Z"
      },
      {
        "duration": 12,
        "start_time": "2022-04-07T18:37:13.535Z"
      },
      {
        "duration": 24,
        "start_time": "2022-04-07T18:37:13.549Z"
      },
      {
        "duration": 58,
        "start_time": "2022-04-07T18:37:13.575Z"
      },
      {
        "duration": 1012,
        "start_time": "2022-04-07T18:37:13.635Z"
      },
      {
        "duration": 21,
        "start_time": "2022-04-07T18:37:14.649Z"
      },
      {
        "duration": 174,
        "start_time": "2022-04-07T18:37:14.671Z"
      },
      {
        "duration": 7,
        "start_time": "2022-04-07T18:37:14.848Z"
      },
      {
        "duration": 30,
        "start_time": "2022-04-07T18:37:14.857Z"
      },
      {
        "duration": 18,
        "start_time": "2022-04-07T18:37:14.934Z"
      },
      {
        "duration": 117,
        "start_time": "2022-04-07T18:37:14.954Z"
      },
      {
        "duration": 64,
        "start_time": "2022-04-07T18:37:15.072Z"
      },
      {
        "duration": 140,
        "start_time": "2022-04-07T18:37:15.138Z"
      },
      {
        "duration": 129,
        "start_time": "2022-04-07T18:37:15.333Z"
      },
      {
        "duration": 12,
        "start_time": "2022-04-07T18:37:15.464Z"
      },
      {
        "duration": 134,
        "start_time": "2022-04-07T18:37:15.532Z"
      },
      {
        "duration": 4,
        "start_time": "2022-04-07T18:37:15.667Z"
      },
      {
        "duration": 180,
        "start_time": "2022-04-07T18:37:15.673Z"
      },
      {
        "duration": 5,
        "start_time": "2022-04-07T18:37:15.855Z"
      },
      {
        "duration": 70,
        "start_time": "2022-04-07T18:37:15.862Z"
      },
      {
        "duration": 128,
        "start_time": "2022-04-07T18:37:15.935Z"
      },
      {
        "duration": 393,
        "start_time": "2022-04-07T18:37:16.065Z"
      },
      {
        "duration": 6,
        "start_time": "2022-04-07T18:37:16.459Z"
      },
      {
        "duration": 112,
        "start_time": "2022-04-07T18:37:16.471Z"
      },
      {
        "duration": 110,
        "start_time": "2022-04-07T18:37:16.584Z"
      },
      {
        "duration": 5,
        "start_time": "2022-04-07T18:37:16.696Z"
      },
      {
        "duration": 21,
        "start_time": "2022-04-07T18:37:16.702Z"
      },
      {
        "duration": 39,
        "start_time": "2022-04-07T18:37:16.725Z"
      },
      {
        "duration": 22,
        "start_time": "2022-04-07T18:37:16.766Z"
      },
      {
        "duration": 8,
        "start_time": "2022-04-07T18:37:16.790Z"
      },
      {
        "duration": 22,
        "start_time": "2022-04-07T18:37:16.800Z"
      },
      {
        "duration": 27,
        "start_time": "2022-04-07T18:37:16.824Z"
      },
      {
        "duration": 18,
        "start_time": "2022-04-07T18:37:16.853Z"
      },
      {
        "duration": 16,
        "start_time": "2022-04-07T18:37:16.873Z"
      },
      {
        "duration": 50,
        "start_time": "2022-04-07T18:37:16.891Z"
      },
      {
        "duration": 24,
        "start_time": "2022-04-07T18:37:16.944Z"
      },
      {
        "duration": 17,
        "start_time": "2022-04-07T18:37:16.970Z"
      },
      {
        "duration": 19,
        "start_time": "2022-04-07T18:37:16.989Z"
      },
      {
        "duration": 22,
        "start_time": "2022-04-07T18:37:17.010Z"
      },
      {
        "duration": 20,
        "start_time": "2022-04-07T18:37:17.037Z"
      },
      {
        "duration": 19,
        "start_time": "2022-04-07T18:37:17.059Z"
      },
      {
        "duration": 15,
        "start_time": "2022-04-07T18:37:17.080Z"
      },
      {
        "duration": 9,
        "start_time": "2022-04-07T18:37:17.097Z"
      },
      {
        "duration": 18,
        "start_time": "2022-04-07T18:37:17.108Z"
      },
      {
        "duration": 21,
        "start_time": "2022-04-07T18:37:17.131Z"
      },
      {
        "duration": 28,
        "start_time": "2022-04-07T18:37:17.154Z"
      },
      {
        "duration": 21,
        "start_time": "2022-04-07T18:37:17.184Z"
      },
      {
        "duration": 7,
        "start_time": "2022-04-07T18:37:17.207Z"
      },
      {
        "duration": 13,
        "start_time": "2022-04-07T18:37:17.216Z"
      },
      {
        "duration": 31,
        "start_time": "2022-04-07T18:37:17.232Z"
      },
      {
        "duration": 10,
        "start_time": "2022-04-07T18:37:17.265Z"
      },
      {
        "duration": 15,
        "start_time": "2022-04-07T18:37:17.277Z"
      },
      {
        "duration": 11,
        "start_time": "2022-04-07T18:37:17.294Z"
      },
      {
        "duration": 11,
        "start_time": "2022-04-07T18:37:17.307Z"
      },
      {
        "duration": 48,
        "start_time": "2022-04-08T07:06:50.562Z"
      },
      {
        "duration": 4,
        "start_time": "2022-04-08T07:06:59.495Z"
      },
      {
        "duration": 1172,
        "start_time": "2022-04-08T07:06:59.501Z"
      },
      {
        "duration": 99,
        "start_time": "2022-04-08T07:07:00.674Z"
      },
      {
        "duration": 2,
        "start_time": "2022-04-08T07:07:00.775Z"
      },
      {
        "duration": 6,
        "start_time": "2022-04-08T07:07:00.779Z"
      },
      {
        "duration": 35,
        "start_time": "2022-04-08T07:07:00.787Z"
      },
      {
        "duration": 13,
        "start_time": "2022-04-08T07:07:00.824Z"
      },
      {
        "duration": 11,
        "start_time": "2022-04-08T07:07:00.839Z"
      },
      {
        "duration": 18,
        "start_time": "2022-04-08T07:07:00.853Z"
      },
      {
        "duration": 9,
        "start_time": "2022-04-08T07:07:00.872Z"
      },
      {
        "duration": 5,
        "start_time": "2022-04-08T07:07:00.882Z"
      },
      {
        "duration": 6,
        "start_time": "2022-04-08T07:07:00.888Z"
      },
      {
        "duration": 7,
        "start_time": "2022-04-08T07:07:00.896Z"
      },
      {
        "duration": 30,
        "start_time": "2022-04-08T07:07:00.904Z"
      },
      {
        "duration": 14,
        "start_time": "2022-04-08T07:07:00.936Z"
      },
      {
        "duration": 232,
        "start_time": "2022-04-08T07:07:00.951Z"
      },
      {
        "duration": 14,
        "start_time": "2022-04-08T07:07:01.184Z"
      },
      {
        "duration": 200,
        "start_time": "2022-04-08T07:07:01.200Z"
      },
      {
        "duration": 132,
        "start_time": "2022-04-08T07:07:01.401Z"
      },
      {
        "duration": 6,
        "start_time": "2022-04-08T07:07:01.535Z"
      },
      {
        "duration": 11,
        "start_time": "2022-04-08T07:07:01.543Z"
      },
      {
        "duration": 26,
        "start_time": "2022-04-08T07:07:01.556Z"
      },
      {
        "duration": 191,
        "start_time": "2022-04-08T07:07:01.583Z"
      },
      {
        "duration": 20,
        "start_time": "2022-04-08T07:07:01.779Z"
      },
      {
        "duration": 82,
        "start_time": "2022-04-08T07:07:01.800Z"
      },
      {
        "duration": 52,
        "start_time": "2022-04-08T07:07:01.884Z"
      },
      {
        "duration": 15,
        "start_time": "2022-04-08T07:07:01.938Z"
      },
      {
        "duration": 15,
        "start_time": "2022-04-08T07:07:01.955Z"
      },
      {
        "duration": 70,
        "start_time": "2022-04-08T07:07:01.972Z"
      },
      {
        "duration": 11,
        "start_time": "2022-04-08T07:07:02.044Z"
      },
      {
        "duration": 56,
        "start_time": "2022-04-08T07:07:02.057Z"
      },
      {
        "duration": 68,
        "start_time": "2022-04-08T07:07:02.115Z"
      },
      {
        "duration": 10,
        "start_time": "2022-04-08T07:07:02.185Z"
      },
      {
        "duration": 75,
        "start_time": "2022-04-08T07:07:02.197Z"
      },
      {
        "duration": 3,
        "start_time": "2022-04-08T07:07:02.274Z"
      },
      {
        "duration": 65,
        "start_time": "2022-04-08T07:07:02.278Z"
      },
      {
        "duration": 4,
        "start_time": "2022-04-08T07:07:02.344Z"
      },
      {
        "duration": 12,
        "start_time": "2022-04-08T07:07:02.350Z"
      },
      {
        "duration": 141,
        "start_time": "2022-04-08T07:07:02.364Z"
      },
      {
        "duration": 62,
        "start_time": "2022-04-08T07:07:02.507Z"
      },
      {
        "duration": 4,
        "start_time": "2022-04-08T07:07:02.571Z"
      },
      {
        "duration": 76,
        "start_time": "2022-04-08T07:07:02.577Z"
      },
      {
        "duration": 65,
        "start_time": "2022-04-08T07:07:02.655Z"
      },
      {
        "duration": 16,
        "start_time": "2022-04-08T07:07:02.721Z"
      },
      {
        "duration": 12,
        "start_time": "2022-04-08T07:07:02.738Z"
      },
      {
        "duration": 9,
        "start_time": "2022-04-08T07:07:02.752Z"
      },
      {
        "duration": 6,
        "start_time": "2022-04-08T07:07:02.762Z"
      },
      {
        "duration": 6,
        "start_time": "2022-04-08T07:07:02.769Z"
      },
      {
        "duration": 7,
        "start_time": "2022-04-08T07:07:02.776Z"
      },
      {
        "duration": 7,
        "start_time": "2022-04-08T07:07:02.784Z"
      },
      {
        "duration": 10,
        "start_time": "2022-04-08T07:07:02.792Z"
      },
      {
        "duration": 5,
        "start_time": "2022-04-08T07:07:02.833Z"
      },
      {
        "duration": 12,
        "start_time": "2022-04-08T07:07:02.840Z"
      },
      {
        "duration": 12,
        "start_time": "2022-04-08T07:07:02.853Z"
      },
      {
        "duration": 11,
        "start_time": "2022-04-08T07:07:02.866Z"
      },
      {
        "duration": 18,
        "start_time": "2022-04-08T07:07:02.879Z"
      },
      {
        "duration": 6,
        "start_time": "2022-04-08T07:07:02.898Z"
      },
      {
        "duration": 11,
        "start_time": "2022-04-08T07:07:02.905Z"
      },
      {
        "duration": 18,
        "start_time": "2022-04-08T07:07:02.918Z"
      },
      {
        "duration": 6,
        "start_time": "2022-04-08T07:07:02.938Z"
      },
      {
        "duration": 10,
        "start_time": "2022-04-08T07:07:02.946Z"
      },
      {
        "duration": 9,
        "start_time": "2022-04-08T07:07:02.957Z"
      },
      {
        "duration": 7,
        "start_time": "2022-04-08T07:07:02.967Z"
      },
      {
        "duration": 8,
        "start_time": "2022-04-08T07:07:02.975Z"
      },
      {
        "duration": 8,
        "start_time": "2022-04-08T07:07:02.984Z"
      },
      {
        "duration": 4,
        "start_time": "2022-04-08T07:07:02.994Z"
      },
      {
        "duration": 34,
        "start_time": "2022-04-08T07:07:03.000Z"
      },
      {
        "duration": 3,
        "start_time": "2022-04-08T07:07:03.036Z"
      },
      {
        "duration": 7,
        "start_time": "2022-04-08T07:07:03.043Z"
      },
      {
        "duration": 5,
        "start_time": "2022-04-08T07:07:03.052Z"
      },
      {
        "duration": 7,
        "start_time": "2022-04-08T07:07:03.059Z"
      },
      {
        "duration": 8,
        "start_time": "2022-04-08T07:07:03.068Z"
      },
      {
        "duration": 45,
        "start_time": "2022-04-08T07:07:21.233Z"
      },
      {
        "duration": 44,
        "start_time": "2022-04-08T07:08:34.072Z"
      },
      {
        "duration": 46,
        "start_time": "2022-04-08T07:08:45.829Z"
      },
      {
        "duration": 48,
        "start_time": "2022-04-08T07:09:08.582Z"
      },
      {
        "duration": 3,
        "start_time": "2022-04-08T07:12:33.757Z"
      },
      {
        "duration": 46,
        "start_time": "2022-04-08T07:12:36.265Z"
      },
      {
        "duration": 12,
        "start_time": "2022-04-08T07:18:49.003Z"
      },
      {
        "duration": 55,
        "start_time": "2022-04-08T07:19:15.229Z"
      },
      {
        "duration": 114,
        "start_time": "2022-04-08T07:20:10.724Z"
      },
      {
        "duration": 1977,
        "start_time": "2022-04-08T07:20:19.777Z"
      },
      {
        "duration": 8,
        "start_time": "2022-04-08T07:20:32.417Z"
      },
      {
        "duration": 48,
        "start_time": "2022-04-08T07:20:49.938Z"
      },
      {
        "duration": 4,
        "start_time": "2022-04-27T11:45:03.488Z"
      },
      {
        "duration": 1259,
        "start_time": "2022-04-27T11:45:03.494Z"
      },
      {
        "duration": 172,
        "start_time": "2022-04-27T11:45:04.754Z"
      },
      {
        "duration": 2,
        "start_time": "2022-04-27T11:45:04.929Z"
      },
      {
        "duration": 5,
        "start_time": "2022-04-27T11:45:04.933Z"
      },
      {
        "duration": 41,
        "start_time": "2022-04-27T11:45:04.940Z"
      },
      {
        "duration": 21,
        "start_time": "2022-04-27T11:45:04.983Z"
      },
      {
        "duration": 6,
        "start_time": "2022-04-27T11:45:05.006Z"
      },
      {
        "duration": 18,
        "start_time": "2022-04-27T11:45:05.014Z"
      },
      {
        "duration": 6,
        "start_time": "2022-04-27T11:45:05.034Z"
      },
      {
        "duration": 11,
        "start_time": "2022-04-27T11:45:05.042Z"
      },
      {
        "duration": 8,
        "start_time": "2022-04-27T11:45:05.055Z"
      },
      {
        "duration": 7,
        "start_time": "2022-04-27T11:45:05.065Z"
      },
      {
        "duration": 24,
        "start_time": "2022-04-27T11:45:05.074Z"
      },
      {
        "duration": 28,
        "start_time": "2022-04-27T11:45:05.100Z"
      },
      {
        "duration": 420,
        "start_time": "2022-04-27T11:45:05.129Z"
      },
      {
        "duration": 13,
        "start_time": "2022-04-27T11:45:05.550Z"
      },
      {
        "duration": 269,
        "start_time": "2022-04-27T11:45:05.565Z"
      },
      {
        "duration": 141,
        "start_time": "2022-04-27T11:45:05.836Z"
      },
      {
        "duration": 18,
        "start_time": "2022-04-27T11:45:05.978Z"
      },
      {
        "duration": 19,
        "start_time": "2022-04-27T11:45:05.998Z"
      },
      {
        "duration": 13,
        "start_time": "2022-04-27T11:45:06.019Z"
      },
      {
        "duration": 53,
        "start_time": "2022-04-27T11:45:06.034Z"
      },
      {
        "duration": 27,
        "start_time": "2022-04-27T11:45:06.091Z"
      },
      {
        "duration": 50,
        "start_time": "2022-04-27T11:45:06.120Z"
      },
      {
        "duration": 11,
        "start_time": "2022-04-27T11:45:06.196Z"
      },
      {
        "duration": 19,
        "start_time": "2022-04-27T11:45:06.209Z"
      },
      {
        "duration": 20,
        "start_time": "2022-04-27T11:45:06.230Z"
      },
      {
        "duration": 92,
        "start_time": "2022-04-27T11:45:06.252Z"
      },
      {
        "duration": 12,
        "start_time": "2022-04-27T11:45:06.346Z"
      },
      {
        "duration": 59,
        "start_time": "2022-04-27T11:45:06.359Z"
      },
      {
        "duration": 54,
        "start_time": "2022-04-27T11:45:06.420Z"
      },
      {
        "duration": 23,
        "start_time": "2022-04-27T11:45:06.475Z"
      },
      {
        "duration": 63,
        "start_time": "2022-04-27T11:45:06.500Z"
      },
      {
        "duration": 3,
        "start_time": "2022-04-27T11:45:06.564Z"
      },
      {
        "duration": 75,
        "start_time": "2022-04-27T11:45:06.569Z"
      },
      {
        "duration": 5,
        "start_time": "2022-04-27T11:45:06.646Z"
      },
      {
        "duration": 15,
        "start_time": "2022-04-27T11:45:06.653Z"
      },
      {
        "duration": 160,
        "start_time": "2022-04-27T11:45:06.670Z"
      },
      {
        "duration": 12,
        "start_time": "2022-04-27T11:45:06.832Z"
      },
      {
        "duration": 83,
        "start_time": "2022-04-27T11:45:06.845Z"
      },
      {
        "duration": 5,
        "start_time": "2022-04-27T11:45:06.930Z"
      },
      {
        "duration": 85,
        "start_time": "2022-04-27T11:45:06.937Z"
      },
      {
        "duration": 90,
        "start_time": "2022-04-27T11:45:07.024Z"
      },
      {
        "duration": 5,
        "start_time": "2022-04-27T11:45:07.116Z"
      },
      {
        "duration": 11,
        "start_time": "2022-04-27T11:45:07.122Z"
      },
      {
        "duration": 9,
        "start_time": "2022-04-27T11:45:07.135Z"
      },
      {
        "duration": 9,
        "start_time": "2022-04-27T11:45:07.146Z"
      },
      {
        "duration": 6,
        "start_time": "2022-04-27T11:45:07.157Z"
      },
      {
        "duration": 7,
        "start_time": "2022-04-27T11:45:07.164Z"
      },
      {
        "duration": 6,
        "start_time": "2022-04-27T11:45:07.172Z"
      },
      {
        "duration": 15,
        "start_time": "2022-04-27T11:45:07.179Z"
      },
      {
        "duration": 16,
        "start_time": "2022-04-27T11:45:07.196Z"
      },
      {
        "duration": 16,
        "start_time": "2022-04-27T11:45:07.214Z"
      },
      {
        "duration": 10,
        "start_time": "2022-04-27T11:45:07.232Z"
      },
      {
        "duration": 9,
        "start_time": "2022-04-27T11:45:07.244Z"
      },
      {
        "duration": 10,
        "start_time": "2022-04-27T11:45:07.254Z"
      },
      {
        "duration": 11,
        "start_time": "2022-04-27T11:45:07.265Z"
      },
      {
        "duration": 12,
        "start_time": "2022-04-27T11:45:07.277Z"
      },
      {
        "duration": 16,
        "start_time": "2022-04-27T11:45:07.291Z"
      },
      {
        "duration": 14,
        "start_time": "2022-04-27T11:45:07.309Z"
      },
      {
        "duration": 11,
        "start_time": "2022-04-27T11:45:07.325Z"
      },
      {
        "duration": 10,
        "start_time": "2022-04-27T11:45:07.337Z"
      },
      {
        "duration": 9,
        "start_time": "2022-04-27T11:45:07.349Z"
      },
      {
        "duration": 10,
        "start_time": "2022-04-27T11:45:07.359Z"
      },
      {
        "duration": 7,
        "start_time": "2022-04-27T11:45:07.371Z"
      },
      {
        "duration": 12,
        "start_time": "2022-04-27T11:45:07.380Z"
      },
      {
        "duration": 13,
        "start_time": "2022-04-27T11:45:07.395Z"
      },
      {
        "duration": 6,
        "start_time": "2022-04-27T11:45:07.413Z"
      },
      {
        "duration": 13,
        "start_time": "2022-04-27T11:45:07.420Z"
      },
      {
        "duration": 8,
        "start_time": "2022-04-27T11:45:07.435Z"
      },
      {
        "duration": 10,
        "start_time": "2022-04-27T11:45:07.445Z"
      },
      {
        "duration": 12,
        "start_time": "2022-04-27T11:45:07.457Z"
      },
      {
        "duration": 2841,
        "start_time": "2022-04-27T11:47:03.072Z"
      },
      {
        "duration": 4,
        "start_time": "2022-04-27T11:47:34.647Z"
      },
      {
        "duration": 11,
        "start_time": "2022-04-27T11:47:37.719Z"
      },
      {
        "duration": 13,
        "start_time": "2022-04-27T11:47:45.057Z"
      },
      {
        "duration": 4,
        "start_time": "2022-04-27T11:48:29.313Z"
      },
      {
        "duration": 1366,
        "start_time": "2022-04-27T11:48:29.319Z"
      },
      {
        "duration": 177,
        "start_time": "2022-04-27T11:48:30.687Z"
      },
      {
        "duration": 4,
        "start_time": "2022-04-27T11:48:30.866Z"
      },
      {
        "duration": 12,
        "start_time": "2022-04-27T11:48:30.872Z"
      },
      {
        "duration": 58,
        "start_time": "2022-04-27T11:48:30.886Z"
      },
      {
        "duration": 13,
        "start_time": "2022-04-27T11:48:30.946Z"
      },
      {
        "duration": 9,
        "start_time": "2022-04-27T11:48:30.961Z"
      },
      {
        "duration": 19,
        "start_time": "2022-04-27T11:48:30.972Z"
      },
      {
        "duration": 20,
        "start_time": "2022-04-27T11:48:30.998Z"
      },
      {
        "duration": 17,
        "start_time": "2022-04-27T11:48:31.020Z"
      },
      {
        "duration": 8,
        "start_time": "2022-04-27T11:48:31.039Z"
      },
      {
        "duration": 15,
        "start_time": "2022-04-27T11:48:31.049Z"
      },
      {
        "duration": 19,
        "start_time": "2022-04-27T11:48:31.068Z"
      },
      {
        "duration": 39,
        "start_time": "2022-04-27T11:48:31.088Z"
      },
      {
        "duration": 530,
        "start_time": "2022-04-27T11:48:31.129Z"
      },
      {
        "duration": 15,
        "start_time": "2022-04-27T11:48:31.660Z"
      },
      {
        "duration": 298,
        "start_time": "2022-04-27T11:48:31.676Z"
      },
      {
        "duration": 164,
        "start_time": "2022-04-27T11:48:31.976Z"
      },
      {
        "duration": 7,
        "start_time": "2022-04-27T11:48:32.141Z"
      },
      {
        "duration": 13,
        "start_time": "2022-04-27T11:48:32.149Z"
      },
      {
        "duration": 13,
        "start_time": "2022-04-27T11:48:32.164Z"
      },
      {
        "duration": 59,
        "start_time": "2022-04-27T11:48:32.192Z"
      },
      {
        "duration": 19,
        "start_time": "2022-04-27T11:48:32.253Z"
      },
      {
        "duration": 56,
        "start_time": "2022-04-27T11:48:32.293Z"
      },
      {
        "duration": 6,
        "start_time": "2022-04-27T11:48:32.351Z"
      },
      {
        "duration": 35,
        "start_time": "2022-04-27T11:48:32.359Z"
      },
      {
        "duration": 13,
        "start_time": "2022-04-27T11:48:32.396Z"
      },
      {
        "duration": 58,
        "start_time": "2022-04-27T11:48:32.411Z"
      },
      {
        "duration": 36,
        "start_time": "2022-04-27T11:48:32.470Z"
      },
      {
        "duration": 65,
        "start_time": "2022-04-27T11:48:32.512Z"
      },
      {
        "duration": 75,
        "start_time": "2022-04-27T11:48:32.579Z"
      },
      {
        "duration": 11,
        "start_time": "2022-04-27T11:48:32.656Z"
      },
      {
        "duration": 86,
        "start_time": "2022-04-27T11:48:32.668Z"
      },
      {
        "duration": 3,
        "start_time": "2022-04-27T11:48:32.756Z"
      },
      {
        "duration": 71,
        "start_time": "2022-04-27T11:48:32.761Z"
      },
      {
        "duration": 4,
        "start_time": "2022-04-27T11:48:32.834Z"
      },
      {
        "duration": 10,
        "start_time": "2022-04-27T11:48:32.840Z"
      },
      {
        "duration": 141,
        "start_time": "2022-04-27T11:48:32.852Z"
      },
      {
        "duration": 15,
        "start_time": "2022-04-27T11:48:32.995Z"
      },
      {
        "duration": 96,
        "start_time": "2022-04-27T11:48:33.015Z"
      },
      {
        "duration": 5,
        "start_time": "2022-04-27T11:48:33.113Z"
      },
      {
        "duration": 117,
        "start_time": "2022-04-27T11:48:33.120Z"
      },
      {
        "duration": 99,
        "start_time": "2022-04-27T11:48:33.239Z"
      },
      {
        "duration": 10,
        "start_time": "2022-04-27T11:48:33.339Z"
      },
      {
        "duration": 5,
        "start_time": "2022-04-27T11:48:33.351Z"
      },
      {
        "duration": 10,
        "start_time": "2022-04-27T11:48:33.358Z"
      },
      {
        "duration": 8,
        "start_time": "2022-04-27T11:48:33.370Z"
      },
      {
        "duration": 16,
        "start_time": "2022-04-27T11:48:33.380Z"
      },
      {
        "duration": 8,
        "start_time": "2022-04-27T11:48:33.399Z"
      },
      {
        "duration": 6,
        "start_time": "2022-04-27T11:48:33.410Z"
      },
      {
        "duration": 12,
        "start_time": "2022-04-27T11:48:33.418Z"
      },
      {
        "duration": 12,
        "start_time": "2022-04-27T11:48:33.432Z"
      },
      {
        "duration": 13,
        "start_time": "2022-04-27T11:48:33.445Z"
      },
      {
        "duration": 11,
        "start_time": "2022-04-27T11:48:33.460Z"
      },
      {
        "duration": 10,
        "start_time": "2022-04-27T11:48:33.472Z"
      },
      {
        "duration": 9,
        "start_time": "2022-04-27T11:48:33.496Z"
      },
      {
        "duration": 13,
        "start_time": "2022-04-27T11:48:33.507Z"
      },
      {
        "duration": 24,
        "start_time": "2022-04-27T11:48:33.524Z"
      },
      {
        "duration": 14,
        "start_time": "2022-04-27T11:48:33.551Z"
      },
      {
        "duration": 12,
        "start_time": "2022-04-27T11:48:33.567Z"
      },
      {
        "duration": 16,
        "start_time": "2022-04-27T11:48:33.581Z"
      },
      {
        "duration": 17,
        "start_time": "2022-04-27T11:48:33.599Z"
      },
      {
        "duration": 12,
        "start_time": "2022-04-27T11:48:33.618Z"
      },
      {
        "duration": 12,
        "start_time": "2022-04-27T11:48:33.631Z"
      },
      {
        "duration": 20,
        "start_time": "2022-04-27T11:48:33.645Z"
      },
      {
        "duration": 18,
        "start_time": "2022-04-27T11:48:33.667Z"
      },
      {
        "duration": 33,
        "start_time": "2022-04-27T11:48:33.686Z"
      },
      {
        "duration": 21,
        "start_time": "2022-04-27T11:48:33.721Z"
      },
      {
        "duration": 10,
        "start_time": "2022-04-27T11:48:33.744Z"
      },
      {
        "duration": 21,
        "start_time": "2022-04-27T11:48:33.756Z"
      },
      {
        "duration": 31,
        "start_time": "2022-04-27T11:48:33.778Z"
      },
      {
        "duration": 11,
        "start_time": "2022-04-27T11:48:33.811Z"
      }
    ],
    "colab": {
      "collapsed_sections": [],
      "name": "6_Conversion AB testing.ipynb",
      "provenance": []
    },
    "kernelspec": {
      "display_name": "Python 3 (ipykernel)",
      "language": "python",
      "name": "python3"
    },
    "language_info": {
      "codemirror_mode": {
        "name": "ipython",
        "version": 3
      },
      "file_extension": ".py",
      "mimetype": "text/x-python",
      "name": "python",
      "nbconvert_exporter": "python",
      "pygments_lexer": "ipython3",
      "version": "3.9.7"
    },
    "toc": {
      "base_numbering": 1,
      "nav_menu": {},
      "number_sections": true,
      "sideBar": true,
      "skip_h1_title": true,
      "title_cell": "Table of Contents",
      "title_sidebar": "Contents",
      "toc_cell": false,
      "toc_position": {},
      "toc_section_display": true,
      "toc_window_display": false
    },
    "toc-showmarkdowntxt": false
  },
  "nbformat": 4,
  "nbformat_minor": 0
}
